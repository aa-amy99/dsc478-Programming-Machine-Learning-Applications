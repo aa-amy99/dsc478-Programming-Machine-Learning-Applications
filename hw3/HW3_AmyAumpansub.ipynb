{
 "cells": [
  {
   "cell_type": "markdown",
   "metadata": {},
   "source": [
    "## DSC478 Winter 2019"
   ]
  },
  {
   "cell_type": "markdown",
   "metadata": {},
   "source": [
    "## Amy Aumpansub"
   ]
  },
  {
   "cell_type": "markdown",
   "metadata": {},
   "source": [
    "## Due Date: Feb 26th, 2019"
   ]
  },
  {
   "cell_type": "markdown",
   "metadata": {},
   "source": [
    "## **<font color=blue>Using Python 3.7 for all tasks performed<font>**"
   ]
  },
  {
   "cell_type": "code",
   "execution_count": 1,
   "metadata": {},
   "outputs": [],
   "source": [
    "import os"
   ]
  },
  {
   "cell_type": "code",
   "execution_count": 2,
   "metadata": {},
   "outputs": [],
   "source": [
    "os.chdir('C:\\\\Users\\\\Amy\\\\Desktop\\\\dsc478\\\\communities')"
   ]
  },
  {
   "cell_type": "code",
   "execution_count": 6,
   "metadata": {},
   "outputs": [],
   "source": [
    "import pandas as pd\n",
    "import numpy as np\n",
    "import matplotlib.pyplot as plt\n",
    "%matplotlib inline\n",
    "from sklearn.model_selection import KFold, GridSearchCV, train_test_split, cross_validate\n",
    "from sklearn.linear_model import LinearRegression, Lasso, Ridge, ElasticNet, SGDRegressor \n",
    "from sklearn.preprocessing import StandardScaler\n",
    "from sklearn import feature_selection"
   ]
  },
  {
   "cell_type": "markdown",
   "metadata": {},
   "source": [
    "# Problem 1"
   ]
  },
  {
   "cell_type": "markdown",
   "metadata": {},
   "source": [
    "## a. Load and preprocess the data using Pandas or Numpy and, if necessary, preprocessing functions from scikit-learn. The provided data is already normalized (see description), so there is no need for additional normalization. Compute and display basic statistics (mean, standard deviation, min, max, etc.) for each of the variables in the data set. Separate the target attribute for regression."
   ]
  },
  {
   "cell_type": "code",
   "execution_count": 7,
   "metadata": {},
   "outputs": [],
   "source": [
    "DF_Com = pd.read_csv('communities.csv',na_values=['?'])"
   ]
  },
  {
   "cell_type": "code",
   "execution_count": 8,
   "metadata": {},
   "outputs": [
    {
     "data": {
      "text/html": [
       "<div>\n",
       "<style scoped>\n",
       "    .dataframe tbody tr th:only-of-type {\n",
       "        vertical-align: middle;\n",
       "    }\n",
       "\n",
       "    .dataframe tbody tr th {\n",
       "        vertical-align: top;\n",
       "    }\n",
       "\n",
       "    .dataframe thead th {\n",
       "        text-align: right;\n",
       "    }\n",
       "</style>\n",
       "<table border=\"1\" class=\"dataframe\">\n",
       "  <thead>\n",
       "    <tr style=\"text-align: right;\">\n",
       "      <th></th>\n",
       "      <th>state</th>\n",
       "      <th>communityname</th>\n",
       "      <th>population</th>\n",
       "      <th>householdsize</th>\n",
       "      <th>racepctblack</th>\n",
       "      <th>racePctWhite</th>\n",
       "      <th>racePctAsian</th>\n",
       "      <th>racePctHisp</th>\n",
       "      <th>agePct12t21</th>\n",
       "      <th>agePct12t29</th>\n",
       "      <th>...</th>\n",
       "      <th>NumStreet</th>\n",
       "      <th>PctForeignBorn</th>\n",
       "      <th>PctBornSameState</th>\n",
       "      <th>PctSameHouse85</th>\n",
       "      <th>PctSameCity85</th>\n",
       "      <th>PctSameState85</th>\n",
       "      <th>LandArea</th>\n",
       "      <th>PopDens</th>\n",
       "      <th>PctUsePubTrans</th>\n",
       "      <th>ViolentCrimesPerPop</th>\n",
       "    </tr>\n",
       "  </thead>\n",
       "  <tbody>\n",
       "    <tr>\n",
       "      <th>0</th>\n",
       "      <td>8</td>\n",
       "      <td>Lakewoodcity</td>\n",
       "      <td>0.19</td>\n",
       "      <td>0.33</td>\n",
       "      <td>0.02</td>\n",
       "      <td>0.90</td>\n",
       "      <td>0.12</td>\n",
       "      <td>0.17</td>\n",
       "      <td>0.34</td>\n",
       "      <td>0.47</td>\n",
       "      <td>...</td>\n",
       "      <td>0.0</td>\n",
       "      <td>0.12</td>\n",
       "      <td>0.42</td>\n",
       "      <td>0.50</td>\n",
       "      <td>0.51</td>\n",
       "      <td>0.64</td>\n",
       "      <td>0.12</td>\n",
       "      <td>0.26</td>\n",
       "      <td>0.20</td>\n",
       "      <td>0.20</td>\n",
       "    </tr>\n",
       "    <tr>\n",
       "      <th>1</th>\n",
       "      <td>53</td>\n",
       "      <td>Tukwilacity</td>\n",
       "      <td>0.00</td>\n",
       "      <td>0.16</td>\n",
       "      <td>0.12</td>\n",
       "      <td>0.74</td>\n",
       "      <td>0.45</td>\n",
       "      <td>0.07</td>\n",
       "      <td>0.26</td>\n",
       "      <td>0.59</td>\n",
       "      <td>...</td>\n",
       "      <td>0.0</td>\n",
       "      <td>0.21</td>\n",
       "      <td>0.50</td>\n",
       "      <td>0.34</td>\n",
       "      <td>0.60</td>\n",
       "      <td>0.52</td>\n",
       "      <td>0.02</td>\n",
       "      <td>0.12</td>\n",
       "      <td>0.45</td>\n",
       "      <td>0.67</td>\n",
       "    </tr>\n",
       "    <tr>\n",
       "      <th>2</th>\n",
       "      <td>24</td>\n",
       "      <td>Aberdeentown</td>\n",
       "      <td>0.00</td>\n",
       "      <td>0.42</td>\n",
       "      <td>0.49</td>\n",
       "      <td>0.56</td>\n",
       "      <td>0.17</td>\n",
       "      <td>0.04</td>\n",
       "      <td>0.39</td>\n",
       "      <td>0.47</td>\n",
       "      <td>...</td>\n",
       "      <td>0.0</td>\n",
       "      <td>0.14</td>\n",
       "      <td>0.49</td>\n",
       "      <td>0.54</td>\n",
       "      <td>0.67</td>\n",
       "      <td>0.56</td>\n",
       "      <td>0.01</td>\n",
       "      <td>0.21</td>\n",
       "      <td>0.02</td>\n",
       "      <td>0.43</td>\n",
       "    </tr>\n",
       "    <tr>\n",
       "      <th>3</th>\n",
       "      <td>34</td>\n",
       "      <td>Willingborotownship</td>\n",
       "      <td>0.04</td>\n",
       "      <td>0.77</td>\n",
       "      <td>1.00</td>\n",
       "      <td>0.08</td>\n",
       "      <td>0.12</td>\n",
       "      <td>0.10</td>\n",
       "      <td>0.51</td>\n",
       "      <td>0.50</td>\n",
       "      <td>...</td>\n",
       "      <td>0.0</td>\n",
       "      <td>0.19</td>\n",
       "      <td>0.30</td>\n",
       "      <td>0.73</td>\n",
       "      <td>0.64</td>\n",
       "      <td>0.65</td>\n",
       "      <td>0.02</td>\n",
       "      <td>0.39</td>\n",
       "      <td>0.28</td>\n",
       "      <td>0.12</td>\n",
       "    </tr>\n",
       "    <tr>\n",
       "      <th>4</th>\n",
       "      <td>42</td>\n",
       "      <td>Bethlehemtownship</td>\n",
       "      <td>0.01</td>\n",
       "      <td>0.55</td>\n",
       "      <td>0.02</td>\n",
       "      <td>0.95</td>\n",
       "      <td>0.09</td>\n",
       "      <td>0.05</td>\n",
       "      <td>0.38</td>\n",
       "      <td>0.38</td>\n",
       "      <td>...</td>\n",
       "      <td>0.0</td>\n",
       "      <td>0.11</td>\n",
       "      <td>0.72</td>\n",
       "      <td>0.64</td>\n",
       "      <td>0.61</td>\n",
       "      <td>0.53</td>\n",
       "      <td>0.04</td>\n",
       "      <td>0.09</td>\n",
       "      <td>0.02</td>\n",
       "      <td>0.03</td>\n",
       "    </tr>\n",
       "  </tbody>\n",
       "</table>\n",
       "<p>5 rows × 100 columns</p>\n",
       "</div>"
      ],
      "text/plain": [
       "   state        communityname  population  householdsize  racepctblack  \\\n",
       "0      8         Lakewoodcity        0.19           0.33          0.02   \n",
       "1     53          Tukwilacity        0.00           0.16          0.12   \n",
       "2     24         Aberdeentown        0.00           0.42          0.49   \n",
       "3     34  Willingborotownship        0.04           0.77          1.00   \n",
       "4     42    Bethlehemtownship        0.01           0.55          0.02   \n",
       "\n",
       "   racePctWhite  racePctAsian  racePctHisp  agePct12t21  agePct12t29  \\\n",
       "0          0.90          0.12         0.17         0.34         0.47   \n",
       "1          0.74          0.45         0.07         0.26         0.59   \n",
       "2          0.56          0.17         0.04         0.39         0.47   \n",
       "3          0.08          0.12         0.10         0.51         0.50   \n",
       "4          0.95          0.09         0.05         0.38         0.38   \n",
       "\n",
       "          ...           NumStreet  PctForeignBorn  PctBornSameState  \\\n",
       "0         ...                 0.0            0.12              0.42   \n",
       "1         ...                 0.0            0.21              0.50   \n",
       "2         ...                 0.0            0.14              0.49   \n",
       "3         ...                 0.0            0.19              0.30   \n",
       "4         ...                 0.0            0.11              0.72   \n",
       "\n",
       "   PctSameHouse85  PctSameCity85  PctSameState85  LandArea  PopDens  \\\n",
       "0            0.50           0.51            0.64      0.12     0.26   \n",
       "1            0.34           0.60            0.52      0.02     0.12   \n",
       "2            0.54           0.67            0.56      0.01     0.21   \n",
       "3            0.73           0.64            0.65      0.02     0.39   \n",
       "4            0.64           0.61            0.53      0.04     0.09   \n",
       "\n",
       "   PctUsePubTrans  ViolentCrimesPerPop  \n",
       "0            0.20                 0.20  \n",
       "1            0.45                 0.67  \n",
       "2            0.02                 0.43  \n",
       "3            0.28                 0.12  \n",
       "4            0.02                 0.03  \n",
       "\n",
       "[5 rows x 100 columns]"
      ]
     },
     "execution_count": 8,
     "metadata": {},
     "output_type": "execute_result"
    }
   ],
   "source": [
    "DF_Com.head(5)"
   ]
  },
  {
   "cell_type": "code",
   "execution_count": 9,
   "metadata": {},
   "outputs": [
    {
     "data": {
      "text/plain": [
       "(1994, 100)"
      ]
     },
     "execution_count": 9,
     "metadata": {},
     "output_type": "execute_result"
    }
   ],
   "source": [
    "DF_Com.shape"
   ]
  },
  {
   "cell_type": "markdown",
   "metadata": {},
   "source": [
    "### Basic Statistics"
   ]
  },
  {
   "cell_type": "code",
   "execution_count": 10,
   "metadata": {
    "scrolled": true
   },
   "outputs": [
    {
     "data": {
      "text/html": [
       "<div>\n",
       "<style scoped>\n",
       "    .dataframe tbody tr th:only-of-type {\n",
       "        vertical-align: middle;\n",
       "    }\n",
       "\n",
       "    .dataframe tbody tr th {\n",
       "        vertical-align: top;\n",
       "    }\n",
       "\n",
       "    .dataframe thead th {\n",
       "        text-align: right;\n",
       "    }\n",
       "</style>\n",
       "<table border=\"1\" class=\"dataframe\">\n",
       "  <thead>\n",
       "    <tr style=\"text-align: right;\">\n",
       "      <th></th>\n",
       "      <th>state</th>\n",
       "      <th>communityname</th>\n",
       "      <th>population</th>\n",
       "      <th>householdsize</th>\n",
       "      <th>racepctblack</th>\n",
       "      <th>racePctWhite</th>\n",
       "      <th>racePctAsian</th>\n",
       "      <th>racePctHisp</th>\n",
       "      <th>agePct12t21</th>\n",
       "      <th>agePct12t29</th>\n",
       "      <th>...</th>\n",
       "      <th>NumStreet</th>\n",
       "      <th>PctForeignBorn</th>\n",
       "      <th>PctBornSameState</th>\n",
       "      <th>PctSameHouse85</th>\n",
       "      <th>PctSameCity85</th>\n",
       "      <th>PctSameState85</th>\n",
       "      <th>LandArea</th>\n",
       "      <th>PopDens</th>\n",
       "      <th>PctUsePubTrans</th>\n",
       "      <th>ViolentCrimesPerPop</th>\n",
       "    </tr>\n",
       "  </thead>\n",
       "  <tbody>\n",
       "    <tr>\n",
       "      <th>count</th>\n",
       "      <td>1994.000000</td>\n",
       "      <td>1994</td>\n",
       "      <td>1994.000000</td>\n",
       "      <td>1994.000000</td>\n",
       "      <td>1994.000000</td>\n",
       "      <td>1994.000000</td>\n",
       "      <td>1994.000000</td>\n",
       "      <td>1994.000000</td>\n",
       "      <td>1994.000000</td>\n",
       "      <td>1994.000000</td>\n",
       "      <td>...</td>\n",
       "      <td>1994.000000</td>\n",
       "      <td>1994.000000</td>\n",
       "      <td>1994.000000</td>\n",
       "      <td>1994.000000</td>\n",
       "      <td>1994.000000</td>\n",
       "      <td>1994.000000</td>\n",
       "      <td>1994.000000</td>\n",
       "      <td>1994.000000</td>\n",
       "      <td>1994.000000</td>\n",
       "      <td>1994.000000</td>\n",
       "    </tr>\n",
       "    <tr>\n",
       "      <th>unique</th>\n",
       "      <td>NaN</td>\n",
       "      <td>1828</td>\n",
       "      <td>NaN</td>\n",
       "      <td>NaN</td>\n",
       "      <td>NaN</td>\n",
       "      <td>NaN</td>\n",
       "      <td>NaN</td>\n",
       "      <td>NaN</td>\n",
       "      <td>NaN</td>\n",
       "      <td>NaN</td>\n",
       "      <td>...</td>\n",
       "      <td>NaN</td>\n",
       "      <td>NaN</td>\n",
       "      <td>NaN</td>\n",
       "      <td>NaN</td>\n",
       "      <td>NaN</td>\n",
       "      <td>NaN</td>\n",
       "      <td>NaN</td>\n",
       "      <td>NaN</td>\n",
       "      <td>NaN</td>\n",
       "      <td>NaN</td>\n",
       "    </tr>\n",
       "    <tr>\n",
       "      <th>top</th>\n",
       "      <td>NaN</td>\n",
       "      <td>Greenvillecity</td>\n",
       "      <td>NaN</td>\n",
       "      <td>NaN</td>\n",
       "      <td>NaN</td>\n",
       "      <td>NaN</td>\n",
       "      <td>NaN</td>\n",
       "      <td>NaN</td>\n",
       "      <td>NaN</td>\n",
       "      <td>NaN</td>\n",
       "      <td>...</td>\n",
       "      <td>NaN</td>\n",
       "      <td>NaN</td>\n",
       "      <td>NaN</td>\n",
       "      <td>NaN</td>\n",
       "      <td>NaN</td>\n",
       "      <td>NaN</td>\n",
       "      <td>NaN</td>\n",
       "      <td>NaN</td>\n",
       "      <td>NaN</td>\n",
       "      <td>NaN</td>\n",
       "    </tr>\n",
       "    <tr>\n",
       "      <th>freq</th>\n",
       "      <td>NaN</td>\n",
       "      <td>5</td>\n",
       "      <td>NaN</td>\n",
       "      <td>NaN</td>\n",
       "      <td>NaN</td>\n",
       "      <td>NaN</td>\n",
       "      <td>NaN</td>\n",
       "      <td>NaN</td>\n",
       "      <td>NaN</td>\n",
       "      <td>NaN</td>\n",
       "      <td>...</td>\n",
       "      <td>NaN</td>\n",
       "      <td>NaN</td>\n",
       "      <td>NaN</td>\n",
       "      <td>NaN</td>\n",
       "      <td>NaN</td>\n",
       "      <td>NaN</td>\n",
       "      <td>NaN</td>\n",
       "      <td>NaN</td>\n",
       "      <td>NaN</td>\n",
       "      <td>NaN</td>\n",
       "    </tr>\n",
       "    <tr>\n",
       "      <th>mean</th>\n",
       "      <td>28.683551</td>\n",
       "      <td>NaN</td>\n",
       "      <td>0.057593</td>\n",
       "      <td>0.463395</td>\n",
       "      <td>0.179629</td>\n",
       "      <td>0.753716</td>\n",
       "      <td>0.153681</td>\n",
       "      <td>0.144022</td>\n",
       "      <td>0.424218</td>\n",
       "      <td>0.493867</td>\n",
       "      <td>...</td>\n",
       "      <td>0.022778</td>\n",
       "      <td>0.215552</td>\n",
       "      <td>0.608892</td>\n",
       "      <td>0.535050</td>\n",
       "      <td>0.626424</td>\n",
       "      <td>0.651530</td>\n",
       "      <td>0.065231</td>\n",
       "      <td>0.232854</td>\n",
       "      <td>0.161685</td>\n",
       "      <td>0.237979</td>\n",
       "    </tr>\n",
       "    <tr>\n",
       "      <th>std</th>\n",
       "      <td>16.397553</td>\n",
       "      <td>NaN</td>\n",
       "      <td>0.126906</td>\n",
       "      <td>0.163717</td>\n",
       "      <td>0.253442</td>\n",
       "      <td>0.244039</td>\n",
       "      <td>0.208877</td>\n",
       "      <td>0.232492</td>\n",
       "      <td>0.155196</td>\n",
       "      <td>0.143564</td>\n",
       "      <td>...</td>\n",
       "      <td>0.100400</td>\n",
       "      <td>0.231134</td>\n",
       "      <td>0.204329</td>\n",
       "      <td>0.181352</td>\n",
       "      <td>0.200521</td>\n",
       "      <td>0.198221</td>\n",
       "      <td>0.109459</td>\n",
       "      <td>0.203092</td>\n",
       "      <td>0.229055</td>\n",
       "      <td>0.232985</td>\n",
       "    </tr>\n",
       "    <tr>\n",
       "      <th>min</th>\n",
       "      <td>1.000000</td>\n",
       "      <td>NaN</td>\n",
       "      <td>0.000000</td>\n",
       "      <td>0.000000</td>\n",
       "      <td>0.000000</td>\n",
       "      <td>0.000000</td>\n",
       "      <td>0.000000</td>\n",
       "      <td>0.000000</td>\n",
       "      <td>0.000000</td>\n",
       "      <td>0.000000</td>\n",
       "      <td>...</td>\n",
       "      <td>0.000000</td>\n",
       "      <td>0.000000</td>\n",
       "      <td>0.000000</td>\n",
       "      <td>0.000000</td>\n",
       "      <td>0.000000</td>\n",
       "      <td>0.000000</td>\n",
       "      <td>0.000000</td>\n",
       "      <td>0.000000</td>\n",
       "      <td>0.000000</td>\n",
       "      <td>0.000000</td>\n",
       "    </tr>\n",
       "    <tr>\n",
       "      <th>25%</th>\n",
       "      <td>12.000000</td>\n",
       "      <td>NaN</td>\n",
       "      <td>0.010000</td>\n",
       "      <td>0.350000</td>\n",
       "      <td>0.020000</td>\n",
       "      <td>0.630000</td>\n",
       "      <td>0.040000</td>\n",
       "      <td>0.010000</td>\n",
       "      <td>0.340000</td>\n",
       "      <td>0.410000</td>\n",
       "      <td>...</td>\n",
       "      <td>0.000000</td>\n",
       "      <td>0.060000</td>\n",
       "      <td>0.470000</td>\n",
       "      <td>0.420000</td>\n",
       "      <td>0.520000</td>\n",
       "      <td>0.560000</td>\n",
       "      <td>0.020000</td>\n",
       "      <td>0.100000</td>\n",
       "      <td>0.020000</td>\n",
       "      <td>0.070000</td>\n",
       "    </tr>\n",
       "    <tr>\n",
       "      <th>50%</th>\n",
       "      <td>34.000000</td>\n",
       "      <td>NaN</td>\n",
       "      <td>0.020000</td>\n",
       "      <td>0.440000</td>\n",
       "      <td>0.060000</td>\n",
       "      <td>0.850000</td>\n",
       "      <td>0.070000</td>\n",
       "      <td>0.040000</td>\n",
       "      <td>0.400000</td>\n",
       "      <td>0.480000</td>\n",
       "      <td>...</td>\n",
       "      <td>0.000000</td>\n",
       "      <td>0.130000</td>\n",
       "      <td>0.630000</td>\n",
       "      <td>0.540000</td>\n",
       "      <td>0.670000</td>\n",
       "      <td>0.700000</td>\n",
       "      <td>0.040000</td>\n",
       "      <td>0.170000</td>\n",
       "      <td>0.070000</td>\n",
       "      <td>0.150000</td>\n",
       "    </tr>\n",
       "    <tr>\n",
       "      <th>75%</th>\n",
       "      <td>42.000000</td>\n",
       "      <td>NaN</td>\n",
       "      <td>0.050000</td>\n",
       "      <td>0.540000</td>\n",
       "      <td>0.230000</td>\n",
       "      <td>0.940000</td>\n",
       "      <td>0.170000</td>\n",
       "      <td>0.160000</td>\n",
       "      <td>0.470000</td>\n",
       "      <td>0.540000</td>\n",
       "      <td>...</td>\n",
       "      <td>0.000000</td>\n",
       "      <td>0.280000</td>\n",
       "      <td>0.777500</td>\n",
       "      <td>0.660000</td>\n",
       "      <td>0.770000</td>\n",
       "      <td>0.790000</td>\n",
       "      <td>0.070000</td>\n",
       "      <td>0.280000</td>\n",
       "      <td>0.190000</td>\n",
       "      <td>0.330000</td>\n",
       "    </tr>\n",
       "    <tr>\n",
       "      <th>max</th>\n",
       "      <td>56.000000</td>\n",
       "      <td>NaN</td>\n",
       "      <td>1.000000</td>\n",
       "      <td>1.000000</td>\n",
       "      <td>1.000000</td>\n",
       "      <td>1.000000</td>\n",
       "      <td>1.000000</td>\n",
       "      <td>1.000000</td>\n",
       "      <td>1.000000</td>\n",
       "      <td>1.000000</td>\n",
       "      <td>...</td>\n",
       "      <td>1.000000</td>\n",
       "      <td>1.000000</td>\n",
       "      <td>1.000000</td>\n",
       "      <td>1.000000</td>\n",
       "      <td>1.000000</td>\n",
       "      <td>1.000000</td>\n",
       "      <td>1.000000</td>\n",
       "      <td>1.000000</td>\n",
       "      <td>1.000000</td>\n",
       "      <td>1.000000</td>\n",
       "    </tr>\n",
       "  </tbody>\n",
       "</table>\n",
       "<p>11 rows × 100 columns</p>\n",
       "</div>"
      ],
      "text/plain": [
       "              state   communityname   population  householdsize  racepctblack  \\\n",
       "count   1994.000000            1994  1994.000000    1994.000000   1994.000000   \n",
       "unique          NaN            1828          NaN            NaN           NaN   \n",
       "top             NaN  Greenvillecity          NaN            NaN           NaN   \n",
       "freq            NaN               5          NaN            NaN           NaN   \n",
       "mean      28.683551             NaN     0.057593       0.463395      0.179629   \n",
       "std       16.397553             NaN     0.126906       0.163717      0.253442   \n",
       "min        1.000000             NaN     0.000000       0.000000      0.000000   \n",
       "25%       12.000000             NaN     0.010000       0.350000      0.020000   \n",
       "50%       34.000000             NaN     0.020000       0.440000      0.060000   \n",
       "75%       42.000000             NaN     0.050000       0.540000      0.230000   \n",
       "max       56.000000             NaN     1.000000       1.000000      1.000000   \n",
       "\n",
       "        racePctWhite  racePctAsian  racePctHisp  agePct12t21  agePct12t29  \\\n",
       "count    1994.000000   1994.000000  1994.000000  1994.000000  1994.000000   \n",
       "unique           NaN           NaN          NaN          NaN          NaN   \n",
       "top              NaN           NaN          NaN          NaN          NaN   \n",
       "freq             NaN           NaN          NaN          NaN          NaN   \n",
       "mean        0.753716      0.153681     0.144022     0.424218     0.493867   \n",
       "std         0.244039      0.208877     0.232492     0.155196     0.143564   \n",
       "min         0.000000      0.000000     0.000000     0.000000     0.000000   \n",
       "25%         0.630000      0.040000     0.010000     0.340000     0.410000   \n",
       "50%         0.850000      0.070000     0.040000     0.400000     0.480000   \n",
       "75%         0.940000      0.170000     0.160000     0.470000     0.540000   \n",
       "max         1.000000      1.000000     1.000000     1.000000     1.000000   \n",
       "\n",
       "               ...             NumStreet  PctForeignBorn  PctBornSameState  \\\n",
       "count          ...           1994.000000     1994.000000       1994.000000   \n",
       "unique         ...                   NaN             NaN               NaN   \n",
       "top            ...                   NaN             NaN               NaN   \n",
       "freq           ...                   NaN             NaN               NaN   \n",
       "mean           ...              0.022778        0.215552          0.608892   \n",
       "std            ...              0.100400        0.231134          0.204329   \n",
       "min            ...              0.000000        0.000000          0.000000   \n",
       "25%            ...              0.000000        0.060000          0.470000   \n",
       "50%            ...              0.000000        0.130000          0.630000   \n",
       "75%            ...              0.000000        0.280000          0.777500   \n",
       "max            ...              1.000000        1.000000          1.000000   \n",
       "\n",
       "        PctSameHouse85  PctSameCity85  PctSameState85     LandArea  \\\n",
       "count      1994.000000    1994.000000     1994.000000  1994.000000   \n",
       "unique             NaN            NaN             NaN          NaN   \n",
       "top                NaN            NaN             NaN          NaN   \n",
       "freq               NaN            NaN             NaN          NaN   \n",
       "mean          0.535050       0.626424        0.651530     0.065231   \n",
       "std           0.181352       0.200521        0.198221     0.109459   \n",
       "min           0.000000       0.000000        0.000000     0.000000   \n",
       "25%           0.420000       0.520000        0.560000     0.020000   \n",
       "50%           0.540000       0.670000        0.700000     0.040000   \n",
       "75%           0.660000       0.770000        0.790000     0.070000   \n",
       "max           1.000000       1.000000        1.000000     1.000000   \n",
       "\n",
       "            PopDens  PctUsePubTrans  ViolentCrimesPerPop  \n",
       "count   1994.000000     1994.000000          1994.000000  \n",
       "unique          NaN             NaN                  NaN  \n",
       "top             NaN             NaN                  NaN  \n",
       "freq            NaN             NaN                  NaN  \n",
       "mean       0.232854        0.161685             0.237979  \n",
       "std        0.203092        0.229055             0.232985  \n",
       "min        0.000000        0.000000             0.000000  \n",
       "25%        0.100000        0.020000             0.070000  \n",
       "50%        0.170000        0.070000             0.150000  \n",
       "75%        0.280000        0.190000             0.330000  \n",
       "max        1.000000        1.000000             1.000000  \n",
       "\n",
       "[11 rows x 100 columns]"
      ]
     },
     "execution_count": 10,
     "metadata": {},
     "output_type": "execute_result"
    }
   ],
   "source": [
    "DF_Com.describe(include='all')"
   ]
  },
  {
   "cell_type": "markdown",
   "metadata": {},
   "source": [
    "##### From statistics above, the attribute values are normailized, being in the range from 0 to 1. We have missing values, which we be replaced by the mean attribute in the following section."
   ]
  },
  {
   "cell_type": "code",
   "execution_count": 11,
   "metadata": {},
   "outputs": [
    {
     "data": {
      "text/plain": [
       "array([0, 0, 0, 0, 0, 0, 0, 0, 0, 0, 0, 0, 0, 0, 0, 0, 0, 0, 0, 0, 0, 0,\n",
       "       0, 0, 0, 0, 0, 1, 0, 0, 0, 0, 0, 0, 0, 0, 0, 0, 0, 0, 0, 0, 0, 0,\n",
       "       0, 0, 0, 0, 0, 0, 0, 0, 0, 0, 0, 0, 0, 0, 0, 0, 0, 0, 0, 0, 0, 0,\n",
       "       0, 0, 0, 0, 0, 0, 0, 0, 0, 0, 0, 0, 0, 0, 0, 0, 0, 0, 0, 0, 0, 0,\n",
       "       0, 0, 0, 0, 0, 0, 0, 0, 0, 0, 0, 0])"
      ]
     },
     "execution_count": 11,
     "metadata": {},
     "output_type": "execute_result"
    }
   ],
   "source": [
    "# check for missing data\n",
    "np.sum(np.array(pd.isnull(DF_Com)),0)"
   ]
  },
  {
   "cell_type": "code",
   "execution_count": 12,
   "metadata": {},
   "outputs": [],
   "source": [
    "#Check the missing value for numerics\n",
    "missing_value = pd.DataFrame(DF_Com.isnull().sum(0))"
   ]
  },
  {
   "cell_type": "code",
   "execution_count": 13,
   "metadata": {},
   "outputs": [
    {
     "data": {
      "text/html": [
       "<div>\n",
       "<style scoped>\n",
       "    .dataframe tbody tr th:only-of-type {\n",
       "        vertical-align: middle;\n",
       "    }\n",
       "\n",
       "    .dataframe tbody tr th {\n",
       "        vertical-align: top;\n",
       "    }\n",
       "\n",
       "    .dataframe thead th {\n",
       "        text-align: right;\n",
       "    }\n",
       "</style>\n",
       "<table border=\"1\" class=\"dataframe\">\n",
       "  <thead>\n",
       "    <tr style=\"text-align: right;\">\n",
       "      <th></th>\n",
       "      <th>0</th>\n",
       "    </tr>\n",
       "  </thead>\n",
       "  <tbody>\n",
       "    <tr>\n",
       "      <th>state</th>\n",
       "      <td>0</td>\n",
       "    </tr>\n",
       "    <tr>\n",
       "      <th>communityname</th>\n",
       "      <td>0</td>\n",
       "    </tr>\n",
       "    <tr>\n",
       "      <th>population</th>\n",
       "      <td>0</td>\n",
       "    </tr>\n",
       "    <tr>\n",
       "      <th>householdsize</th>\n",
       "      <td>0</td>\n",
       "    </tr>\n",
       "    <tr>\n",
       "      <th>racepctblack</th>\n",
       "      <td>0</td>\n",
       "    </tr>\n",
       "    <tr>\n",
       "      <th>racePctWhite</th>\n",
       "      <td>0</td>\n",
       "    </tr>\n",
       "    <tr>\n",
       "      <th>racePctAsian</th>\n",
       "      <td>0</td>\n",
       "    </tr>\n",
       "    <tr>\n",
       "      <th>racePctHisp</th>\n",
       "      <td>0</td>\n",
       "    </tr>\n",
       "    <tr>\n",
       "      <th>agePct12t21</th>\n",
       "      <td>0</td>\n",
       "    </tr>\n",
       "    <tr>\n",
       "      <th>agePct12t29</th>\n",
       "      <td>0</td>\n",
       "    </tr>\n",
       "    <tr>\n",
       "      <th>agePct16t24</th>\n",
       "      <td>0</td>\n",
       "    </tr>\n",
       "    <tr>\n",
       "      <th>agePct65up</th>\n",
       "      <td>0</td>\n",
       "    </tr>\n",
       "    <tr>\n",
       "      <th>numbUrban</th>\n",
       "      <td>0</td>\n",
       "    </tr>\n",
       "    <tr>\n",
       "      <th>pctUrban</th>\n",
       "      <td>0</td>\n",
       "    </tr>\n",
       "    <tr>\n",
       "      <th>medIncome</th>\n",
       "      <td>0</td>\n",
       "    </tr>\n",
       "    <tr>\n",
       "      <th>pctWWage</th>\n",
       "      <td>0</td>\n",
       "    </tr>\n",
       "    <tr>\n",
       "      <th>pctWFarmSelf</th>\n",
       "      <td>0</td>\n",
       "    </tr>\n",
       "    <tr>\n",
       "      <th>pctWInvInc</th>\n",
       "      <td>0</td>\n",
       "    </tr>\n",
       "    <tr>\n",
       "      <th>pctWSocSec</th>\n",
       "      <td>0</td>\n",
       "    </tr>\n",
       "    <tr>\n",
       "      <th>pctWPubAsst</th>\n",
       "      <td>0</td>\n",
       "    </tr>\n",
       "    <tr>\n",
       "      <th>pctWRetire</th>\n",
       "      <td>0</td>\n",
       "    </tr>\n",
       "    <tr>\n",
       "      <th>medFamInc</th>\n",
       "      <td>0</td>\n",
       "    </tr>\n",
       "    <tr>\n",
       "      <th>perCapInc</th>\n",
       "      <td>0</td>\n",
       "    </tr>\n",
       "    <tr>\n",
       "      <th>whitePerCap</th>\n",
       "      <td>0</td>\n",
       "    </tr>\n",
       "    <tr>\n",
       "      <th>blackPerCap</th>\n",
       "      <td>0</td>\n",
       "    </tr>\n",
       "    <tr>\n",
       "      <th>indianPerCap</th>\n",
       "      <td>0</td>\n",
       "    </tr>\n",
       "    <tr>\n",
       "      <th>AsianPerCap</th>\n",
       "      <td>0</td>\n",
       "    </tr>\n",
       "    <tr>\n",
       "      <th>OtherPerCap</th>\n",
       "      <td>1</td>\n",
       "    </tr>\n",
       "    <tr>\n",
       "      <th>HispPerCap</th>\n",
       "      <td>0</td>\n",
       "    </tr>\n",
       "    <tr>\n",
       "      <th>NumUnderPov</th>\n",
       "      <td>0</td>\n",
       "    </tr>\n",
       "    <tr>\n",
       "      <th>...</th>\n",
       "      <td>...</td>\n",
       "    </tr>\n",
       "    <tr>\n",
       "      <th>MedNumBR</th>\n",
       "      <td>0</td>\n",
       "    </tr>\n",
       "    <tr>\n",
       "      <th>HousVacant</th>\n",
       "      <td>0</td>\n",
       "    </tr>\n",
       "    <tr>\n",
       "      <th>PctHousOccup</th>\n",
       "      <td>0</td>\n",
       "    </tr>\n",
       "    <tr>\n",
       "      <th>PctHousOwnOcc</th>\n",
       "      <td>0</td>\n",
       "    </tr>\n",
       "    <tr>\n",
       "      <th>PctVacantBoarded</th>\n",
       "      <td>0</td>\n",
       "    </tr>\n",
       "    <tr>\n",
       "      <th>PctVacMore6Mos</th>\n",
       "      <td>0</td>\n",
       "    </tr>\n",
       "    <tr>\n",
       "      <th>MedYrHousBuilt</th>\n",
       "      <td>0</td>\n",
       "    </tr>\n",
       "    <tr>\n",
       "      <th>PctHousNoPhone</th>\n",
       "      <td>0</td>\n",
       "    </tr>\n",
       "    <tr>\n",
       "      <th>PctWOFullPlumb</th>\n",
       "      <td>0</td>\n",
       "    </tr>\n",
       "    <tr>\n",
       "      <th>OwnOccLowQuart</th>\n",
       "      <td>0</td>\n",
       "    </tr>\n",
       "    <tr>\n",
       "      <th>OwnOccMedVal</th>\n",
       "      <td>0</td>\n",
       "    </tr>\n",
       "    <tr>\n",
       "      <th>OwnOccHiQuart</th>\n",
       "      <td>0</td>\n",
       "    </tr>\n",
       "    <tr>\n",
       "      <th>RentLowQ</th>\n",
       "      <td>0</td>\n",
       "    </tr>\n",
       "    <tr>\n",
       "      <th>RentMedian</th>\n",
       "      <td>0</td>\n",
       "    </tr>\n",
       "    <tr>\n",
       "      <th>RentHighQ</th>\n",
       "      <td>0</td>\n",
       "    </tr>\n",
       "    <tr>\n",
       "      <th>MedRent</th>\n",
       "      <td>0</td>\n",
       "    </tr>\n",
       "    <tr>\n",
       "      <th>MedRentPctHousInc</th>\n",
       "      <td>0</td>\n",
       "    </tr>\n",
       "    <tr>\n",
       "      <th>MedOwnCostPctInc</th>\n",
       "      <td>0</td>\n",
       "    </tr>\n",
       "    <tr>\n",
       "      <th>MedOwnCostPctIncNoMtg</th>\n",
       "      <td>0</td>\n",
       "    </tr>\n",
       "    <tr>\n",
       "      <th>NumInShelters</th>\n",
       "      <td>0</td>\n",
       "    </tr>\n",
       "    <tr>\n",
       "      <th>NumStreet</th>\n",
       "      <td>0</td>\n",
       "    </tr>\n",
       "    <tr>\n",
       "      <th>PctForeignBorn</th>\n",
       "      <td>0</td>\n",
       "    </tr>\n",
       "    <tr>\n",
       "      <th>PctBornSameState</th>\n",
       "      <td>0</td>\n",
       "    </tr>\n",
       "    <tr>\n",
       "      <th>PctSameHouse85</th>\n",
       "      <td>0</td>\n",
       "    </tr>\n",
       "    <tr>\n",
       "      <th>PctSameCity85</th>\n",
       "      <td>0</td>\n",
       "    </tr>\n",
       "    <tr>\n",
       "      <th>PctSameState85</th>\n",
       "      <td>0</td>\n",
       "    </tr>\n",
       "    <tr>\n",
       "      <th>LandArea</th>\n",
       "      <td>0</td>\n",
       "    </tr>\n",
       "    <tr>\n",
       "      <th>PopDens</th>\n",
       "      <td>0</td>\n",
       "    </tr>\n",
       "    <tr>\n",
       "      <th>PctUsePubTrans</th>\n",
       "      <td>0</td>\n",
       "    </tr>\n",
       "    <tr>\n",
       "      <th>ViolentCrimesPerPop</th>\n",
       "      <td>0</td>\n",
       "    </tr>\n",
       "  </tbody>\n",
       "</table>\n",
       "<p>100 rows × 1 columns</p>\n",
       "</div>"
      ],
      "text/plain": [
       "                       0\n",
       "state                  0\n",
       "communityname          0\n",
       "population             0\n",
       "householdsize          0\n",
       "racepctblack           0\n",
       "racePctWhite           0\n",
       "racePctAsian           0\n",
       "racePctHisp            0\n",
       "agePct12t21            0\n",
       "agePct12t29            0\n",
       "agePct16t24            0\n",
       "agePct65up             0\n",
       "numbUrban              0\n",
       "pctUrban               0\n",
       "medIncome              0\n",
       "pctWWage               0\n",
       "pctWFarmSelf           0\n",
       "pctWInvInc             0\n",
       "pctWSocSec             0\n",
       "pctWPubAsst            0\n",
       "pctWRetire             0\n",
       "medFamInc              0\n",
       "perCapInc              0\n",
       "whitePerCap            0\n",
       "blackPerCap            0\n",
       "indianPerCap           0\n",
       "AsianPerCap            0\n",
       "OtherPerCap            1\n",
       "HispPerCap             0\n",
       "NumUnderPov            0\n",
       "...                   ..\n",
       "MedNumBR               0\n",
       "HousVacant             0\n",
       "PctHousOccup           0\n",
       "PctHousOwnOcc          0\n",
       "PctVacantBoarded       0\n",
       "PctVacMore6Mos         0\n",
       "MedYrHousBuilt         0\n",
       "PctHousNoPhone         0\n",
       "PctWOFullPlumb         0\n",
       "OwnOccLowQuart         0\n",
       "OwnOccMedVal           0\n",
       "OwnOccHiQuart          0\n",
       "RentLowQ               0\n",
       "RentMedian             0\n",
       "RentHighQ              0\n",
       "MedRent                0\n",
       "MedRentPctHousInc      0\n",
       "MedOwnCostPctInc       0\n",
       "MedOwnCostPctIncNoMtg  0\n",
       "NumInShelters          0\n",
       "NumStreet              0\n",
       "PctForeignBorn         0\n",
       "PctBornSameState       0\n",
       "PctSameHouse85         0\n",
       "PctSameCity85          0\n",
       "PctSameState85         0\n",
       "LandArea               0\n",
       "PopDens                0\n",
       "PctUsePubTrans         0\n",
       "ViolentCrimesPerPop    0\n",
       "\n",
       "[100 rows x 1 columns]"
      ]
     },
     "execution_count": 13,
     "metadata": {},
     "output_type": "execute_result"
    }
   ],
   "source": [
    "missing_value"
   ]
  },
  {
   "cell_type": "markdown",
   "metadata": {},
   "source": [
    "### Fill missing values of \"OtherPerCap\" with its mean"
   ]
  },
  {
   "cell_type": "code",
   "execution_count": 14,
   "metadata": {},
   "outputs": [
    {
     "data": {
      "text/plain": [
       "0.28474159558454626"
      ]
     },
     "execution_count": 14,
     "metadata": {},
     "output_type": "execute_result"
    }
   ],
   "source": [
    "#Filling in the missing value with Mean attribute\n",
    "meanPerCap = DF_Com.OtherPerCap.mean()\n",
    "meanPerCap"
   ]
  },
  {
   "cell_type": "code",
   "execution_count": 15,
   "metadata": {},
   "outputs": [
    {
     "data": {
      "text/html": [
       "<div>\n",
       "<style scoped>\n",
       "    .dataframe tbody tr th:only-of-type {\n",
       "        vertical-align: middle;\n",
       "    }\n",
       "\n",
       "    .dataframe tbody tr th {\n",
       "        vertical-align: top;\n",
       "    }\n",
       "\n",
       "    .dataframe thead th {\n",
       "        text-align: right;\n",
       "    }\n",
       "</style>\n",
       "<table border=\"1\" class=\"dataframe\">\n",
       "  <thead>\n",
       "    <tr style=\"text-align: right;\">\n",
       "      <th></th>\n",
       "      <th>state</th>\n",
       "      <th>communityname</th>\n",
       "      <th>population</th>\n",
       "      <th>householdsize</th>\n",
       "      <th>racepctblack</th>\n",
       "      <th>racePctWhite</th>\n",
       "      <th>racePctAsian</th>\n",
       "      <th>racePctHisp</th>\n",
       "      <th>agePct12t21</th>\n",
       "      <th>agePct12t29</th>\n",
       "      <th>...</th>\n",
       "      <th>NumStreet</th>\n",
       "      <th>PctForeignBorn</th>\n",
       "      <th>PctBornSameState</th>\n",
       "      <th>PctSameHouse85</th>\n",
       "      <th>PctSameCity85</th>\n",
       "      <th>PctSameState85</th>\n",
       "      <th>LandArea</th>\n",
       "      <th>PopDens</th>\n",
       "      <th>PctUsePubTrans</th>\n",
       "      <th>ViolentCrimesPerPop</th>\n",
       "    </tr>\n",
       "  </thead>\n",
       "  <tbody>\n",
       "  </tbody>\n",
       "</table>\n",
       "<p>0 rows × 100 columns</p>\n",
       "</div>"
      ],
      "text/plain": [
       "Empty DataFrame\n",
       "Columns: [state, communityname, population, householdsize, racepctblack, racePctWhite, racePctAsian, racePctHisp, agePct12t21, agePct12t29, agePct16t24, agePct65up, numbUrban, pctUrban, medIncome, pctWWage, pctWFarmSelf, pctWInvInc, pctWSocSec, pctWPubAsst, pctWRetire, medFamInc, perCapInc, whitePerCap, blackPerCap, indianPerCap, AsianPerCap, OtherPerCap, HispPerCap, NumUnderPov, PctPopUnderPov, PctLess9thGrade, PctNotHSGrad, PctBSorMore, PctUnemployed, PctEmploy, PctEmplManu, PctEmplProfServ, MalePctDivorce, MalePctNevMarr, FemalePctDiv, TotalPctDiv, PersPerFam, PctFam2Par, PctKids2Par, PctYoungKids2Par, PctTeen2Par, PctWorkMomYoungKids, PctWorkMom, NumIlleg, PctIlleg, NumImmig, PctImmigRecent, PctImmigRec5, PctImmigRec8, PctImmigRec10, PctRecentImmig, PctRecImmig5, PctRecImmig8, PctRecImmig10, PctSpeakEnglOnly, PctNotSpeakEnglWell, PctLargHouseFam, PctLargHouseOccup, PersPerOccupHous, PersPerOwnOccHous, PersPerRentOccHous, PctPersOwnOccup, PctPersDenseHous, PctHousLess3BR, MedNumBR, HousVacant, PctHousOccup, PctHousOwnOcc, PctVacantBoarded, PctVacMore6Mos, MedYrHousBuilt, PctHousNoPhone, PctWOFullPlumb, OwnOccLowQuart, OwnOccMedVal, OwnOccHiQuart, RentLowQ, RentMedian, RentHighQ, MedRent, MedRentPctHousInc, MedOwnCostPctInc, MedOwnCostPctIncNoMtg, NumInShelters, NumStreet, PctForeignBorn, PctBornSameState, PctSameHouse85, PctSameCity85, PctSameState85, LandArea, PopDens, PctUsePubTrans, ViolentCrimesPerPop]\n",
       "Index: []\n",
       "\n",
       "[0 rows x 100 columns]"
      ]
     },
     "execution_count": 15,
     "metadata": {},
     "output_type": "execute_result"
    }
   ],
   "source": [
    "DF_Com.OtherPerCap.fillna(meanPerCap, axis=0, inplace=True)\n",
    "DF_Com[DF_Com.OtherPerCap.isnull()] "
   ]
  },
  {
   "cell_type": "code",
   "execution_count": 16,
   "metadata": {},
   "outputs": [
    {
     "data": {
      "text/plain": [
       "(1994, 100)"
      ]
     },
     "execution_count": 16,
     "metadata": {},
     "output_type": "execute_result"
    }
   ],
   "source": [
    "DF_Com.shape"
   ]
  },
  {
   "cell_type": "code",
   "execution_count": 17,
   "metadata": {},
   "outputs": [
    {
     "data": {
      "text/plain": [
       "array([0, 0, 0, 0, 0, 0, 0, 0, 0, 0, 0, 0, 0, 0, 0, 0, 0, 0, 0, 0, 0, 0,\n",
       "       0, 0, 0, 0, 0, 0, 0, 0, 0, 0, 0, 0, 0, 0, 0, 0, 0, 0, 0, 0, 0, 0,\n",
       "       0, 0, 0, 0, 0, 0, 0, 0, 0, 0, 0, 0, 0, 0, 0, 0, 0, 0, 0, 0, 0, 0,\n",
       "       0, 0, 0, 0, 0, 0, 0, 0, 0, 0, 0, 0, 0, 0, 0, 0, 0, 0, 0, 0, 0, 0,\n",
       "       0, 0, 0, 0, 0, 0, 0, 0, 0, 0, 0, 0])"
      ]
     },
     "execution_count": 17,
     "metadata": {},
     "output_type": "execute_result"
    }
   ],
   "source": [
    "# check for other missing data\n",
    "np.sum(np.array(pd.isnull(DF_Com)),0)"
   ]
  },
  {
   "cell_type": "markdown",
   "metadata": {},
   "source": [
    "### Data is now clean, the we will drop some attributes and separate target attribute"
   ]
  },
  {
   "cell_type": "code",
   "execution_count": 18,
   "metadata": {},
   "outputs": [],
   "source": [
    "# separate attributes for x vars and y var\n",
    "Com_x = DF_Com.drop(['state','communityname','ViolentCrimesPerPop'], axis=1, inplace = False)\n",
    "Com_y = DF_Com['ViolentCrimesPerPop']"
   ]
  },
  {
   "cell_type": "code",
   "execution_count": 19,
   "metadata": {},
   "outputs": [
    {
     "data": {
      "text/html": [
       "<div>\n",
       "<style scoped>\n",
       "    .dataframe tbody tr th:only-of-type {\n",
       "        vertical-align: middle;\n",
       "    }\n",
       "\n",
       "    .dataframe tbody tr th {\n",
       "        vertical-align: top;\n",
       "    }\n",
       "\n",
       "    .dataframe thead th {\n",
       "        text-align: right;\n",
       "    }\n",
       "</style>\n",
       "<table border=\"1\" class=\"dataframe\">\n",
       "  <thead>\n",
       "    <tr style=\"text-align: right;\">\n",
       "      <th></th>\n",
       "      <th>population</th>\n",
       "      <th>householdsize</th>\n",
       "      <th>racepctblack</th>\n",
       "      <th>racePctWhite</th>\n",
       "      <th>racePctAsian</th>\n",
       "      <th>racePctHisp</th>\n",
       "      <th>agePct12t21</th>\n",
       "      <th>agePct12t29</th>\n",
       "      <th>agePct16t24</th>\n",
       "      <th>agePct65up</th>\n",
       "      <th>...</th>\n",
       "      <th>NumInShelters</th>\n",
       "      <th>NumStreet</th>\n",
       "      <th>PctForeignBorn</th>\n",
       "      <th>PctBornSameState</th>\n",
       "      <th>PctSameHouse85</th>\n",
       "      <th>PctSameCity85</th>\n",
       "      <th>PctSameState85</th>\n",
       "      <th>LandArea</th>\n",
       "      <th>PopDens</th>\n",
       "      <th>PctUsePubTrans</th>\n",
       "    </tr>\n",
       "  </thead>\n",
       "  <tbody>\n",
       "    <tr>\n",
       "      <th>0</th>\n",
       "      <td>0.19</td>\n",
       "      <td>0.33</td>\n",
       "      <td>0.02</td>\n",
       "      <td>0.90</td>\n",
       "      <td>0.12</td>\n",
       "      <td>0.17</td>\n",
       "      <td>0.34</td>\n",
       "      <td>0.47</td>\n",
       "      <td>0.29</td>\n",
       "      <td>0.32</td>\n",
       "      <td>...</td>\n",
       "      <td>0.04</td>\n",
       "      <td>0.0</td>\n",
       "      <td>0.12</td>\n",
       "      <td>0.42</td>\n",
       "      <td>0.50</td>\n",
       "      <td>0.51</td>\n",
       "      <td>0.64</td>\n",
       "      <td>0.12</td>\n",
       "      <td>0.26</td>\n",
       "      <td>0.20</td>\n",
       "    </tr>\n",
       "    <tr>\n",
       "      <th>1</th>\n",
       "      <td>0.00</td>\n",
       "      <td>0.16</td>\n",
       "      <td>0.12</td>\n",
       "      <td>0.74</td>\n",
       "      <td>0.45</td>\n",
       "      <td>0.07</td>\n",
       "      <td>0.26</td>\n",
       "      <td>0.59</td>\n",
       "      <td>0.35</td>\n",
       "      <td>0.27</td>\n",
       "      <td>...</td>\n",
       "      <td>0.00</td>\n",
       "      <td>0.0</td>\n",
       "      <td>0.21</td>\n",
       "      <td>0.50</td>\n",
       "      <td>0.34</td>\n",
       "      <td>0.60</td>\n",
       "      <td>0.52</td>\n",
       "      <td>0.02</td>\n",
       "      <td>0.12</td>\n",
       "      <td>0.45</td>\n",
       "    </tr>\n",
       "    <tr>\n",
       "      <th>2</th>\n",
       "      <td>0.00</td>\n",
       "      <td>0.42</td>\n",
       "      <td>0.49</td>\n",
       "      <td>0.56</td>\n",
       "      <td>0.17</td>\n",
       "      <td>0.04</td>\n",
       "      <td>0.39</td>\n",
       "      <td>0.47</td>\n",
       "      <td>0.28</td>\n",
       "      <td>0.32</td>\n",
       "      <td>...</td>\n",
       "      <td>0.00</td>\n",
       "      <td>0.0</td>\n",
       "      <td>0.14</td>\n",
       "      <td>0.49</td>\n",
       "      <td>0.54</td>\n",
       "      <td>0.67</td>\n",
       "      <td>0.56</td>\n",
       "      <td>0.01</td>\n",
       "      <td>0.21</td>\n",
       "      <td>0.02</td>\n",
       "    </tr>\n",
       "    <tr>\n",
       "      <th>3</th>\n",
       "      <td>0.04</td>\n",
       "      <td>0.77</td>\n",
       "      <td>1.00</td>\n",
       "      <td>0.08</td>\n",
       "      <td>0.12</td>\n",
       "      <td>0.10</td>\n",
       "      <td>0.51</td>\n",
       "      <td>0.50</td>\n",
       "      <td>0.34</td>\n",
       "      <td>0.21</td>\n",
       "      <td>...</td>\n",
       "      <td>0.00</td>\n",
       "      <td>0.0</td>\n",
       "      <td>0.19</td>\n",
       "      <td>0.30</td>\n",
       "      <td>0.73</td>\n",
       "      <td>0.64</td>\n",
       "      <td>0.65</td>\n",
       "      <td>0.02</td>\n",
       "      <td>0.39</td>\n",
       "      <td>0.28</td>\n",
       "    </tr>\n",
       "    <tr>\n",
       "      <th>4</th>\n",
       "      <td>0.01</td>\n",
       "      <td>0.55</td>\n",
       "      <td>0.02</td>\n",
       "      <td>0.95</td>\n",
       "      <td>0.09</td>\n",
       "      <td>0.05</td>\n",
       "      <td>0.38</td>\n",
       "      <td>0.38</td>\n",
       "      <td>0.23</td>\n",
       "      <td>0.36</td>\n",
       "      <td>...</td>\n",
       "      <td>0.00</td>\n",
       "      <td>0.0</td>\n",
       "      <td>0.11</td>\n",
       "      <td>0.72</td>\n",
       "      <td>0.64</td>\n",
       "      <td>0.61</td>\n",
       "      <td>0.53</td>\n",
       "      <td>0.04</td>\n",
       "      <td>0.09</td>\n",
       "      <td>0.02</td>\n",
       "    </tr>\n",
       "  </tbody>\n",
       "</table>\n",
       "<p>5 rows × 97 columns</p>\n",
       "</div>"
      ],
      "text/plain": [
       "   population  householdsize  racepctblack  racePctWhite  racePctAsian  \\\n",
       "0        0.19           0.33          0.02          0.90          0.12   \n",
       "1        0.00           0.16          0.12          0.74          0.45   \n",
       "2        0.00           0.42          0.49          0.56          0.17   \n",
       "3        0.04           0.77          1.00          0.08          0.12   \n",
       "4        0.01           0.55          0.02          0.95          0.09   \n",
       "\n",
       "   racePctHisp  agePct12t21  agePct12t29  agePct16t24  agePct65up  \\\n",
       "0         0.17         0.34         0.47         0.29        0.32   \n",
       "1         0.07         0.26         0.59         0.35        0.27   \n",
       "2         0.04         0.39         0.47         0.28        0.32   \n",
       "3         0.10         0.51         0.50         0.34        0.21   \n",
       "4         0.05         0.38         0.38         0.23        0.36   \n",
       "\n",
       "        ...        NumInShelters  NumStreet  PctForeignBorn  PctBornSameState  \\\n",
       "0       ...                 0.04        0.0            0.12              0.42   \n",
       "1       ...                 0.00        0.0            0.21              0.50   \n",
       "2       ...                 0.00        0.0            0.14              0.49   \n",
       "3       ...                 0.00        0.0            0.19              0.30   \n",
       "4       ...                 0.00        0.0            0.11              0.72   \n",
       "\n",
       "   PctSameHouse85  PctSameCity85  PctSameState85  LandArea  PopDens  \\\n",
       "0            0.50           0.51            0.64      0.12     0.26   \n",
       "1            0.34           0.60            0.52      0.02     0.12   \n",
       "2            0.54           0.67            0.56      0.01     0.21   \n",
       "3            0.73           0.64            0.65      0.02     0.39   \n",
       "4            0.64           0.61            0.53      0.04     0.09   \n",
       "\n",
       "   PctUsePubTrans  \n",
       "0            0.20  \n",
       "1            0.45  \n",
       "2            0.02  \n",
       "3            0.28  \n",
       "4            0.02  \n",
       "\n",
       "[5 rows x 97 columns]"
      ]
     },
     "execution_count": 19,
     "metadata": {},
     "output_type": "execute_result"
    }
   ],
   "source": [
    "Com_x.head(5)"
   ]
  },
  {
   "cell_type": "code",
   "execution_count": 20,
   "metadata": {},
   "outputs": [
    {
     "data": {
      "text/plain": [
       "0    0.20\n",
       "1    0.67\n",
       "2    0.43\n",
       "3    0.12\n",
       "4    0.03\n",
       "Name: ViolentCrimesPerPop, dtype: float64"
      ]
     },
     "execution_count": 20,
     "metadata": {},
     "output_type": "execute_result"
    }
   ],
   "source": [
    "Com_y.head(5)"
   ]
  },
  {
   "cell_type": "markdown",
   "metadata": {},
   "source": [
    "## b. Perform standard linear regression on data using the implementation for Ch. 8 of MLA. Compute the RMSE value on the full training data. Also, plot the correlation between the predicted and actual values of the target attribute. Display the obtained regression coefficients (weights). Finally, perform 10-fold cross- validation and compare the cross-validation RMSE to the training RMSE (for cross validation, you should use the KFoldmodule from sklearn.cross_validation)."
   ]
  },
  {
   "cell_type": "markdown",
   "metadata": {},
   "source": [
    "### Perform standard linear regression"
   ]
  },
  {
   "cell_type": "code",
   "execution_count": 21,
   "metadata": {},
   "outputs": [],
   "source": [
    "x_var = np.array(Com_x)\n",
    "x_var = np.array([np.concatenate((v,[1])) for v in x_var])\n",
    "y_var = np.array(Com_y)"
   ]
  },
  {
   "cell_type": "code",
   "execution_count": 22,
   "metadata": {},
   "outputs": [],
   "source": [
    "# function from Ch. 8 of MLA\n",
    "def standRegres(xArr, yArr):\n",
    "    xMat = np.matrix(xArr) ; yMat = np.matrix(yArr).T\n",
    "    xTx = xMat.T*xMat\n",
    "    if np.linalg.det(xTx) == 0.0:\n",
    "        print(\"This matrix is singular, cannot do inverse\")\n",
    "    else:\n",
    "        ws = xTx.I * (xMat.T*yMat)\n",
    "        return ws"
   ]
  },
  {
   "cell_type": "markdown",
   "metadata": {},
   "source": [
    "### Display the obtained regression coefficients (weights)"
   ]
  },
  {
   "cell_type": "code",
   "execution_count": 24,
   "metadata": {},
   "outputs": [
    {
     "name": "stdout",
     "output_type": "stream",
     "text": [
      "Regression Coefficients: [[ 1.31108068e-01]\n",
      " [-3.14114977e-02]\n",
      " [ 2.09909670e-01]\n",
      " [-4.05351612e-02]\n",
      " [-1.38892919e-02]\n",
      " [ 5.89726825e-02]\n",
      " [ 1.23399025e-01]\n",
      " [-2.22621600e-01]\n",
      " [-1.47500199e-01]\n",
      " [ 5.01635477e-02]\n",
      " [-2.42413829e-01]\n",
      " [ 4.64024392e-02]\n",
      " [-1.96945615e-01]\n",
      " [-2.06117500e-01]\n",
      " [ 4.65935490e-02]\n",
      " [-1.77212915e-01]\n",
      " [ 6.30148504e-02]\n",
      " [ 1.14942190e-02]\n",
      " [-9.08951848e-02]\n",
      " [ 2.74640044e-01]\n",
      " [ 1.01752476e-01]\n",
      " [-3.31517562e-01]\n",
      " [-2.91799268e-02]\n",
      " [-3.54483393e-02]\n",
      " [ 2.26173855e-02]\n",
      " [ 4.30950137e-02]\n",
      " [ 3.44408548e-02]\n",
      " [ 1.28412458e-01]\n",
      " [-1.91293360e-01]\n",
      " [-1.00769002e-01]\n",
      " [ 6.46856092e-02]\n",
      " [ 1.06062117e-01]\n",
      " [ 2.44125988e-06]\n",
      " [ 2.34984611e-01]\n",
      " [-3.75705330e-02]\n",
      " [-7.74957660e-03]\n",
      " [ 4.66779619e-01]\n",
      " [ 2.26295907e-01]\n",
      " [ 1.74621953e-01]\n",
      " [-5.75206227e-01]\n",
      " [-1.41954207e-01]\n",
      " [ 5.68782538e-02]\n",
      " [-3.51066745e-01]\n",
      " [-3.49493414e-02]\n",
      " [ 4.63705978e-04]\n",
      " [ 5.57016681e-02]\n",
      " [-1.82238360e-01]\n",
      " [-1.54646442e-01]\n",
      " [ 1.26172899e-01]\n",
      " [-1.44320569e-01]\n",
      " [ 2.39071713e-02]\n",
      " [ 3.33390229e-02]\n",
      " [-7.42297409e-02]\n",
      " [ 3.59876412e-02]\n",
      " [-3.31691535e-02]\n",
      " [-2.18174916e-01]\n",
      " [ 4.45777391e-01]\n",
      " [-2.00030978e-01]\n",
      " [-2.67307658e-02]\n",
      " [-1.41457254e-01]\n",
      " [ 6.38133109e-02]\n",
      " [-2.10115806e-01]\n",
      " [ 6.51276465e-01]\n",
      " [-8.02774919e-02]\n",
      " [-2.53817057e-01]\n",
      " [-6.66334925e-01]\n",
      " [ 2.01002575e-01]\n",
      " [ 1.03326247e-01]\n",
      " [ 2.88599766e-02]\n",
      " [ 1.68314795e-01]\n",
      " [-4.00752791e-02]\n",
      " [ 5.53867355e-01]\n",
      " [ 4.70396419e-02]\n",
      " [-7.64314747e-02]\n",
      " [-2.89277350e-02]\n",
      " [ 1.40739015e-02]\n",
      " [-1.40629951e-02]\n",
      " [-3.46854609e-01]\n",
      " [ 2.67796471e-01]\n",
      " [ 1.19446906e-02]\n",
      " [-2.36996317e-01]\n",
      " [-2.60764386e-02]\n",
      " [-6.84041742e-02]\n",
      " [ 3.74730887e-01]\n",
      " [ 4.17402525e-02]\n",
      " [-4.45747318e-02]\n",
      " [-8.34683479e-02]\n",
      " [ 1.30736305e-01]\n",
      " [ 1.83468559e-01]\n",
      " [ 1.26046949e-01]\n",
      " [ 4.63490658e-03]\n",
      " [-2.24577196e-02]\n",
      " [ 2.88627319e-02]\n",
      " [ 1.30622513e-02]\n",
      " [ 2.76170980e-02]\n",
      " [-1.24479622e-02]\n",
      " [-3.73099899e-02]\n",
      " [ 5.88079813e-01]]\n"
     ]
    }
   ],
   "source": [
    "std_linear_reg = standRegres(x_var,y_var)\n",
    "print (\"Regression Coefficients:\" , std_linear_reg)"
   ]
  },
  {
   "cell_type": "markdown",
   "metadata": {},
   "source": [
    "### Calculate RMSE"
   ]
  },
  {
   "cell_type": "code",
   "execution_count": 25,
   "metadata": {},
   "outputs": [
    {
     "name": "stdout",
     "output_type": "stream",
     "text": [
      "The RMSE on Full Training data is 0.12888961\n"
     ]
    }
   ],
   "source": [
    "#Calculate RMSE\n",
    "pred_y = x_var*std_linear_reg\n",
    "pred_y_T = pred_y.T\n",
    "error = pred_y_T - y_var\n",
    "totalError = np.dot(error,error.T)\n",
    "# Compute RMSE\n",
    "totalRMSE = np.sqrt(totalError/len(pred_y))\n",
    "print(\"The RMSE on Full Training data is %.8f\" %totalRMSE)"
   ]
  },
  {
   "cell_type": "markdown",
   "metadata": {},
   "source": [
    "#### RMSE on the full training data is: 0.12888961."
   ]
  },
  {
   "cell_type": "markdown",
   "metadata": {},
   "source": [
    "### Plot the correlation between the predicted and actual values of the target attribute"
   ]
  },
  {
   "cell_type": "code",
   "execution_count": 26,
   "metadata": {},
   "outputs": [
    {
     "data": {
      "image/png": "[encoded data removed]",
      "text/plain": [
       "<Figure size 432x288 with 1 Axes>"
      ]
     },
     "metadata": {
      "needs_background": "light"
     },
     "output_type": "display_data"
    }
   ],
   "source": [
    "# Plot correlation outputs\n",
    "plt.plot( pred_y, y_var, 'ro')\n",
    "plt.plot([0,1.1,0.1],[0,1.1,0.1])\n",
    "plt.xlabel('Predicted Y Values')\n",
    "plt.ylabel('Actual Y Values')\n",
    "plt.show()"
   ]
  },
  {
   "cell_type": "markdown",
   "metadata": {},
   "source": [
    "### perform 10-fold cross- validation "
   ]
  },
  {
   "cell_type": "code",
   "execution_count": 30,
   "metadata": {},
   "outputs": [],
   "source": [
    "n=10\n",
    "kf = KFold( n_splits=n)\n",
    "xval_err = 0\n",
    "for train,test in kf.split(x_var):\n",
    "    std_linear_reg = standRegres(x_var[train],y_var[train])\n",
    "    pred_y = (x_var[test])*std_linear_reg\n",
    "    pred_y_T = pred_y.T\n",
    "    error = pred_y_T - y_var[test]\n",
    "    xval_err += np.sqrt(np.dot(error,error.T)/len(x_var[test]))\n",
    "       \n",
    "rmse_10cv =  xval_err/n"
   ]
  },
  {
   "cell_type": "code",
   "execution_count": 31,
   "metadata": {},
   "outputs": [
    {
     "name": "stdout",
     "output_type": "stream",
     "text": [
      "The RMSE from full training data is 0.128890\n",
      "The RMSE from 10 K-folds is 0.135861\n"
     ]
    }
   ],
   "source": [
    "print(\"The RMSE from full training data is %f\" %totalRMSE)\n",
    "print(\"The RMSE from 10 K-folds is %f\" %rmse_10cv)"
   ]
  },
  {
   "cell_type": "markdown",
   "metadata": {},
   "source": [
    "#### The RMSE from 10 K-folds is 0.135861 which is sightly higher than the RMSE on the full training set of 0.12889, so our test error appears to be higher than a train error, implying the possibly overfitting of our model."
   ]
  },
  {
   "cell_type": "markdown",
   "metadata": {},
   "source": [
    "## c. FeatureSelection: usethescikit - learnregressionmodelfromsklearn.linear_modelwithasubset of features to perform linear regression. For feature selection, write a script or function that takes as input the training data, target variable; the model; and any other parameters you find necessary, and returns the optimal percentage of the most informative features to use. "
   ]
  },
  {
   "cell_type": "code",
   "execution_count": 32,
   "metadata": {},
   "outputs": [],
   "source": [
    "x_var = np.array(Com_x)\n",
    "x_var = np.array([np.concatenate((v,[1])) for v in x_var])\n",
    "y_var = np.array(Com_y).T"
   ]
  },
  {
   "cell_type": "code",
   "execution_count": 40,
   "metadata": {},
   "outputs": [],
   "source": [
    "import warnings\n",
    "warnings.filterwarnings('ignore')"
   ]
  },
  {
   "cell_type": "code",
   "execution_count": 43,
   "metadata": {},
   "outputs": [
    {
     "name": "stdout",
     "output_type": "stream",
     "text": [
      "1 0.11276434604143286\n",
      "6 0.10096844171088974\n",
      "11 0.1012454264655901\n",
      "16 0.10147215844032367\n",
      "21 0.09913148807800067\n",
      "26 0.0967179060082417\n",
      "31 0.09664793348053294\n",
      "36 0.09594670962182875\n",
      "41 0.09639889059415219\n",
      "46 0.09652184062942389\n",
      "51 0.09647921584126622\n",
      "56 0.09679079983772171\n",
      "61 0.0975314605409422\n",
      "66 0.09770773121088558\n",
      "71 0.09757826948814126\n",
      "76 0.09764515944381032\n",
      "81 0.09796099073513448\n",
      "86 0.09810226228581406\n",
      "91 0.09726492465875944\n",
      "96 0.09744278456218332\n",
      "\n",
      " Optimal percentile of features:36 \n",
      "\n",
      "Optimal number of features:34 \n",
      "\n"
     ]
    }
   ],
   "source": [
    "#Modify function from Lec 6 example of Feature / Model Selection Strategies\n",
    "from sklearn.model_selection import cross_val_score\n",
    "X_train, X_test, Y_train, Y_test = train_test_split(x_var, y_var, test_size=0.2)\n",
    "linear_reg = LinearRegression()\n",
    "\n",
    "percentiles = range(1, 100, 5)\n",
    "results = []\n",
    "for i in range(1, 100, 5):\n",
    "    fs = feature_selection.SelectPercentile(feature_selection.f_regression, percentile=i)\n",
    "    X_train_fs = fs.fit_transform(X_train, Y_train)\n",
    "    scores = abs(cross_val_score(linear_reg, X_train_fs, Y_train, cv=5, scoring='neg_mean_absolute_error'))\n",
    "    print (i,scores.mean())\n",
    "    results = np.append(results, scores.mean())\n",
    "    \n",
    "optimal_percentile = np.where(results == results.min())[0]\n",
    "index = optimal_percentile.item(0)\n",
    "print (\"\\n\" ,\"Optimal percentile of features:{0}\".format(percentiles[index]), \"\\n\")\n",
    "optimal_num_features = int(percentiles[index]*len(Com_x.columns)/100)\n",
    "print (\"Optimal number of features:{0}\".format(optimal_num_features), \"\\n\")\n"
   ]
  },
  {
   "cell_type": "code",
   "execution_count": 44,
   "metadata": {},
   "outputs": [
    {
     "data": {
      "text/plain": [
       "[<matplotlib.lines.Line2D at 0x20428653c88>]"
      ]
     },
     "execution_count": 44,
     "metadata": {},
     "output_type": "execute_result"
    },
    {
     "data": {
      "image/png": "[encoded data removed]",
      "text/plain": [
       "<Figure size 432x288 with 1 Axes>"
      ]
     },
     "metadata": {
      "needs_background": "light"
     },
     "output_type": "display_data"
    }
   ],
   "source": [
    "# Plot features percentile VS. MAE scores\n",
    "import pylab as pl\n",
    "pl.figure()\n",
    "pl.xlabel(\"Percentage of features selected\")\n",
    "pl.ylabel(\"MAE Cross-Validation Scores\")\n",
    "pl.plot(percentiles,results)"
   ]
  },
  {
   "cell_type": "markdown",
   "metadata": {},
   "source": [
    "#### From the graph, we can see that the optimal percentile of features is 36 (has the lowest MAE score).\n",
    "#### The optimal number of features is 34."
   ]
  },
  {
   "cell_type": "markdown",
   "metadata": {},
   "source": [
    "#### Evaluate our best number of features on the test set and performance ( using MAE ) with the new feature set "
   ]
  },
  {
   "cell_type": "code",
   "execution_count": 45,
   "metadata": {},
   "outputs": [
    {
     "name": "stdout",
     "output_type": "stream",
     "text": [
      "Mean absolute Error of Linear Model (34 features) is 0.102111\n"
     ]
    }
   ],
   "source": [
    "from sklearn.feature_selection import SelectPercentile, f_regression\n",
    "from sklearn.metrics import mean_absolute_error\n",
    "\n",
    "optimal_percentile = 41\n",
    "fs = feature_selection.SelectPercentile(feature_selection.f_regression, percentile = optimal_percentile)\n",
    "X_train_fs = fs.fit_transform(X_train, Y_train)\n",
    "linear_reg = LinearRegression()\n",
    "linear_reg.fit(X_train_fs, Y_train)\n",
    "X_testfs = fs.transform(X_test)\n",
    "Y_pred = linear_reg.predict(X_testfs)\n",
    "MAEscore = mean_absolute_error(Y_test, Y_pred)\n",
    "print(\"Mean absolute Error of Linear Model (34 features) is %f\" %MAEscore)"
   ]
  },
  {
   "cell_type": "code",
   "execution_count": 47,
   "metadata": {},
   "outputs": [
    {
     "name": "stdout",
     "output_type": "stream",
     "text": [
      "[ True False  True  True False  True False False False False  True False  True\n",
      " False False  True False  True False  True  True False False False False False\n",
      " False  True  True  True  True False  True False False False  True  True  True\n",
      "  True False  True  True  True  True False False  True  True False False False\n",
      " False False False False False False False  True  True False False False False\n",
      "  True  True  True  True  True  True  True  True False False  True  True False\n",
      " False False False False False False  True False False  True  True False False\n",
      " False False False False False False False]\n"
     ]
    }
   ],
   "source": [
    "np.set_printoptions(suppress=True, precision=2, linewidth=80)\n",
    "print (fs.get_support())"
   ]
  },
  {
   "cell_type": "code",
   "execution_count": 48,
   "metadata": {},
   "outputs": [
    {
     "data": {
      "text/plain": [
       "array(['population', 'householdsize', 'racepctblack', 'racePctWhite',\n",
       "       'racePctAsian', 'racePctHisp', 'agePct12t21', 'agePct12t29',\n",
       "       'agePct16t24', 'agePct65up', 'numbUrban', 'pctUrban', 'medIncome',\n",
       "       'pctWWage', 'pctWFarmSelf', 'pctWInvInc', 'pctWSocSec', 'pctWPubAsst',\n",
       "       'pctWRetire', 'medFamInc', 'perCapInc', 'whitePerCap', 'blackPerCap',\n",
       "       'indianPerCap', 'AsianPerCap', 'OtherPerCap', 'HispPerCap',\n",
       "       'NumUnderPov', 'PctPopUnderPov', 'PctLess9thGrade', 'PctNotHSGrad',\n",
       "       'PctBSorMore', 'PctUnemployed', 'PctEmploy', 'PctEmplManu',\n",
       "       'PctEmplProfServ', 'MalePctDivorce', 'MalePctNevMarr', 'FemalePctDiv',\n",
       "       'TotalPctDiv', 'PersPerFam', 'PctFam2Par', 'PctKids2Par',\n",
       "       'PctYoungKids2Par', 'PctTeen2Par', 'PctWorkMomYoungKids', 'PctWorkMom',\n",
       "       'NumIlleg', 'PctIlleg', 'NumImmig', 'PctImmigRecent', 'PctImmigRec5',\n",
       "       'PctImmigRec8', 'PctImmigRec10', 'PctRecentImmig', 'PctRecImmig5',\n",
       "       'PctRecImmig8', 'PctRecImmig10', 'PctSpeakEnglOnly',\n",
       "       'PctNotSpeakEnglWell', 'PctLargHouseFam', 'PctLargHouseOccup',\n",
       "       'PersPerOccupHous', 'PersPerOwnOccHous', 'PersPerRentOccHous',\n",
       "       'PctPersOwnOccup', 'PctPersDenseHous', 'PctHousLess3BR', 'MedNumBR',\n",
       "       'HousVacant', 'PctHousOccup', 'PctHousOwnOcc', 'PctVacantBoarded',\n",
       "       'PctVacMore6Mos', 'MedYrHousBuilt', 'PctHousNoPhone', 'PctWOFullPlumb',\n",
       "       'OwnOccLowQuart', 'OwnOccMedVal', 'OwnOccHiQuart', 'RentLowQ',\n",
       "       'RentMedian', 'RentHighQ', 'MedRent', 'MedRentPctHousInc',\n",
       "       'MedOwnCostPctInc', 'MedOwnCostPctIncNoMtg', 'NumInShelters',\n",
       "       'NumStreet', 'PctForeignBorn', 'PctBornSameState', 'PctSameHouse85',\n",
       "       'PctSameCity85', 'PctSameState85', 'LandArea', 'PopDens',\n",
       "       'PctUsePubTrans'], dtype=object)"
      ]
     },
     "execution_count": 48,
     "metadata": {},
     "output_type": "execute_result"
    }
   ],
   "source": [
    "Com_x.columns.values"
   ]
  },
  {
   "cell_type": "code",
   "execution_count": 50,
   "metadata": {},
   "outputs": [
    {
     "name": "stdout",
     "output_type": "stream",
     "text": [
      "population \t 242.21954906378855\n",
      "racepctblack \t 987.9890616057469\n",
      "racePctWhite \t 1358.8179733182715\n",
      "racePctHisp \t 173.57846535987667\n",
      "numbUrban \t 234.9816321827691\n",
      "medIncome \t 338.6234405271587\n",
      "pctWInvInc \t 809.3145448865988\n",
      "pctWPubAsst \t 761.1655082613166\n",
      "medFamInc \t 368.32143358977146\n",
      "perCapInc \t 216.3737917833643\n",
      "NumUnderPov \t 388.6570377567564\n",
      "PctPopUnderPov \t 591.0771584677361\n",
      "PctLess9thGrade \t 329.19727262332856\n",
      "PctNotHSGrad \t 488.7932602130596\n",
      "PctUnemployed \t 527.6520739411234\n",
      "MalePctDivorce \t 619.9075307836308\n",
      "MalePctNevMarr \t 172.96686684776742\n",
      "FemalePctDiv \t 734.3305543341702\n",
      "TotalPctDiv \t 718.6305617359558\n",
      "PctFam2Par \t 1570.2841035663116\n",
      "PctKids2Par \t 1871.95174159244\n",
      "PctYoungKids2Par \t 1260.794416156771\n",
      "PctTeen2Par \t 1231.0992532763491\n",
      "NumIlleg \t 449.59320757129\n",
      "PctIlleg \t 1847.7568162895536\n",
      "PctNotSpeakEnglWell \t 181.46594943273328\n",
      "PctLargHouseFam \t 271.9211545352287\n",
      "PctPersOwnOccup \t 650.5436057121348\n",
      "PctPersDenseHous \t 459.83327116767236\n",
      "PctHousLess3BR \t 485.27364384897714\n",
      "MedNumBR \t 226.72484959200034\n",
      "HousVacant \t 332.8613035373555\n",
      "PctHousOccup \t 177.41156222594856\n",
      "PctHousOwnOcc \t 486.78987798462333\n",
      "PctVacantBoarded \t 469.179773665973\n",
      "PctHousNoPhone \t 531.6013667187182\n",
      "PctWOFullPlumb \t 270.39352827129903\n",
      "MedRentPctHousInc \t 187.55669519607846\n",
      "NumInShelters \t 279.0266506368465\n",
      "NumStreet \t 218.8042206900394\n"
     ]
    }
   ],
   "source": [
    "for i in range(len(Com_x.columns.values)):\n",
    "    if fs.get_support()[i]:\n",
    "        print (Com_x.columns.values[i],'\\t', fs.scores_[i])"
   ]
  },
  {
   "cell_type": "markdown",
   "metadata": {},
   "source": [
    "## d. Next, perform Ridge Regression and Lasso Regression using the modules from sklearn.linear_model. In each case, perform systematic model selection to identify the optimal alpha parameter. "
   ]
  },
  {
   "cell_type": "code",
   "execution_count": 52,
   "metadata": {},
   "outputs": [],
   "source": [
    "from sklearn.linear_model import Ridge, Lasso \n",
    "from sklearn import model_selection\n",
    "from sklearn.metrics import mean_absolute_error"
   ]
  },
  {
   "cell_type": "code",
   "execution_count": 53,
   "metadata": {},
   "outputs": [],
   "source": [
    "X_train, X_test, Y_train, Y_test = train_test_split(x_var, y_var, test_size=0.2, random_state = 50)"
   ]
  },
  {
   "cell_type": "markdown",
   "metadata": {},
   "source": [
    "### Systematic Model Selection"
   ]
  },
  {
   "cell_type": "code",
   "execution_count": 55,
   "metadata": {},
   "outputs": [],
   "source": [
    "#This function is modified from the original function calc_params in Lec 6 example notebook\n",
    "\n",
    "from sklearn.model_selection import KFold\n",
    "from sklearn.metrics import mean_squared_error, mean_absolute_error\n",
    "import matplotlib.pyplot as plt\n",
    "from math import sqrt\n",
    "\n",
    "def best_params(x_var, y_var, clfModel, param_name, param_values, K):\n",
    "    \n",
    "    # Convert x, y input to Numpy arrays\n",
    "    x_var = np.array(x_var)\n",
    "    y_var = np.array(y_var)\n",
    "\n",
    "    # Set training and testing scores to 0\n",
    "    train_scores = np.zeros(len(param_values))\n",
    "    test_scores = np.zeros(len(param_values))\n",
    "    train_scores_RMSE = np.zeros(len(param_values))\n",
    "    test_scores_RMSE= np.zeros(len(param_values))\n",
    "    # iterate over parameter values\n",
    "    print (\"parameter  parameter value    MAE Score(Train)     MAE Score(Test)         RMSE(Train)      RMSE(Test)\")\n",
    "    for i, param_value in enumerate(param_values):\n",
    "        \n",
    "        # set classifier parameters\n",
    "        clfModel.set_params(**{param_name:param_value})\n",
    "        \n",
    "        # initialize the K scores obtained for each fold\n",
    "        k_train_scores = np.zeros(K)\n",
    "        k_test_scores = np.zeros(K)\n",
    "        k_train_RMSE = np.zeros(K)\n",
    "        k_test_RMSE = np.zeros(K)\n",
    "        # create KFold cross validation\n",
    "        cv = KFold(K, shuffle=True, random_state=0)\n",
    "        \n",
    "        # iterate over the K folds\n",
    "        for j, (train, test) in enumerate(cv.split(x_var)):\n",
    "            # fit the classifier in the corresponding fold\n",
    "            # and obtain the corresponding accuracy scores on train and test sets\n",
    "            clfModel.fit([x_var[k] for k in train], y_var[train])\n",
    "            pred_train = clfModel.predict(x_var[train])\n",
    "            pred_test = clfModel.predict(x_var[test])   \n",
    "            k_train_scores[j] = mean_absolute_error(y_var[train], pred_train)\n",
    "            k_test_scores[j] = mean_absolute_error(y_var[test], pred_test)\n",
    "            k_train_RMSE[j] = sqrt(mean_squared_error(y_var[train], pred_train))\n",
    "            k_test_RMSE[j] = sqrt(mean_squared_error(y_var[test], pred_test))\n",
    "                      \n",
    "        # store the mean of the K fold scores\n",
    "        train_scores[i] = np.mean(k_train_scores)\n",
    "        test_scores[i] = np.mean(k_test_scores)\n",
    "        train_scores_RMSE[i] = np.mean(k_train_RMSE)\n",
    "        test_scores_RMSE[i] = np.mean(k_test_RMSE)\n",
    "        print (\"%s: %18.5f  %18.5f  %18.5f  %18.5f  %18.5f\"  %(param_name, param_value,train_scores[i], test_scores[i], train_scores_RMSE[i],test_scores_RMSE[i]))\n",
    "  \n",
    "    #plot the training and testing scores in a log scale\n",
    "    plt.plot(param_values, train_scores, label='Train', alpha=0.4, lw=2, c='b')\n",
    "    plt.plot(param_values, test_scores, label='X Val', alpha=0.4, lw=2, c='g')\n",
    "    plt.legend(loc=7)\n",
    "    plt.xlabel(param_name + \" values\")\n",
    "    plt.ylabel(\"Mean Absoute Error\")\n",
    "\n",
    "    #return the training and testing scores on each parameter value\n",
    "    return train_scores, test_scores"
   ]
  },
  {
   "cell_type": "markdown",
   "metadata": {},
   "source": [
    "### Ridge Regression"
   ]
  },
  {
   "cell_type": "code",
   "execution_count": 56,
   "metadata": {},
   "outputs": [],
   "source": [
    "# Let's create the alpha input and model input for passing the function above\n",
    "alphaparameter = np.linspace(0.0001, 20, 20)\n",
    "alphaparameter = np.array([float(a) for a in alphaparameter])"
   ]
  },
  {
   "cell_type": "code",
   "execution_count": 57,
   "metadata": {},
   "outputs": [
    {
     "name": "stdout",
     "output_type": "stream",
     "text": [
      "parameter  parameter value    MAE Score(Train)     MAE Score(Test)         RMSE(Train)      RMSE(Test)\n",
      "alpha:            0.00010             0.08812             0.09613             0.12434             0.13481\n",
      "alpha:            1.05273             0.08828             0.09374             0.12593             0.13350\n",
      "alpha:            2.10535             0.08859             0.09325             0.12680             0.13350\n",
      "alpha:            3.15798             0.08890             0.09307             0.12744             0.13356\n",
      "alpha:            4.21061             0.08916             0.09296             0.12793             0.13363\n",
      "alpha:            5.26323             0.08937             0.09292             0.12834             0.13369\n",
      "alpha:            6.31586             0.08956             0.09293             0.12868             0.13374\n",
      "alpha:            7.36848             0.08973             0.09295             0.12898             0.13380\n",
      "alpha:            8.42111             0.08988             0.09298             0.12924             0.13385\n",
      "alpha:            9.47374             0.09002             0.09301             0.12947             0.13390\n",
      "alpha:           10.52636             0.09015             0.09303             0.12969             0.13395\n",
      "alpha:           11.57899             0.09028             0.09306             0.12988             0.13400\n",
      "alpha:           12.63162             0.09039             0.09309             0.13006             0.13405\n",
      "alpha:           13.68424             0.09050             0.09312             0.13022             0.13409\n",
      "alpha:           14.73687             0.09060             0.09314             0.13038             0.13414\n",
      "alpha:           15.78949             0.09069             0.09317             0.13053             0.13419\n",
      "alpha:           16.84212             0.09079             0.09320             0.13067             0.13423\n",
      "alpha:           17.89475             0.09088             0.09324             0.13080             0.13428\n",
      "alpha:           18.94737             0.09096             0.09327             0.13092             0.13432\n",
      "alpha:           20.00000             0.09104             0.09330             0.13104             0.13437\n"
     ]
    },
    {
     "data": {
      "text/plain": [
       "(array([0.09, 0.09, 0.09, 0.09, 0.09, 0.09, 0.09, 0.09, 0.09, 0.09, 0.09, 0.09,\n",
       "        0.09, 0.09, 0.09, 0.09, 0.09, 0.09, 0.09, 0.09]),\n",
       " array([0.1 , 0.09, 0.09, 0.09, 0.09, 0.09, 0.09, 0.09, 0.09, 0.09, 0.09, 0.09,\n",
       "        0.09, 0.09, 0.09, 0.09, 0.09, 0.09, 0.09, 0.09]))"
      ]
     },
     "execution_count": 57,
     "metadata": {},
     "output_type": "execute_result"
    },
    {
     "data": {
      "image/png": "[encoded data removed]",
      "text/plain": [
       "<Figure size 432x288 with 1 Axes>"
      ]
     },
     "metadata": {
      "needs_background": "light"
     },
     "output_type": "display_data"
    }
   ],
   "source": [
    "from sklearn.linear_model import Ridge\n",
    "ridge_model = Ridge()\n",
    "best_params(X_train, Y_train, ridge_model, \"alpha\", alphaparameter, 5)"
   ]
  },
  {
   "cell_type": "markdown",
   "metadata": {},
   "source": [
    "#### The best alpha for train and test set would be 3.15798 with the lowest MAE score and RMSE score.\n",
    "#### So, we will fit the Ridge regrssion model with the alpha = 3.15798."
   ]
  },
  {
   "cell_type": "code",
   "execution_count": 71,
   "metadata": {},
   "outputs": [
    {
     "name": "stdout",
     "output_type": "stream",
     "text": [
      "Ridge Regression\n",
      "Mean absolute error on test data: 0.10164740\n",
      "RMSE error on test data: 0.14658250\n"
     ]
    }
   ],
   "source": [
    "ridge_model = Ridge(fit_intercept=True, alpha=3.15798)\n",
    "ridge_model.fit(X_train, Y_train)\n",
    "pred_Y = ridge_model.predict(X_test)\n",
    "err = pred_Y-Y_test\n",
    "total_error = np.dot(err,err)\n",
    "RMSEScore_Rid = np.sqrt(total_error/len(pred_Y))\n",
    "MAEScore_Rid = mean_absolute_error(Y_test, pred_Y)\n",
    "print(\"Ridge Regression\")\n",
    "print('Mean absolute error on test data: %0.8f' % MAEScore_Rid)\n",
    "print('RMSE error on test data: %0.8f' % RMSEScore_Rid)"
   ]
  },
  {
   "cell_type": "markdown",
   "metadata": {},
   "source": [
    "### Lasso Regression"
   ]
  },
  {
   "cell_type": "code",
   "execution_count": 72,
   "metadata": {},
   "outputs": [
    {
     "name": "stdout",
     "output_type": "stream",
     "text": [
      "parameter  parameter value    MAE Score(Train)     MAE Score(Test)         RMSE(Train)      RMSE(Test)\n",
      "alpha:            0.00010             0.08798             0.09482             0.12464             0.13387\n",
      "alpha:            1.05273             0.17177             0.17178             0.22563             0.22551\n",
      "alpha:            2.10535             0.17177             0.17178             0.22563             0.22551\n",
      "alpha:            3.15798             0.17177             0.17178             0.22563             0.22551\n",
      "alpha:            4.21061             0.17177             0.17178             0.22563             0.22551\n",
      "alpha:            5.26323             0.17177             0.17178             0.22563             0.22551\n",
      "alpha:            6.31586             0.17177             0.17178             0.22563             0.22551\n",
      "alpha:            7.36848             0.17177             0.17178             0.22563             0.22551\n",
      "alpha:            8.42111             0.17177             0.17178             0.22563             0.22551\n",
      "alpha:            9.47374             0.17177             0.17178             0.22563             0.22551\n",
      "alpha:           10.52636             0.17177             0.17178             0.22563             0.22551\n",
      "alpha:           11.57899             0.17177             0.17178             0.22563             0.22551\n",
      "alpha:           12.63162             0.17177             0.17178             0.22563             0.22551\n",
      "alpha:           13.68424             0.17177             0.17178             0.22563             0.22551\n",
      "alpha:           14.73687             0.17177             0.17178             0.22563             0.22551\n",
      "alpha:           15.78949             0.17177             0.17178             0.22563             0.22551\n",
      "alpha:           16.84212             0.17177             0.17178             0.22563             0.22551\n",
      "alpha:           17.89475             0.17177             0.17178             0.22563             0.22551\n",
      "alpha:           18.94737             0.17177             0.17178             0.22563             0.22551\n",
      "alpha:           20.00000             0.17177             0.17178             0.22563             0.22551\n"
     ]
    },
    {
     "data": {
      "text/plain": [
       "(array([0.09, 0.17, 0.17, 0.17, 0.17, 0.17, 0.17, 0.17, 0.17, 0.17, 0.17, 0.17,\n",
       "        0.17, 0.17, 0.17, 0.17, 0.17, 0.17, 0.17, 0.17]),\n",
       " array([0.09, 0.17, 0.17, 0.17, 0.17, 0.17, 0.17, 0.17, 0.17, 0.17, 0.17, 0.17,\n",
       "        0.17, 0.17, 0.17, 0.17, 0.17, 0.17, 0.17, 0.17]))"
      ]
     },
     "execution_count": 72,
     "metadata": {},
     "output_type": "execute_result"
    },
    {
     "data": {
      "image/png": "[encoded data removed]",
      "text/plain": [
       "<Figure size 432x288 with 1 Axes>"
      ]
     },
     "metadata": {
      "needs_background": "light"
     },
     "output_type": "display_data"
    }
   ],
   "source": [
    "from sklearn.linear_model import Lasso\n",
    "lasso_model = Lasso()\n",
    "best_params(X_train, Y_train,lasso_model, \"alpha\", alphaparameter, 5)"
   ]
  },
  {
   "cell_type": "markdown",
   "metadata": {},
   "source": [
    "#### From the graph and table above, the MAE and RMSE scores are relatively constant as the alpha value increases beyond 1.05.\n",
    "#### The best alpha for train and test set would be 0.0001 with the lowest MAE score and RMSE score.\n",
    "#### So, we will fit the Lasso regrssion model with the alpha = 0.0001"
   ]
  },
  {
   "cell_type": "code",
   "execution_count": 75,
   "metadata": {},
   "outputs": [
    {
     "name": "stdout",
     "output_type": "stream",
     "text": [
      "Lasso Regression\n",
      "Mean absolute error on test data: 0.10179228\n",
      "RMSE error on test data: 0.14685379\n"
     ]
    }
   ],
   "source": [
    "Lasso_model = Lasso(fit_intercept=True, alpha=0.0001)\n",
    "Lasso_model.fit(X_train, Y_train)\n",
    "pred_Y = Lasso_model.predict(X_test)\n",
    "err = pred_Y-Y_test\n",
    "total_error = np.dot(err,err)\n",
    "RMSEScore_Las = np.sqrt(total_error/len(pred_Y))\n",
    "MAEScore_Las = mean_absolute_error(Y_test, pred_Y)\n",
    "print (\"Lasso Regression\")\n",
    "print('Mean absolute error on test data: %0.8f' % MAEScore_Las)\n",
    "print('RMSE error on test data: %0.8f' % RMSEScore_Las)"
   ]
  },
  {
   "cell_type": "markdown",
   "metadata": {},
   "source": [
    "### Summary of Observations\n"
   ]
  },
  {
   "cell_type": "markdown",
   "metadata": {},
   "source": [
    "**Comparing between 2 models, the Ridge Regression model performs slightly better as both its MAE and RMSE scores are lower than those of Lasso Model.**"
   ]
  },
  {
   "cell_type": "markdown",
   "metadata": {},
   "source": [
    "#### Ridge Regression\n",
    "- For Ridge regression, the best alpha is equal to 3.15874, which has the lowest MAE score of 0.09307(Test).\n",
    "- From the graph above, the MAE score of test set increases as the alpha value increases.\n",
    "- Fitting model with 20% of data (test set), our Ridge model has the MAE of 0.1016 and the RMSE of 0.1465.\n",
    "- Both RMSE and MAE indicates how well of our model can explain the overall data, the the lower error is better"
   ]
  },
  {
   "cell_type": "markdown",
   "metadata": {},
   "source": [
    "#### Lasso Regression\n",
    "- For Lasso regression, the best alpha is equal to 0.0001, which has the lowest MAE score of 0.09319(Test).\n",
    "- From the graph above, the MAE score of test set increases significantly from alpha value = 0.0001 to 1.\n",
    "- Then the MASE score stays constant beyond alpha = 1 to 20.\n",
    "- Fitting model with 20% of data (test set), our Lasso model has the MAE of 0.1017 and the RMSE of 0.1468.\n",
    "- Both RMSE and MAE indicates how well of our model can explain the overall data, the the lower error is better."
   ]
  },
  {
   "cell_type": "markdown",
   "metadata": {},
   "source": [
    "## e.Next, perform regression using Stochastic Gradient Descent for regression. For this part, you should use the SGDRegessor module from sklearn.linear_model. Again"
   ]
  },
  {
   "cell_type": "code",
   "execution_count": 76,
   "metadata": {},
   "outputs": [],
   "source": [
    "x_var = np.array(Com_x)\n",
    "y_var = np.array(Com_y)"
   ]
  },
  {
   "cell_type": "markdown",
   "metadata": {},
   "source": [
    "### Split data: 20% test and 80% train\n",
    "### Standarize scale and perform GridSearch ( k=5 )"
   ]
  },
  {
   "cell_type": "code",
   "execution_count": 77,
   "metadata": {},
   "outputs": [
    {
     "name": "stdout",
     "output_type": "stream",
     "text": [
      "{'alpha': 0.0001, 'penalty': 'l2'}\n",
      "0.63703450223723\n"
     ]
    }
   ],
   "source": [
    "from sklearn.preprocessing import StandardScaler\n",
    "scaler = StandardScaler()\n",
    "scaler.fit(x_var)\n",
    "x_s = scaler.transform(x_var)\n",
    "#Split data to 20% test 80% train\n",
    "X_train, X_test, Y_train, Y_test = train_test_split(x_s, y_var, test_size=0.2, random_state = 50)\n",
    "\n",
    "sgdreg = SGDRegressor()\n",
    "GridSerach = GridSearchCV(sgdreg,{'penalty': ['l2','l1'],'alpha': np.linspace(0.0001, 10, 100)}, cv=5, verbose=0)\n",
    "GridSerach.fit(X_train, Y_train)\n",
    "print(GridSerach.best_params_)\n",
    "print(GridSerach.best_score_)"
   ]
  },
  {
   "cell_type": "markdown",
   "metadata": {},
   "source": [
    "### From the GridSearch, the best parmeter is 'penalty': 'l2' and 'alpha': 0.0001\n",
    "### We will use these parameter in the SGDRegressor"
   ]
  },
  {
   "cell_type": "code",
   "execution_count": 78,
   "metadata": {},
   "outputs": [
    {
     "name": "stdout",
     "output_type": "stream",
     "text": [
      "Method: Stochastic Gradient Descent Regression\n",
      "RMSE on train: 0.125977\n",
      "RMSE on test:  0.145399\n",
      "MAE on train:  0.088846\n",
      "MAE on test:   0.101156\n"
     ]
    }
   ],
   "source": [
    "from sklearn.linear_model import ElasticNet, SGDRegressor \n",
    "\n",
    "sgdreg=SGDRegressor(penalty='l2', alpha=0.0001, n_iter=200)\n",
    "# Calculate the RMSE for fitting a single model\n",
    "#For train model\n",
    "sgdreg.fit(X_train,Y_train)\n",
    "p_train = sgdreg.predict(X_train)\n",
    "err_train = p_train-Y_train\n",
    "total_error_train = np.dot(err_train,err_train)\n",
    "rmse_train = np.sqrt(total_error_train/len(p_train))\n",
    "MAE_train = mean_absolute_error(Y_train, p_train)\n",
    "\n",
    "#For test model\n",
    "sgdreg.fit(X_train,Y_train)\n",
    "p_test = sgdreg.predict(X_test)\n",
    "e_test = p_test-Y_test\n",
    "xval_err_test = np.dot(e_test,e_test)\n",
    "rmse_test = np.sqrt(xval_err_test/len(p_test))\n",
    "MAE_test = mean_absolute_error(Y_test, p_test)\n",
    "\n",
    "method_name = 'Stochastic Gradient Descent Regression'\n",
    "print('Method: %s' %method_name)  \n",
    "print('RMSE on train: %f' %rmse_train)\n",
    "print('RMSE on test:  %f' %rmse_test)  \n",
    "print('MAE on train:  %f' %MAE_train)\n",
    "print('MAE on test:   %f' %MAE_test) "
   ]
  },
  {
   "cell_type": "code",
   "execution_count": 79,
   "metadata": {},
   "outputs": [
    {
     "name": "stdout",
     "output_type": "stream",
     "text": [
      "parameter  parameter value    MAE Score(Train)     MAE Score(Test)         RMSE(Train)      RMSE(Test)\n",
      "l1_ratio:            0.00000             0.09435             0.09767             0.13264             0.13762\n",
      "l1_ratio:            0.05263             0.09295             0.09697             0.13150             0.13792\n",
      "l1_ratio:            0.10526             0.09303             0.09831             0.13068             0.13811\n",
      "l1_ratio:            0.15789             0.09345             0.09758             0.13155             0.13731\n",
      "l1_ratio:            0.21053             0.09265             0.09835             0.13105             0.13844\n",
      "l1_ratio:            0.26316             0.09262             0.09766             0.13041             0.13722\n",
      "l1_ratio:            0.31579             0.09102             0.09450             0.12988             0.13550\n",
      "l1_ratio:            0.36842             0.09356             0.09767             0.13134             0.13827\n",
      "l1_ratio:            0.42105             0.09284             0.09539             0.13123             0.13564\n",
      "l1_ratio:            0.47368             0.09211             0.09533             0.13033             0.13514\n",
      "l1_ratio:            0.52632             0.09224             0.09589             0.13061             0.13552\n",
      "l1_ratio:            0.57895             0.09249             0.09645             0.13063             0.13508\n",
      "l1_ratio:            0.63158             0.09217             0.09671             0.13068             0.13743\n",
      "l1_ratio:            0.68421             0.09333             0.09759             0.13211             0.13851\n",
      "l1_ratio:            0.73684             0.09217             0.09713             0.13087             0.13755\n",
      "l1_ratio:            0.78947             0.09209             0.09590             0.12971             0.13556\n",
      "l1_ratio:            0.84211             0.09176             0.09815             0.13076             0.13924\n",
      "l1_ratio:            0.89474             0.09072             0.09529             0.12908             0.13522\n",
      "l1_ratio:            0.94737             0.09262             0.09812             0.13135             0.13954\n",
      "l1_ratio:            1.00000             0.09286             0.09887             0.13116             0.13895\n"
     ]
    },
    {
     "data": {
      "text/plain": [
       "(array([0.09, 0.09, 0.09, 0.09, 0.09, 0.09, 0.09, 0.09, 0.09, 0.09, 0.09, 0.09,\n",
       "        0.09, 0.09, 0.09, 0.09, 0.09, 0.09, 0.09, 0.09]),\n",
       " array([0.1 , 0.1 , 0.1 , 0.1 , 0.1 , 0.1 , 0.09, 0.1 , 0.1 , 0.1 , 0.1 , 0.1 ,\n",
       "        0.1 , 0.1 , 0.1 , 0.1 , 0.1 , 0.1 , 0.1 , 0.1 ]))"
      ]
     },
     "execution_count": 79,
     "metadata": {},
     "output_type": "execute_result"
    },
    {
     "data": {
      "image/png": "[encoded data removed]",
      "text/plain": [
       "<Figure size 432x288 with 1 Axes>"
      ]
     },
     "metadata": {
      "needs_background": "light"
     },
     "output_type": "display_data"
    }
   ],
   "source": [
    "l1_parameter = np.linspace(0.0,1.0, 20)\n",
    "l1_parameter = np.array([float(l) for l in l1_parameter])\n",
    "sgd = SGDRegressor(penalty='elasticnet')\n",
    "best_params(X_train, Y_train, sgd, \"l1_ratio\" ,l1_parameter, 5)         "
   ]
  },
  {
   "cell_type": "markdown",
   "metadata": {},
   "source": [
    "#### From the graph above, the MAE score of train and test is relatively volatile as the l1_ratio value increases. The best l1_ratio for test set would be 0.57895 with the lowest MAE and RMSE for test set."
   ]
  },
  {
   "cell_type": "markdown",
   "metadata": {},
   "source": [
    "#### Fitting model with the best l1_ratio = 0.89474"
   ]
  },
  {
   "cell_type": "code",
   "execution_count": 80,
   "metadata": {},
   "outputs": [
    {
     "name": "stdout",
     "output_type": "stream",
     "text": [
      "SGD Regression\n",
      "Mean absolute error on test data: 0.10499476\n",
      "RMSE error on test data: 0.15328173\n"
     ]
    }
   ],
   "source": [
    "sgd_model = SGDRegressor(penalty='elasticnet', l1_ratio=0.89474)\n",
    "sgd_model.fit(X_train, Y_train)\n",
    "pred_Y = sgd_model.predict(X_test)\n",
    "err = pred_Y-Y_test\n",
    "total_error = np.dot(err,err)\n",
    "RMSEScore_sgd = np.sqrt(total_error/len(pred_Y))\n",
    "MAEScore_sgd = mean_absolute_error(Y_test, pred_Y)\n",
    "print (\"SGD Regression\")\n",
    "print('Mean absolute error on test data: %0.8f' % MAEScore_sgd)\n",
    "print('RMSE error on test data: %0.8f' % RMSEScore_sgd)"
   ]
  },
  {
   "cell_type": "markdown",
   "metadata": {},
   "source": [
    "### Summary of Observations"
   ]
  },
  {
   "cell_type": "markdown",
   "metadata": {},
   "source": [
    "#### From Part b. : Standard Linear Regression\n",
    "- The RMSE from full training data is 0.128890\n",
    "- The RMSE from 10 K-folds is 0.135861"
   ]
  },
  {
   "cell_type": "markdown",
   "metadata": {},
   "source": [
    "#### From Part d. : Ridge Regression\n",
    "- Mean absolute error on test data: 0.101647\n",
    "- RMSE error on test data (20%): 0.1465825"
   ]
  },
  {
   "cell_type": "markdown",
   "metadata": {},
   "source": [
    "#### From Part d. : Lasso Regression\n",
    "- Mean absolute error on test data: 0.1017922\n",
    "- RMSE error on test data (20%): 0.14685379"
   ]
  },
  {
   "cell_type": "markdown",
   "metadata": {},
   "source": [
    "#### From Part e. : SGDRegessor\n",
    "- RMSE on train: 0.125977 (GridSearch)\n",
    "- RMSE on test: 0.145399 (GridSearch)\n",
    "- RMSE error on test data (20%): 0.14899100 (model selection l1_ratio = 0.89)"
   ]
  },
  {
   "cell_type": "markdown",
   "metadata": {},
   "source": [
    "All models performs relatively well and in a similar fashion, which the RMSE from SGD regressor is slightly higher than that of Lasso and Ridge Regression. From the GridSearch, the best ratio {'penalty': 'l2', 'alpha': 0.0001} From the graph above, the MAE score of train and test is relatively volatile as the l1_ratio value increases. The best l1_ratio for train and test set would be 0.895 with the lowest MAE. From the model selection (l1_ratio = 0.895), The RMSE score is 0.148991 comparing to other models, this model has the highest RMSE score, so it relatively underperforms."
   ]
  },
  {
   "cell_type": "markdown",
   "metadata": {},
   "source": [
    "## Problem 2 Automatic Document Clustering [ Dataset : newsgroups5.zip ]"
   ]
  },
  {
   "cell_type": "code",
   "execution_count": 82,
   "metadata": {},
   "outputs": [],
   "source": [
    "import os\n",
    "os.chdir('C:\\\\Users\\\\Amy\\\\Desktop\\\\dsc478\\\\newsgroups5')"
   ]
  },
  {
   "cell_type": "code",
   "execution_count": 83,
   "metadata": {},
   "outputs": [],
   "source": [
    "import numpy as np\n",
    "import pylab as plt\n",
    "import pandas as pd\n",
    "from sklearn.cluster import KMeans"
   ]
  },
  {
   "cell_type": "markdown",
   "metadata": {},
   "source": [
    "## a. Create your own distance function that, instead of using Euclidean distance, uses Cosine similarity. This is the distance function you will use to pass to the kMeans function."
   ]
  },
  {
   "cell_type": "markdown",
   "metadata": {},
   "source": [
    "#### Notes:\n",
    "- We will use kMeans and Random_centroid functions from Ch 10 in part C\n",
    "- So, D and x is are array inputs from Kmeans function in part C"
   ]
  },
  {
   "cell_type": "code",
   "execution_count": 84,
   "metadata": {},
   "outputs": [],
   "source": [
    "def Cos_Sim(x,D):# where D and x is are array inputs from Kmeans function in part C\n",
    "    \n",
    "    normX = np.linalg.norm(x)\n",
    "    normD = np.linalg.norm(D)\n",
    "    CosSim = np.dot(D,x)/(normD * normX )\n",
    "    dist = 1 - CosSim\n",
    "    return dist\n",
    "            "
   ]
  },
  {
   "cell_type": "markdown",
   "metadata": {},
   "source": [
    "## b. Load the data set [Note: the data matrix provided has terms as rows and documents as columns. Since you will be clustering documents, you'll need to take the transpose of this matrix so that your main data matrix is a document x term matrix. In Numpy, you may use the \".T\" operation to obtain the transpose.] Then, split the data set (the document x term matrix) and set aside 20% for later use (see below). Use the 80% segment for clustering in the next part. The 20% portion must be a random subset."
   ]
  },
  {
   "cell_type": "code",
   "execution_count": 85,
   "metadata": {},
   "outputs": [],
   "source": [
    "Docs= np.loadtxt(\"matrix.txt\",dtype=int, delimiter=',')\n",
    "Docs_DT = pd.DataFrame(Docs.T)\n",
    "Classes = np.loadtxt(\"classes.txt\", dtype=int, delimiter=' ',skiprows=1)\n",
    "Classes_DF = pd.DataFrame(Classes)\n",
    "Classes_DF = Classes_DF.drop(Classes_DF.columns[0], axis=1)\n",
    "Label = np.loadtxt(\"terms.txt\", dtype=str, delimiter='\\t')\n",
    "Label_DF = np.array(pd.DataFrame(Label))"
   ]
  },
  {
   "cell_type": "code",
   "execution_count": 86,
   "metadata": {},
   "outputs": [
    {
     "data": {
      "text/html": [
       "<div>\n",
       "<style scoped>\n",
       "    .dataframe tbody tr th:only-of-type {\n",
       "        vertical-align: middle;\n",
       "    }\n",
       "\n",
       "    .dataframe tbody tr th {\n",
       "        vertical-align: top;\n",
       "    }\n",
       "\n",
       "    .dataframe thead th {\n",
       "        text-align: right;\n",
       "    }\n",
       "</style>\n",
       "<table border=\"1\" class=\"dataframe\">\n",
       "  <thead>\n",
       "    <tr style=\"text-align: right;\">\n",
       "      <th></th>\n",
       "      <th>0</th>\n",
       "      <th>1</th>\n",
       "      <th>2</th>\n",
       "      <th>3</th>\n",
       "      <th>4</th>\n",
       "      <th>5</th>\n",
       "      <th>6</th>\n",
       "      <th>7</th>\n",
       "      <th>8</th>\n",
       "      <th>9</th>\n",
       "      <th>...</th>\n",
       "      <th>9318</th>\n",
       "      <th>9319</th>\n",
       "      <th>9320</th>\n",
       "      <th>9321</th>\n",
       "      <th>9322</th>\n",
       "      <th>9323</th>\n",
       "      <th>9324</th>\n",
       "      <th>9325</th>\n",
       "      <th>9326</th>\n",
       "      <th>9327</th>\n",
       "    </tr>\n",
       "  </thead>\n",
       "  <tbody>\n",
       "    <tr>\n",
       "      <th>0</th>\n",
       "      <td>0</td>\n",
       "      <td>0</td>\n",
       "      <td>0</td>\n",
       "      <td>0</td>\n",
       "      <td>0</td>\n",
       "      <td>0</td>\n",
       "      <td>0</td>\n",
       "      <td>0</td>\n",
       "      <td>0</td>\n",
       "      <td>0</td>\n",
       "      <td>...</td>\n",
       "      <td>0</td>\n",
       "      <td>0</td>\n",
       "      <td>0</td>\n",
       "      <td>0</td>\n",
       "      <td>0</td>\n",
       "      <td>0</td>\n",
       "      <td>0</td>\n",
       "      <td>0</td>\n",
       "      <td>0</td>\n",
       "      <td>0</td>\n",
       "    </tr>\n",
       "    <tr>\n",
       "      <th>1</th>\n",
       "      <td>0</td>\n",
       "      <td>0</td>\n",
       "      <td>0</td>\n",
       "      <td>0</td>\n",
       "      <td>0</td>\n",
       "      <td>0</td>\n",
       "      <td>0</td>\n",
       "      <td>0</td>\n",
       "      <td>0</td>\n",
       "      <td>1</td>\n",
       "      <td>...</td>\n",
       "      <td>0</td>\n",
       "      <td>0</td>\n",
       "      <td>0</td>\n",
       "      <td>0</td>\n",
       "      <td>0</td>\n",
       "      <td>0</td>\n",
       "      <td>0</td>\n",
       "      <td>0</td>\n",
       "      <td>0</td>\n",
       "      <td>0</td>\n",
       "    </tr>\n",
       "    <tr>\n",
       "      <th>2</th>\n",
       "      <td>0</td>\n",
       "      <td>0</td>\n",
       "      <td>0</td>\n",
       "      <td>0</td>\n",
       "      <td>0</td>\n",
       "      <td>0</td>\n",
       "      <td>0</td>\n",
       "      <td>0</td>\n",
       "      <td>0</td>\n",
       "      <td>0</td>\n",
       "      <td>...</td>\n",
       "      <td>0</td>\n",
       "      <td>0</td>\n",
       "      <td>0</td>\n",
       "      <td>0</td>\n",
       "      <td>0</td>\n",
       "      <td>0</td>\n",
       "      <td>0</td>\n",
       "      <td>0</td>\n",
       "      <td>0</td>\n",
       "      <td>0</td>\n",
       "    </tr>\n",
       "    <tr>\n",
       "      <th>3</th>\n",
       "      <td>0</td>\n",
       "      <td>0</td>\n",
       "      <td>0</td>\n",
       "      <td>0</td>\n",
       "      <td>0</td>\n",
       "      <td>0</td>\n",
       "      <td>0</td>\n",
       "      <td>0</td>\n",
       "      <td>0</td>\n",
       "      <td>0</td>\n",
       "      <td>...</td>\n",
       "      <td>0</td>\n",
       "      <td>0</td>\n",
       "      <td>0</td>\n",
       "      <td>0</td>\n",
       "      <td>0</td>\n",
       "      <td>0</td>\n",
       "      <td>0</td>\n",
       "      <td>0</td>\n",
       "      <td>0</td>\n",
       "      <td>0</td>\n",
       "    </tr>\n",
       "    <tr>\n",
       "      <th>4</th>\n",
       "      <td>0</td>\n",
       "      <td>0</td>\n",
       "      <td>0</td>\n",
       "      <td>0</td>\n",
       "      <td>0</td>\n",
       "      <td>0</td>\n",
       "      <td>0</td>\n",
       "      <td>0</td>\n",
       "      <td>0</td>\n",
       "      <td>0</td>\n",
       "      <td>...</td>\n",
       "      <td>0</td>\n",
       "      <td>0</td>\n",
       "      <td>0</td>\n",
       "      <td>0</td>\n",
       "      <td>0</td>\n",
       "      <td>0</td>\n",
       "      <td>0</td>\n",
       "      <td>0</td>\n",
       "      <td>0</td>\n",
       "      <td>0</td>\n",
       "    </tr>\n",
       "  </tbody>\n",
       "</table>\n",
       "<p>5 rows × 9328 columns</p>\n",
       "</div>"
      ],
      "text/plain": [
       "   0     1     2     3     4     5     6     7     8     9     ...   9318  \\\n",
       "0     0     0     0     0     0     0     0     0     0     0  ...      0   \n",
       "1     0     0     0     0     0     0     0     0     0     1  ...      0   \n",
       "2     0     0     0     0     0     0     0     0     0     0  ...      0   \n",
       "3     0     0     0     0     0     0     0     0     0     0  ...      0   \n",
       "4     0     0     0     0     0     0     0     0     0     0  ...      0   \n",
       "\n",
       "   9319  9320  9321  9322  9323  9324  9325  9326  9327  \n",
       "0     0     0     0     0     0     0     0     0     0  \n",
       "1     0     0     0     0     0     0     0     0     0  \n",
       "2     0     0     0     0     0     0     0     0     0  \n",
       "3     0     0     0     0     0     0     0     0     0  \n",
       "4     0     0     0     0     0     0     0     0     0  \n",
       "\n",
       "[5 rows x 9328 columns]"
      ]
     },
     "execution_count": 86,
     "metadata": {},
     "output_type": "execute_result"
    }
   ],
   "source": [
    "Docs_DT.head(5)"
   ]
  },
  {
   "cell_type": "code",
   "execution_count": 87,
   "metadata": {},
   "outputs": [
    {
     "data": {
      "text/html": [
       "<div>\n",
       "<style scoped>\n",
       "    .dataframe tbody tr th:only-of-type {\n",
       "        vertical-align: middle;\n",
       "    }\n",
       "\n",
       "    .dataframe tbody tr th {\n",
       "        vertical-align: top;\n",
       "    }\n",
       "\n",
       "    .dataframe thead th {\n",
       "        text-align: right;\n",
       "    }\n",
       "</style>\n",
       "<table border=\"1\" class=\"dataframe\">\n",
       "  <thead>\n",
       "    <tr style=\"text-align: right;\">\n",
       "      <th></th>\n",
       "      <th>1</th>\n",
       "    </tr>\n",
       "  </thead>\n",
       "  <tbody>\n",
       "    <tr>\n",
       "      <th>0</th>\n",
       "      <td>0</td>\n",
       "    </tr>\n",
       "    <tr>\n",
       "      <th>1</th>\n",
       "      <td>1</td>\n",
       "    </tr>\n",
       "    <tr>\n",
       "      <th>2</th>\n",
       "      <td>1</td>\n",
       "    </tr>\n",
       "    <tr>\n",
       "      <th>3</th>\n",
       "      <td>1</td>\n",
       "    </tr>\n",
       "    <tr>\n",
       "      <th>4</th>\n",
       "      <td>2</td>\n",
       "    </tr>\n",
       "  </tbody>\n",
       "</table>\n",
       "</div>"
      ],
      "text/plain": [
       "   1\n",
       "0  0\n",
       "1  1\n",
       "2  1\n",
       "3  1\n",
       "4  2"
      ]
     },
     "execution_count": 87,
     "metadata": {},
     "output_type": "execute_result"
    }
   ],
   "source": [
    "Classes_DF.head()"
   ]
  },
  {
   "cell_type": "code",
   "execution_count": 88,
   "metadata": {},
   "outputs": [
    {
     "data": {
      "text/plain": [
       "array([['aa'],\n",
       "       ['aargh'],\n",
       "       ['aaron'],\n",
       "       ...,\n",
       "       ['zw'],\n",
       "       ['zx'],\n",
       "       ['zz']], dtype=object)"
      ]
     },
     "execution_count": 88,
     "metadata": {},
     "output_type": "execute_result"
    }
   ],
   "source": [
    "Label_DF"
   ]
  },
  {
   "cell_type": "markdown",
   "metadata": {},
   "source": [
    "### Split data into 20% test and 80% train"
   ]
  },
  {
   "cell_type": "code",
   "execution_count": 91,
   "metadata": {},
   "outputs": [
    {
     "name": "stdout",
     "output_type": "stream",
     "text": [
      "(2000, 9328)\n",
      "(500, 9328)\n",
      "(2000, 1)\n",
      "(500, 1)\n"
     ]
    }
   ],
   "source": [
    " #Split data into 20% test, 80% train\n",
    "from sklearn.model_selection import train_test_split\n",
    "Docs_train_DT, Docs_test_DT, Classes_train, Classes_test = train_test_split(Docs_DT, Classes_DF, test_size=0.2, random_state=50)\n",
    "print (Docs_train_DT.shape)\n",
    "print (Docs_test_DT.shape)\n",
    "print (Classes_train.shape)\n",
    "print (Classes_test.shape)"
   ]
  },
  {
   "cell_type": "markdown",
   "metadata": {},
   "source": [
    "## c. Perform Kmeans clustering on the training data. Write a function to display the top N terms in each cluster along with the cluster DF values for each term and the size of the cluster. "
   ]
  },
  {
   "cell_type": "code",
   "execution_count": 93,
   "metadata": {},
   "outputs": [
    {
     "name": "stdout",
     "output_type": "stream",
     "text": [
      "[[7.8  7.8  7.8  ... 7.8  7.8  7.8 ]\n",
      " [9.38 9.38 9.38 ... 9.38 9.38 9.38]\n",
      " [6.72 6.72 6.72 ... 6.72 6.72 6.72]\n",
      " ...\n",
      " [9.38 9.38 9.38 ... 9.38 9.38 9.38]\n",
      " [5.76 5.76 5.76 ... 5.76 5.76 5.76]\n",
      " [3.8  3.8  3.8  ... 3.8  3.8  3.8 ]]\n"
     ]
    }
   ],
   "source": [
    "Docs_DT = Docs_train_DT\n",
    "Docs_TD = Docs_DT.T\n",
    "Docs_DT_test = Docs_test_DT\n",
    "Docs_TD_test = Docs_DT_test.T\n",
    "\n",
    "numTerms= Docs_TD.shape[0]\n",
    "NDocs = Docs_TD.shape[1]\n",
    "termFreqs = Docs_train_DT.sum(axis=1) \n",
    "DF_Train = np.array([(Docs_TD!=0).sum(1)]).T\n",
    "\n",
    "# Create a matrix with all entries = NDocs\n",
    "NMatrix = np.ones(np.shape(Docs_TD), dtype=float)*NDocs\n",
    "#Find IDF\n",
    "IDF = np.log2(np.divide(NMatrix, DF_Train))\n",
    "print (IDF[0:10,])"
   ]
  },
  {
   "cell_type": "markdown",
   "metadata": {},
   "source": [
    "##### Notes:\n",
    "- We need to perform TFxIDF normalization on the training set seperately and then use the IDF-vector from the training set to calculate the TF-IDF vectors of the test set. Test set is small and has the purpose for testing the model not testing the IDF performance, so we shouldn't do TFxIDF sepeartely for the test set\n",
    "- We will replace the small value, large value, and NaN of IDF metric with 0."
   ]
  },
  {
   "cell_type": "code",
   "execution_count": 96,
   "metadata": {},
   "outputs": [
    {
     "name": "stdout",
     "output_type": "stream",
     "text": [
      "TFxIDF Train set \n",
      "          SHAPE  :  (2000, 9328)\n",
      "          MIN    :  0.0\n",
      "TFxIDF Test set \n",
      "          SHAPE  :  (500, 9328)\n",
      "          MIN    :  0.0\n"
     ]
    }
   ],
   "source": [
    "from numpy import inf, isnan\n",
    "\n",
    "#Train set (80% = 2000 values)\n",
    "tdTFxIDF_train = np.array(Docs_TD * IDF)\n",
    "dtTFxIDF_train = tdTFxIDF_train.T\n",
    "dtTFxIDF_train[np.isnan(dtTFxIDF_train)] = 0\n",
    "dtTFxIDF_train[dtTFxIDF_train == inf] = 0\n",
    "dtTFxIDF_train[dtTFxIDF_train == -inf] = 0\n",
    "print (\"TFxIDF Train set \")\n",
    "print (\"          SHAPE  : \", dtTFxIDF_train.shape)\n",
    "print (\"          MIN    : \",dtTFxIDF_train.min())\n",
    "\n",
    "#Test set (20% = 5000 values)\n",
    "tdTFxIDF_test = np.array(Docs_TD_test * IDF[:,:500])\n",
    "dtTFxIDF_test = tdTFxIDF_test.T\n",
    "dtTFxIDF_test[np.isnan(dtTFxIDF_test)] = 0\n",
    "dtTFxIDF_test[dtTFxIDF_test == inf] = 0\n",
    "dtTFxIDF_test[dtTFxIDF_test == -inf] = 0\n",
    "print (\"TFxIDF Test set \")\n",
    "print (\"          SHAPE  : \", dtTFxIDF_test.shape)\n",
    "print (\"          MIN    : \", dtTFxIDF_test.min())"
   ]
  },
  {
   "cell_type": "markdown",
   "metadata": {},
   "source": [
    "### <font color = blue>Notes:</font>\n",
    "##### <font color = blue>We will use the metric \"dtTFxIDF_train\" for clustering</font>\n",
    "##### <font color = blue>The following functions randCent and kMeans are from the ML book Ch. 10 kMeans.py</font>"
   ]
  },
  {
   "cell_type": "markdown",
   "metadata": {},
   "source": [
    "### <font color = red>The imported module from kMeans.py doesn't work, because  I use different version of Python</font>\n",
    "### <font color = red>so, I copied and pasted the functions to this notebook.</font>"
   ]
  },
  {
   "cell_type": "code",
   "execution_count": 105,
   "metadata": {},
   "outputs": [],
   "source": [
    "#import kMeans.py doesn't work, so copy the whole codes\n",
    "#import kMeans as kmeans\n",
    "from numpy import *"
   ]
  },
  {
   "cell_type": "code",
   "execution_count": 98,
   "metadata": {},
   "outputs": [],
   "source": [
    "#Create centroids function modified from (Ch 10)\n",
    "def randCent(dataSet, k):\n",
    "    n = shape(dataSet)[1]\n",
    "    centroids = zeros((k,n), dtype=float)\n",
    "    for j in range(n): #create random cluster centers\n",
    "        minJ = min(dataSet[:,j])\n",
    "        rangeJ = float(max(dataSet[:,j]) - minJ)\n",
    "        centroids[:,j] = minJ + rangeJ * random.rand(k)\n",
    "    return centroids "
   ]
  },
  {
   "cell_type": "code",
   "execution_count": 99,
   "metadata": {},
   "outputs": [
    {
     "data": {
      "text/plain": [
       "array([[ 7.98,  2.46, 23.21, ..., 18.5 , 34.34, 17.6 ],\n",
       "       [ 0.2 ,  4.74, 12.13, ..., 33.58, 20.06,  7.36]])"
      ]
     },
     "execution_count": 99,
     "metadata": {},
     "output_type": "execute_result"
    }
   ],
   "source": [
    "#Test function with k = 2 centroids\n",
    "randCent(dtTFxIDF_train,2)"
   ]
  },
  {
   "cell_type": "code",
   "execution_count": 100,
   "metadata": {},
   "outputs": [],
   "source": [
    "def kMeans(dataSet, k, distMeas=Cos_Sim, createCent=randCent):\n",
    "    m = shape(dataSet)[0]\n",
    "    clusterAssment = zeros((m,2))#create mat to assign data points \n",
    "                                      #to a centroid, also holds SE of each point\n",
    "    centroids = createCent(dataSet, k)\n",
    "    clusterChanged = True\n",
    "    while clusterChanged:\n",
    "        clusterChanged = False\n",
    "        for i in range(m):#for each data point assign it to the closest centroid\n",
    "            minDist = inf; minIndex = -1\n",
    "            for j in range(k):\n",
    "                distJI = distMeas(centroids[j,:],dataSet[i,:])\n",
    "                if distJI < minDist:\n",
    "                    minDist = distJI; minIndex = j\n",
    "            if clusterAssment[i,0] != minIndex: clusterChanged = True\n",
    "            clusterAssment[i,:] = minIndex,minDist**2\n",
    "        # print centroids\n",
    "        for cent in range(k):#recalculate centroids\n",
    "            ptsInClust = dataSet[nonzero(clusterAssment[:,0]==cent)[0]] #get all the point in this cluster - Note: this was incorrect in the original distribution.\n",
    "            if(len(ptsInClust)!=0):\n",
    "                centroids[cent,:] = mean(ptsInClust, axis=0) #assign centroid to mean - Note condition was added 10/28/2013\n",
    "    return centroids, clusterAssment"
   ]
  },
  {
   "cell_type": "markdown",
   "metadata": {},
   "source": [
    "## The findTerms function prints top N terms with high frequency in each cluster"
   ]
  },
  {
   "cell_type": "code",
   "execution_count": 106,
   "metadata": {},
   "outputs": [],
   "source": [
    "#####Function returns the top N term of each cluster\n",
    "import numpy as np\n",
    "from numpy import *\n",
    "def findTerms(Data, k, N):\n",
    "    #MatData = np.mat(Data)\n",
    "    myCentroids, clustAssing = kMeans(Data,k)\n",
    "    for i in range(0,k,1):\n",
    "        print(\"CLUSTER: %d   results\" %(i))\n",
    "        clusterNum = clustAssing[:,0]#Clustering Number\n",
    "        clusterDT = Data[clusterNum == i]#Create Matrix for each cluster (DT)\n",
    "        numDocs =  clusterDT.shape[0]#add row of each cluster Matrix\n",
    "        print (\"Number of documents in cluster : %8d   \" %(numDocs))\n",
    "        DocsFreq = np.array([(clusterDT.T!=0).sum(1)]).T\n",
    "        freqPercent = DocsFreq/float(numDocs)\n",
    "        Results = np.concatenate((Label_DF, DocsFreq, freqPercent), axis=1)#each element = [percentFreq, freq, term]\n",
    "        sortedResults = np.flip(Results[Results[:,-1].argsort()])#Sorted by decesending order\n",
    "        print (\"        Word      DF    PercentofDocs\")\n",
    "        for i, result in enumerate(sortedResults[:N]):\n",
    "            term = result[2]\n",
    "            DF = result[1]\n",
    "            freqPer = (result[0]*100)\n",
    "            print (\"%12s   %5d   %14.6f  \"  %(term, DF , freqPer)) \n",
    "        print (\"-----------------------------------------------------\")\n",
    "    return myCentroids, clustAssing\n"
   ]
  },
  {
   "cell_type": "code",
   "execution_count": 107,
   "metadata": {},
   "outputs": [
    {
     "name": "stdout",
     "output_type": "stream",
     "text": [
      "CLUSTER: 0   results\n",
      "Number of documents in cluster :      811   \n",
      "        Word      DF    PercentofDocs\n",
      "       write     476        58.692972  \n",
      "          on     380        46.855734  \n",
      "      articl     353        43.526510  \n",
      "        know     291        35.881628  \n",
      "       think     287        35.388409  \n",
      "        just     272        33.538841  \n",
      "          go     270        33.292232  \n",
      "        time     251        30.949445  \n",
      "         see     250        30.826141  \n",
      "       peopl     249        30.702836  \n",
      "-----------------------------------------------------\n",
      "CLUSTER: 1   results\n",
      "Number of documents in cluster :      770   \n",
      "        Word      DF    PercentofDocs\n",
      "      window     290        37.662338  \n",
      "        sale     232        30.129870  \n",
      "       thank     219        28.441558  \n",
      "       pleas     218        28.311688  \n",
      "       email     214        27.792208  \n",
      "       write     210        27.272727  \n",
      "          on     206        26.753247  \n",
      "         get     198        25.714286  \n",
      "        work     181        23.506494  \n",
      "        know     167        21.688312  \n",
      "-----------------------------------------------------\n",
      "CLUSTER: 2   results\n",
      "Number of documents in cluster :      403   \n",
      "        Word      DF    PercentofDocs\n",
      "       write     264        65.508685  \n",
      "      articl     202        50.124069  \n",
      "     clipper     199        49.379653  \n",
      "         kei     191        47.394541  \n",
      "     encrypt     184        45.657568  \n",
      "          on     169        41.935484  \n",
      "        chip     161        39.950372  \n",
      "         get     142        35.235732  \n",
      "      govern     139        34.491315  \n",
      "        just     134        33.250620  \n",
      "-----------------------------------------------------\n",
      "CLUSTER: 3   results\n",
      "Number of documents in cluster :       12   \n",
      "        Word      DF    PercentofDocs\n",
      "          mq       8        66.666667  \n",
      "          ws       8        66.666667  \n",
      "          mx       8        66.666667  \n",
      "          cd       8        66.666667  \n",
      "          mo       8        66.666667  \n",
      "          gm       8        66.666667  \n",
      "          mm       8        66.666667  \n",
      "          mi       8        66.666667  \n",
      "          ma       8        66.666667  \n",
      "          ng       8        66.666667  \n",
      "-----------------------------------------------------\n",
      "CLUSTER: 4   results\n",
      "Number of documents in cluster :        4   \n",
      "        Word      DF    PercentofDocs\n",
      "          ax       4       100.000000  \n",
      "        bhjn       3        75.000000  \n",
      "         zbj       3        75.000000  \n",
      "         bwm       3        75.000000  \n",
      "      wwizkn       3        75.000000  \n",
      "        wwiz       3        75.000000  \n",
      "salmonusdedu       3        75.000000  \n",
      "          mi       3        75.000000  \n",
      "          wm       3        75.000000  \n",
      "         giz       3        75.000000  \n",
      "-----------------------------------------------------\n"
     ]
    }
   ],
   "source": [
    "centroids, clustAssing = findTerms(dtTFxIDF_train, 5, 10)"
   ]
  },
  {
   "cell_type": "markdown",
   "metadata": {},
   "source": [
    "## d. Using the cluster assignments from Kmeans clustering, compare your 5 clusters to the 5 pre-assigned classes by computing the Completeness and Homogeneity values."
   ]
  },
  {
   "cell_type": "code",
   "execution_count": 108,
   "metadata": {},
   "outputs": [
    {
     "data": {
      "text/html": [
       "<div>\n",
       "<style scoped>\n",
       "    .dataframe tbody tr th:only-of-type {\n",
       "        vertical-align: middle;\n",
       "    }\n",
       "\n",
       "    .dataframe tbody tr th {\n",
       "        vertical-align: top;\n",
       "    }\n",
       "\n",
       "    .dataframe thead th {\n",
       "        text-align: right;\n",
       "    }\n",
       "</style>\n",
       "<table border=\"1\" class=\"dataframe\">\n",
       "  <thead>\n",
       "    <tr style=\"text-align: right;\">\n",
       "      <th></th>\n",
       "      <th>2316</th>\n",
       "      <th>2146</th>\n",
       "      <th>398</th>\n",
       "      <th>215</th>\n",
       "      <th>1730</th>\n",
       "      <th>1662</th>\n",
       "      <th>912</th>\n",
       "      <th>1019</th>\n",
       "      <th>374</th>\n",
       "      <th>1070</th>\n",
       "      <th>...</th>\n",
       "      <th>2143</th>\n",
       "      <th>70</th>\n",
       "      <th>2277</th>\n",
       "      <th>2118</th>\n",
       "      <th>132</th>\n",
       "      <th>2014</th>\n",
       "      <th>2157</th>\n",
       "      <th>1931</th>\n",
       "      <th>1504</th>\n",
       "      <th>1712</th>\n",
       "    </tr>\n",
       "  </thead>\n",
       "  <tbody>\n",
       "    <tr>\n",
       "      <th>1</th>\n",
       "      <td>2</td>\n",
       "      <td>4</td>\n",
       "      <td>0</td>\n",
       "      <td>1</td>\n",
       "      <td>4</td>\n",
       "      <td>0</td>\n",
       "      <td>2</td>\n",
       "      <td>1</td>\n",
       "      <td>4</td>\n",
       "      <td>4</td>\n",
       "      <td>...</td>\n",
       "      <td>2</td>\n",
       "      <td>4</td>\n",
       "      <td>2</td>\n",
       "      <td>3</td>\n",
       "      <td>0</td>\n",
       "      <td>4</td>\n",
       "      <td>1</td>\n",
       "      <td>0</td>\n",
       "      <td>4</td>\n",
       "      <td>0</td>\n",
       "    </tr>\n",
       "  </tbody>\n",
       "</table>\n",
       "<p>1 rows × 2000 columns</p>\n",
       "</div>"
      ],
      "text/plain": [
       "   2316  2146  398   215   1730  1662  912   1019  374   1070  ...   2143  \\\n",
       "1     2     4     0     1     4     0     2     1     4     4  ...      2   \n",
       "\n",
       "   70    2277  2118  132   2014  2157  1931  1504  1712  \n",
       "1     4     2     3     0     4     1     0     4     0  \n",
       "\n",
       "[1 rows x 2000 columns]"
      ]
     },
     "execution_count": 108,
     "metadata": {},
     "output_type": "execute_result"
    }
   ],
   "source": [
    "Classes_train_T = Classes_train.T\n",
    "Classes_train_T"
   ]
  },
  {
   "cell_type": "code",
   "execution_count": 109,
   "metadata": {},
   "outputs": [
    {
     "data": {
      "text/plain": [
       "array([2, 4, 0, ..., 0, 4, 0])"
      ]
     },
     "execution_count": 109,
     "metadata": {},
     "output_type": "execute_result"
    }
   ],
   "source": [
    "Classes_train_T = np.array(Classes_train_T)[0]\n",
    "Classes_train_T"
   ]
  },
  {
   "cell_type": "code",
   "execution_count": 110,
   "metadata": {},
   "outputs": [
    {
     "data": {
      "text/plain": [
       "array([0, 1, 1, ..., 1, 1, 1])"
      ]
     },
     "execution_count": 110,
     "metadata": {},
     "output_type": "execute_result"
    }
   ],
   "source": [
    "clusterResults = clustAssing[:,0].astype(int) \n",
    "clusterResults "
   ]
  },
  {
   "cell_type": "code",
   "execution_count": 112,
   "metadata": {},
   "outputs": [
    {
     "name": "stdout",
     "output_type": "stream",
     "text": [
      "The completeness of 5 Clusters :  0.79187061\n",
      "The homogeneity of  5 Clusters :  0.54095119\n"
     ]
    }
   ],
   "source": [
    "from sklearn.metrics import completeness_score, homogeneity_score\n",
    "\n",
    "completeScore = completeness_score(Classes_train_T,clusterResults)\n",
    "homoScore = homogeneity_score(Classes_train_T,clusterResults)\n",
    "\n",
    "print ('The completeness of 5 Clusters :  %.8f' %completeScore)\n",
    "print ('The homogeneity of  5 Clusters :  %.8f' %homoScore)"
   ]
  },
  {
   "cell_type": "markdown",
   "metadata": {},
   "source": [
    "#### Summary\n",
    "- The completeness of 0.79187 is relative high, implying that majority samples of a single given class are assigned to the same cluster.\n",
    "- The homogeneity score of 0.5409 is moderately high, indicating that samples of a single class belong to a single cluster."
   ]
  },
  {
   "cell_type": "markdown",
   "metadata": {},
   "source": [
    "## e. Finally, using your cluster assignments as class labels, categorize each of the documents in the 20% set-aside data into each of the appropriate cluster. Your categorization should be based on Cosine similarity between each test document and cluster centroids. For each test document show the predicted class label as well as Cosine similarity to the corresponding cluster."
   ]
  },
  {
   "cell_type": "code",
   "execution_count": 113,
   "metadata": {},
   "outputs": [
    {
     "data": {
      "text/plain": [
       "array([[ 0.03,  0.03,  0.22, ...,  0.  ,  0.  ,  0.  ],\n",
       "       [ 0.04,  0.  ,  0.05, ...,  0.  ,  0.  ,  0.  ],\n",
       "       [ 0.  ,  0.  ,  0.  , ...,  0.  ,  0.  ,  0.  ],\n",
       "       [ 5.2 ,  0.  ,  0.  , ...,  8.3 ,  4.69, 11.21],\n",
       "       [ 0.  ,  0.  ,  0.  , ...,  0.  ,  0.  ,  0.  ]])"
      ]
     },
     "execution_count": 113,
     "metadata": {},
     "output_type": "execute_result"
    }
   ],
   "source": [
    "centroids"
   ]
  },
  {
   "cell_type": "code",
   "execution_count": 114,
   "metadata": {},
   "outputs": [
    {
     "data": {
      "text/plain": [
       "array([[0., 0., 0., ..., 0., 0., 0.],\n",
       "       [0., 0., 0., ..., 0., 0., 0.],\n",
       "       [0., 0., 0., ..., 0., 0., 0.],\n",
       "       ...,\n",
       "       [0., 0., 0., ..., 0., 0., 0.],\n",
       "       [0., 0., 0., ..., 0., 0., 0.],\n",
       "       [0., 0., 0., ..., 0., 0., 0.]])"
      ]
     },
     "execution_count": 114,
     "metadata": {},
     "output_type": "execute_result"
    }
   ],
   "source": [
    "dtTFxIDF_test"
   ]
  },
  {
   "cell_type": "markdown",
   "metadata": {},
   "source": [
    "### Notes: I wrote 2 new functions. \n",
    "####           1. Cos_Similarity( ) that take 2 array inputs and return Cosine Similarity (not distance)\n",
    "####           2. predict_Cluster( ) that take 2 array inputs and print Cosine Similarity and predicted clusture of each test doc."
   ]
  },
  {
   "cell_type": "code",
   "execution_count": 115,
   "metadata": {},
   "outputs": [],
   "source": [
    "def Cos_Similarity(x,D):#return Cosine Similarity not Distance  \n",
    "    normX = np.linalg.norm(x)\n",
    "    normD = np.linalg.norm(D)\n",
    "    CosSim = np.dot(D,x)/(normD * normX )\n",
    "    return CosSim"
   ]
  },
  {
   "cell_type": "code",
   "execution_count": 117,
   "metadata": {},
   "outputs": [],
   "source": [
    "def predict_Cluster(data, centroids, Measuredist=Cos_Similarity):\n",
    "    print (\" Index Doc.  Cluster 0   Cluster 1   Cluster 2   Cluster 3   Cluster 4    Predicted Class\")\n",
    "    index = 0\n",
    "    for row in data:#iterate each documents\n",
    "        cluster = 0 #0,1,2,3,4\n",
    "        cosSim = []\n",
    "        for centinCluster in centroids:\n",
    "            CosSimValue = Measuredist(row, centinCluster)\n",
    "            cosSim.append(CosSimValue)\n",
    "        pred_cluster = cosSim.index(max(cosSim))\n",
    "        print (\"%10d %11.5f %11.5f %11.5f %11.5f %11.5f %10d \" %(index, cosSim[0],cosSim[1],cosSim[2],cosSim[3],cosSim[4], pred_cluster))\n",
    "        index += 1"
   ]
  },
  {
   "cell_type": "markdown",
   "metadata": {},
   "source": [
    "### Predicted 5 Clusters based on Cosine Similarity     --->  ( Cluster#  0, 1, 2, 3, 4 )\n",
    "#### where row = docs, columns = Cosine Similarity in each cluster\n",
    "#### 5 Clusters ranges from: 0, 1, 2, 3, 4"
   ]
  },
  {
   "cell_type": "code",
   "execution_count": 118,
   "metadata": {},
   "outputs": [
    {
     "name": "stdout",
     "output_type": "stream",
     "text": [
      " Index Doc.  Cluster 0   Cluster 1   Cluster 2   Cluster 3   Cluster 4    Predicted Class\n",
      "         0     0.19638     0.05548     0.04851     0.00460     0.00002          0 \n",
      "         1     0.20175     0.05433     0.06399     0.00283     0.00000          0 \n",
      "         2     0.07082     0.07550     0.11795     0.01059     0.00000          2 \n",
      "         3     0.02718     0.11395     0.03003     0.00265     0.00001          1 \n",
      "         4     0.12314     0.05226     0.05014     0.01283     0.00002          0 \n",
      "         5     0.15828     0.04837     0.04174     0.00087     0.00000          0 \n",
      "         6     0.04207     0.08218     0.03448     0.00143     0.00000          1 \n",
      "         7     0.13907     0.14743     0.30194     0.00506     0.00001          2 \n",
      "         8     0.13422     0.04198     0.06953     0.00115     0.00000          0 \n",
      "         9     0.05048     0.11441     0.04102     0.00402     0.00000          1 \n",
      "        10     0.11040     0.09275     0.29547     0.00441     0.00001          2 \n",
      "        11     0.06656     0.06915     0.36803     0.00700     0.00000          2 \n",
      "        12     0.05174     0.20433     0.05404     0.00302     0.00001          1 \n",
      "        13     0.05478     0.09438     0.07084     0.00070     0.00000          1 \n",
      "        14     0.09459     0.08054     0.05622     0.01300     0.00016          0 \n",
      "        15     0.09624     0.09973     0.38207     0.00261     0.00000          2 \n",
      "        16     0.09623     0.07800     0.17068     0.00254     0.00000          2 \n",
      "        17     0.03934     0.13659     0.04931     0.00418     0.00004          1 \n",
      "        18     0.04804     0.06605     0.04224     0.00432     0.00001          1 \n",
      "        19     0.06928     0.04751     0.11439     0.00956     0.00001          2 \n",
      "        20     0.03788     0.08072     0.06065     0.00044     0.00000          1 \n",
      "        21     0.29226     0.10656     0.10607     0.00166     0.00000          0 \n",
      "        22     0.04630     0.14122     0.11735     0.01133     0.00003          1 \n",
      "        23     0.02192     0.07378     0.02610     0.00149     0.00000          1 \n",
      "        24     0.02602     0.08910     0.03651     0.00336     0.00005          1 \n",
      "        25     0.06133     0.24466     0.07751     0.00649     0.00001          1 \n",
      "        26     0.05225     0.25955     0.07040     0.00599     0.00000          1 \n",
      "        27     0.05708     0.05467     0.21912     0.00137     0.00000          2 \n",
      "        28     0.08160     0.10084     0.21006     0.00785     0.00000          2 \n",
      "        29     0.02315     0.05868     0.01806     0.00033     0.00001          1 \n",
      "        30     0.03857     0.06470     0.02794     0.02707     0.00028          1 \n",
      "        31     0.05036     0.20363     0.06435     0.00272     0.00000          1 \n",
      "        32     0.10704     0.03061     0.02509     0.04455     0.00002          0 \n",
      "        33     0.05410     0.11388     0.05997     0.00602     0.00002          1 \n",
      "        34     0.17441     0.09619     0.13060     0.00212     0.00000          0 \n",
      "        35     0.07244     0.05719     0.15657     0.01014     0.00001          2 \n",
      "        36     0.11429     0.04016     0.04344     0.00266     0.00000          0 \n",
      "        37     0.16183     0.04231     0.06283     0.01093     0.00002          0 \n",
      "        38     0.07497     0.10747     0.08816     0.00664     0.00005          1 \n",
      "        39     0.13363     0.03736     0.08661     0.00178     0.00000          0 \n",
      "        40     0.12269     0.03861     0.04583     0.00274     0.00000          0 \n",
      "        41     0.00102     0.00173     0.00030     0.03560     0.99981          4 \n",
      "        42     0.06372     0.07755     0.19183     0.00196     0.00001          2 \n",
      "        43     0.03729     0.09159     0.03146     0.02838     0.00012          1 \n",
      "        44     0.02077     0.06056     0.02650     0.00777     0.00006          1 \n",
      "        45     0.07691     0.02384     0.03041     0.00557     0.00000          0 \n",
      "        46     0.11059     0.15222     0.09186     0.00539     0.00001          1 \n",
      "        47     0.08802     0.06142     0.07862     0.00226     0.00000          0 \n",
      "        48     0.18724     0.04264     0.04346     0.00176     0.00001          0 \n",
      "        49     0.03974     0.04269     0.02512     0.00285     0.00000          1 \n",
      "        50     0.10717     0.03010     0.05508     0.00150     0.00000          0 \n",
      "        51     0.06688     0.05833     0.20107     0.00131     0.00000          2 \n",
      "        52     0.23677     0.13645     0.13193     0.00558     0.00003          0 \n",
      "        53     0.35209     0.08507     0.10865     0.00920     0.00003          0 \n",
      "        54     0.14675     0.06916     0.09454     0.00578     0.00015          0 \n",
      "        55     0.03989     0.14457     0.05422     0.00847     0.00001          1 \n",
      "        56     0.13867     0.03481     0.06331     0.00209     0.00001          0 \n",
      "        57     0.01442     0.07384     0.01542     0.01641     0.00000          1 \n",
      "        58     0.22682     0.09598     0.08501     0.02913     0.00001          0 \n",
      "        59     0.02367     0.04242     0.02272     0.00238     0.00000          1 \n",
      "        60     0.22438     0.06776     0.06580     0.00427     0.00002          0 \n",
      "        61     0.14003     0.06065     0.06415     0.00289     0.00000          0 \n",
      "        62     0.09668     0.03592     0.03947     0.00145     0.00000          0 \n",
      "        63     0.10423     0.02901     0.03248     0.01498     0.00001          0 \n",
      "        64     0.09915     0.14058     0.05550     0.00792     0.00006          1 \n",
      "        65     0.06170     0.04344     0.14273     0.01789     0.00019          2 \n",
      "        66     0.02137     0.16810     0.04524     0.00337     0.00001          1 \n",
      "        67     0.05669     0.07692     0.08067     0.00120     0.00000          2 \n",
      "        68     0.06477     0.02643     0.01289     0.00017     0.00002          0 \n",
      "        69     0.04888     0.01370     0.01791     0.00025     0.00000          0 \n",
      "        70     0.04646     0.10187     0.05042     0.00798     0.00000          1 \n",
      "        71     0.07211     0.11850     0.08257     0.00233     0.00001          1 \n",
      "        72     0.13616     0.03018     0.04877     0.00218     0.00000          0 \n",
      "        73     0.27593     0.08175     0.11094     0.00438     0.00000          0 \n",
      "        74     0.03298     0.15260     0.03397     0.00313     0.00000          1 \n",
      "        75     0.02494     0.15852     0.05984     0.00405     0.00001          1 \n",
      "        76     0.18647     0.06189     0.05638     0.00686     0.00005          0 \n",
      "        77     0.08543     0.07020     0.15288     0.00452     0.00002          2 \n",
      "        78     0.07101     0.03322     0.02054     0.00083     0.00000          0 \n",
      "        79     0.00901     0.06133     0.01597     0.00416     0.00001          1 \n",
      "        80     0.14785     0.03081     0.02558     0.00079     0.00006          0 \n",
      "        81     0.08214     0.04796     0.03818     0.00316     0.00000          0 \n",
      "        82     0.18898     0.08437     0.10005     0.00186     0.00001          0 \n",
      "        83     0.16840     0.03813     0.06742     0.00377     0.00000          0 \n",
      "        84     0.04355     0.14342     0.04834     0.00692     0.00000          1 \n",
      "        85     0.04138     0.06988     0.04622     0.00172     0.00001          1 \n",
      "        86     0.02359     0.11850     0.03958     0.00490     0.00000          1 \n",
      "        87     0.27641     0.10200     0.13925     0.00276     0.00002          0 \n",
      "        88     0.03480     0.15154     0.04617     0.00489     0.00000          1 \n",
      "        89     0.26175     0.04833     0.06410     0.00142     0.00001          0 \n",
      "        90     0.01337     0.12671     0.02452     0.00486     0.00030          1 \n",
      "        91     0.08690     0.06550     0.27075     0.00466     0.00000          2 \n",
      "        92     0.10912     0.02146     0.02714     0.00000     0.00000          0 \n",
      "        93     0.12017     0.09172     0.08717     0.00911     0.00002          0 \n",
      "        94     0.09658     0.11422     0.03458     0.00754     0.00006          1 \n",
      "        95     0.16503     0.06414     0.04887     0.01642     0.00017          0 \n",
      "        96     0.09497     0.12382     0.09742     0.00879     0.00000          1 \n",
      "        97     0.08323     0.10081     0.12996     0.00526     0.00000          2 \n",
      "        98     0.08349     0.02970     0.02947     0.00015     0.00000          0 \n",
      "        99     0.10438     0.08401     0.19171     0.00883     0.00000          2 \n",
      "       100     0.15048     0.06714     0.06480     0.00409     0.00001          0 \n",
      "       101     0.18695     0.06395     0.06678     0.00608     0.00001          0 \n",
      "       102     0.02472     0.13605     0.05084     0.00502     0.00000          1 \n",
      "       103     0.02792     0.06695     0.04722     0.00860     0.00001          1 \n",
      "       104     0.05586     0.19131     0.06957     0.00394     0.00002          1 \n",
      "       105     0.02356     0.10207     0.01807     0.00092     0.00000          1 \n",
      "       106     0.11355     0.05086     0.06221     0.00421     0.00000          0 \n",
      "       107     0.10838     0.09827     0.30908     0.00241     0.00001          2 \n",
      "       108     0.00092     0.00148     0.00024     0.03009     0.99994          4 \n",
      "       109     0.04481     0.09590     0.06001     0.00327     0.00001          1 \n",
      "       110     0.02326     0.12788     0.02833     0.00204     0.00003          1 \n",
      "       111     0.05189     0.06921     0.27754     0.00319     0.00000          2 \n",
      "       112     0.19635     0.08815     0.08320     0.00348     0.00000          0 \n",
      "       113     0.07605     0.02503     0.02225     0.00147     0.00000          0 \n",
      "       114     0.17486     0.05887     0.04680     0.00268     0.00001          0 \n",
      "       115     0.06793     0.05618     0.16427     0.01330     0.00004          2 \n",
      "       116     0.01713     0.10635     0.04657     0.00150     0.00000          1 \n",
      "       117     0.09358     0.11956     0.19763     0.00554     0.00001          2 \n",
      "       118     0.08832     0.12895     0.32237     0.01364     0.00010          2 \n",
      "       119     0.07862     0.12586     0.03857     0.00412     0.00032          1 \n",
      "       120     0.11985     0.01728     0.00557     0.00961     0.00001          0 \n",
      "       121     0.11340     0.03245     0.03089     0.00071     0.00000          0 \n",
      "       122     0.07780     0.20758     0.08808     0.02351     0.00000          1 \n",
      "       123     0.07250     0.03909     0.04814     0.01833     0.00004          0 \n",
      "       124     0.03992     0.25773     0.04126     0.00482     0.00001          1 \n",
      "       125     0.11441     0.09114     0.16480     0.00283     0.00000          2 \n",
      "       126     0.08347     0.09467     0.22561     0.00430     0.00001          2 \n",
      "       127     0.23234     0.06229     0.07077     0.00300     0.00001          0 \n",
      "       128     0.13402     0.03890     0.03256     0.00379     0.00004          0 \n",
      "       129     0.05698     0.04942     0.05135     0.00177     0.00000          0 \n",
      "       130     0.05647     0.20990     0.06825     0.00406     0.00001          1 \n",
      "       131     0.12331     0.02868     0.04531     0.00219     0.00000          0 \n",
      "       132     0.05031     0.14415     0.04856     0.00183     0.00001          1 \n",
      "       133     0.06012     0.13534     0.06492     0.00295     0.00001          1 \n",
      "       134     0.10249     0.22245     0.10453     0.00652     0.00000          1 \n",
      "       135     0.04854     0.16821     0.05943     0.01615     0.00005          1 \n",
      "       136     0.17534     0.07530     0.08770     0.00341     0.00000          0 \n",
      "       137     0.02019     0.04994     0.02607     0.00079     0.00000          1 \n",
      "       138     0.05248     0.06494     0.06410     0.01100     0.00000          1 \n",
      "       139     0.02471     0.06796     0.04069     0.00931     0.00003          1 \n",
      "       140     0.06357     0.04352     0.14161     0.00070     0.00000          2 \n",
      "       141     0.12080     0.03679     0.03907     0.00807     0.00003          0 \n",
      "       142     0.18843     0.03622     0.05784     0.00469     0.00001          0 \n",
      "       143     0.03449     0.03297     0.14611     0.00136     0.00001          2 \n",
      "       144     0.10054     0.03747     0.03214     0.00805     0.00022          0 \n",
      "       145     0.05549     0.24182     0.05963     0.00348     0.00001          1 \n",
      "       146     0.11421     0.11835     0.35144     0.00772     0.00003          2 \n",
      "       147     0.07906     0.27873     0.08192     0.00961     0.00042          1 \n",
      "       148     0.04712     0.04771     0.18342     0.00684     0.00002          2 \n",
      "       149     0.06239     0.08850     0.04423     0.01051     0.00001          1 \n",
      "       150     0.03402     0.14668     0.12543     0.00546     0.00000          1 \n",
      "       151     0.11885     0.04790     0.04746     0.00094     0.00001          0 \n",
      "       152     0.06183     0.18740     0.06691     0.00369     0.00002          1 \n",
      "       153     0.21941     0.06916     0.04989     0.00518     0.00003          0 \n",
      "       154     0.05430     0.08099     0.21316     0.00185     0.00000          2 \n",
      "       155     0.04065     0.09068     0.07568     0.00095     0.00000          1 \n",
      "       156     0.05643     0.06436     0.14820     0.00834     0.00000          2 \n",
      "       157     0.05475     0.15703     0.06341     0.00592     0.00001          1 \n",
      "       158     0.01062     0.07801     0.01317     0.00083     0.00002          1 \n",
      "       159     0.13296     0.05504     0.05336     0.00351     0.00000          0 \n",
      "       160     0.07029     0.06805     0.22849     0.00194     0.00000          2 \n",
      "       161     0.04694     0.20994     0.07655     0.00485     0.00001          1 \n",
      "       162     0.10300     0.04686     0.04997     0.00179     0.00001          0 \n",
      "       163     0.06594     0.01727     0.01471     0.10664     0.00009          3 \n",
      "       164     0.03481     0.15820     0.03308     0.00570     0.00001          1 \n",
      "       165     0.06498     0.08340     0.05788     0.00512     0.00004          1 \n",
      "       166     0.02252     0.04560     0.01595     0.00194     0.00000          1 \n",
      "       167     0.06531     0.27806     0.06334     0.01395     0.00004          1 \n",
      "       168     0.12485     0.04918     0.03253     0.00270     0.00002          0 \n",
      "       169     0.05276     0.03553     0.14849     0.00218     0.00000          2 \n",
      "       170     0.08015     0.06180     0.19207     0.00172     0.00001          2 \n",
      "       171     0.03199     0.12926     0.02112     0.01185     0.00006          1 \n",
      "       172     0.02421     0.01875     0.11396     0.00271     0.00001          2 \n",
      "       173     0.05405     0.05523     0.22020     0.00397     0.00001          2 \n",
      "       174     0.06735     0.04019     0.09745     0.00136     0.00000          2 \n",
      "       175     0.11079     0.08386     0.10670     0.00715     0.00001          0 \n",
      "       176     0.04200     0.01573     0.00750     0.00136     0.00000          0 \n",
      "       177     0.04084     0.19332     0.06320     0.00509     0.00000          1 \n",
      "       178     0.07740     0.11258     0.26483     0.00777     0.00000          2 \n",
      "       179     0.05563     0.10213     0.05365     0.00259     0.00000          1 \n",
      "       180     0.10521     0.13635     0.35143     0.00509     0.00000          2 \n",
      "       181     0.12301     0.03145     0.03947     0.00190     0.00000          0 \n",
      "       182     0.02374     0.01680     0.05380     0.00789     0.00000          2 \n",
      "       183     0.28326     0.10270     0.11586     0.00251     0.00001          0 \n",
      "       184     0.08402     0.13750     0.07135     0.00881     0.00001          1 \n",
      "       185     0.03682     0.09436     0.02808     0.00060     0.00002          1 \n",
      "       186     0.09617     0.13509     0.34139     0.00372     0.00001          2 \n",
      "       187     0.14961     0.04222     0.02997     0.00356     0.00004          0 \n",
      "       188     0.17061     0.01847     0.01102     0.00779     0.00001          0 \n",
      "       189     0.23565     0.04968     0.07667     0.00254     0.00001          0 \n",
      "       190     0.03321     0.18567     0.06841     0.00271     0.00000          1 \n",
      "       191     0.17216     0.07816     0.07638     0.00344     0.00001          0 \n",
      "       192     0.26228     0.05872     0.07003     0.00248     0.00002          0 \n",
      "       193     0.02420     0.10548     0.03789     0.00860     0.00001          1 \n",
      "       194     0.03957     0.05737     0.13970     0.00206     0.00000          2 \n",
      "       195     0.15445     0.06116     0.05625     0.00394     0.00004          0 \n",
      "       196     0.08400     0.04794     0.03726     0.00059     0.00000          0 \n",
      "       197     0.03271     0.18907     0.07965     0.00323     0.00000          1 \n",
      "       198     0.05838     0.11302     0.04802     0.01092     0.00000          1 \n",
      "       199     0.02618     0.10271     0.04593     0.00773     0.00001          1 \n",
      "       200     0.04432     0.17724     0.04817     0.00118     0.00001          1 \n",
      "       201     0.03568     0.20018     0.03899     0.00345     0.00000          1 \n",
      "       202     0.04799     0.22372     0.06132     0.00264     0.00000          1 \n",
      "       203     0.01810     0.05982     0.01382     0.00187     0.00012          1 \n",
      "       204     0.12251     0.05949     0.04291     0.00204     0.00001          0 \n",
      "       205     0.13427     0.02683     0.04439     0.00328     0.00002          0 \n",
      "       206     0.04922     0.15775     0.06887     0.00689     0.00000          1 \n",
      "       207     0.25894     0.05688     0.07352     0.00356     0.00001          0 \n",
      "       208     0.05650     0.03897     0.08198     0.00579     0.00000          2 \n",
      "       209     0.15219     0.04314     0.04155     0.00358     0.00001          0 \n",
      "       210     0.10915     0.10931     0.39978     0.00352     0.00001          2 \n",
      "       211     0.12351     0.03450     0.04082     0.00329     0.00001          0 \n",
      "       212     0.08727     0.06901     0.06217     0.00304     0.00001          0 \n",
      "       213     0.02521     0.04602     0.06428     0.01119     0.00000          2 \n",
      "       214     0.16236     0.05304     0.05688     0.00136     0.00002          0 \n",
      "       215     0.00085     0.00139     0.00020     0.02968     0.99996          4 \n",
      "       216     0.22971     0.06042     0.07553     0.00157     0.00000          0 \n",
      "       217     0.15477     0.10596     0.27673     0.00409     0.00001          2 \n",
      "       218     0.06905     0.26680     0.07203     0.00397     0.00001          1 \n",
      "       219     0.04813     0.06457     0.16270     0.00095     0.00000          2 \n",
      "       220     0.26310     0.06937     0.09128     0.00290     0.00311          0 \n",
      "       221     0.05242     0.05514     0.20674     0.00358     0.00000          2 \n",
      "       222     0.03186     0.17702     0.03591     0.00321     0.00014          1 \n",
      "       223     0.14154     0.09223     0.19561     0.00248     0.00001          2 \n",
      "       224     0.04103     0.05914     0.13665     0.01123     0.00002          2 \n",
      "       225     0.14007     0.04620     0.03959     0.00562     0.00002          0 \n",
      "       226     0.18361     0.04959     0.05363     0.00131     0.00001          0 \n",
      "       227     0.21729     0.06962     0.07434     0.00553     0.00002          0 \n",
      "       228     0.06716     0.14115     0.07026     0.00375     0.00000          1 \n",
      "       229     0.12769     0.03444     0.03507     0.00580     0.00003          0 \n",
      "       230     0.08650     0.15285     0.13677     0.00725     0.00001          1 \n",
      "       231     0.06312     0.15721     0.08165     0.00408     0.00003          1 \n",
      "       232     0.05718     0.19555     0.14435     0.00676     0.00001          1 \n",
      "       233     0.07581     0.08951     0.04819     0.00309     0.00000          1 \n",
      "       234     0.05631     0.04081     0.12580     0.00411     0.00000          2 \n",
      "       235     0.17954     0.09606     0.11932     0.00502     0.00001          0 \n",
      "       236     0.10787     0.31085     0.13353     0.01201     0.00001          1 \n",
      "       237     0.13768     0.03656     0.03561     0.00126     0.00003          0 \n",
      "       238     0.17351     0.06467     0.05608     0.01364     0.00003          0 \n",
      "       239     0.04683     0.14599     0.04461     0.00343     0.00000          1 \n",
      "       240     0.13306     0.06804     0.04919     0.00257     0.00003          0 \n",
      "       241     0.06826     0.18513     0.07470     0.00138     0.00000          1 \n",
      "       242     0.04244     0.01456     0.02355     0.00018     0.00000          0 \n",
      "       243     0.02890     0.14594     0.04573     0.02088     0.00177          1 \n",
      "       244     0.03116     0.08471     0.03560     0.00612     0.00001          1 \n",
      "       245     0.23161     0.07944     0.06990     0.00433     0.00002          0 \n",
      "       246     0.09643     0.12857     0.03796     0.01106     0.00010          1 \n",
      "       247     0.10919     0.04793     0.05385     0.00231     0.00001          0 \n",
      "       248     0.04777     0.07002     0.03209     0.00278     0.00002          1 \n",
      "       249     0.08163     0.11239     0.07210     0.00217     0.00002          1 \n",
      "       250     0.17629     0.07968     0.09246     0.00437     0.00002          0 \n",
      "       251     0.15004     0.07478     0.06278     0.00460     0.00001          0 \n",
      "       252     0.08844     0.06251     0.05811     0.00479     0.00000          0 \n",
      "       253     0.04737     0.09608     0.19292     0.00425     0.00000          2 \n",
      "       254     0.03947     0.15177     0.04086     0.00778     0.00004          1 \n",
      "       255     0.05388     0.05208     0.13228     0.00241     0.00000          2 \n",
      "       256     0.08496     0.18561     0.06832     0.01352     0.00016          1 \n",
      "       257     0.12446     0.15550     0.51789     0.00549     0.00000          2 \n",
      "       258     0.04079     0.14099     0.06091     0.01067     0.00003          1 \n",
      "       259     0.00085     0.00135     0.00020     0.02888     0.99995          4 \n",
      "       260     0.22044     0.06821     0.08328     0.00291     0.00002          0 \n",
      "       261     0.12673     0.04905     0.04272     0.00402     0.00000          0 \n",
      "       262     0.06437     0.13468     0.07297     0.00463     0.00001          1 \n",
      "       263     0.09934     0.02523     0.02719     0.00446     0.00001          0 \n",
      "       264     0.03402     0.02525     0.03369     0.01472     0.00001          0 \n",
      "       265     0.03826     0.18436     0.04593     0.00434     0.00000          1 \n",
      "       266     0.04876     0.07152     0.02801     0.01185     0.00004          1 \n",
      "       267     0.14108     0.03650     0.03344     0.00357     0.00002          0 \n",
      "       268     0.14551     0.07562     0.07928     0.00261     0.00003          0 \n",
      "       269     0.02018     0.06934     0.04138     0.00218     0.00003          1 \n",
      "       270     0.29100     0.07976     0.09651     0.00566     0.00011          0 \n",
      "       271     0.07303     0.02950     0.02588     0.00573     0.00001          0 \n",
      "       272     0.16614     0.05013     0.04074     0.00610     0.00001          0 \n",
      "       273     0.04423     0.07798     0.04595     0.00181     0.00001          1 \n",
      "       274     0.13378     0.03951     0.03748     0.00361     0.00003          0 \n",
      "       275     0.04984     0.19432     0.05307     0.00520     0.00012          1 \n",
      "       276     0.18893     0.05277     0.06070     0.00511     0.00002          0 \n",
      "       277     0.02037     0.13030     0.02359     0.00086     0.00000          1 \n",
      "       278     0.07118     0.01989     0.03257     0.00230     0.00000          0 \n",
      "       279     0.05010     0.07712     0.04870     0.01184     0.00000          1 \n",
      "       280     0.02760     0.07335     0.03577     0.00573     0.00001          1 \n",
      "       281     0.06266     0.24063     0.09621     0.02203     0.00011          1 \n",
      "       282     0.02417     0.09167     0.04293     0.00479     0.00000          1 \n",
      "       283     0.20266     0.07512     0.07675     0.00307     0.00001          0 \n",
      "       284     0.06477     0.06563     0.05443     0.00129     0.00000          1 \n",
      "       285     0.06426     0.05505     0.13916     0.00223     0.00000          2 \n",
      "       286     0.00642     0.02139     0.01755     0.00093     0.00000          1 \n",
      "       287     0.09163     0.05293     0.10429     0.00279     0.00001          2 \n",
      "       288     0.08665     0.28240     0.10333     0.00581     0.00002          1 \n",
      "       289     0.07134     0.05709     0.03608     0.00993     0.00000          0 \n",
      "       290     0.23512     0.06588     0.08450     0.00304     0.00000          0 \n",
      "       291     0.05265     0.06851     0.05428     0.00250     0.00004          1 \n",
      "       292     0.11712     0.03567     0.04032     0.00781     0.00001          0 \n",
      "       293     0.17412     0.04943     0.06849     0.00180     0.00001          0 \n",
      "       294     0.15661     0.10131     0.08155     0.00261     0.00000          0 \n",
      "       295     0.05153     0.05432     0.02832     0.00923     0.00000          1 \n",
      "       296     0.10558     0.03789     0.05086     0.03251     0.00005          0 \n",
      "       297     0.12738     0.03043     0.03427     0.00301     0.00001          0 \n",
      "       298     0.09647     0.02326     0.02017     0.00563     0.00002          0 \n",
      "       299     0.03063     0.16697     0.04857     0.01065     0.00000          1 \n",
      "       300     0.06731     0.22788     0.06305     0.00821     0.00001          1 \n",
      "       301     0.07133     0.33947     0.12444     0.00963     0.00001          1 \n",
      "       302     0.12948     0.03670     0.04194     0.00775     0.00003          0 \n",
      "       303     0.03172     0.03429     0.06218     0.00056     0.00000          2 \n",
      "       304     0.02132     0.16551     0.02935     0.00377     0.00000          1 \n",
      "       305     0.08332     0.01575     0.02197     0.00150     0.00000          0 \n",
      "       306     0.08992     0.01790     0.02238     0.00185     0.00003          0 \n",
      "       307     0.05034     0.14557     0.07800     0.00454     0.00000          1 \n",
      "       308     0.07298     0.08739     0.03663     0.00601     0.00002          1 \n",
      "       309     0.17406     0.06442     0.06048     0.01072     0.00009          0 \n",
      "       310     0.05105     0.04310     0.09278     0.00103     0.00000          2 \n",
      "       311     0.07941     0.10439     0.13521     0.00330     0.00001          2 \n",
      "       312     0.14093     0.04287     0.04442     0.02352     0.00003          0 \n",
      "       313     0.11444     0.04503     0.04106     0.00225     0.00001          0 \n",
      "       314     0.14974     0.04046     0.04827     0.00177     0.00003          0 \n",
      "       315     0.16336     0.06427     0.05303     0.00998     0.00002          0 \n",
      "       316     0.01640     0.09849     0.02557     0.02032     0.00004          1 \n",
      "       317     0.02906     0.11400     0.02882     0.00262     0.00001          1 \n",
      "       318     0.06105     0.06211     0.05218     0.00185     0.00000          1 \n",
      "       319     0.12033     0.03868     0.03961     0.00341     0.00002          0 \n",
      "       320     0.07995     0.06319     0.18022     0.00156     0.00001          2 \n",
      "       321     0.14001     0.04167     0.04029     0.00130     0.00000          0 \n",
      "       322     0.07859     0.08197     0.26152     0.00445     0.00001          2 \n",
      "       323     0.04707     0.10526     0.12908     0.00399     0.00000          2 \n",
      "       324     0.05647     0.02227     0.02064     0.00360     0.00000          0 \n",
      "       325     0.02270     0.08404     0.03668     0.00447     0.00000          1 \n",
      "       326     0.09319     0.03135     0.09384     0.00201     0.00000          2 \n",
      "       327     0.04981     0.10990     0.02799     0.00776     0.00006          1 \n",
      "       328     0.04854     0.04513     0.13296     0.00479     0.00000          2 \n",
      "       329     0.06937     0.09062     0.34971     0.00411     0.00001          2 \n",
      "       330     0.05841     0.12952     0.18743     0.02355     0.00024          2 \n",
      "       331     0.12784     0.06128     0.05635     0.00227     0.00001          0 \n",
      "       332     0.04183     0.01683     0.00253     0.00006     0.00000          0 \n",
      "       333     0.08671     0.02231     0.02196     0.00224     0.00005          0 \n",
      "       334     0.09458     0.10594     0.20691     0.00461     0.00001          2 \n",
      "       335     0.15069     0.04459     0.05619     0.01158     0.00002          0 \n",
      "       336     0.02060     0.08540     0.03617     0.00247     0.00002          1 \n",
      "       337     0.04181     0.05871     0.03077     0.00378     0.00001          1 \n",
      "       338     0.27220     0.13256     0.14899     0.00558     0.00007          0 \n",
      "       339     0.05306     0.13190     0.04224     0.00183     0.00001          1 \n",
      "       340     0.06573     0.07490     0.18424     0.00573     0.00005          2 \n",
      "       341     0.08952     0.08777     0.04164     0.00341     0.00002          0 \n",
      "       342     0.14990     0.05615     0.06699     0.00129     0.00001          0 \n",
      "       343     0.14930     0.05984     0.04468     0.00164     0.00003          0 \n",
      "       344     0.07546     0.05803     0.10660     0.00901     0.00000          2 \n",
      "       345     0.13191     0.07238     0.07379     0.00161     0.00000          0 \n",
      "       346     0.03825     0.03276     0.16447     0.00027     0.00000          2 \n",
      "       347     0.04687     0.04876     0.04019     0.01110     0.00005          1 \n",
      "       348     0.15787     0.04742     0.04189     0.00552     0.00001          0 \n",
      "       349     0.07005     0.04393     0.04752     0.00078     0.00001          0 \n",
      "       350     0.07417     0.03012     0.02145     0.00192     0.00001          0 \n",
      "       351     0.05559     0.16355     0.05031     0.01171     0.00002          1 \n",
      "       352     0.18950     0.05316     0.07584     0.00366     0.00000          0 \n",
      "       353     0.07688     0.04889     0.04696     0.00454     0.00000          0 \n",
      "       354     0.07067     0.24707     0.09016     0.01159     0.00002          1 \n",
      "       355     0.13928     0.07645     0.07649     0.00589     0.00002          0 \n",
      "       356     0.17530     0.06157     0.07400     0.00221     0.00000          0 \n",
      "       357     0.03044     0.03027     0.02634     0.00109     0.00000          0 \n",
      "       358     0.04560     0.02714     0.02530     0.00650     0.00001          0 \n",
      "       359     0.04093     0.09971     0.04499     0.00269     0.00001          1 \n",
      "       360     0.13625     0.07225     0.10697     0.00315     0.00002          0 \n",
      "       361     0.10097     0.03410     0.02854     0.00724     0.00003          0 \n",
      "       362     0.37206     0.10130     0.13191     0.00326     0.00001          0 \n",
      "       363     0.07316     0.08778     0.24393     0.00287     0.00000          2 \n",
      "       364     0.11399     0.05243     0.05209     0.00327     0.00002          0 \n",
      "       365     0.07150     0.23190     0.08894     0.00704     0.00001          1 \n",
      "       366     0.08765     0.06008     0.04771     0.00091     0.00000          0 \n",
      "       367     0.07968     0.02877     0.03090     0.00199     0.00001          0 \n",
      "       368     0.07855     0.07759     0.26180     0.00408     0.00001          2 \n",
      "       369     0.07018     0.06142     0.09081     0.00368     0.00000          2 \n",
      "       370     0.04226     0.13352     0.03503     0.00264     0.00001          1 \n",
      "       371     0.05678     0.11661     0.06746     0.00506     0.00001          1 \n",
      "       372     0.09348     0.14096     0.12159     0.00364     0.00001          1 \n",
      "       373     0.09396     0.03248     0.04957     0.00060     0.00000          0 \n",
      "       374     0.02845     0.11325     0.04878     0.00674     0.00000          1 \n",
      "       375     0.20252     0.05799     0.08906     0.00144     0.00001          0 \n",
      "       376     0.18727     0.11279     0.09969     0.00999     0.00001          0 \n",
      "       377     0.09068     0.03452     0.03259     0.00084     0.00000          0 \n",
      "       378     0.11408     0.03732     0.03639     0.00226     0.00001          0 \n",
      "       379     0.19057     0.07215     0.06701     0.01289     0.00007          0 \n",
      "       380     0.21010     0.06285     0.05704     0.00429     0.00001          0 \n",
      "       381     0.21223     0.05942     0.07993     0.00137     0.00001          0 \n",
      "       382     0.06233     0.17160     0.07390     0.00575     0.00001          1 \n",
      "       383     0.19894     0.04629     0.05757     0.00138     0.00000          0 \n",
      "       384     0.09969     0.15392     0.10322     0.01205     0.00003          1 \n",
      "       385     0.11682     0.04162     0.03935     0.00373     0.00002          0 \n",
      "       386     0.05335     0.13081     0.06882     0.02250     0.00000          1 \n",
      "       387     0.04332     0.22280     0.05689     0.01217     0.00000          1 \n",
      "       388     0.19609     0.06246     0.07646     0.00250     0.00001          0 \n",
      "       389     0.04495     0.05240     0.05365     0.00116     0.00000          2 \n",
      "       390     0.06720     0.12925     0.04480     0.00385     0.00006          1 \n",
      "       391     0.03172     0.07569     0.04355     0.00398     0.00017          1 \n",
      "       392     0.05551     0.02897     0.02044     0.00726     0.00004          0 \n",
      "       393     0.03289     0.16955     0.05303     0.00431     0.00004          1 \n",
      "       394     0.06681     0.05925     0.04419     0.00059     0.00001          0 \n",
      "       395     0.04662     0.24330     0.07706     0.01020     0.00003          1 \n",
      "       396     0.07314     0.08443     0.34234     0.00351     0.00000          2 \n",
      "       397     0.20620     0.05419     0.06674     0.00261     0.00001          0 \n",
      "       398     0.00576     0.07419     0.00719     0.00000     0.00000          1 \n",
      "       399     0.11638     0.03297     0.02087     0.00224     0.00004          0 \n",
      "       400     0.07216     0.06239     0.22636     0.00558     0.00004          2 \n",
      "       401     0.14712     0.04490     0.04487     0.02155     0.00002          0 \n",
      "       402     0.08205     0.20498     0.07684     0.00455     0.00002          1 \n",
      "       403     0.08886     0.06257     0.16387     0.00186     0.00000          2 \n",
      "       404     0.01702     0.09798     0.02961     0.00153     0.00001          1 \n",
      "       405     0.05858     0.06840     0.04767     0.00061     0.00000          1 \n",
      "       406     0.02920     0.08189     0.07134     0.00437     0.00000          1 \n",
      "       407     0.10198     0.05264     0.04573     0.00456     0.00000          0 \n",
      "       408     0.04669     0.10182     0.04950     0.00107     0.00002          1 \n",
      "       409     0.09459     0.11826     0.34954     0.00296     0.00000          2 \n",
      "       410     0.10767     0.05348     0.04928     0.01347     0.00002          0 \n",
      "       411     0.06821     0.08910     0.18334     0.00334     0.00000          2 \n",
      "       412     0.20819     0.06514     0.08451     0.00547     0.00001          0 \n",
      "       413     0.23610     0.05396     0.05990     0.00244     0.00001          0 \n",
      "       414     0.03541     0.10259     0.04922     0.01173     0.00000          1 \n",
      "       415     0.28230     0.10005     0.10374     0.00253     0.00002          0 \n",
      "       416     0.07239     0.20702     0.07360     0.00847     0.00003          1 \n",
      "       417     0.14441     0.10247     0.23893     0.00315     0.00000          2 \n",
      "       418     0.17766     0.04895     0.06270     0.00897     0.00000          0 \n",
      "       419     0.02407     0.10108     0.01333     0.23117     0.00013          3 \n",
      "       420     0.07907     0.10077     0.25289     0.00940     0.00001          2 \n",
      "       421     0.03649     0.02969     0.14461     0.00096     0.00000          2 \n",
      "       422     0.04522     0.07861     0.08324     0.00586     0.00002          2 \n",
      "       423     0.08733     0.06337     0.05651     0.00205     0.00000          0 \n",
      "       424     0.03975     0.06814     0.03093     0.00098     0.00000          1 \n",
      "       425     0.07359     0.22134     0.09619     0.00501     0.00000          1 \n",
      "       426     0.18484     0.06131     0.05845     0.00659     0.00001          0 \n",
      "       427     0.09073     0.33409     0.11564     0.00958     0.00001          1 \n",
      "       428     0.13375     0.02532     0.01657     0.01946     0.00001          0 \n",
      "       429     0.07033     0.17144     0.08995     0.00801     0.00002          1 \n",
      "       430     0.03076     0.17633     0.05178     0.00960     0.00001          1 \n",
      "       431     0.07997     0.10664     0.06921     0.01271     0.00004          1 \n",
      "       432     0.06819     0.02890     0.02287     0.00362     0.00007          0 \n",
      "       433     0.02216     0.06695     0.03608     0.00089     0.00000          1 \n",
      "       434     0.02170     0.02123     0.02614     0.00221     0.00001          2 \n",
      "       435     0.06744     0.03617     0.05735     0.00238     0.00001          0 \n",
      "       436     0.03162     0.05962     0.01911     0.00278     0.00000          1 \n",
      "       437     0.07831     0.08469     0.04141     0.00192     0.00001          1 \n",
      "       438     0.03971     0.04441     0.15532     0.00072     0.00000          2 \n",
      "       439     0.03305     0.03642     0.15785     0.02217     0.00001          2 \n",
      "       440     0.09253     0.07682     0.20861     0.00556     0.00001          2 \n",
      "       441     0.07577     0.12970     0.12711     0.00730     0.00001          1 \n",
      "       442     0.04772     0.05210     0.04797     0.00263     0.00001          1 \n",
      "       443     0.03447     0.08346     0.02936     0.00574     0.00002          1 \n",
      "       444     0.06911     0.06991     0.05162     0.01125     0.00002          1 \n",
      "       445     0.26637     0.07307     0.07861     0.00139     0.00001          0 \n",
      "       446     0.24207     0.08141     0.10101     0.00172     0.00001          0 \n",
      "       447     0.00165     0.02256     0.00629     0.00065     0.00000          1 \n",
      "       448     0.02472     0.01419     0.02776     0.00395     0.00001          2 \n",
      "       449     0.07349     0.12214     0.05299     0.00595     0.00805          1 \n",
      "       450     0.12452     0.04238     0.03441     0.00271     0.00001          0 \n",
      "       451     0.05813     0.14302     0.06000     0.00522     0.00002          1 \n",
      "       452     0.05054     0.10195     0.03228     0.01817     0.00003          1 \n",
      "       453     0.14737     0.09101     0.08934     0.00572     0.00001          0 \n",
      "       454     0.25961     0.05098     0.07788     0.00069     0.00000          0 \n",
      "       455     0.07800     0.04971     0.03870     0.00463     0.00000          0 \n",
      "       456     0.05954     0.05433     0.10289     0.00158     0.00000          2 \n",
      "       457     0.09338     0.03547     0.03132     0.01360     0.00001          0 \n",
      "       458     0.14959     0.05954     0.04579     0.00404     0.00002          0 \n",
      "       459     0.03358     0.05571     0.13524     0.01316     0.00002          2 \n",
      "       460     0.09214     0.28508     0.14876     0.01000     0.00001          1 \n",
      "       461     0.07335     0.04430     0.07774     0.00177     0.00000          2 \n",
      "       462     0.10675     0.14086     0.50131     0.00461     0.00000          2 \n",
      "       463     0.04114     0.01656     0.00805     0.00027     0.00000          0 \n",
      "       464     0.04493     0.14922     0.04671     0.00397     0.00002          1 \n",
      "       465     0.03040     0.10137     0.03215     0.00076     0.00000          1 \n",
      "       466     0.06488     0.05511     0.23278     0.00419     0.00001          2 \n",
      "       467     0.04346     0.04043     0.03758     0.00039     0.00000          0 \n",
      "       468     0.02235     0.03358     0.17167     0.00109     0.00000          2 \n",
      "       469     0.14912     0.04971     0.03611     0.00562     0.00001          0 \n",
      "       470     0.05911     0.16852     0.08379     0.00531     0.00001          1 \n",
      "       471     0.06758     0.12254     0.06859     0.00078     0.00000          1 \n",
      "       472     0.14281     0.04324     0.03187     0.00254     0.00001          0 \n",
      "       473     0.10058     0.02747     0.04987     0.00144     0.00000          0 \n",
      "       474     0.06316     0.05189     0.11682     0.00716     0.00002          2 \n",
      "       475     0.08847     0.20729     0.12480     0.02265     0.00006          1 \n",
      "       476     0.19330     0.04902     0.06979     0.00477     0.00001          0 \n",
      "       477     0.06090     0.09824     0.04770     0.00150     0.00000          1 \n",
      "       478     0.01785     0.11620     0.02150     0.00120     0.00001          1 \n",
      "       479     0.10943     0.01591     0.01829     0.01212     0.00000          0 \n",
      "       480     0.05346     0.05737     0.04381     0.00368     0.00000          1 \n",
      "       481     0.02902     0.07387     0.02913     0.00012     0.00000          1 \n",
      "       482     0.01907     0.05042     0.02847     0.00066     0.00001          1 \n",
      "       483     0.16281     0.06844     0.07580     0.00378     0.00003          0 \n",
      "       484     0.09194     0.04652     0.11048     0.00550     0.00000          2 \n",
      "       485     0.05325     0.20233     0.07468     0.00923     0.00000          1 \n",
      "       486     0.14214     0.08115     0.06331     0.00175     0.00003          0 \n",
      "       487     0.10432     0.03614     0.03959     0.00207     0.00001          0 \n",
      "       488     0.13065     0.02829     0.04175     0.00075     0.00000          0 \n",
      "       489     0.08196     0.26469     0.10437     0.01177     0.00001          1 \n",
      "       490     0.14042     0.10871     0.10238     0.00600     0.00002          0 \n",
      "       491     0.04706     0.21443     0.06226     0.00339     0.00001          1 \n",
      "       492     0.01069     0.09893     0.00960     0.00038     0.00000          1 \n",
      "       493     0.03651     0.08024     0.01519     0.00628     0.00009          1 \n",
      "       494     0.09336     0.16203     0.10710     0.00619     0.00002          1 \n",
      "       495     0.05031     0.05322     0.04904     0.00436     0.00001          1 \n",
      "       496     0.12160     0.04768     0.04436     0.00123     0.00001          0 \n",
      "       497     0.16176     0.06376     0.04565     0.00948     0.00004          0 \n",
      "       498     0.15871     0.05836     0.08029     0.00581     0.00001          0 \n",
      "       499     0.07082     0.12889     0.07603     0.00185     0.00001          1 \n"
     ]
    }
   ],
   "source": [
    "results= predict_Cluster(dtTFxIDF_test, centroids)"
   ]
  },
  {
   "cell_type": "code",
   "execution_count": null,
   "metadata": {},
   "outputs": [],
   "source": []
  }
 ],
 "metadata": {
  "kernelspec": {
   "display_name": "Python 3",
   "language": "python",
   "name": "python3"
  },
  "language_info": {
   "codemirror_mode": {
    "name": "ipython",
    "version": 3
   },
   "file_extension": ".py",
   "mimetype": "text/x-python",
   "name": "python",
   "nbconvert_exporter": "python",
   "pygments_lexer": "ipython3",
   "version": "3.7.1"
  }
 },
 "nbformat": 4,
 "nbformat_minor": 2
}
