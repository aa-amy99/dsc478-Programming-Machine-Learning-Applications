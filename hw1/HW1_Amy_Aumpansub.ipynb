{
 "cells": [
  {
   "cell_type": "markdown",
   "metadata": {},
   "source": [
    "## DSC478 Winter 2019\n",
    "## Amy Aumpansub\n",
    "## Due Date: Jan 29th, 2019\n"
   ]
  },
  {
   "cell_type": "code",
   "execution_count": 1,
   "metadata": {},
   "outputs": [],
   "source": [
    "import numpy as np\n",
    "import pandas as pd\n",
    "import matplotlib.pyplot as plt\n",
    "%matplotlib inline\n",
    "import os"
   ]
  },
  {
   "cell_type": "code",
   "execution_count": 2,
   "metadata": {},
   "outputs": [],
   "source": [
    "#Change directorty working and import data\n",
    "os.chdir('C:/Users/Amy/Desktop/dsc478/assignment')"
   ]
  },
  {
   "cell_type": "code",
   "execution_count": 3,
   "metadata": {},
   "outputs": [],
   "source": [
    "#Import bank data\n",
    "bankTable = pd.read_csv(\"bank_data.csv\")"
   ]
  },
  {
   "cell_type": "code",
   "execution_count": 4,
   "metadata": {},
   "outputs": [
    {
     "data": {
      "text/plain": [
       "(600, 12)"
      ]
     },
     "execution_count": 4,
     "metadata": {},
     "output_type": "execute_result"
    }
   ],
   "source": [
    "bankTable.shape"
   ]
  },
  {
   "cell_type": "markdown",
   "metadata": {},
   "source": [
    "## Question 1: Explore the general characteristics of the data as a whole: examine the means, standard deviations, and other statistics associated with the numerical attributes; show the distributions of values associated with categorical attributes; etc."
   ]
  },
  {
   "cell_type": "code",
   "execution_count": 5,
   "metadata": {},
   "outputs": [
    {
     "data": {
      "text/html": [
       "<div>\n",
       "<style scoped>\n",
       "    .dataframe tbody tr th:only-of-type {\n",
       "        vertical-align: middle;\n",
       "    }\n",
       "\n",
       "    .dataframe tbody tr th {\n",
       "        vertical-align: top;\n",
       "    }\n",
       "\n",
       "    .dataframe thead th {\n",
       "        text-align: right;\n",
       "    }\n",
       "</style>\n",
       "<table border=\"1\" class=\"dataframe\">\n",
       "  <thead>\n",
       "    <tr style=\"text-align: right;\">\n",
       "      <th></th>\n",
       "      <th>id</th>\n",
       "      <th>age</th>\n",
       "      <th>income</th>\n",
       "      <th>children</th>\n",
       "      <th>gender</th>\n",
       "      <th>region</th>\n",
       "      <th>married</th>\n",
       "      <th>car</th>\n",
       "      <th>savings_acct</th>\n",
       "      <th>current_acct</th>\n",
       "      <th>mortgage</th>\n",
       "      <th>pep</th>\n",
       "    </tr>\n",
       "  </thead>\n",
       "  <tbody>\n",
       "    <tr>\n",
       "      <th>0</th>\n",
       "      <td>ID12101</td>\n",
       "      <td>48</td>\n",
       "      <td>17546.0</td>\n",
       "      <td>1</td>\n",
       "      <td>FEMALE</td>\n",
       "      <td>INNER_CITY</td>\n",
       "      <td>NO</td>\n",
       "      <td>NO</td>\n",
       "      <td>NO</td>\n",
       "      <td>NO</td>\n",
       "      <td>NO</td>\n",
       "      <td>YES</td>\n",
       "    </tr>\n",
       "    <tr>\n",
       "      <th>1</th>\n",
       "      <td>ID12102</td>\n",
       "      <td>40</td>\n",
       "      <td>30085.1</td>\n",
       "      <td>3</td>\n",
       "      <td>MALE</td>\n",
       "      <td>TOWN</td>\n",
       "      <td>YES</td>\n",
       "      <td>YES</td>\n",
       "      <td>NO</td>\n",
       "      <td>YES</td>\n",
       "      <td>YES</td>\n",
       "      <td>NO</td>\n",
       "    </tr>\n",
       "    <tr>\n",
       "      <th>2</th>\n",
       "      <td>ID12103</td>\n",
       "      <td>51</td>\n",
       "      <td>16575.4</td>\n",
       "      <td>0</td>\n",
       "      <td>FEMALE</td>\n",
       "      <td>INNER_CITY</td>\n",
       "      <td>YES</td>\n",
       "      <td>YES</td>\n",
       "      <td>YES</td>\n",
       "      <td>YES</td>\n",
       "      <td>NO</td>\n",
       "      <td>NO</td>\n",
       "    </tr>\n",
       "    <tr>\n",
       "      <th>3</th>\n",
       "      <td>ID12104</td>\n",
       "      <td>23</td>\n",
       "      <td>20375.4</td>\n",
       "      <td>3</td>\n",
       "      <td>FEMALE</td>\n",
       "      <td>TOWN</td>\n",
       "      <td>YES</td>\n",
       "      <td>NO</td>\n",
       "      <td>NO</td>\n",
       "      <td>YES</td>\n",
       "      <td>NO</td>\n",
       "      <td>NO</td>\n",
       "    </tr>\n",
       "    <tr>\n",
       "      <th>4</th>\n",
       "      <td>ID12105</td>\n",
       "      <td>57</td>\n",
       "      <td>50576.3</td>\n",
       "      <td>0</td>\n",
       "      <td>FEMALE</td>\n",
       "      <td>RURAL</td>\n",
       "      <td>YES</td>\n",
       "      <td>NO</td>\n",
       "      <td>YES</td>\n",
       "      <td>NO</td>\n",
       "      <td>NO</td>\n",
       "      <td>NO</td>\n",
       "    </tr>\n",
       "  </tbody>\n",
       "</table>\n",
       "</div>"
      ],
      "text/plain": [
       "        id  age   income  children  gender      region married  car  \\\n",
       "0  ID12101   48  17546.0         1  FEMALE  INNER_CITY      NO   NO   \n",
       "1  ID12102   40  30085.1         3    MALE        TOWN     YES  YES   \n",
       "2  ID12103   51  16575.4         0  FEMALE  INNER_CITY     YES  YES   \n",
       "3  ID12104   23  20375.4         3  FEMALE        TOWN     YES   NO   \n",
       "4  ID12105   57  50576.3         0  FEMALE       RURAL     YES   NO   \n",
       "\n",
       "  savings_acct current_acct mortgage  pep  \n",
       "0           NO           NO       NO  YES  \n",
       "1           NO          YES      YES   NO  \n",
       "2          YES          YES       NO   NO  \n",
       "3           NO          YES       NO   NO  \n",
       "4          YES           NO       NO   NO  "
      ]
     },
     "execution_count": 5,
     "metadata": {},
     "output_type": "execute_result"
    }
   ],
   "source": [
    "#Check the imported data \n",
    "bankTable.head(5)"
   ]
  },
  {
   "cell_type": "code",
   "execution_count": 6,
   "metadata": {},
   "outputs": [
    {
     "data": {
      "text/plain": [
       "id               object\n",
       "age               int64\n",
       "income          float64\n",
       "children          int64\n",
       "gender           object\n",
       "region           object\n",
       "married          object\n",
       "car              object\n",
       "savings_acct     object\n",
       "current_acct     object\n",
       "mortgage         object\n",
       "pep              object\n",
       "dtype: object"
      ]
     },
     "execution_count": 6,
     "metadata": {},
     "output_type": "execute_result"
    }
   ],
   "source": [
    "#Check type of features\n",
    "bankTable.dtypes"
   ]
  },
  {
   "cell_type": "code",
   "execution_count": 7,
   "metadata": {},
   "outputs": [
    {
     "data": {
      "text/html": [
       "<div>\n",
       "<style scoped>\n",
       "    .dataframe tbody tr th:only-of-type {\n",
       "        vertical-align: middle;\n",
       "    }\n",
       "\n",
       "    .dataframe tbody tr th {\n",
       "        vertical-align: top;\n",
       "    }\n",
       "\n",
       "    .dataframe thead th {\n",
       "        text-align: right;\n",
       "    }\n",
       "</style>\n",
       "<table border=\"1\" class=\"dataframe\">\n",
       "  <thead>\n",
       "    <tr style=\"text-align: right;\">\n",
       "      <th></th>\n",
       "      <th>age</th>\n",
       "      <th>income</th>\n",
       "      <th>children</th>\n",
       "    </tr>\n",
       "  </thead>\n",
       "  <tbody>\n",
       "    <tr>\n",
       "      <th>count</th>\n",
       "      <td>600.000000</td>\n",
       "      <td>600.000000</td>\n",
       "      <td>600.000000</td>\n",
       "    </tr>\n",
       "    <tr>\n",
       "      <th>mean</th>\n",
       "      <td>42.395000</td>\n",
       "      <td>27524.031217</td>\n",
       "      <td>1.011667</td>\n",
       "    </tr>\n",
       "    <tr>\n",
       "      <th>std</th>\n",
       "      <td>14.424947</td>\n",
       "      <td>12899.468246</td>\n",
       "      <td>1.056752</td>\n",
       "    </tr>\n",
       "    <tr>\n",
       "      <th>min</th>\n",
       "      <td>18.000000</td>\n",
       "      <td>5014.210000</td>\n",
       "      <td>0.000000</td>\n",
       "    </tr>\n",
       "    <tr>\n",
       "      <th>25%</th>\n",
       "      <td>30.000000</td>\n",
       "      <td>17264.500000</td>\n",
       "      <td>0.000000</td>\n",
       "    </tr>\n",
       "    <tr>\n",
       "      <th>50%</th>\n",
       "      <td>42.000000</td>\n",
       "      <td>24925.300000</td>\n",
       "      <td>1.000000</td>\n",
       "    </tr>\n",
       "    <tr>\n",
       "      <th>75%</th>\n",
       "      <td>55.250000</td>\n",
       "      <td>36172.675000</td>\n",
       "      <td>2.000000</td>\n",
       "    </tr>\n",
       "    <tr>\n",
       "      <th>max</th>\n",
       "      <td>67.000000</td>\n",
       "      <td>63130.100000</td>\n",
       "      <td>3.000000</td>\n",
       "    </tr>\n",
       "  </tbody>\n",
       "</table>\n",
       "</div>"
      ],
      "text/plain": [
       "              age        income    children\n",
       "count  600.000000    600.000000  600.000000\n",
       "mean    42.395000  27524.031217    1.011667\n",
       "std     14.424947  12899.468246    1.056752\n",
       "min     18.000000   5014.210000    0.000000\n",
       "25%     30.000000  17264.500000    0.000000\n",
       "50%     42.000000  24925.300000    1.000000\n",
       "75%     55.250000  36172.675000    2.000000\n",
       "max     67.000000  63130.100000    3.000000"
      ]
     },
     "execution_count": 7,
     "metadata": {},
     "output_type": "execute_result"
    }
   ],
   "source": [
    "#Descriptive statistics for 3 numeric variables\n",
    "bankTable.describe()"
   ]
  },
  {
   "cell_type": "markdown",
   "metadata": {},
   "source": [
    "**There are 3 Numeric Attributes: age, income, and children**\n",
    "- The statistics are shown above. The range of ages is 18 - 67 years old. The age has the mean of 42.39 years which are closed to the median of 42 years. The standard deviation of age is 14.42 years.\n",
    "- The income ranges from 63130.10 (max) to 5014.21 (min). The income has the greater mean of 27524.03 than the median of 24925.30. The distribution will be right-skewed if the mean is greater than the median and the mode, so we will further examine the histogram of income in question 9. The standard deviation of income is 12899.46.\n",
    "- The range of children is 0 to 3 children. The children has the mean of 1.011 closed to the median of 1. The standard deviation of children is 1.056 We will further examine the distribution from the histogram in the later part (question 9)."
   ]
  },
  {
   "cell_type": "markdown",
   "metadata": {},
   "source": [
    "**Grouping the numberic variables by category**"
   ]
  },
  {
   "cell_type": "code",
   "execution_count": 8,
   "metadata": {},
   "outputs": [
    {
     "data": {
      "text/html": [
       "<div>\n",
       "<style scoped>\n",
       "    .dataframe tbody tr th:only-of-type {\n",
       "        vertical-align: middle;\n",
       "    }\n",
       "\n",
       "    .dataframe tbody tr th {\n",
       "        vertical-align: top;\n",
       "    }\n",
       "\n",
       "    .dataframe thead th {\n",
       "        text-align: right;\n",
       "    }\n",
       "</style>\n",
       "<table border=\"1\" class=\"dataframe\">\n",
       "  <thead>\n",
       "    <tr style=\"text-align: right;\">\n",
       "      <th></th>\n",
       "      <th>age</th>\n",
       "      <th>income</th>\n",
       "      <th>children</th>\n",
       "    </tr>\n",
       "    <tr>\n",
       "      <th>gender</th>\n",
       "      <th></th>\n",
       "      <th></th>\n",
       "      <th></th>\n",
       "    </tr>\n",
       "  </thead>\n",
       "  <tbody>\n",
       "    <tr>\n",
       "      <th>FEMALE</th>\n",
       "      <td>43.693333</td>\n",
       "      <td>27831.368233</td>\n",
       "      <td>1.026667</td>\n",
       "    </tr>\n",
       "    <tr>\n",
       "      <th>MALE</th>\n",
       "      <td>41.096667</td>\n",
       "      <td>27216.694200</td>\n",
       "      <td>0.996667</td>\n",
       "    </tr>\n",
       "  </tbody>\n",
       "</table>\n",
       "</div>"
      ],
      "text/plain": [
       "              age        income  children\n",
       "gender                                   \n",
       "FEMALE  43.693333  27831.368233  1.026667\n",
       "MALE    41.096667  27216.694200  0.996667"
      ]
     },
     "execution_count": 8,
     "metadata": {},
     "output_type": "execute_result"
    }
   ],
   "source": [
    "bankTable.groupby(\"gender\").mean()"
   ]
  },
  {
   "cell_type": "markdown",
   "metadata": {},
   "source": [
    "- When grouping the numeric variables by gender, the female customers tend to have higher averaged age and income and a greater number of children."
   ]
  },
  {
   "cell_type": "code",
   "execution_count": 9,
   "metadata": {},
   "outputs": [
    {
     "data": {
      "text/html": [
       "<div>\n",
       "<style scoped>\n",
       "    .dataframe tbody tr th:only-of-type {\n",
       "        vertical-align: middle;\n",
       "    }\n",
       "\n",
       "    .dataframe tbody tr th {\n",
       "        vertical-align: top;\n",
       "    }\n",
       "\n",
       "    .dataframe thead th {\n",
       "        text-align: right;\n",
       "    }\n",
       "</style>\n",
       "<table border=\"1\" class=\"dataframe\">\n",
       "  <thead>\n",
       "    <tr style=\"text-align: right;\">\n",
       "      <th></th>\n",
       "      <th>age</th>\n",
       "      <th>income</th>\n",
       "      <th>children</th>\n",
       "    </tr>\n",
       "    <tr>\n",
       "      <th>region</th>\n",
       "      <th></th>\n",
       "      <th></th>\n",
       "      <th></th>\n",
       "    </tr>\n",
       "  </thead>\n",
       "  <tbody>\n",
       "    <tr>\n",
       "      <th>INNER_CITY</th>\n",
       "      <td>41.992565</td>\n",
       "      <td>26843.999963</td>\n",
       "      <td>0.951673</td>\n",
       "    </tr>\n",
       "    <tr>\n",
       "      <th>RURAL</th>\n",
       "      <td>43.010417</td>\n",
       "      <td>30027.605417</td>\n",
       "      <td>1.229167</td>\n",
       "    </tr>\n",
       "    <tr>\n",
       "      <th>SUBURBAN</th>\n",
       "      <td>43.725806</td>\n",
       "      <td>28656.356935</td>\n",
       "      <td>0.967742</td>\n",
       "    </tr>\n",
       "    <tr>\n",
       "      <th>TOWN</th>\n",
       "      <td>42.202312</td>\n",
       "      <td>26786.349653</td>\n",
       "      <td>1.000000</td>\n",
       "    </tr>\n",
       "  </tbody>\n",
       "</table>\n",
       "</div>"
      ],
      "text/plain": [
       "                  age        income  children\n",
       "region                                       \n",
       "INNER_CITY  41.992565  26843.999963  0.951673\n",
       "RURAL       43.010417  30027.605417  1.229167\n",
       "SUBURBAN    43.725806  28656.356935  0.967742\n",
       "TOWN        42.202312  26786.349653  1.000000"
      ]
     },
     "execution_count": 9,
     "metadata": {},
     "output_type": "execute_result"
    }
   ],
   "source": [
    "bankTable.groupby(\"region\").mean()"
   ]
  },
  {
   "cell_type": "markdown",
   "metadata": {},
   "source": [
    "- When grouping the numeric variables by region, we can see some implications. Comparing to other areas, the customers from rural area tend to have higher averaged income, and greater number of children.\n",
    "- The sububan customers has the highest averaged age and the inner city customers has the lowest averaged age, implying that younger people tend to live in the inner city.\n",
    "- For income, the rural customers have the highest averaged income and the town customers has the lowest averaged income.\n",
    "- For children,the rural customers have the highest averaged children and the inner city customers has the lowest averaged children, implying that people in rural area tend to have more children."
   ]
  },
  {
   "cell_type": "code",
   "execution_count": 10,
   "metadata": {},
   "outputs": [
    {
     "data": {
      "text/html": [
       "<div>\n",
       "<style scoped>\n",
       "    .dataframe tbody tr th:only-of-type {\n",
       "        vertical-align: middle;\n",
       "    }\n",
       "\n",
       "    .dataframe tbody tr th {\n",
       "        vertical-align: top;\n",
       "    }\n",
       "\n",
       "    .dataframe thead th {\n",
       "        text-align: right;\n",
       "    }\n",
       "</style>\n",
       "<table border=\"1\" class=\"dataframe\">\n",
       "  <thead>\n",
       "    <tr style=\"text-align: right;\">\n",
       "      <th></th>\n",
       "      <th>age</th>\n",
       "      <th>income</th>\n",
       "      <th>children</th>\n",
       "    </tr>\n",
       "    <tr>\n",
       "      <th>married</th>\n",
       "      <th></th>\n",
       "      <th></th>\n",
       "      <th></th>\n",
       "    </tr>\n",
       "  </thead>\n",
       "  <tbody>\n",
       "    <tr>\n",
       "      <th>NO</th>\n",
       "      <td>42.186275</td>\n",
       "      <td>27674.627108</td>\n",
       "      <td>1.083333</td>\n",
       "    </tr>\n",
       "    <tr>\n",
       "      <th>YES</th>\n",
       "      <td>42.502525</td>\n",
       "      <td>27446.451515</td>\n",
       "      <td>0.974747</td>\n",
       "    </tr>\n",
       "  </tbody>\n",
       "</table>\n",
       "</div>"
      ],
      "text/plain": [
       "               age        income  children\n",
       "married                                   \n",
       "NO       42.186275  27674.627108  1.083333\n",
       "YES      42.502525  27446.451515  0.974747"
      ]
     },
     "execution_count": 10,
     "metadata": {},
     "output_type": "execute_result"
    }
   ],
   "source": [
    "bankTable.groupby(\"married\").mean()"
   ]
  },
  {
   "cell_type": "markdown",
   "metadata": {},
   "source": [
    "- When grouping by marriage status, the married customers tend to have higher averaged age, lower income and lower number of children."
   ]
  },
  {
   "cell_type": "code",
   "execution_count": 11,
   "metadata": {},
   "outputs": [
    {
     "data": {
      "text/html": [
       "<div>\n",
       "<style scoped>\n",
       "    .dataframe tbody tr th:only-of-type {\n",
       "        vertical-align: middle;\n",
       "    }\n",
       "\n",
       "    .dataframe tbody tr th {\n",
       "        vertical-align: top;\n",
       "    }\n",
       "\n",
       "    .dataframe thead th {\n",
       "        text-align: right;\n",
       "    }\n",
       "</style>\n",
       "<table border=\"1\" class=\"dataframe\">\n",
       "  <thead>\n",
       "    <tr style=\"text-align: right;\">\n",
       "      <th></th>\n",
       "      <th>age</th>\n",
       "      <th>income</th>\n",
       "      <th>children</th>\n",
       "    </tr>\n",
       "    <tr>\n",
       "      <th>car</th>\n",
       "      <th></th>\n",
       "      <th></th>\n",
       "      <th></th>\n",
       "    </tr>\n",
       "  </thead>\n",
       "  <tbody>\n",
       "    <tr>\n",
       "      <th>NO</th>\n",
       "      <td>41.289474</td>\n",
       "      <td>26486.807336</td>\n",
       "      <td>0.973684</td>\n",
       "    </tr>\n",
       "    <tr>\n",
       "      <th>YES</th>\n",
       "      <td>43.530405</td>\n",
       "      <td>28589.288176</td>\n",
       "      <td>1.050676</td>\n",
       "    </tr>\n",
       "  </tbody>\n",
       "</table>\n",
       "</div>"
      ],
      "text/plain": [
       "           age        income  children\n",
       "car                                   \n",
       "NO   41.289474  26486.807336  0.973684\n",
       "YES  43.530405  28589.288176  1.050676"
      ]
     },
     "execution_count": 11,
     "metadata": {},
     "output_type": "execute_result"
    }
   ],
   "source": [
    "bankTable.groupby(\"car\").mean()"
   ]
  },
  {
   "cell_type": "markdown",
   "metadata": {},
   "source": [
    "- When grouping by car, the customers who own car tend to have higher averaged age and income and greater number of children."
   ]
  },
  {
   "cell_type": "code",
   "execution_count": 12,
   "metadata": {},
   "outputs": [
    {
     "data": {
      "text/html": [
       "<div>\n",
       "<style scoped>\n",
       "    .dataframe tbody tr th:only-of-type {\n",
       "        vertical-align: middle;\n",
       "    }\n",
       "\n",
       "    .dataframe tbody tr th {\n",
       "        vertical-align: top;\n",
       "    }\n",
       "\n",
       "    .dataframe thead th {\n",
       "        text-align: right;\n",
       "    }\n",
       "</style>\n",
       "<table border=\"1\" class=\"dataframe\">\n",
       "  <thead>\n",
       "    <tr style=\"text-align: right;\">\n",
       "      <th></th>\n",
       "      <th>age</th>\n",
       "      <th>income</th>\n",
       "      <th>children</th>\n",
       "    </tr>\n",
       "    <tr>\n",
       "      <th>savings_acct</th>\n",
       "      <th></th>\n",
       "      <th></th>\n",
       "      <th></th>\n",
       "    </tr>\n",
       "  </thead>\n",
       "  <tbody>\n",
       "    <tr>\n",
       "      <th>NO</th>\n",
       "      <td>38.430108</td>\n",
       "      <td>22405.999194</td>\n",
       "      <td>0.946237</td>\n",
       "    </tr>\n",
       "    <tr>\n",
       "      <th>YES</th>\n",
       "      <td>44.176329</td>\n",
       "      <td>29823.436908</td>\n",
       "      <td>1.041063</td>\n",
       "    </tr>\n",
       "  </tbody>\n",
       "</table>\n",
       "</div>"
      ],
      "text/plain": [
       "                    age        income  children\n",
       "savings_acct                                   \n",
       "NO            38.430108  22405.999194  0.946237\n",
       "YES           44.176329  29823.436908  1.041063"
      ]
     },
     "execution_count": 12,
     "metadata": {},
     "output_type": "execute_result"
    }
   ],
   "source": [
    "bankTable.groupby(\"savings_acct\").mean()"
   ]
  },
  {
   "cell_type": "markdown",
   "metadata": {},
   "source": [
    "- When grouping by saving account , the customers have saving accounts tend to have higher averaged age and income and greater number of children. "
   ]
  },
  {
   "cell_type": "code",
   "execution_count": 13,
   "metadata": {},
   "outputs": [
    {
     "data": {
      "text/html": [
       "<div>\n",
       "<style scoped>\n",
       "    .dataframe tbody tr th:only-of-type {\n",
       "        vertical-align: middle;\n",
       "    }\n",
       "\n",
       "    .dataframe tbody tr th {\n",
       "        vertical-align: top;\n",
       "    }\n",
       "\n",
       "    .dataframe thead th {\n",
       "        text-align: right;\n",
       "    }\n",
       "</style>\n",
       "<table border=\"1\" class=\"dataframe\">\n",
       "  <thead>\n",
       "    <tr style=\"text-align: right;\">\n",
       "      <th></th>\n",
       "      <th>age</th>\n",
       "      <th>income</th>\n",
       "      <th>children</th>\n",
       "    </tr>\n",
       "    <tr>\n",
       "      <th>current_acct</th>\n",
       "      <th></th>\n",
       "      <th></th>\n",
       "      <th></th>\n",
       "    </tr>\n",
       "  </thead>\n",
       "  <tbody>\n",
       "    <tr>\n",
       "      <th>NO</th>\n",
       "      <td>43.296552</td>\n",
       "      <td>26802.195655</td>\n",
       "      <td>1.000000</td>\n",
       "    </tr>\n",
       "    <tr>\n",
       "      <th>YES</th>\n",
       "      <td>42.107692</td>\n",
       "      <td>27754.066725</td>\n",
       "      <td>1.015385</td>\n",
       "    </tr>\n",
       "  </tbody>\n",
       "</table>\n",
       "</div>"
      ],
      "text/plain": [
       "                    age        income  children\n",
       "current_acct                                   \n",
       "NO            43.296552  26802.195655  1.000000\n",
       "YES           42.107692  27754.066725  1.015385"
      ]
     },
     "execution_count": 13,
     "metadata": {},
     "output_type": "execute_result"
    }
   ],
   "source": [
    "bankTable.groupby(\"current_acct\").mean()"
   ]
  },
  {
   "cell_type": "markdown",
   "metadata": {},
   "source": [
    "- For current account, the customers who have current accounts have slightly higher averaged income and slightly greater number of children. However, the customers who do not have current accounts have slightly higher averaged age"
   ]
  },
  {
   "cell_type": "code",
   "execution_count": 14,
   "metadata": {},
   "outputs": [
    {
     "data": {
      "text/html": [
       "<div>\n",
       "<style scoped>\n",
       "    .dataframe tbody tr th:only-of-type {\n",
       "        vertical-align: middle;\n",
       "    }\n",
       "\n",
       "    .dataframe tbody tr th {\n",
       "        vertical-align: top;\n",
       "    }\n",
       "\n",
       "    .dataframe thead th {\n",
       "        text-align: right;\n",
       "    }\n",
       "</style>\n",
       "<table border=\"1\" class=\"dataframe\">\n",
       "  <thead>\n",
       "    <tr style=\"text-align: right;\">\n",
       "      <th></th>\n",
       "      <th>age</th>\n",
       "      <th>income</th>\n",
       "      <th>children</th>\n",
       "    </tr>\n",
       "    <tr>\n",
       "      <th>mortgage</th>\n",
       "      <th></th>\n",
       "      <th></th>\n",
       "      <th></th>\n",
       "    </tr>\n",
       "  </thead>\n",
       "  <tbody>\n",
       "    <tr>\n",
       "      <th>NO</th>\n",
       "      <td>42.565217</td>\n",
       "      <td>27662.194680</td>\n",
       "      <td>1.069054</td>\n",
       "    </tr>\n",
       "    <tr>\n",
       "      <th>YES</th>\n",
       "      <td>42.076555</td>\n",
       "      <td>27265.553158</td>\n",
       "      <td>0.904306</td>\n",
       "    </tr>\n",
       "  </tbody>\n",
       "</table>\n",
       "</div>"
      ],
      "text/plain": [
       "                age        income  children\n",
       "mortgage                                   \n",
       "NO        42.565217  27662.194680  1.069054\n",
       "YES       42.076555  27265.553158  0.904306"
      ]
     },
     "execution_count": 14,
     "metadata": {},
     "output_type": "execute_result"
    }
   ],
   "source": [
    "bankTable.groupby(\"mortgage\").mean()"
   ]
  },
  {
   "cell_type": "markdown",
   "metadata": {},
   "source": [
    "- When grouping by mortgage , the customers who have and do not mortgage tend to have similar averaged age, income and, number of children."
   ]
  },
  {
   "cell_type": "code",
   "execution_count": 15,
   "metadata": {},
   "outputs": [
    {
     "data": {
      "text/html": [
       "<div>\n",
       "<style scoped>\n",
       "    .dataframe tbody tr th:only-of-type {\n",
       "        vertical-align: middle;\n",
       "    }\n",
       "\n",
       "    .dataframe tbody tr th {\n",
       "        vertical-align: top;\n",
       "    }\n",
       "\n",
       "    .dataframe thead th {\n",
       "        text-align: right;\n",
       "    }\n",
       "</style>\n",
       "<table border=\"1\" class=\"dataframe\">\n",
       "  <thead>\n",
       "    <tr style=\"text-align: right;\">\n",
       "      <th></th>\n",
       "      <th>age</th>\n",
       "      <th>income</th>\n",
       "      <th>children</th>\n",
       "    </tr>\n",
       "    <tr>\n",
       "      <th>pep</th>\n",
       "      <th></th>\n",
       "      <th></th>\n",
       "      <th></th>\n",
       "    </tr>\n",
       "  </thead>\n",
       "  <tbody>\n",
       "    <tr>\n",
       "      <th>NO</th>\n",
       "      <td>40.098160</td>\n",
       "      <td>24900.953374</td>\n",
       "      <td>1.067485</td>\n",
       "    </tr>\n",
       "    <tr>\n",
       "      <th>YES</th>\n",
       "      <td>45.127737</td>\n",
       "      <td>30644.919453</td>\n",
       "      <td>0.945255</td>\n",
       "    </tr>\n",
       "  </tbody>\n",
       "</table>\n",
       "</div>"
      ],
      "text/plain": [
       "           age        income  children\n",
       "pep                                   \n",
       "NO   40.098160  24900.953374  1.067485\n",
       "YES  45.127737  30644.919453  0.945255"
      ]
     },
     "execution_count": 15,
     "metadata": {},
     "output_type": "execute_result"
    }
   ],
   "source": [
    "bankTable.groupby(\"pep\").mean()"
   ]
  },
  {
   "cell_type": "markdown",
   "metadata": {},
   "source": [
    "- The customers who purchased the PEP product tend to have a higher averaged age and income, but lower number of childeren. "
   ]
  },
  {
   "cell_type": "markdown",
   "metadata": {},
   "source": [
    "**There are 8 Categorical Attributes: gender, region, married, car, save_acct, current_acct, mortgage, and pep**"
   ]
  },
  {
   "cell_type": "markdown",
   "metadata": {},
   "source": [
    "### Distribution of 8 categorical variables"
   ]
  },
  {
   "cell_type": "code",
   "execution_count": 16,
   "metadata": {},
   "outputs": [
    {
     "data": {
      "text/plain": [
       "FEMALE    300\n",
       "MALE      300\n",
       "Name: gender, dtype: int64"
      ]
     },
     "execution_count": 16,
     "metadata": {},
     "output_type": "execute_result"
    }
   ],
   "source": [
    "temp1 = bankTable[\"gender\"].value_counts()\n",
    "temp1"
   ]
  },
  {
   "cell_type": "code",
   "execution_count": 17,
   "metadata": {},
   "outputs": [
    {
     "data": {
      "text/plain": [
       "INNER_CITY    269\n",
       "TOWN          173\n",
       "RURAL          96\n",
       "SUBURBAN       62\n",
       "Name: region, dtype: int64"
      ]
     },
     "execution_count": 17,
     "metadata": {},
     "output_type": "execute_result"
    }
   ],
   "source": [
    "temp2 = bankTable[\"region\"].value_counts()\n",
    "temp2"
   ]
  },
  {
   "cell_type": "code",
   "execution_count": 18,
   "metadata": {},
   "outputs": [
    {
     "data": {
      "text/plain": [
       "<matplotlib.axes._subplots.AxesSubplot at 0x1f6d63509e8>"
      ]
     },
     "execution_count": 18,
     "metadata": {},
     "output_type": "execute_result"
    },
    {
     "data": {
      "image/png": "[encoded data removed]",
      "text/plain": [
       "<Figure size 720x288 with 2 Axes>"
      ]
     },
     "metadata": {
      "needs_background": "light"
     },
     "output_type": "display_data"
    }
   ],
   "source": [
    "#Create bar chart for categorical variables\n",
    "fig = plt.figure(figsize=(10,4))\n",
    "ax1 = fig.add_subplot(121)\n",
    "ax1.set_xlabel('gender')\n",
    "ax1.set_title(\"Gender Distribution\")\n",
    "temp1.plot(kind='bar', grid = False)\n",
    "\n",
    "ax1 = fig.add_subplot(122)\n",
    "ax1.set_xlabel('region')\n",
    "ax1.set_title(\"Region Distribution\")\n",
    "temp2.plot(kind='bar', grid = False)"
   ]
  },
  {
   "cell_type": "markdown",
   "metadata": {},
   "source": [
    "- There are an equal number of female and male customers (300 female and 300 male customers).\n",
    "- The majority of customers (269 customers) are in the inner-city region accounting for about 44.8% of total customers.\n",
    "- The minority of customers (62 customers) live in the suburban region accounting for about 10.3% of total customers."
   ]
  },
  {
   "cell_type": "code",
   "execution_count": 19,
   "metadata": {},
   "outputs": [
    {
     "data": {
      "text/plain": [
       "YES    396\n",
       "NO     204\n",
       "Name: married, dtype: int64"
      ]
     },
     "execution_count": 19,
     "metadata": {},
     "output_type": "execute_result"
    }
   ],
   "source": [
    "temp3 = bankTable[\"married\"].value_counts()\n",
    "temp3"
   ]
  },
  {
   "cell_type": "code",
   "execution_count": 20,
   "metadata": {},
   "outputs": [
    {
     "data": {
      "text/plain": [
       "NO     304\n",
       "YES    296\n",
       "Name: car, dtype: int64"
      ]
     },
     "execution_count": 20,
     "metadata": {},
     "output_type": "execute_result"
    }
   ],
   "source": [
    "temp4 = bankTable[\"car\"].value_counts()\n",
    "temp4"
   ]
  },
  {
   "cell_type": "code",
   "execution_count": 21,
   "metadata": {},
   "outputs": [
    {
     "data": {
      "text/plain": [
       "<matplotlib.axes._subplots.AxesSubplot at 0x1f6d6453828>"
      ]
     },
     "execution_count": 21,
     "metadata": {},
     "output_type": "execute_result"
    },
    {
     "data": {
      "image/png": "[encoded data removed]",
      "text/plain": [
       "<Figure size 720x288 with 2 Axes>"
      ]
     },
     "metadata": {
      "needs_background": "light"
     },
     "output_type": "display_data"
    }
   ],
   "source": [
    "fig = plt.figure(figsize=(10,4))\n",
    "ax1 = fig.add_subplot(121)\n",
    "ax1.set_xlabel('married')\n",
    "ax1.set_title(\"Married Distribution\")\n",
    "temp3.plot(kind='bar', grid = False)\n",
    "\n",
    "ax1 = fig.add_subplot(122)\n",
    "ax1.set_xlabel('car')\n",
    "ax1.set_title(\"Car Distribution\")\n",
    "temp4.plot(kind='bar', grid = False)"
   ]
  },
  {
   "cell_type": "markdown",
   "metadata": {},
   "source": [
    "\n",
    "- The 66% of bank customers (396 of 600 customers) are married.\n",
    "- There are 296 customers or 49.3% of total customers own cars."
   ]
  },
  {
   "cell_type": "code",
   "execution_count": 22,
   "metadata": {},
   "outputs": [
    {
     "data": {
      "text/plain": [
       "YES    414\n",
       "NO     186\n",
       "Name: savings_acct, dtype: int64"
      ]
     },
     "execution_count": 22,
     "metadata": {},
     "output_type": "execute_result"
    }
   ],
   "source": [
    "temp5 = bankTable[\"savings_acct\"].value_counts()\n",
    "temp5"
   ]
  },
  {
   "cell_type": "code",
   "execution_count": 23,
   "metadata": {},
   "outputs": [
    {
     "data": {
      "text/plain": [
       "YES    455\n",
       "NO     145\n",
       "Name: current_acct, dtype: int64"
      ]
     },
     "execution_count": 23,
     "metadata": {},
     "output_type": "execute_result"
    }
   ],
   "source": [
    "temp6 = bankTable[\"current_acct\"].value_counts()\n",
    "temp6"
   ]
  },
  {
   "cell_type": "code",
   "execution_count": 24,
   "metadata": {},
   "outputs": [
    {
     "data": {
      "text/plain": [
       "<matplotlib.axes._subplots.AxesSubplot at 0x1f6d6513198>"
      ]
     },
     "execution_count": 24,
     "metadata": {},
     "output_type": "execute_result"
    },
    {
     "data": {
      "image/png": "[encoded data removed]",
      "text/plain": [
       "<Figure size 720x288 with 2 Axes>"
      ]
     },
     "metadata": {
      "needs_background": "light"
     },
     "output_type": "display_data"
    }
   ],
   "source": [
    "fig = plt.figure(figsize=(10,4))\n",
    "ax1 = fig.add_subplot(121)\n",
    "ax1.set_xlabel('savings_acct')\n",
    "ax1.set_title(\"Savings_acct Distribution\")\n",
    "temp5.plot(kind='bar', grid = False)\n",
    "\n",
    "ax1 = fig.add_subplot(122)\n",
    "ax1.set_xlabel('current_acct')\n",
    "ax1.set_title(\"Current_acct Distribution\")\n",
    "temp6.plot(kind='bar', grid = False)"
   ]
  },
  {
   "cell_type": "markdown",
   "metadata": {},
   "source": [
    "- The majority of bank customers have saving accounts and current accounts.\n",
    "- The 69% of bank customers have saving account and 75.8% of bank customers have current checking account."
   ]
  },
  {
   "cell_type": "code",
   "execution_count": 25,
   "metadata": {},
   "outputs": [
    {
     "data": {
      "text/plain": [
       "NO     391\n",
       "YES    209\n",
       "Name: mortgage, dtype: int64"
      ]
     },
     "execution_count": 25,
     "metadata": {},
     "output_type": "execute_result"
    }
   ],
   "source": [
    "temp7 = bankTable[\"mortgage\"].value_counts()\n",
    "temp7"
   ]
  },
  {
   "cell_type": "code",
   "execution_count": 26,
   "metadata": {},
   "outputs": [
    {
     "data": {
      "text/plain": [
       "NO     326\n",
       "YES    274\n",
       "Name: pep, dtype: int64"
      ]
     },
     "execution_count": 26,
     "metadata": {},
     "output_type": "execute_result"
    }
   ],
   "source": [
    "temp8 = bankTable[\"pep\"].value_counts()\n",
    "temp8"
   ]
  },
  {
   "cell_type": "code",
   "execution_count": 27,
   "metadata": {},
   "outputs": [
    {
     "data": {
      "text/plain": [
       "<matplotlib.axes._subplots.AxesSubplot at 0x1f6d65cb6d8>"
      ]
     },
     "execution_count": 27,
     "metadata": {},
     "output_type": "execute_result"
    },
    {
     "data": {
      "image/png": "[encoded data removed]",
      "text/plain": [
       "<Figure size 720x288 with 2 Axes>"
      ]
     },
     "metadata": {
      "needs_background": "light"
     },
     "output_type": "display_data"
    }
   ],
   "source": [
    "fig = plt.figure(figsize=(10,4))\n",
    "ax1 = fig.add_subplot(121)\n",
    "ax1.set_xlabel('mortgage')\n",
    "ax1.set_title(\"Mortgage Distribution\")\n",
    "temp7.plot(kind='bar', grid = False)\n",
    "\n",
    "ax1 = fig.add_subplot(122)\n",
    "ax1.set_xlabel('Pep')\n",
    "ax1.set_title(\"Personal Equity Plan (pep) Distribution\")\n",
    "temp8.plot(kind='bar', grid = False)"
   ]
  },
  {
   "cell_type": "markdown",
   "metadata": {},
   "source": [
    "- There are the greater number of customers who did not purchase pep and did not have a mortgage."
   ]
  },
  {
   "cell_type": "markdown",
   "metadata": {},
   "source": [
    "## Question 2:  Suppose that the hypothetical bank is particularly interested in customers who buy the PEP (Personal Equity Plan) product. Compare and contrast the subsets of customers who buy and don't buy the PEP. Compute summaries (as in part 1) of the selected data with respect to all other attributes. Can you observe any significant differences between these segments of customers? Discuss your observations."
   ]
  },
  {
   "cell_type": "code",
   "execution_count": 28,
   "metadata": {},
   "outputs": [
    {
     "data": {
      "text/html": [
       "<div>\n",
       "<style scoped>\n",
       "    .dataframe tbody tr th:only-of-type {\n",
       "        vertical-align: middle;\n",
       "    }\n",
       "\n",
       "    .dataframe tbody tr th {\n",
       "        vertical-align: top;\n",
       "    }\n",
       "\n",
       "    .dataframe thead th {\n",
       "        text-align: right;\n",
       "    }\n",
       "</style>\n",
       "<table border=\"1\" class=\"dataframe\">\n",
       "  <thead>\n",
       "    <tr style=\"text-align: right;\">\n",
       "      <th></th>\n",
       "      <th></th>\n",
       "      <th>age</th>\n",
       "      <th>children</th>\n",
       "      <th>income</th>\n",
       "    </tr>\n",
       "    <tr>\n",
       "      <th>pep</th>\n",
       "      <th></th>\n",
       "      <th></th>\n",
       "      <th></th>\n",
       "      <th></th>\n",
       "    </tr>\n",
       "  </thead>\n",
       "  <tbody>\n",
       "    <tr>\n",
       "      <th rowspan=\"8\" valign=\"top\">NO</th>\n",
       "      <th>count</th>\n",
       "      <td>326.000000</td>\n",
       "      <td>326.000000</td>\n",
       "      <td>326.000000</td>\n",
       "    </tr>\n",
       "    <tr>\n",
       "      <th>mean</th>\n",
       "      <td>40.098160</td>\n",
       "      <td>1.067485</td>\n",
       "      <td>24900.953374</td>\n",
       "    </tr>\n",
       "    <tr>\n",
       "      <th>std</th>\n",
       "      <td>14.123506</td>\n",
       "      <td>1.195524</td>\n",
       "      <td>11661.123422</td>\n",
       "    </tr>\n",
       "    <tr>\n",
       "      <th>min</th>\n",
       "      <td>18.000000</td>\n",
       "      <td>0.000000</td>\n",
       "      <td>5014.210000</td>\n",
       "    </tr>\n",
       "    <tr>\n",
       "      <th>25%</th>\n",
       "      <td>27.000000</td>\n",
       "      <td>0.000000</td>\n",
       "      <td>15366.475000</td>\n",
       "    </tr>\n",
       "    <tr>\n",
       "      <th>50%</th>\n",
       "      <td>40.000000</td>\n",
       "      <td>0.000000</td>\n",
       "      <td>23105.000000</td>\n",
       "    </tr>\n",
       "    <tr>\n",
       "      <th>75%</th>\n",
       "      <td>51.000000</td>\n",
       "      <td>2.000000</td>\n",
       "      <td>31210.900000</td>\n",
       "    </tr>\n",
       "    <tr>\n",
       "      <th>max</th>\n",
       "      <td>67.000000</td>\n",
       "      <td>3.000000</td>\n",
       "      <td>61554.600000</td>\n",
       "    </tr>\n",
       "    <tr>\n",
       "      <th rowspan=\"8\" valign=\"top\">YES</th>\n",
       "      <th>count</th>\n",
       "      <td>274.000000</td>\n",
       "      <td>274.000000</td>\n",
       "      <td>274.000000</td>\n",
       "    </tr>\n",
       "    <tr>\n",
       "      <th>mean</th>\n",
       "      <td>45.127737</td>\n",
       "      <td>0.945255</td>\n",
       "      <td>30644.919453</td>\n",
       "    </tr>\n",
       "    <tr>\n",
       "      <th>std</th>\n",
       "      <td>14.327991</td>\n",
       "      <td>0.860571</td>\n",
       "      <td>13609.613043</td>\n",
       "    </tr>\n",
       "    <tr>\n",
       "      <th>min</th>\n",
       "      <td>18.000000</td>\n",
       "      <td>0.000000</td>\n",
       "      <td>7756.360000</td>\n",
       "    </tr>\n",
       "    <tr>\n",
       "      <th>25%</th>\n",
       "      <td>34.000000</td>\n",
       "      <td>0.000000</td>\n",
       "      <td>19639.475000</td>\n",
       "    </tr>\n",
       "    <tr>\n",
       "      <th>50%</th>\n",
       "      <td>45.000000</td>\n",
       "      <td>1.000000</td>\n",
       "      <td>28080.050000</td>\n",
       "    </tr>\n",
       "    <tr>\n",
       "      <th>75%</th>\n",
       "      <td>58.000000</td>\n",
       "      <td>1.000000</td>\n",
       "      <td>38458.350000</td>\n",
       "    </tr>\n",
       "    <tr>\n",
       "      <th>max</th>\n",
       "      <td>67.000000</td>\n",
       "      <td>3.000000</td>\n",
       "      <td>63130.100000</td>\n",
       "    </tr>\n",
       "  </tbody>\n",
       "</table>\n",
       "</div>"
      ],
      "text/plain": [
       "                  age    children        income\n",
       "pep                                            \n",
       "NO  count  326.000000  326.000000    326.000000\n",
       "    mean    40.098160    1.067485  24900.953374\n",
       "    std     14.123506    1.195524  11661.123422\n",
       "    min     18.000000    0.000000   5014.210000\n",
       "    25%     27.000000    0.000000  15366.475000\n",
       "    50%     40.000000    0.000000  23105.000000\n",
       "    75%     51.000000    2.000000  31210.900000\n",
       "    max     67.000000    3.000000  61554.600000\n",
       "YES count  274.000000  274.000000    274.000000\n",
       "    mean    45.127737    0.945255  30644.919453\n",
       "    std     14.327991    0.860571  13609.613043\n",
       "    min     18.000000    0.000000   7756.360000\n",
       "    25%     34.000000    0.000000  19639.475000\n",
       "    50%     45.000000    1.000000  28080.050000\n",
       "    75%     58.000000    1.000000  38458.350000\n",
       "    max     67.000000    3.000000  63130.100000"
      ]
     },
     "execution_count": 28,
     "metadata": {},
     "output_type": "execute_result"
    }
   ],
   "source": [
    "#Examine customers who purchased PEP with numberic variables\n",
    "temp9 = bankTable.groupby(\"pep\").describe()\n",
    "temp9\n",
    "temp9.stack()"
   ]
  },
  {
   "cell_type": "code",
   "execution_count": 29,
   "metadata": {},
   "outputs": [
    {
     "data": {
      "text/html": [
       "<div>\n",
       "<style scoped>\n",
       "    .dataframe tbody tr th:only-of-type {\n",
       "        vertical-align: middle;\n",
       "    }\n",
       "\n",
       "    .dataframe tbody tr th {\n",
       "        vertical-align: top;\n",
       "    }\n",
       "\n",
       "    .dataframe thead th {\n",
       "        text-align: right;\n",
       "    }\n",
       "</style>\n",
       "<table border=\"1\" class=\"dataframe\">\n",
       "  <thead>\n",
       "    <tr style=\"text-align: right;\">\n",
       "      <th></th>\n",
       "      <th>age</th>\n",
       "      <th>income</th>\n",
       "      <th>children</th>\n",
       "    </tr>\n",
       "    <tr>\n",
       "      <th>pep</th>\n",
       "      <th></th>\n",
       "      <th></th>\n",
       "      <th></th>\n",
       "    </tr>\n",
       "  </thead>\n",
       "  <tbody>\n",
       "    <tr>\n",
       "      <th>NO</th>\n",
       "      <td>40.098160</td>\n",
       "      <td>24900.953374</td>\n",
       "      <td>1.067485</td>\n",
       "    </tr>\n",
       "    <tr>\n",
       "      <th>YES</th>\n",
       "      <td>45.127737</td>\n",
       "      <td>30644.919453</td>\n",
       "      <td>0.945255</td>\n",
       "    </tr>\n",
       "  </tbody>\n",
       "</table>\n",
       "</div>"
      ],
      "text/plain": [
       "           age        income  children\n",
       "pep                                   \n",
       "NO   40.098160  24900.953374  1.067485\n",
       "YES  45.127737  30644.919453  0.945255"
      ]
     },
     "execution_count": 29,
     "metadata": {},
     "output_type": "execute_result"
    }
   ],
   "source": [
    "bankTable.groupby(\"pep\").mean()"
   ]
  },
  {
   "cell_type": "markdown",
   "metadata": {},
   "source": [
    "**From the output above**\n",
    "- There are greater number of customers who didn't purchase PEP product or about 54% of total bank customers.\n",
    "- Comparing to the customers who didn't purchase PEP product, the customers who purchased PEP product have a higher avaraged age (45.12 years old), a higher averaged income (30,644.91), but a lower averaged number of children (0.94)."
   ]
  },
  {
   "cell_type": "code",
   "execution_count": 30,
   "metadata": {},
   "outputs": [
    {
     "data": {
      "text/html": [
       "<div>\n",
       "<style scoped>\n",
       "    .dataframe tbody tr th:only-of-type {\n",
       "        vertical-align: middle;\n",
       "    }\n",
       "\n",
       "    .dataframe tbody tr th {\n",
       "        vertical-align: top;\n",
       "    }\n",
       "\n",
       "    .dataframe thead th {\n",
       "        text-align: right;\n",
       "    }\n",
       "</style>\n",
       "<table border=\"1\" class=\"dataframe\">\n",
       "  <thead>\n",
       "    <tr style=\"text-align: right;\">\n",
       "      <th>gender</th>\n",
       "      <th>FEMALE</th>\n",
       "      <th>MALE</th>\n",
       "    </tr>\n",
       "    <tr>\n",
       "      <th>pep</th>\n",
       "      <th></th>\n",
       "      <th></th>\n",
       "    </tr>\n",
       "  </thead>\n",
       "  <tbody>\n",
       "    <tr>\n",
       "      <th>NO</th>\n",
       "      <td>170</td>\n",
       "      <td>156</td>\n",
       "    </tr>\n",
       "    <tr>\n",
       "      <th>YES</th>\n",
       "      <td>130</td>\n",
       "      <td>144</td>\n",
       "    </tr>\n",
       "  </tbody>\n",
       "</table>\n",
       "</div>"
      ],
      "text/plain": [
       "gender  FEMALE  MALE\n",
       "pep                 \n",
       "NO         170   156\n",
       "YES        130   144"
      ]
     },
     "execution_count": 30,
     "metadata": {},
     "output_type": "execute_result"
    }
   ],
   "source": [
    "#Examine customers who purchased PEP with categorical variables\n",
    "gg = pd.crosstab(bankTable[\"pep\"], bankTable[\"gender\"])\n",
    "gg"
   ]
  },
  {
   "cell_type": "code",
   "execution_count": 31,
   "metadata": {},
   "outputs": [
    {
     "data": {
      "image/png": "[encoded data removed]",
      "text/plain": [
       "<Figure size 432x288 with 1 Axes>"
      ]
     },
     "metadata": {
      "needs_background": "light"
     },
     "output_type": "display_data"
    }
   ],
   "source": [
    "#Plot graph between gender and pep products\n",
    "plt.show(gg.plot(kind=\"bar\", title=\"Gender\"))"
   ]
  },
  {
   "cell_type": "markdown",
   "metadata": {},
   "source": [
    "- There are more male customers who purchased PEP products than female customers."
   ]
  },
  {
   "cell_type": "code",
   "execution_count": 32,
   "metadata": {},
   "outputs": [
    {
     "data": {
      "text/html": [
       "<div>\n",
       "<style scoped>\n",
       "    .dataframe tbody tr th:only-of-type {\n",
       "        vertical-align: middle;\n",
       "    }\n",
       "\n",
       "    .dataframe tbody tr th {\n",
       "        vertical-align: top;\n",
       "    }\n",
       "\n",
       "    .dataframe thead th {\n",
       "        text-align: right;\n",
       "    }\n",
       "</style>\n",
       "<table border=\"1\" class=\"dataframe\">\n",
       "  <thead>\n",
       "    <tr style=\"text-align: right;\">\n",
       "      <th>region</th>\n",
       "      <th>INNER_CITY</th>\n",
       "      <th>RURAL</th>\n",
       "      <th>SUBURBAN</th>\n",
       "      <th>TOWN</th>\n",
       "    </tr>\n",
       "    <tr>\n",
       "      <th>pep</th>\n",
       "      <th></th>\n",
       "      <th></th>\n",
       "      <th></th>\n",
       "      <th></th>\n",
       "    </tr>\n",
       "  </thead>\n",
       "  <tbody>\n",
       "    <tr>\n",
       "      <th>NO</th>\n",
       "      <td>146</td>\n",
       "      <td>50</td>\n",
       "      <td>28</td>\n",
       "      <td>102</td>\n",
       "    </tr>\n",
       "    <tr>\n",
       "      <th>YES</th>\n",
       "      <td>123</td>\n",
       "      <td>46</td>\n",
       "      <td>34</td>\n",
       "      <td>71</td>\n",
       "    </tr>\n",
       "  </tbody>\n",
       "</table>\n",
       "</div>"
      ],
      "text/plain": [
       "region  INNER_CITY  RURAL  SUBURBAN  TOWN\n",
       "pep                                      \n",
       "NO             146     50        28   102\n",
       "YES            123     46        34    71"
      ]
     },
     "execution_count": 32,
     "metadata": {},
     "output_type": "execute_result"
    }
   ],
   "source": [
    "#Plot graph between region and pep products\n",
    "gg = pd.crosstab(bankTable[\"pep\"], bankTable[\"region\"])\n",
    "gg"
   ]
  },
  {
   "cell_type": "code",
   "execution_count": 33,
   "metadata": {},
   "outputs": [
    {
     "data": {
      "image/png": "[encoded data removed]",
      "text/plain": [
       "<Figure size 432x288 with 1 Axes>"
      ]
     },
     "metadata": {
      "needs_background": "light"
     },
     "output_type": "display_data"
    }
   ],
   "source": [
    "plt.show(gg.plot(kind=\"bar\", title=\"Region\"))"
   ]
  },
  {
   "cell_type": "markdown",
   "metadata": {},
   "source": [
    "- The region graph shows similar trend regarding pep product. The majority of customers who purchased and did not purchase PEP products live in the inner city and town areas. "
   ]
  },
  {
   "cell_type": "code",
   "execution_count": 34,
   "metadata": {},
   "outputs": [
    {
     "data": {
      "text/html": [
       "<div>\n",
       "<style scoped>\n",
       "    .dataframe tbody tr th:only-of-type {\n",
       "        vertical-align: middle;\n",
       "    }\n",
       "\n",
       "    .dataframe tbody tr th {\n",
       "        vertical-align: top;\n",
       "    }\n",
       "\n",
       "    .dataframe thead th {\n",
       "        text-align: right;\n",
       "    }\n",
       "</style>\n",
       "<table border=\"1\" class=\"dataframe\">\n",
       "  <thead>\n",
       "    <tr style=\"text-align: right;\">\n",
       "      <th>married</th>\n",
       "      <th>NO</th>\n",
       "      <th>YES</th>\n",
       "    </tr>\n",
       "    <tr>\n",
       "      <th>pep</th>\n",
       "      <th></th>\n",
       "      <th></th>\n",
       "    </tr>\n",
       "  </thead>\n",
       "  <tbody>\n",
       "    <tr>\n",
       "      <th>NO</th>\n",
       "      <td>84</td>\n",
       "      <td>242</td>\n",
       "    </tr>\n",
       "    <tr>\n",
       "      <th>YES</th>\n",
       "      <td>120</td>\n",
       "      <td>154</td>\n",
       "    </tr>\n",
       "  </tbody>\n",
       "</table>\n",
       "</div>"
      ],
      "text/plain": [
       "married   NO  YES\n",
       "pep              \n",
       "NO        84  242\n",
       "YES      120  154"
      ]
     },
     "execution_count": 34,
     "metadata": {},
     "output_type": "execute_result"
    }
   ],
   "source": [
    "#Plot graph between married and pep products\n",
    "gg = pd.crosstab(bankTable[\"pep\"], bankTable[\"married\"])\n",
    "gg"
   ]
  },
  {
   "cell_type": "code",
   "execution_count": 35,
   "metadata": {},
   "outputs": [
    {
     "data": {
      "image/png": "[encoded data removed]",
      "text/plain": [
       "<Figure size 432x288 with 1 Axes>"
      ]
     },
     "metadata": {
      "needs_background": "light"
     },
     "output_type": "display_data"
    }
   ],
   "source": [
    "plt.show(gg.plot(kind=\"bar\", title=\"Married\"))"
   ]
  },
  {
   "cell_type": "markdown",
   "metadata": {},
   "source": [
    "- The married graph shows similar trend regarding pep product. The majority of customers who purchased and did not purchase PEP products are married."
   ]
  },
  {
   "cell_type": "code",
   "execution_count": 36,
   "metadata": {},
   "outputs": [
    {
     "data": {
      "text/html": [
       "<div>\n",
       "<style scoped>\n",
       "    .dataframe tbody tr th:only-of-type {\n",
       "        vertical-align: middle;\n",
       "    }\n",
       "\n",
       "    .dataframe tbody tr th {\n",
       "        vertical-align: top;\n",
       "    }\n",
       "\n",
       "    .dataframe thead th {\n",
       "        text-align: right;\n",
       "    }\n",
       "</style>\n",
       "<table border=\"1\" class=\"dataframe\">\n",
       "  <thead>\n",
       "    <tr style=\"text-align: right;\">\n",
       "      <th>car</th>\n",
       "      <th>NO</th>\n",
       "      <th>YES</th>\n",
       "    </tr>\n",
       "    <tr>\n",
       "      <th>pep</th>\n",
       "      <th></th>\n",
       "      <th></th>\n",
       "    </tr>\n",
       "  </thead>\n",
       "  <tbody>\n",
       "    <tr>\n",
       "      <th>NO</th>\n",
       "      <td>168</td>\n",
       "      <td>158</td>\n",
       "    </tr>\n",
       "    <tr>\n",
       "      <th>YES</th>\n",
       "      <td>136</td>\n",
       "      <td>138</td>\n",
       "    </tr>\n",
       "  </tbody>\n",
       "</table>\n",
       "</div>"
      ],
      "text/plain": [
       "car   NO  YES\n",
       "pep          \n",
       "NO   168  158\n",
       "YES  136  138"
      ]
     },
     "execution_count": 36,
     "metadata": {},
     "output_type": "execute_result"
    }
   ],
   "source": [
    "#Plot graph between car and pep products\n",
    "gg = pd.crosstab(bankTable[\"pep\"], bankTable[\"car\"])\n",
    "gg"
   ]
  },
  {
   "cell_type": "code",
   "execution_count": 37,
   "metadata": {},
   "outputs": [
    {
     "data": {
      "image/png": "[encoded data removed]",
      "text/plain": [
       "<Figure size 432x288 with 1 Axes>"
      ]
     },
     "metadata": {
      "needs_background": "light"
     },
     "output_type": "display_data"
    }
   ],
   "source": [
    "plt.show(gg.plot(kind=\"bar\", title=\"Car\"))"
   ]
  },
  {
   "cell_type": "markdown",
   "metadata": {},
   "source": [
    "- The car graph shows that the number of customers who purchased pep products and owned cars is slightly higher. While the majority of customers who did not purchase PEP products also do not own cars."
   ]
  },
  {
   "cell_type": "code",
   "execution_count": 38,
   "metadata": {},
   "outputs": [
    {
     "data": {
      "text/html": [
       "<div>\n",
       "<style scoped>\n",
       "    .dataframe tbody tr th:only-of-type {\n",
       "        vertical-align: middle;\n",
       "    }\n",
       "\n",
       "    .dataframe tbody tr th {\n",
       "        vertical-align: top;\n",
       "    }\n",
       "\n",
       "    .dataframe thead th {\n",
       "        text-align: right;\n",
       "    }\n",
       "</style>\n",
       "<table border=\"1\" class=\"dataframe\">\n",
       "  <thead>\n",
       "    <tr style=\"text-align: right;\">\n",
       "      <th>savings_acct</th>\n",
       "      <th>NO</th>\n",
       "      <th>YES</th>\n",
       "    </tr>\n",
       "    <tr>\n",
       "      <th>pep</th>\n",
       "      <th></th>\n",
       "      <th></th>\n",
       "    </tr>\n",
       "  </thead>\n",
       "  <tbody>\n",
       "    <tr>\n",
       "      <th>NO</th>\n",
       "      <td>91</td>\n",
       "      <td>235</td>\n",
       "    </tr>\n",
       "    <tr>\n",
       "      <th>YES</th>\n",
       "      <td>95</td>\n",
       "      <td>179</td>\n",
       "    </tr>\n",
       "  </tbody>\n",
       "</table>\n",
       "</div>"
      ],
      "text/plain": [
       "savings_acct  NO  YES\n",
       "pep                  \n",
       "NO            91  235\n",
       "YES           95  179"
      ]
     },
     "execution_count": 38,
     "metadata": {},
     "output_type": "execute_result"
    }
   ],
   "source": [
    "#Plot graph between saving account and pep products\n",
    "gg = pd.crosstab(bankTable[\"pep\"], bankTable[\"savings_acct\"])\n",
    "gg"
   ]
  },
  {
   "cell_type": "code",
   "execution_count": 39,
   "metadata": {},
   "outputs": [
    {
     "data": {
      "image/png": "[encoded data removed]",
      "text/plain": [
       "<Figure size 432x288 with 1 Axes>"
      ]
     },
     "metadata": {
      "needs_background": "light"
     },
     "output_type": "display_data"
    }
   ],
   "source": [
    "plt.show(gg.plot(kind=\"bar\", title=\"savings_acct\"))"
   ]
  },
  {
   "cell_type": "markdown",
   "metadata": {},
   "source": [
    "- The saving account graph shows that the majority of customers who purchased and did not purchase the pep products both have saving accounts."
   ]
  },
  {
   "cell_type": "code",
   "execution_count": 40,
   "metadata": {},
   "outputs": [
    {
     "data": {
      "text/html": [
       "<div>\n",
       "<style scoped>\n",
       "    .dataframe tbody tr th:only-of-type {\n",
       "        vertical-align: middle;\n",
       "    }\n",
       "\n",
       "    .dataframe tbody tr th {\n",
       "        vertical-align: top;\n",
       "    }\n",
       "\n",
       "    .dataframe thead th {\n",
       "        text-align: right;\n",
       "    }\n",
       "</style>\n",
       "<table border=\"1\" class=\"dataframe\">\n",
       "  <thead>\n",
       "    <tr style=\"text-align: right;\">\n",
       "      <th>current_acct</th>\n",
       "      <th>NO</th>\n",
       "      <th>YES</th>\n",
       "    </tr>\n",
       "    <tr>\n",
       "      <th>pep</th>\n",
       "      <th></th>\n",
       "      <th></th>\n",
       "    </tr>\n",
       "  </thead>\n",
       "  <tbody>\n",
       "    <tr>\n",
       "      <th>NO</th>\n",
       "      <td>82</td>\n",
       "      <td>244</td>\n",
       "    </tr>\n",
       "    <tr>\n",
       "      <th>YES</th>\n",
       "      <td>63</td>\n",
       "      <td>211</td>\n",
       "    </tr>\n",
       "  </tbody>\n",
       "</table>\n",
       "</div>"
      ],
      "text/plain": [
       "current_acct  NO  YES\n",
       "pep                  \n",
       "NO            82  244\n",
       "YES           63  211"
      ]
     },
     "execution_count": 40,
     "metadata": {},
     "output_type": "execute_result"
    }
   ],
   "source": [
    "#Plot graph between current account and pep products\n",
    "gg = pd.crosstab(bankTable[\"pep\"], bankTable[\"current_acct\"])\n",
    "gg"
   ]
  },
  {
   "cell_type": "code",
   "execution_count": 41,
   "metadata": {},
   "outputs": [
    {
     "data": {
      "image/png": "[encoded data removed]",
      "text/plain": [
       "<Figure size 432x288 with 1 Axes>"
      ]
     },
     "metadata": {
      "needs_background": "light"
     },
     "output_type": "display_data"
    }
   ],
   "source": [
    "plt.show(gg.plot(kind=\"bar\", title=\"current_acct\"))"
   ]
  },
  {
   "cell_type": "markdown",
   "metadata": {},
   "source": [
    "- The current account graph shows that the majority of customers who purchased and did not purchase the pep products both have current accounts."
   ]
  },
  {
   "cell_type": "code",
   "execution_count": 42,
   "metadata": {},
   "outputs": [
    {
     "data": {
      "text/html": [
       "<div>\n",
       "<style scoped>\n",
       "    .dataframe tbody tr th:only-of-type {\n",
       "        vertical-align: middle;\n",
       "    }\n",
       "\n",
       "    .dataframe tbody tr th {\n",
       "        vertical-align: top;\n",
       "    }\n",
       "\n",
       "    .dataframe thead th {\n",
       "        text-align: right;\n",
       "    }\n",
       "</style>\n",
       "<table border=\"1\" class=\"dataframe\">\n",
       "  <thead>\n",
       "    <tr style=\"text-align: right;\">\n",
       "      <th>mortgage</th>\n",
       "      <th>NO</th>\n",
       "      <th>YES</th>\n",
       "    </tr>\n",
       "    <tr>\n",
       "      <th>pep</th>\n",
       "      <th></th>\n",
       "      <th></th>\n",
       "    </tr>\n",
       "  </thead>\n",
       "  <tbody>\n",
       "    <tr>\n",
       "      <th>NO</th>\n",
       "      <td>209</td>\n",
       "      <td>117</td>\n",
       "    </tr>\n",
       "    <tr>\n",
       "      <th>YES</th>\n",
       "      <td>182</td>\n",
       "      <td>92</td>\n",
       "    </tr>\n",
       "  </tbody>\n",
       "</table>\n",
       "</div>"
      ],
      "text/plain": [
       "mortgage   NO  YES\n",
       "pep               \n",
       "NO        209  117\n",
       "YES       182   92"
      ]
     },
     "execution_count": 42,
     "metadata": {},
     "output_type": "execute_result"
    }
   ],
   "source": [
    "#Plot graph between mortgage and pep products\n",
    "gg = pd.crosstab(bankTable[\"pep\"], bankTable[\"mortgage\"])\n",
    "gg"
   ]
  },
  {
   "cell_type": "code",
   "execution_count": 43,
   "metadata": {},
   "outputs": [
    {
     "data": {
      "image/png": "[encoded data removed]",
      "text/plain": [
       "<Figure size 432x288 with 1 Axes>"
      ]
     },
     "metadata": {
      "needs_background": "light"
     },
     "output_type": "display_data"
    }
   ],
   "source": [
    "plt.show(gg.plot(kind=\"bar\", title=\"Mortgage\"))"
   ]
  },
  {
   "cell_type": "markdown",
   "metadata": {},
   "source": [
    "- The Mortgage graph shows that the majority of customers who purchased and did not purchase the pep products both do not have mortgage."
   ]
  },
  {
   "cell_type": "markdown",
   "metadata": {},
   "source": [
    "**Summary for Question 2**\n",
    "- There are greater number of customers who didn't purchase PEP product.\n",
    "For numeric variables: Comparing to the customers who didn't purchase PEP product, the customers who purchased PEP product have a higher avaraged age (45.12 years old), a higher averaged income (30,644.91), but a lower averaged number of children (0.94).\n",
    "- For categorical variables: the majority of customers who purchased the pep products are male, married, live in the inner city, have saving and current accounts, but do not have mortgage. The car graph shows that the majority of customers who purchased pep products has cars. "
   ]
  },
  {
   "cell_type": "markdown",
   "metadata": {},
   "source": [
    "## Question 3: Use z-score normalization to standardize the values of the income attribute. [Do not change the original income attribute in the table.]"
   ]
  },
  {
   "cell_type": "code",
   "execution_count": 44,
   "metadata": {},
   "outputs": [
    {
     "data": {
      "text/plain": [
       "0     -0.773523\n",
       "1      0.198541\n",
       "2     -0.848766\n",
       "3     -0.554180\n",
       "4      1.787071\n",
       "5      0.802015\n",
       "6     -1.445560\n",
       "7     -0.199809\n",
       "8     -0.172079\n",
       "9     -0.256749\n",
       "10     2.502419\n",
       "11    -0.067075\n",
       "12    -0.913854\n",
       "13     2.145877\n",
       "14    -0.624013\n",
       "15    -0.401717\n",
       "16    -0.759274\n",
       "17     1.045932\n",
       "18    -0.047663\n",
       "19    -0.387708\n",
       "20     2.353327\n",
       "21    -0.854821\n",
       "22     0.846746\n",
       "23    -0.929126\n",
       "24    -1.153825\n",
       "25     1.047328\n",
       "26    -0.520512\n",
       "27    -0.574445\n",
       "28     0.142259\n",
       "29    -0.252253\n",
       "         ...   \n",
       "570    0.476102\n",
       "571    0.669963\n",
       "572    0.014642\n",
       "573   -0.397174\n",
       "574    0.073326\n",
       "575    0.229774\n",
       "576   -0.648378\n",
       "577    1.381334\n",
       "578   -1.645790\n",
       "579   -0.185770\n",
       "580    1.888083\n",
       "581   -1.153469\n",
       "582   -0.429446\n",
       "583    0.121638\n",
       "584   -0.309752\n",
       "585   -1.395958\n",
       "586   -0.710039\n",
       "587    0.290692\n",
       "588    1.717092\n",
       "589   -1.155135\n",
       "590   -0.287255\n",
       "591    0.306204\n",
       "592   -0.562506\n",
       "593    1.852244\n",
       "594    0.267280\n",
       "595    1.511765\n",
       "596   -1.383916\n",
       "597   -0.895210\n",
       "598   -0.993237\n",
       "599   -0.066083\n",
       "Name: income, Length: 600, dtype: float64"
      ]
     },
     "execution_count": 44,
     "metadata": {},
     "output_type": "execute_result"
    }
   ],
   "source": [
    "#Normalize income variable using z-score\n",
    "incomeZ = (bankTable[\"income\"] - bankTable[\"income\"].mean()) / bankTable[\"income\"].std()\n",
    "incomeZ"
   ]
  },
  {
   "cell_type": "markdown",
   "metadata": {},
   "source": [
    "## Question 4:  Discretize the age attribute into 3 categories (corresponding to \"young\", \"mid-age\", and \"old\"). [Do not change the original age attribute in the table.]"
   ]
  },
  {
   "cell_type": "code",
   "execution_count": 45,
   "metadata": {},
   "outputs": [
    {
     "data": {
      "text/plain": [
       "0      (35.0, 49.0]\n",
       "1      (35.0, 49.0]\n",
       "2      (49.0, 67.0]\n",
       "3    (17.999, 35.0]\n",
       "4      (49.0, 67.0]\n",
       "Name: age, dtype: category\n",
       "Categories (3, interval[float64]): [(17.999, 35.0] < (35.0, 49.0] < (49.0, 67.0]]"
      ]
     },
     "execution_count": 45,
     "metadata": {},
     "output_type": "execute_result"
    }
   ],
   "source": [
    "#Binning  the age attribute into 3 categories\n",
    "ageBins = pd.qcut(bankTable.age, 3)\n",
    "ageBins.head(5)"
   ]
  },
  {
   "cell_type": "code",
   "execution_count": 46,
   "metadata": {},
   "outputs": [
    {
     "data": {
      "text/plain": [
       "(0      mid-age\n",
       " 1      mid-age\n",
       " 2          old\n",
       " 3        young\n",
       " 4          old\n",
       " 5          old\n",
       " 6        young\n",
       " 7          old\n",
       " 8      mid-age\n",
       " 9          old\n",
       " 10         old\n",
       " 11         old\n",
       " 12     mid-age\n",
       " 13         old\n",
       " 14     mid-age\n",
       " 15     mid-age\n",
       " 16     mid-age\n",
       " 17     mid-age\n",
       " 18         old\n",
       " 19       young\n",
       " 20         old\n",
       " 21         old\n",
       " 22         old\n",
       " 23       young\n",
       " 24       young\n",
       " 25         old\n",
       " 26     mid-age\n",
       " 27     mid-age\n",
       " 28     mid-age\n",
       " 29         old\n",
       "         ...   \n",
       " 570    mid-age\n",
       " 571    mid-age\n",
       " 572      young\n",
       " 573    mid-age\n",
       " 574    mid-age\n",
       " 575    mid-age\n",
       " 576      young\n",
       " 577        old\n",
       " 578      young\n",
       " 579    mid-age\n",
       " 580        old\n",
       " 581      young\n",
       " 582    mid-age\n",
       " 583    mid-age\n",
       " 584      young\n",
       " 585      young\n",
       " 586      young\n",
       " 587    mid-age\n",
       " 588        old\n",
       " 589      young\n",
       " 590      young\n",
       " 591    mid-age\n",
       " 592    mid-age\n",
       " 593        old\n",
       " 594        old\n",
       " 595        old\n",
       " 596      young\n",
       " 597      young\n",
       " 598      young\n",
       " 599    mid-age\n",
       " Name: age, Length: 600, dtype: category\n",
       " Categories (3, object): [young < mid-age < old], array([18., 35., 49., 67.]))"
      ]
     },
     "execution_count": 46,
     "metadata": {},
     "output_type": "execute_result"
    }
   ],
   "source": [
    "ageBins = pd.qcut(bankTable.age, [0, 0.33, 0.66, 1], labels=[\"young\", \"mid-age\", \"old\"], retbins= True)\n",
    "ageBins"
   ]
  },
  {
   "cell_type": "markdown",
   "metadata": {},
   "source": [
    "## Question 5:   Use Min-Max Normalization to transform the values of all numeric attributes (income, age, children) in the original table (before the transformations in parts 3 and 4 above) onto the range 0.0-1.0."
   ]
  },
  {
   "cell_type": "code",
   "execution_count": 47,
   "metadata": {},
   "outputs": [
    {
     "name": "stdout",
     "output_type": "stream",
     "text": [
      "        age    income  children\n",
      "0  0.612245  0.215634  0.333333\n",
      "1  0.448980  0.431395  1.000000\n",
      "2  0.673469  0.198933  0.000000\n",
      "3  0.102041  0.264320  1.000000\n",
      "4  0.795918  0.783987  0.000000\n",
      "5  0.795918  0.565343  0.666667\n",
      "6  0.081633  0.066468  0.000000\n",
      "7  0.816327  0.342977  0.000000\n",
      "8  0.387755  0.349132  0.666667\n",
      "9  0.734694  0.330338  0.666667\n"
     ]
    }
   ],
   "source": [
    "#Min-Max Normalization to transform numeric variables\n",
    "bankTable[[\"age\",\"income\",\"children\"]] = bankTable[[\"age\",\"income\",\"children\"]].apply(lambda x: (x - x.min( )) / (x.max() - x.min()))\n",
    "print (bankTable[[\"age\",\"income\",\"children\"]].head (10))"
   ]
  },
  {
   "cell_type": "code",
   "execution_count": 48,
   "metadata": {},
   "outputs": [
    {
     "name": "stdout",
     "output_type": "stream",
     "text": [
      "age         0.0\n",
      "income      0.0\n",
      "children    0.0\n",
      "dtype: float64 \n",
      " age         1.0\n",
      "income      1.0\n",
      "children    1.0\n",
      "dtype: float64\n"
     ]
    }
   ],
   "source": [
    "#Print min-max value after normalization\n",
    "num_mins = bankTable[[\"age\",\"income\",\"children\"]].min()\n",
    "num_maxs = bankTable[[\"age\",\"income\",\"children\"]].max()\n",
    "print (num_mins,\"\\n\",num_maxs)"
   ]
  },
  {
   "cell_type": "markdown",
   "metadata": {},
   "source": [
    "**Min-Max Normalization**\n",
    "- After Normalization, all values of age, income, and children attribute are in a range between 0 and 1.\n",
    "- The max value is 1 and the min value is 0 as shown above."
   ]
  },
  {
   "cell_type": "markdown",
   "metadata": {},
   "source": [
    "## Question 6:  Convert the table (after normalization in part 5) into the standard spreadsheet format. Note that this requires converting each categorical attribute into multiple binary (\"dummy\") attributes Save this new table into a file called bank_numeric.csv and submit it along with your assignment."
   ]
  },
  {
   "cell_type": "code",
   "execution_count": 49,
   "metadata": {},
   "outputs": [
    {
     "data": {
      "text/html": [
       "<div>\n",
       "<style scoped>\n",
       "    .dataframe tbody tr th:only-of-type {\n",
       "        vertical-align: middle;\n",
       "    }\n",
       "\n",
       "    .dataframe tbody tr th {\n",
       "        vertical-align: top;\n",
       "    }\n",
       "\n",
       "    .dataframe thead th {\n",
       "        text-align: right;\n",
       "    }\n",
       "</style>\n",
       "<table border=\"1\" class=\"dataframe\">\n",
       "  <thead>\n",
       "    <tr style=\"text-align: right;\">\n",
       "      <th></th>\n",
       "      <th>id</th>\n",
       "      <th>age</th>\n",
       "      <th>income</th>\n",
       "      <th>children</th>\n",
       "      <th>gender_FEMALE</th>\n",
       "      <th>gender_MALE</th>\n",
       "      <th>region_INNER_CITY</th>\n",
       "      <th>region_RURAL</th>\n",
       "      <th>region_SUBURBAN</th>\n",
       "      <th>region_TOWN</th>\n",
       "      <th>...</th>\n",
       "      <th>car_NO</th>\n",
       "      <th>car_YES</th>\n",
       "      <th>savings_acct_NO</th>\n",
       "      <th>savings_acct_YES</th>\n",
       "      <th>current_acct_NO</th>\n",
       "      <th>current_acct_YES</th>\n",
       "      <th>mortgage_NO</th>\n",
       "      <th>mortgage_YES</th>\n",
       "      <th>pep_NO</th>\n",
       "      <th>pep_YES</th>\n",
       "    </tr>\n",
       "  </thead>\n",
       "  <tbody>\n",
       "    <tr>\n",
       "      <th>0</th>\n",
       "      <td>ID12101</td>\n",
       "      <td>0.612245</td>\n",
       "      <td>0.215634</td>\n",
       "      <td>0.333333</td>\n",
       "      <td>1</td>\n",
       "      <td>0</td>\n",
       "      <td>1</td>\n",
       "      <td>0</td>\n",
       "      <td>0</td>\n",
       "      <td>0</td>\n",
       "      <td>...</td>\n",
       "      <td>1</td>\n",
       "      <td>0</td>\n",
       "      <td>1</td>\n",
       "      <td>0</td>\n",
       "      <td>1</td>\n",
       "      <td>0</td>\n",
       "      <td>1</td>\n",
       "      <td>0</td>\n",
       "      <td>0</td>\n",
       "      <td>1</td>\n",
       "    </tr>\n",
       "    <tr>\n",
       "      <th>1</th>\n",
       "      <td>ID12102</td>\n",
       "      <td>0.448980</td>\n",
       "      <td>0.431395</td>\n",
       "      <td>1.000000</td>\n",
       "      <td>0</td>\n",
       "      <td>1</td>\n",
       "      <td>0</td>\n",
       "      <td>0</td>\n",
       "      <td>0</td>\n",
       "      <td>1</td>\n",
       "      <td>...</td>\n",
       "      <td>0</td>\n",
       "      <td>1</td>\n",
       "      <td>1</td>\n",
       "      <td>0</td>\n",
       "      <td>0</td>\n",
       "      <td>1</td>\n",
       "      <td>0</td>\n",
       "      <td>1</td>\n",
       "      <td>1</td>\n",
       "      <td>0</td>\n",
       "    </tr>\n",
       "    <tr>\n",
       "      <th>2</th>\n",
       "      <td>ID12103</td>\n",
       "      <td>0.673469</td>\n",
       "      <td>0.198933</td>\n",
       "      <td>0.000000</td>\n",
       "      <td>1</td>\n",
       "      <td>0</td>\n",
       "      <td>1</td>\n",
       "      <td>0</td>\n",
       "      <td>0</td>\n",
       "      <td>0</td>\n",
       "      <td>...</td>\n",
       "      <td>0</td>\n",
       "      <td>1</td>\n",
       "      <td>0</td>\n",
       "      <td>1</td>\n",
       "      <td>0</td>\n",
       "      <td>1</td>\n",
       "      <td>1</td>\n",
       "      <td>0</td>\n",
       "      <td>1</td>\n",
       "      <td>0</td>\n",
       "    </tr>\n",
       "    <tr>\n",
       "      <th>3</th>\n",
       "      <td>ID12104</td>\n",
       "      <td>0.102041</td>\n",
       "      <td>0.264320</td>\n",
       "      <td>1.000000</td>\n",
       "      <td>1</td>\n",
       "      <td>0</td>\n",
       "      <td>0</td>\n",
       "      <td>0</td>\n",
       "      <td>0</td>\n",
       "      <td>1</td>\n",
       "      <td>...</td>\n",
       "      <td>1</td>\n",
       "      <td>0</td>\n",
       "      <td>1</td>\n",
       "      <td>0</td>\n",
       "      <td>0</td>\n",
       "      <td>1</td>\n",
       "      <td>1</td>\n",
       "      <td>0</td>\n",
       "      <td>1</td>\n",
       "      <td>0</td>\n",
       "    </tr>\n",
       "    <tr>\n",
       "      <th>4</th>\n",
       "      <td>ID12105</td>\n",
       "      <td>0.795918</td>\n",
       "      <td>0.783987</td>\n",
       "      <td>0.000000</td>\n",
       "      <td>1</td>\n",
       "      <td>0</td>\n",
       "      <td>0</td>\n",
       "      <td>1</td>\n",
       "      <td>0</td>\n",
       "      <td>0</td>\n",
       "      <td>...</td>\n",
       "      <td>1</td>\n",
       "      <td>0</td>\n",
       "      <td>0</td>\n",
       "      <td>1</td>\n",
       "      <td>1</td>\n",
       "      <td>0</td>\n",
       "      <td>1</td>\n",
       "      <td>0</td>\n",
       "      <td>1</td>\n",
       "      <td>0</td>\n",
       "    </tr>\n",
       "  </tbody>\n",
       "</table>\n",
       "<p>5 rows × 22 columns</p>\n",
       "</div>"
      ],
      "text/plain": [
       "        id       age    income  children  gender_FEMALE  gender_MALE  \\\n",
       "0  ID12101  0.612245  0.215634  0.333333              1            0   \n",
       "1  ID12102  0.448980  0.431395  1.000000              0            1   \n",
       "2  ID12103  0.673469  0.198933  0.000000              1            0   \n",
       "3  ID12104  0.102041  0.264320  1.000000              1            0   \n",
       "4  ID12105  0.795918  0.783987  0.000000              1            0   \n",
       "\n",
       "   region_INNER_CITY  region_RURAL  region_SUBURBAN  region_TOWN   ...     \\\n",
       "0                  1             0                0            0   ...      \n",
       "1                  0             0                0            1   ...      \n",
       "2                  1             0                0            0   ...      \n",
       "3                  0             0                0            1   ...      \n",
       "4                  0             1                0            0   ...      \n",
       "\n",
       "   car_NO  car_YES  savings_acct_NO  savings_acct_YES  current_acct_NO  \\\n",
       "0       1        0                1                 0                1   \n",
       "1       0        1                1                 0                0   \n",
       "2       0        1                0                 1                0   \n",
       "3       1        0                1                 0                0   \n",
       "4       1        0                0                 1                1   \n",
       "\n",
       "   current_acct_YES  mortgage_NO  mortgage_YES  pep_NO  pep_YES  \n",
       "0                 0            1             0       0        1  \n",
       "1                 1            0             1       1        0  \n",
       "2                 1            1             0       1        0  \n",
       "3                 1            1             0       1        0  \n",
       "4                 0            1             0       1        0  \n",
       "\n",
       "[5 rows x 22 columns]"
      ]
     },
     "execution_count": 49,
     "metadata": {},
     "output_type": "execute_result"
    }
   ],
   "source": [
    "bank_numeric  = pd.get_dummies(bankTable, columns = [\"gender\",\"region\",\"married\",\"car\",\"savings_acct\",\"current_acct\",\"mortgage\",\"pep\"])\n",
    "bank_numeric.head(5)"
   ]
  },
  {
   "cell_type": "code",
   "execution_count": 50,
   "metadata": {},
   "outputs": [],
   "source": [
    "bank_numeric.to_csv(\"bank_numeric.csv\")"
   ]
  },
  {
   "cell_type": "markdown",
   "metadata": {},
   "source": [
    "## Question 7:  Using the standardized data set (of the previous part), perform basic correlation analysis among the attributes. Discuss your results by indicating any significant positive or negative correlations among pairs of attributes. You need to construct a complete Correlation Matrix. Be sure to first remove the Customer ID column before creating the correlation matrix. [Hint:you can create the correlation matrix by using the corr() function in Pandas or corrcoef function in NumPy]."
   ]
  },
  {
   "cell_type": "code",
   "execution_count": 51,
   "metadata": {},
   "outputs": [
    {
     "data": {
      "text/html": [
       "<div>\n",
       "<style scoped>\n",
       "    .dataframe tbody tr th:only-of-type {\n",
       "        vertical-align: middle;\n",
       "    }\n",
       "\n",
       "    .dataframe tbody tr th {\n",
       "        vertical-align: top;\n",
       "    }\n",
       "\n",
       "    .dataframe thead th {\n",
       "        text-align: right;\n",
       "    }\n",
       "</style>\n",
       "<table border=\"1\" class=\"dataframe\">\n",
       "  <thead>\n",
       "    <tr style=\"text-align: right;\">\n",
       "      <th></th>\n",
       "      <th>age</th>\n",
       "      <th>income</th>\n",
       "      <th>children</th>\n",
       "      <th>gender_FEMALE</th>\n",
       "      <th>gender_MALE</th>\n",
       "      <th>region_INNER_CITY</th>\n",
       "      <th>region_RURAL</th>\n",
       "      <th>region_SUBURBAN</th>\n",
       "      <th>region_TOWN</th>\n",
       "      <th>married_NO</th>\n",
       "      <th>...</th>\n",
       "      <th>car_NO</th>\n",
       "      <th>car_YES</th>\n",
       "      <th>savings_acct_NO</th>\n",
       "      <th>savings_acct_YES</th>\n",
       "      <th>current_acct_NO</th>\n",
       "      <th>current_acct_YES</th>\n",
       "      <th>mortgage_NO</th>\n",
       "      <th>mortgage_YES</th>\n",
       "      <th>pep_NO</th>\n",
       "      <th>pep_YES</th>\n",
       "    </tr>\n",
       "  </thead>\n",
       "  <tbody>\n",
       "    <tr>\n",
       "      <th>0</th>\n",
       "      <td>0.612245</td>\n",
       "      <td>0.215634</td>\n",
       "      <td>0.333333</td>\n",
       "      <td>1</td>\n",
       "      <td>0</td>\n",
       "      <td>1</td>\n",
       "      <td>0</td>\n",
       "      <td>0</td>\n",
       "      <td>0</td>\n",
       "      <td>1</td>\n",
       "      <td>...</td>\n",
       "      <td>1</td>\n",
       "      <td>0</td>\n",
       "      <td>1</td>\n",
       "      <td>0</td>\n",
       "      <td>1</td>\n",
       "      <td>0</td>\n",
       "      <td>1</td>\n",
       "      <td>0</td>\n",
       "      <td>0</td>\n",
       "      <td>1</td>\n",
       "    </tr>\n",
       "    <tr>\n",
       "      <th>1</th>\n",
       "      <td>0.448980</td>\n",
       "      <td>0.431395</td>\n",
       "      <td>1.000000</td>\n",
       "      <td>0</td>\n",
       "      <td>1</td>\n",
       "      <td>0</td>\n",
       "      <td>0</td>\n",
       "      <td>0</td>\n",
       "      <td>1</td>\n",
       "      <td>0</td>\n",
       "      <td>...</td>\n",
       "      <td>0</td>\n",
       "      <td>1</td>\n",
       "      <td>1</td>\n",
       "      <td>0</td>\n",
       "      <td>0</td>\n",
       "      <td>1</td>\n",
       "      <td>0</td>\n",
       "      <td>1</td>\n",
       "      <td>1</td>\n",
       "      <td>0</td>\n",
       "    </tr>\n",
       "    <tr>\n",
       "      <th>2</th>\n",
       "      <td>0.673469</td>\n",
       "      <td>0.198933</td>\n",
       "      <td>0.000000</td>\n",
       "      <td>1</td>\n",
       "      <td>0</td>\n",
       "      <td>1</td>\n",
       "      <td>0</td>\n",
       "      <td>0</td>\n",
       "      <td>0</td>\n",
       "      <td>0</td>\n",
       "      <td>...</td>\n",
       "      <td>0</td>\n",
       "      <td>1</td>\n",
       "      <td>0</td>\n",
       "      <td>1</td>\n",
       "      <td>0</td>\n",
       "      <td>1</td>\n",
       "      <td>1</td>\n",
       "      <td>0</td>\n",
       "      <td>1</td>\n",
       "      <td>0</td>\n",
       "    </tr>\n",
       "    <tr>\n",
       "      <th>3</th>\n",
       "      <td>0.102041</td>\n",
       "      <td>0.264320</td>\n",
       "      <td>1.000000</td>\n",
       "      <td>1</td>\n",
       "      <td>0</td>\n",
       "      <td>0</td>\n",
       "      <td>0</td>\n",
       "      <td>0</td>\n",
       "      <td>1</td>\n",
       "      <td>0</td>\n",
       "      <td>...</td>\n",
       "      <td>1</td>\n",
       "      <td>0</td>\n",
       "      <td>1</td>\n",
       "      <td>0</td>\n",
       "      <td>0</td>\n",
       "      <td>1</td>\n",
       "      <td>1</td>\n",
       "      <td>0</td>\n",
       "      <td>1</td>\n",
       "      <td>0</td>\n",
       "    </tr>\n",
       "    <tr>\n",
       "      <th>4</th>\n",
       "      <td>0.795918</td>\n",
       "      <td>0.783987</td>\n",
       "      <td>0.000000</td>\n",
       "      <td>1</td>\n",
       "      <td>0</td>\n",
       "      <td>0</td>\n",
       "      <td>1</td>\n",
       "      <td>0</td>\n",
       "      <td>0</td>\n",
       "      <td>0</td>\n",
       "      <td>...</td>\n",
       "      <td>1</td>\n",
       "      <td>0</td>\n",
       "      <td>0</td>\n",
       "      <td>1</td>\n",
       "      <td>1</td>\n",
       "      <td>0</td>\n",
       "      <td>1</td>\n",
       "      <td>0</td>\n",
       "      <td>1</td>\n",
       "      <td>0</td>\n",
       "    </tr>\n",
       "  </tbody>\n",
       "</table>\n",
       "<p>5 rows × 21 columns</p>\n",
       "</div>"
      ],
      "text/plain": [
       "        age    income  children  gender_FEMALE  gender_MALE  \\\n",
       "0  0.612245  0.215634  0.333333              1            0   \n",
       "1  0.448980  0.431395  1.000000              0            1   \n",
       "2  0.673469  0.198933  0.000000              1            0   \n",
       "3  0.102041  0.264320  1.000000              1            0   \n",
       "4  0.795918  0.783987  0.000000              1            0   \n",
       "\n",
       "   region_INNER_CITY  region_RURAL  region_SUBURBAN  region_TOWN  married_NO  \\\n",
       "0                  1             0                0            0           1   \n",
       "1                  0             0                0            1           0   \n",
       "2                  1             0                0            0           0   \n",
       "3                  0             0                0            1           0   \n",
       "4                  0             1                0            0           0   \n",
       "\n",
       "    ...     car_NO  car_YES  savings_acct_NO  savings_acct_YES  \\\n",
       "0   ...          1        0                1                 0   \n",
       "1   ...          0        1                1                 0   \n",
       "2   ...          0        1                0                 1   \n",
       "3   ...          1        0                1                 0   \n",
       "4   ...          1        0                0                 1   \n",
       "\n",
       "   current_acct_NO  current_acct_YES  mortgage_NO  mortgage_YES  pep_NO  \\\n",
       "0                1                 0            1             0       0   \n",
       "1                0                 1            0             1       1   \n",
       "2                0                 1            1             0       1   \n",
       "3                0                 1            1             0       1   \n",
       "4                1                 0            1             0       1   \n",
       "\n",
       "   pep_YES  \n",
       "0        1  \n",
       "1        0  \n",
       "2        0  \n",
       "3        0  \n",
       "4        0  \n",
       "\n",
       "[5 rows x 21 columns]"
      ]
     },
     "execution_count": 51,
     "metadata": {},
     "output_type": "execute_result"
    }
   ],
   "source": [
    "#Remove id column before calculating CORR\n",
    "bank_numeric = bank_numeric.drop(\"id\",1)\n",
    "bank_numeric.head(5)"
   ]
  },
  {
   "cell_type": "code",
   "execution_count": 52,
   "metadata": {},
   "outputs": [
    {
     "data": {
      "text/html": [
       "<div>\n",
       "<style scoped>\n",
       "    .dataframe tbody tr th:only-of-type {\n",
       "        vertical-align: middle;\n",
       "    }\n",
       "\n",
       "    .dataframe tbody tr th {\n",
       "        vertical-align: top;\n",
       "    }\n",
       "\n",
       "    .dataframe thead th {\n",
       "        text-align: right;\n",
       "    }\n",
       "</style>\n",
       "<table border=\"1\" class=\"dataframe\">\n",
       "  <thead>\n",
       "    <tr style=\"text-align: right;\">\n",
       "      <th></th>\n",
       "      <th>age</th>\n",
       "      <th>income</th>\n",
       "      <th>children</th>\n",
       "      <th>gender_FEMALE</th>\n",
       "      <th>gender_MALE</th>\n",
       "      <th>region_INNER_CITY</th>\n",
       "      <th>region_RURAL</th>\n",
       "      <th>region_SUBURBAN</th>\n",
       "      <th>region_TOWN</th>\n",
       "      <th>married_NO</th>\n",
       "      <th>...</th>\n",
       "      <th>car_NO</th>\n",
       "      <th>car_YES</th>\n",
       "      <th>savings_acct_NO</th>\n",
       "      <th>savings_acct_YES</th>\n",
       "      <th>current_acct_NO</th>\n",
       "      <th>current_acct_YES</th>\n",
       "      <th>mortgage_NO</th>\n",
       "      <th>mortgage_YES</th>\n",
       "      <th>pep_NO</th>\n",
       "      <th>pep_YES</th>\n",
       "    </tr>\n",
       "  </thead>\n",
       "  <tbody>\n",
       "    <tr>\n",
       "      <th>age</th>\n",
       "      <td>1.000000</td>\n",
       "      <td>0.752726</td>\n",
       "      <td>0.023572</td>\n",
       "      <td>0.090081</td>\n",
       "      <td>-0.090081</td>\n",
       "      <td>-0.025171</td>\n",
       "      <td>0.018635</td>\n",
       "      <td>0.031345</td>\n",
       "      <td>-0.008510</td>\n",
       "      <td>-0.010394</td>\n",
       "      <td>...</td>\n",
       "      <td>-0.077733</td>\n",
       "      <td>0.077733</td>\n",
       "      <td>-0.184389</td>\n",
       "      <td>0.184389</td>\n",
       "      <td>0.035312</td>\n",
       "      <td>-0.035312</td>\n",
       "      <td>0.016154</td>\n",
       "      <td>-0.016154</td>\n",
       "      <td>-0.173825</td>\n",
       "      <td>0.173825</td>\n",
       "    </tr>\n",
       "    <tr>\n",
       "      <th>income</th>\n",
       "      <td>0.752726</td>\n",
       "      <td>1.000000</td>\n",
       "      <td>0.036761</td>\n",
       "      <td>0.023845</td>\n",
       "      <td>-0.023845</td>\n",
       "      <td>-0.047564</td>\n",
       "      <td>0.084776</td>\n",
       "      <td>0.029824</td>\n",
       "      <td>-0.036431</td>\n",
       "      <td>0.008386</td>\n",
       "      <td>...</td>\n",
       "      <td>-0.081556</td>\n",
       "      <td>0.081556</td>\n",
       "      <td>-0.266164</td>\n",
       "      <td>0.266164</td>\n",
       "      <td>-0.031616</td>\n",
       "      <td>0.031616</td>\n",
       "      <td>0.014662</td>\n",
       "      <td>-0.014662</td>\n",
       "      <td>-0.221991</td>\n",
       "      <td>0.221991</td>\n",
       "    </tr>\n",
       "    <tr>\n",
       "      <th>children</th>\n",
       "      <td>0.023572</td>\n",
       "      <td>0.036761</td>\n",
       "      <td>1.000000</td>\n",
       "      <td>0.014206</td>\n",
       "      <td>-0.014206</td>\n",
       "      <td>-0.051222</td>\n",
       "      <td>0.089902</td>\n",
       "      <td>-0.014122</td>\n",
       "      <td>-0.007033</td>\n",
       "      <td>0.048716</td>\n",
       "      <td>...</td>\n",
       "      <td>-0.036455</td>\n",
       "      <td>0.036455</td>\n",
       "      <td>-0.041536</td>\n",
       "      <td>0.041536</td>\n",
       "      <td>-0.006238</td>\n",
       "      <td>0.006238</td>\n",
       "      <td>0.074339</td>\n",
       "      <td>-0.074339</td>\n",
       "      <td>0.057663</td>\n",
       "      <td>-0.057663</td>\n",
       "    </tr>\n",
       "    <tr>\n",
       "      <th>gender_FEMALE</th>\n",
       "      <td>0.090081</td>\n",
       "      <td>0.023845</td>\n",
       "      <td>0.014206</td>\n",
       "      <td>1.000000</td>\n",
       "      <td>-1.000000</td>\n",
       "      <td>-0.023459</td>\n",
       "      <td>-0.009092</td>\n",
       "      <td>-0.010951</td>\n",
       "      <td>0.040472</td>\n",
       "      <td>0.021110</td>\n",
       "      <td>...</td>\n",
       "      <td>0.006667</td>\n",
       "      <td>-0.006667</td>\n",
       "      <td>0.007207</td>\n",
       "      <td>-0.007207</td>\n",
       "      <td>-0.019466</td>\n",
       "      <td>0.019466</td>\n",
       "      <td>0.066465</td>\n",
       "      <td>-0.066465</td>\n",
       "      <td>0.046843</td>\n",
       "      <td>-0.046843</td>\n",
       "    </tr>\n",
       "    <tr>\n",
       "      <th>gender_MALE</th>\n",
       "      <td>-0.090081</td>\n",
       "      <td>-0.023845</td>\n",
       "      <td>-0.014206</td>\n",
       "      <td>-1.000000</td>\n",
       "      <td>1.000000</td>\n",
       "      <td>0.023459</td>\n",
       "      <td>0.009092</td>\n",
       "      <td>0.010951</td>\n",
       "      <td>-0.040472</td>\n",
       "      <td>-0.021110</td>\n",
       "      <td>...</td>\n",
       "      <td>-0.006667</td>\n",
       "      <td>0.006667</td>\n",
       "      <td>-0.007207</td>\n",
       "      <td>0.007207</td>\n",
       "      <td>0.019466</td>\n",
       "      <td>-0.019466</td>\n",
       "      <td>-0.066465</td>\n",
       "      <td>0.066465</td>\n",
       "      <td>-0.046843</td>\n",
       "      <td>0.046843</td>\n",
       "    </tr>\n",
       "    <tr>\n",
       "      <th>region_INNER_CITY</th>\n",
       "      <td>-0.025171</td>\n",
       "      <td>-0.047564</td>\n",
       "      <td>-0.051222</td>\n",
       "      <td>-0.023459</td>\n",
       "      <td>0.023459</td>\n",
       "      <td>1.000000</td>\n",
       "      <td>-0.393444</td>\n",
       "      <td>-0.306032</td>\n",
       "      <td>-0.573814</td>\n",
       "      <td>-0.003254</td>\n",
       "      <td>...</td>\n",
       "      <td>0.018143</td>\n",
       "      <td>-0.018143</td>\n",
       "      <td>0.091373</td>\n",
       "      <td>-0.091373</td>\n",
       "      <td>-0.007894</td>\n",
       "      <td>0.007894</td>\n",
       "      <td>-0.002098</td>\n",
       "      <td>0.002098</td>\n",
       "      <td>-0.001054</td>\n",
       "      <td>0.001054</td>\n",
       "    </tr>\n",
       "    <tr>\n",
       "      <th>region_RURAL</th>\n",
       "      <td>0.018635</td>\n",
       "      <td>0.084776</td>\n",
       "      <td>0.089902</td>\n",
       "      <td>-0.009092</td>\n",
       "      <td>0.009092</td>\n",
       "      <td>-0.393444</td>\n",
       "      <td>1.000000</td>\n",
       "      <td>-0.148158</td>\n",
       "      <td>-0.277798</td>\n",
       "      <td>0.022649</td>\n",
       "      <td>...</td>\n",
       "      <td>-0.024006</td>\n",
       "      <td>0.024006</td>\n",
       "      <td>-0.036960</td>\n",
       "      <td>0.036960</td>\n",
       "      <td>0.008496</td>\n",
       "      <td>-0.008496</td>\n",
       "      <td>0.051908</td>\n",
       "      <td>-0.051908</td>\n",
       "      <td>-0.019714</td>\n",
       "      <td>0.019714</td>\n",
       "    </tr>\n",
       "    <tr>\n",
       "      <th>region_SUBURBAN</th>\n",
       "      <td>0.031345</td>\n",
       "      <td>0.029824</td>\n",
       "      <td>-0.014122</td>\n",
       "      <td>-0.010951</td>\n",
       "      <td>0.010951</td>\n",
       "      <td>-0.306032</td>\n",
       "      <td>-0.148158</td>\n",
       "      <td>1.000000</td>\n",
       "      <td>-0.216080</td>\n",
       "      <td>-0.012483</td>\n",
       "      <td>...</td>\n",
       "      <td>0.061184</td>\n",
       "      <td>-0.061184</td>\n",
       "      <td>-0.002605</td>\n",
       "      <td>0.002605</td>\n",
       "      <td>-0.038157</td>\n",
       "      <td>0.038157</td>\n",
       "      <td>-0.004635</td>\n",
       "      <td>0.004635</td>\n",
       "      <td>-0.062508</td>\n",
       "      <td>0.062508</td>\n",
       "    </tr>\n",
       "    <tr>\n",
       "      <th>region_TOWN</th>\n",
       "      <td>-0.008510</td>\n",
       "      <td>-0.036431</td>\n",
       "      <td>-0.007033</td>\n",
       "      <td>0.040472</td>\n",
       "      <td>-0.040472</td>\n",
       "      <td>-0.573814</td>\n",
       "      <td>-0.277798</td>\n",
       "      <td>-0.216080</td>\n",
       "      <td>1.000000</td>\n",
       "      <td>-0.006369</td>\n",
       "      <td>...</td>\n",
       "      <td>-0.041604</td>\n",
       "      <td>0.041604</td>\n",
       "      <td>-0.068654</td>\n",
       "      <td>0.068654</td>\n",
       "      <td>0.027431</td>\n",
       "      <td>-0.027431</td>\n",
       "      <td>-0.036591</td>\n",
       "      <td>0.036591</td>\n",
       "      <td>0.059115</td>\n",
       "      <td>-0.059115</td>\n",
       "    </tr>\n",
       "    <tr>\n",
       "      <th>married_NO</th>\n",
       "      <td>-0.010394</td>\n",
       "      <td>0.008386</td>\n",
       "      <td>0.048716</td>\n",
       "      <td>0.021110</td>\n",
       "      <td>-0.021110</td>\n",
       "      <td>-0.003254</td>\n",
       "      <td>0.022649</td>\n",
       "      <td>-0.012483</td>\n",
       "      <td>-0.006369</td>\n",
       "      <td>1.000000</td>\n",
       "      <td>...</td>\n",
       "      <td>-0.009571</td>\n",
       "      <td>0.009571</td>\n",
       "      <td>0.028604</td>\n",
       "      <td>-0.028604</td>\n",
       "      <td>-0.059996</td>\n",
       "      <td>0.059996</td>\n",
       "      <td>-0.021711</td>\n",
       "      <td>0.021711</td>\n",
       "      <td>-0.189578</td>\n",
       "      <td>0.189578</td>\n",
       "    </tr>\n",
       "    <tr>\n",
       "      <th>married_YES</th>\n",
       "      <td>0.010394</td>\n",
       "      <td>-0.008386</td>\n",
       "      <td>-0.048716</td>\n",
       "      <td>-0.021110</td>\n",
       "      <td>0.021110</td>\n",
       "      <td>0.003254</td>\n",
       "      <td>-0.022649</td>\n",
       "      <td>0.012483</td>\n",
       "      <td>0.006369</td>\n",
       "      <td>-1.000000</td>\n",
       "      <td>...</td>\n",
       "      <td>0.009571</td>\n",
       "      <td>-0.009571</td>\n",
       "      <td>-0.028604</td>\n",
       "      <td>0.028604</td>\n",
       "      <td>0.059996</td>\n",
       "      <td>-0.059996</td>\n",
       "      <td>0.021711</td>\n",
       "      <td>-0.021711</td>\n",
       "      <td>0.189578</td>\n",
       "      <td>-0.189578</td>\n",
       "    </tr>\n",
       "    <tr>\n",
       "      <th>car_NO</th>\n",
       "      <td>-0.077733</td>\n",
       "      <td>-0.081556</td>\n",
       "      <td>-0.036455</td>\n",
       "      <td>0.006667</td>\n",
       "      <td>-0.006667</td>\n",
       "      <td>0.018143</td>\n",
       "      <td>-0.024006</td>\n",
       "      <td>0.061184</td>\n",
       "      <td>-0.041604</td>\n",
       "      <td>-0.009571</td>\n",
       "      <td>...</td>\n",
       "      <td>1.000000</td>\n",
       "      <td>-1.000000</td>\n",
       "      <td>0.034310</td>\n",
       "      <td>-0.034310</td>\n",
       "      <td>-0.034783</td>\n",
       "      <td>0.034783</td>\n",
       "      <td>-0.007743</td>\n",
       "      <td>0.007743</td>\n",
       "      <td>0.018917</td>\n",
       "      <td>-0.018917</td>\n",
       "    </tr>\n",
       "    <tr>\n",
       "      <th>car_YES</th>\n",
       "      <td>0.077733</td>\n",
       "      <td>0.081556</td>\n",
       "      <td>0.036455</td>\n",
       "      <td>-0.006667</td>\n",
       "      <td>0.006667</td>\n",
       "      <td>-0.018143</td>\n",
       "      <td>0.024006</td>\n",
       "      <td>-0.061184</td>\n",
       "      <td>0.041604</td>\n",
       "      <td>0.009571</td>\n",
       "      <td>...</td>\n",
       "      <td>-1.000000</td>\n",
       "      <td>1.000000</td>\n",
       "      <td>-0.034310</td>\n",
       "      <td>0.034310</td>\n",
       "      <td>0.034783</td>\n",
       "      <td>-0.034783</td>\n",
       "      <td>0.007743</td>\n",
       "      <td>-0.007743</td>\n",
       "      <td>-0.018917</td>\n",
       "      <td>0.018917</td>\n",
       "    </tr>\n",
       "    <tr>\n",
       "      <th>savings_acct_NO</th>\n",
       "      <td>-0.184389</td>\n",
       "      <td>-0.266164</td>\n",
       "      <td>-0.041536</td>\n",
       "      <td>0.007207</td>\n",
       "      <td>-0.007207</td>\n",
       "      <td>0.091373</td>\n",
       "      <td>-0.036960</td>\n",
       "      <td>-0.002605</td>\n",
       "      <td>-0.068654</td>\n",
       "      <td>0.028604</td>\n",
       "      <td>...</td>\n",
       "      <td>0.034310</td>\n",
       "      <td>-0.034310</td>\n",
       "      <td>1.000000</td>\n",
       "      <td>-1.000000</td>\n",
       "      <td>0.042511</td>\n",
       "      <td>-0.042511</td>\n",
       "      <td>-0.001588</td>\n",
       "      <td>0.001588</td>\n",
       "      <td>-0.072779</td>\n",
       "      <td>0.072779</td>\n",
       "    </tr>\n",
       "    <tr>\n",
       "      <th>savings_acct_YES</th>\n",
       "      <td>0.184389</td>\n",
       "      <td>0.266164</td>\n",
       "      <td>0.041536</td>\n",
       "      <td>-0.007207</td>\n",
       "      <td>0.007207</td>\n",
       "      <td>-0.091373</td>\n",
       "      <td>0.036960</td>\n",
       "      <td>0.002605</td>\n",
       "      <td>0.068654</td>\n",
       "      <td>-0.028604</td>\n",
       "      <td>...</td>\n",
       "      <td>-0.034310</td>\n",
       "      <td>0.034310</td>\n",
       "      <td>-1.000000</td>\n",
       "      <td>1.000000</td>\n",
       "      <td>-0.042511</td>\n",
       "      <td>0.042511</td>\n",
       "      <td>0.001588</td>\n",
       "      <td>-0.001588</td>\n",
       "      <td>0.072779</td>\n",
       "      <td>-0.072779</td>\n",
       "    </tr>\n",
       "    <tr>\n",
       "      <th>current_acct_NO</th>\n",
       "      <td>0.035312</td>\n",
       "      <td>-0.031616</td>\n",
       "      <td>-0.006238</td>\n",
       "      <td>-0.019466</td>\n",
       "      <td>0.019466</td>\n",
       "      <td>-0.007894</td>\n",
       "      <td>0.008496</td>\n",
       "      <td>-0.038157</td>\n",
       "      <td>0.027431</td>\n",
       "      <td>-0.059996</td>\n",
       "      <td>...</td>\n",
       "      <td>-0.034783</td>\n",
       "      <td>0.034783</td>\n",
       "      <td>0.042511</td>\n",
       "      <td>-0.042511</td>\n",
       "      <td>1.000000</td>\n",
       "      <td>-1.000000</td>\n",
       "      <td>-0.036704</td>\n",
       "      <td>0.036704</td>\n",
       "      <td>0.025141</td>\n",
       "      <td>-0.025141</td>\n",
       "    </tr>\n",
       "    <tr>\n",
       "      <th>current_acct_YES</th>\n",
       "      <td>-0.035312</td>\n",
       "      <td>0.031616</td>\n",
       "      <td>0.006238</td>\n",
       "      <td>0.019466</td>\n",
       "      <td>-0.019466</td>\n",
       "      <td>0.007894</td>\n",
       "      <td>-0.008496</td>\n",
       "      <td>0.038157</td>\n",
       "      <td>-0.027431</td>\n",
       "      <td>0.059996</td>\n",
       "      <td>...</td>\n",
       "      <td>0.034783</td>\n",
       "      <td>-0.034783</td>\n",
       "      <td>-0.042511</td>\n",
       "      <td>0.042511</td>\n",
       "      <td>-1.000000</td>\n",
       "      <td>1.000000</td>\n",
       "      <td>0.036704</td>\n",
       "      <td>-0.036704</td>\n",
       "      <td>-0.025141</td>\n",
       "      <td>0.025141</td>\n",
       "    </tr>\n",
       "    <tr>\n",
       "      <th>mortgage_NO</th>\n",
       "      <td>0.016154</td>\n",
       "      <td>0.014662</td>\n",
       "      <td>0.074339</td>\n",
       "      <td>0.066465</td>\n",
       "      <td>-0.066465</td>\n",
       "      <td>-0.002098</td>\n",
       "      <td>0.051908</td>\n",
       "      <td>-0.004635</td>\n",
       "      <td>-0.036591</td>\n",
       "      <td>-0.021711</td>\n",
       "      <td>...</td>\n",
       "      <td>-0.007743</td>\n",
       "      <td>0.007743</td>\n",
       "      <td>-0.001588</td>\n",
       "      <td>0.001588</td>\n",
       "      <td>-0.036704</td>\n",
       "      <td>0.036704</td>\n",
       "      <td>1.000000</td>\n",
       "      <td>-1.000000</td>\n",
       "      <td>-0.024182</td>\n",
       "      <td>0.024182</td>\n",
       "    </tr>\n",
       "    <tr>\n",
       "      <th>mortgage_YES</th>\n",
       "      <td>-0.016154</td>\n",
       "      <td>-0.014662</td>\n",
       "      <td>-0.074339</td>\n",
       "      <td>-0.066465</td>\n",
       "      <td>0.066465</td>\n",
       "      <td>0.002098</td>\n",
       "      <td>-0.051908</td>\n",
       "      <td>0.004635</td>\n",
       "      <td>0.036591</td>\n",
       "      <td>0.021711</td>\n",
       "      <td>...</td>\n",
       "      <td>0.007743</td>\n",
       "      <td>-0.007743</td>\n",
       "      <td>0.001588</td>\n",
       "      <td>-0.001588</td>\n",
       "      <td>0.036704</td>\n",
       "      <td>-0.036704</td>\n",
       "      <td>-1.000000</td>\n",
       "      <td>1.000000</td>\n",
       "      <td>0.024182</td>\n",
       "      <td>-0.024182</td>\n",
       "    </tr>\n",
       "    <tr>\n",
       "      <th>pep_NO</th>\n",
       "      <td>-0.173825</td>\n",
       "      <td>-0.221991</td>\n",
       "      <td>0.057663</td>\n",
       "      <td>0.046843</td>\n",
       "      <td>-0.046843</td>\n",
       "      <td>-0.001054</td>\n",
       "      <td>-0.019714</td>\n",
       "      <td>-0.062508</td>\n",
       "      <td>0.059115</td>\n",
       "      <td>-0.189578</td>\n",
       "      <td>...</td>\n",
       "      <td>0.018917</td>\n",
       "      <td>-0.018917</td>\n",
       "      <td>-0.072779</td>\n",
       "      <td>0.072779</td>\n",
       "      <td>0.025141</td>\n",
       "      <td>-0.025141</td>\n",
       "      <td>-0.024182</td>\n",
       "      <td>0.024182</td>\n",
       "      <td>1.000000</td>\n",
       "      <td>-1.000000</td>\n",
       "    </tr>\n",
       "    <tr>\n",
       "      <th>pep_YES</th>\n",
       "      <td>0.173825</td>\n",
       "      <td>0.221991</td>\n",
       "      <td>-0.057663</td>\n",
       "      <td>-0.046843</td>\n",
       "      <td>0.046843</td>\n",
       "      <td>0.001054</td>\n",
       "      <td>0.019714</td>\n",
       "      <td>0.062508</td>\n",
       "      <td>-0.059115</td>\n",
       "      <td>0.189578</td>\n",
       "      <td>...</td>\n",
       "      <td>-0.018917</td>\n",
       "      <td>0.018917</td>\n",
       "      <td>0.072779</td>\n",
       "      <td>-0.072779</td>\n",
       "      <td>-0.025141</td>\n",
       "      <td>0.025141</td>\n",
       "      <td>0.024182</td>\n",
       "      <td>-0.024182</td>\n",
       "      <td>-1.000000</td>\n",
       "      <td>1.000000</td>\n",
       "    </tr>\n",
       "  </tbody>\n",
       "</table>\n",
       "<p>21 rows × 21 columns</p>\n",
       "</div>"
      ],
      "text/plain": [
       "                        age    income  children  gender_FEMALE  gender_MALE  \\\n",
       "age                1.000000  0.752726  0.023572       0.090081    -0.090081   \n",
       "income             0.752726  1.000000  0.036761       0.023845    -0.023845   \n",
       "children           0.023572  0.036761  1.000000       0.014206    -0.014206   \n",
       "gender_FEMALE      0.090081  0.023845  0.014206       1.000000    -1.000000   \n",
       "gender_MALE       -0.090081 -0.023845 -0.014206      -1.000000     1.000000   \n",
       "region_INNER_CITY -0.025171 -0.047564 -0.051222      -0.023459     0.023459   \n",
       "region_RURAL       0.018635  0.084776  0.089902      -0.009092     0.009092   \n",
       "region_SUBURBAN    0.031345  0.029824 -0.014122      -0.010951     0.010951   \n",
       "region_TOWN       -0.008510 -0.036431 -0.007033       0.040472    -0.040472   \n",
       "married_NO        -0.010394  0.008386  0.048716       0.021110    -0.021110   \n",
       "married_YES        0.010394 -0.008386 -0.048716      -0.021110     0.021110   \n",
       "car_NO            -0.077733 -0.081556 -0.036455       0.006667    -0.006667   \n",
       "car_YES            0.077733  0.081556  0.036455      -0.006667     0.006667   \n",
       "savings_acct_NO   -0.184389 -0.266164 -0.041536       0.007207    -0.007207   \n",
       "savings_acct_YES   0.184389  0.266164  0.041536      -0.007207     0.007207   \n",
       "current_acct_NO    0.035312 -0.031616 -0.006238      -0.019466     0.019466   \n",
       "current_acct_YES  -0.035312  0.031616  0.006238       0.019466    -0.019466   \n",
       "mortgage_NO        0.016154  0.014662  0.074339       0.066465    -0.066465   \n",
       "mortgage_YES      -0.016154 -0.014662 -0.074339      -0.066465     0.066465   \n",
       "pep_NO            -0.173825 -0.221991  0.057663       0.046843    -0.046843   \n",
       "pep_YES            0.173825  0.221991 -0.057663      -0.046843     0.046843   \n",
       "\n",
       "                   region_INNER_CITY  region_RURAL  region_SUBURBAN  \\\n",
       "age                        -0.025171      0.018635         0.031345   \n",
       "income                     -0.047564      0.084776         0.029824   \n",
       "children                   -0.051222      0.089902        -0.014122   \n",
       "gender_FEMALE              -0.023459     -0.009092        -0.010951   \n",
       "gender_MALE                 0.023459      0.009092         0.010951   \n",
       "region_INNER_CITY           1.000000     -0.393444        -0.306032   \n",
       "region_RURAL               -0.393444      1.000000        -0.148158   \n",
       "region_SUBURBAN            -0.306032     -0.148158         1.000000   \n",
       "region_TOWN                -0.573814     -0.277798        -0.216080   \n",
       "married_NO                 -0.003254      0.022649        -0.012483   \n",
       "married_YES                 0.003254     -0.022649         0.012483   \n",
       "car_NO                      0.018143     -0.024006         0.061184   \n",
       "car_YES                    -0.018143      0.024006        -0.061184   \n",
       "savings_acct_NO             0.091373     -0.036960        -0.002605   \n",
       "savings_acct_YES           -0.091373      0.036960         0.002605   \n",
       "current_acct_NO            -0.007894      0.008496        -0.038157   \n",
       "current_acct_YES            0.007894     -0.008496         0.038157   \n",
       "mortgage_NO                -0.002098      0.051908        -0.004635   \n",
       "mortgage_YES                0.002098     -0.051908         0.004635   \n",
       "pep_NO                     -0.001054     -0.019714        -0.062508   \n",
       "pep_YES                     0.001054      0.019714         0.062508   \n",
       "\n",
       "                   region_TOWN  married_NO    ...       car_NO   car_YES  \\\n",
       "age                  -0.008510   -0.010394    ...    -0.077733  0.077733   \n",
       "income               -0.036431    0.008386    ...    -0.081556  0.081556   \n",
       "children             -0.007033    0.048716    ...    -0.036455  0.036455   \n",
       "gender_FEMALE         0.040472    0.021110    ...     0.006667 -0.006667   \n",
       "gender_MALE          -0.040472   -0.021110    ...    -0.006667  0.006667   \n",
       "region_INNER_CITY    -0.573814   -0.003254    ...     0.018143 -0.018143   \n",
       "region_RURAL         -0.277798    0.022649    ...    -0.024006  0.024006   \n",
       "region_SUBURBAN      -0.216080   -0.012483    ...     0.061184 -0.061184   \n",
       "region_TOWN           1.000000   -0.006369    ...    -0.041604  0.041604   \n",
       "married_NO           -0.006369    1.000000    ...    -0.009571  0.009571   \n",
       "married_YES           0.006369   -1.000000    ...     0.009571 -0.009571   \n",
       "car_NO               -0.041604   -0.009571    ...     1.000000 -1.000000   \n",
       "car_YES               0.041604    0.009571    ...    -1.000000  1.000000   \n",
       "savings_acct_NO      -0.068654    0.028604    ...     0.034310 -0.034310   \n",
       "savings_acct_YES      0.068654   -0.028604    ...    -0.034310  0.034310   \n",
       "current_acct_NO       0.027431   -0.059996    ...    -0.034783  0.034783   \n",
       "current_acct_YES     -0.027431    0.059996    ...     0.034783 -0.034783   \n",
       "mortgage_NO          -0.036591   -0.021711    ...    -0.007743  0.007743   \n",
       "mortgage_YES          0.036591    0.021711    ...     0.007743 -0.007743   \n",
       "pep_NO                0.059115   -0.189578    ...     0.018917 -0.018917   \n",
       "pep_YES              -0.059115    0.189578    ...    -0.018917  0.018917   \n",
       "\n",
       "                   savings_acct_NO  savings_acct_YES  current_acct_NO  \\\n",
       "age                      -0.184389          0.184389         0.035312   \n",
       "income                   -0.266164          0.266164        -0.031616   \n",
       "children                 -0.041536          0.041536        -0.006238   \n",
       "gender_FEMALE             0.007207         -0.007207        -0.019466   \n",
       "gender_MALE              -0.007207          0.007207         0.019466   \n",
       "region_INNER_CITY         0.091373         -0.091373        -0.007894   \n",
       "region_RURAL             -0.036960          0.036960         0.008496   \n",
       "region_SUBURBAN          -0.002605          0.002605        -0.038157   \n",
       "region_TOWN              -0.068654          0.068654         0.027431   \n",
       "married_NO                0.028604         -0.028604        -0.059996   \n",
       "married_YES              -0.028604          0.028604         0.059996   \n",
       "car_NO                    0.034310         -0.034310        -0.034783   \n",
       "car_YES                  -0.034310          0.034310         0.034783   \n",
       "savings_acct_NO           1.000000         -1.000000         0.042511   \n",
       "savings_acct_YES         -1.000000          1.000000        -0.042511   \n",
       "current_acct_NO           0.042511         -0.042511         1.000000   \n",
       "current_acct_YES         -0.042511          0.042511        -1.000000   \n",
       "mortgage_NO              -0.001588          0.001588        -0.036704   \n",
       "mortgage_YES              0.001588         -0.001588         0.036704   \n",
       "pep_NO                   -0.072779          0.072779         0.025141   \n",
       "pep_YES                   0.072779         -0.072779        -0.025141   \n",
       "\n",
       "                   current_acct_YES  mortgage_NO  mortgage_YES    pep_NO  \\\n",
       "age                       -0.035312     0.016154     -0.016154 -0.173825   \n",
       "income                     0.031616     0.014662     -0.014662 -0.221991   \n",
       "children                   0.006238     0.074339     -0.074339  0.057663   \n",
       "gender_FEMALE              0.019466     0.066465     -0.066465  0.046843   \n",
       "gender_MALE               -0.019466    -0.066465      0.066465 -0.046843   \n",
       "region_INNER_CITY          0.007894    -0.002098      0.002098 -0.001054   \n",
       "region_RURAL              -0.008496     0.051908     -0.051908 -0.019714   \n",
       "region_SUBURBAN            0.038157    -0.004635      0.004635 -0.062508   \n",
       "region_TOWN               -0.027431    -0.036591      0.036591  0.059115   \n",
       "married_NO                 0.059996    -0.021711      0.021711 -0.189578   \n",
       "married_YES               -0.059996     0.021711     -0.021711  0.189578   \n",
       "car_NO                     0.034783    -0.007743      0.007743  0.018917   \n",
       "car_YES                   -0.034783     0.007743     -0.007743 -0.018917   \n",
       "savings_acct_NO           -0.042511    -0.001588      0.001588 -0.072779   \n",
       "savings_acct_YES           0.042511     0.001588     -0.001588  0.072779   \n",
       "current_acct_NO           -1.000000    -0.036704      0.036704  0.025141   \n",
       "current_acct_YES           1.000000     0.036704     -0.036704 -0.025141   \n",
       "mortgage_NO                0.036704     1.000000     -1.000000 -0.024182   \n",
       "mortgage_YES              -0.036704    -1.000000      1.000000  0.024182   \n",
       "pep_NO                    -0.025141    -0.024182      0.024182  1.000000   \n",
       "pep_YES                    0.025141     0.024182     -0.024182 -1.000000   \n",
       "\n",
       "                    pep_YES  \n",
       "age                0.173825  \n",
       "income             0.221991  \n",
       "children          -0.057663  \n",
       "gender_FEMALE     -0.046843  \n",
       "gender_MALE        0.046843  \n",
       "region_INNER_CITY  0.001054  \n",
       "region_RURAL       0.019714  \n",
       "region_SUBURBAN    0.062508  \n",
       "region_TOWN       -0.059115  \n",
       "married_NO         0.189578  \n",
       "married_YES       -0.189578  \n",
       "car_NO            -0.018917  \n",
       "car_YES            0.018917  \n",
       "savings_acct_NO    0.072779  \n",
       "savings_acct_YES  -0.072779  \n",
       "current_acct_NO   -0.025141  \n",
       "current_acct_YES   0.025141  \n",
       "mortgage_NO        0.024182  \n",
       "mortgage_YES      -0.024182  \n",
       "pep_NO            -1.000000  \n",
       "pep_YES            1.000000  \n",
       "\n",
       "[21 rows x 21 columns]"
      ]
     },
     "execution_count": 52,
     "metadata": {},
     "output_type": "execute_result"
    }
   ],
   "source": [
    "bank_numeric.corr()"
   ]
  },
  {
   "cell_type": "markdown",
   "metadata": {},
   "source": [
    "**Summary for Question 7**"
   ]
  },
  {
   "cell_type": "markdown",
   "metadata": {},
   "source": [
    "From correlation matrix above, The correlation value of 0.75 between age and income variable indicates that they are positively and strongly correlated, which is a positive linear relationship. The income increases as age increases. the correlation coefficient values are more appropriate for intepreting numeric variables. All 3 numeric variables (age, income, children) have a postive linear association, but only age and income have a strong linear association. The correlation value of 0.023 between age and children variables shows a weak linear association. The correlation value of 0.036 between income and children variables shows they have a weak linear association. Thus, only the age and income variables show a strong positive linear relationship. (p = 0.75)."
   ]
  },
  {
   "cell_type": "markdown",
   "metadata": {},
   "source": [
    "## Question 8 :   Using Matplotlib library and/or ploting capabilties of Pandas, create a scatter plot of the (non-normalized) Income attribute relative to Age. Be sure that your plot contains appropriate labels for the axes. Do these variables seem correlated?"
   ]
  },
  {
   "cell_type": "code",
   "execution_count": 53,
   "metadata": {},
   "outputs": [],
   "source": [
    "#Import data\n",
    "bankTable2= pd.read_csv(\"bank_data.csv\") "
   ]
  },
  {
   "cell_type": "code",
   "execution_count": 54,
   "metadata": {},
   "outputs": [
    {
     "data": {
      "text/plain": [
       "<matplotlib.axes._subplots.AxesSubplot at 0x1f6d60cc278>"
      ]
     },
     "execution_count": 54,
     "metadata": {},
     "output_type": "execute_result"
    },
    {
     "data": {
      "image/png": "[encoded data removed]",
      "text/plain": [
       "<Figure size 432x288 with 1 Axes>"
      ]
     },
     "metadata": {
      "needs_background": "light"
     },
     "output_type": "display_data"
    }
   ],
   "source": [
    "#Create Scatter Plot\n",
    "bankTable2.plot(x=\"income\", y=\"age\", kind=\"scatter\")"
   ]
  },
  {
   "cell_type": "markdown",
   "metadata": {},
   "source": [
    "- As we can see that the relationship between the age and income show a significant positive (linear) relationship that when age is older the income will increase."
   ]
  },
  {
   "cell_type": "markdown",
   "metadata": {},
   "source": [
    "## Question 9: Create histograms for (non-normalized) Income (using 9 bins) and Age (using 15 bins)."
   ]
  },
  {
   "cell_type": "code",
   "execution_count": 55,
   "metadata": {},
   "outputs": [
    {
     "data": {
      "text/plain": [
       "Text(0.5, 0, 'Income')"
      ]
     },
     "execution_count": 55,
     "metadata": {},
     "output_type": "execute_result"
    },
    {
     "data": {
      "image/png": "[encoded data removed]",
      "text/plain": [
       "<Figure size 432x288 with 1 Axes>"
      ]
     },
     "metadata": {
      "needs_background": "light"
     },
     "output_type": "display_data"
    }
   ],
   "source": [
    "#Create Income histogram (using 9 bins)\n",
    "income_hist = bankTable2[\"income\"].plot(kind=\"hist\", bins=9)\n",
    "plt.title('Income Histogram')\n",
    "plt.xlabel('Income')"
   ]
  },
  {
   "cell_type": "markdown",
   "metadata": {},
   "source": [
    "- The income distribution is right-skewed, so most people have income less than the median and the mean or less than the avarage income of 27524."
   ]
  },
  {
   "cell_type": "code",
   "execution_count": 56,
   "metadata": {},
   "outputs": [
    {
     "data": {
      "text/plain": [
       "Text(0.5, 0, 'Age')"
      ]
     },
     "execution_count": 56,
     "metadata": {},
     "output_type": "execute_result"
    },
    {
     "data": {
      "image/png": "[encoded data removed]",
      "text/plain": [
       "<Figure size 432x288 with 1 Axes>"
      ]
     },
     "metadata": {
      "needs_background": "light"
     },
     "output_type": "display_data"
    }
   ],
   "source": [
    "#Create Age histogram (using 15 bins)\n",
    "age_hist = bankTable2[\"age\"].plot(kind=\"hist\", bins=15)\n",
    "plt.title('Age Histogram')\n",
    "plt.xlabel('Age')"
   ]
  },
  {
   "cell_type": "markdown",
   "metadata": {},
   "source": [
    "- The histogram for age attribute shows that it has more than one peak. In other words, the age attribute is a multimodal distribution."
   ]
  },
  {
   "cell_type": "markdown",
   "metadata": {},
   "source": [
    "## Question 10:   Using a bar graph, plot the distribution of the values of the region attribute.¶"
   ]
  },
  {
   "cell_type": "code",
   "execution_count": 57,
   "metadata": {},
   "outputs": [
    {
     "data": {
      "text/plain": [
       "<matplotlib.axes._subplots.AxesSubplot at 0x1f6d7b4f0f0>"
      ]
     },
     "execution_count": 57,
     "metadata": {},
     "output_type": "execute_result"
    },
    {
     "data": {
      "image/png": "[encoded data removed]",
      "text/plain": [
       "<Figure size 432x288 with 1 Axes>"
      ]
     },
     "metadata": {
      "needs_background": "light"
     },
     "output_type": "display_data"
    }
   ],
   "source": [
    "bankTable2[\"region\"].value_counts().plot(kind='bar' ,grid= True, title=\"Region Attribute\")"
   ]
  },
  {
   "cell_type": "markdown",
   "metadata": {},
   "source": [
    "- The highest number of customers (269 customers) live in the inner-city region.\n",
    "- The lowest number of customers (62 customers) live in the suburban region."
   ]
  },
  {
   "cell_type": "markdown",
   "metadata": {},
   "source": [
    "## Question 11:   Perform a cross-tabulation of the region attribute with the pep attribute. This requires the aggregation of the occurrences of each pep value (yes or no) separately for each value of the region attribute. Show the results as a 4 by 2 (region x pep) table with entries representing the counts. [Hint: you can either use Numpy or use aggregations functions in Pandas such as groupby() and cross-tab().] Then, either using Matplotlib directly or the plot() function in Pandas create a bar chart graph to visualize of the relationships between these sets of variables. [Hint: This example of creating simple bar charts using Matplotlib may be useful.]"
   ]
  },
  {
   "cell_type": "code",
   "execution_count": 58,
   "metadata": {},
   "outputs": [],
   "source": [
    "rp = pd.crosstab(bankTable2[\"region\"],bankTable2[\"pep\"])"
   ]
  },
  {
   "cell_type": "code",
   "execution_count": 59,
   "metadata": {},
   "outputs": [
    {
     "data": {
      "text/html": [
       "<div>\n",
       "<style scoped>\n",
       "    .dataframe tbody tr th:only-of-type {\n",
       "        vertical-align: middle;\n",
       "    }\n",
       "\n",
       "    .dataframe tbody tr th {\n",
       "        vertical-align: top;\n",
       "    }\n",
       "\n",
       "    .dataframe thead th {\n",
       "        text-align: right;\n",
       "    }\n",
       "</style>\n",
       "<table border=\"1\" class=\"dataframe\">\n",
       "  <thead>\n",
       "    <tr style=\"text-align: right;\">\n",
       "      <th>pep</th>\n",
       "      <th>NO</th>\n",
       "      <th>YES</th>\n",
       "    </tr>\n",
       "    <tr>\n",
       "      <th>region</th>\n",
       "      <th></th>\n",
       "      <th></th>\n",
       "    </tr>\n",
       "  </thead>\n",
       "  <tbody>\n",
       "    <tr>\n",
       "      <th>INNER_CITY</th>\n",
       "      <td>146</td>\n",
       "      <td>123</td>\n",
       "    </tr>\n",
       "    <tr>\n",
       "      <th>RURAL</th>\n",
       "      <td>50</td>\n",
       "      <td>46</td>\n",
       "    </tr>\n",
       "    <tr>\n",
       "      <th>SUBURBAN</th>\n",
       "      <td>28</td>\n",
       "      <td>34</td>\n",
       "    </tr>\n",
       "    <tr>\n",
       "      <th>TOWN</th>\n",
       "      <td>102</td>\n",
       "      <td>71</td>\n",
       "    </tr>\n",
       "  </tbody>\n",
       "</table>\n",
       "</div>"
      ],
      "text/plain": [
       "pep          NO  YES\n",
       "region              \n",
       "INNER_CITY  146  123\n",
       "RURAL        50   46\n",
       "SUBURBAN     28   34\n",
       "TOWN        102   71"
      ]
     },
     "execution_count": 59,
     "metadata": {},
     "output_type": "execute_result"
    }
   ],
   "source": [
    "rp"
   ]
  },
  {
   "cell_type": "code",
   "execution_count": 60,
   "metadata": {},
   "outputs": [
    {
     "data": {
      "image/png": "[encoded data removed]",
      "text/plain": [
       "<Figure size 432x288 with 1 Axes>"
      ]
     },
     "metadata": {
      "needs_background": "light"
     },
     "output_type": "display_data"
    }
   ],
   "source": [
    "plt.show(rp.plot(kind=\"bar\"))"
   ]
  },
  {
   "cell_type": "markdown",
   "metadata": {},
   "source": [
    "- The bar chart above shows that only the suburban region has more customers purchasing the pep products.\n",
    "- for the rural, town, and inner city regions, there are a greater number of customers who did not purchase the pep products."
   ]
  },
  {
   "cell_type": "code",
   "execution_count": null,
   "metadata": {},
   "outputs": [],
   "source": []
  }
 ],
 "metadata": {
  "kernelspec": {
   "display_name": "Python 3",
   "language": "python",
   "name": "python3"
  },
  "language_info": {
   "codemirror_mode": {
    "name": "ipython",
    "version": 3
   },
   "file_extension": ".py",
   "mimetype": "text/x-python",
   "name": "python",
   "nbconvert_exporter": "python",
   "pygments_lexer": "ipython3",
   "version": "3.7.1"
  }
 },
 "nbformat": 4,
 "nbformat_minor": 2
}
