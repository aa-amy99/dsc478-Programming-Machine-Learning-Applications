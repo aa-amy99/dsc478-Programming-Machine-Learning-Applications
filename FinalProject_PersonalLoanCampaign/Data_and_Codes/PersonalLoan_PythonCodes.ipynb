{
 "cells": [
  {
   "cell_type": "markdown",
   "metadata": {},
   "source": [
    "   # Appendix A"
   ]
  },
  {
   "cell_type": "markdown",
   "metadata": {},
   "source": [
    "## A.1 <font color = blue>Data Exploration</font>\n"
   ]
  },
  {
   "cell_type": "code",
   "execution_count": 1,
   "metadata": {},
   "outputs": [],
   "source": [
    "import numpy as np\n",
    "import pandas as pd\n",
    "import matplotlib.pyplot as plt\n",
    "%matplotlib inline\n",
    "import os"
   ]
  },
  {
   "cell_type": "code",
   "execution_count": 2,
   "metadata": {},
   "outputs": [],
   "source": [
    "#Change directorty working and import data\n",
    "os.chdir('/Users/amy_a/Desktop/dsc478/assignment/final')"
   ]
  },
  {
   "cell_type": "code",
   "execution_count": 3,
   "metadata": {},
   "outputs": [],
   "source": [
    "#Import bank data\n",
    "bankLoan = pd.read_csv(\"Personal_Loan.csv\")"
   ]
  },
  {
   "cell_type": "code",
   "execution_count": 4,
   "metadata": {},
   "outputs": [
    {
     "data": {
      "text/plain": [
       "(5000, 14)"
      ]
     },
     "execution_count": 4,
     "metadata": {},
     "output_type": "execute_result"
    }
   ],
   "source": [
    "bankLoan.shape"
   ]
  },
  {
   "cell_type": "code",
   "execution_count": 5,
   "metadata": {},
   "outputs": [
    {
     "data": {
      "text/html": [
       "<div>\n",
       "<style scoped>\n",
       "    .dataframe tbody tr th:only-of-type {\n",
       "        vertical-align: middle;\n",
       "    }\n",
       "\n",
       "    .dataframe tbody tr th {\n",
       "        vertical-align: top;\n",
       "    }\n",
       "\n",
       "    .dataframe thead th {\n",
       "        text-align: right;\n",
       "    }\n",
       "</style>\n",
       "<table border=\"1\" class=\"dataframe\">\n",
       "  <thead>\n",
       "    <tr style=\"text-align: right;\">\n",
       "      <th></th>\n",
       "      <th>ID</th>\n",
       "      <th>Age</th>\n",
       "      <th>Experience</th>\n",
       "      <th>Income</th>\n",
       "      <th>Area</th>\n",
       "      <th>Family</th>\n",
       "      <th>CCAvg</th>\n",
       "      <th>Education</th>\n",
       "      <th>Mortgage</th>\n",
       "      <th>PersonalLoan</th>\n",
       "      <th>SecuritiesAccount</th>\n",
       "      <th>CDAccount</th>\n",
       "      <th>Online</th>\n",
       "      <th>CreditCard</th>\n",
       "    </tr>\n",
       "  </thead>\n",
       "  <tbody>\n",
       "    <tr>\n",
       "      <th>0</th>\n",
       "      <td>1</td>\n",
       "      <td>25</td>\n",
       "      <td>1</td>\n",
       "      <td>49</td>\n",
       "      <td>Urban</td>\n",
       "      <td>4</td>\n",
       "      <td>1.6</td>\n",
       "      <td>1</td>\n",
       "      <td>0</td>\n",
       "      <td>0</td>\n",
       "      <td>1</td>\n",
       "      <td>0</td>\n",
       "      <td>0</td>\n",
       "      <td>0</td>\n",
       "    </tr>\n",
       "    <tr>\n",
       "      <th>1</th>\n",
       "      <td>2</td>\n",
       "      <td>45</td>\n",
       "      <td>19</td>\n",
       "      <td>34</td>\n",
       "      <td>Urban</td>\n",
       "      <td>3</td>\n",
       "      <td>1.5</td>\n",
       "      <td>1</td>\n",
       "      <td>0</td>\n",
       "      <td>0</td>\n",
       "      <td>1</td>\n",
       "      <td>0</td>\n",
       "      <td>0</td>\n",
       "      <td>0</td>\n",
       "    </tr>\n",
       "    <tr>\n",
       "      <th>2</th>\n",
       "      <td>3</td>\n",
       "      <td>39</td>\n",
       "      <td>15</td>\n",
       "      <td>11</td>\n",
       "      <td>Urban</td>\n",
       "      <td>1</td>\n",
       "      <td>1.0</td>\n",
       "      <td>1</td>\n",
       "      <td>0</td>\n",
       "      <td>0</td>\n",
       "      <td>0</td>\n",
       "      <td>0</td>\n",
       "      <td>0</td>\n",
       "      <td>0</td>\n",
       "    </tr>\n",
       "    <tr>\n",
       "      <th>3</th>\n",
       "      <td>4</td>\n",
       "      <td>35</td>\n",
       "      <td>9</td>\n",
       "      <td>100</td>\n",
       "      <td>Urban</td>\n",
       "      <td>1</td>\n",
       "      <td>2.7</td>\n",
       "      <td>2</td>\n",
       "      <td>0</td>\n",
       "      <td>0</td>\n",
       "      <td>0</td>\n",
       "      <td>0</td>\n",
       "      <td>0</td>\n",
       "      <td>0</td>\n",
       "    </tr>\n",
       "    <tr>\n",
       "      <th>4</th>\n",
       "      <td>5</td>\n",
       "      <td>35</td>\n",
       "      <td>8</td>\n",
       "      <td>45</td>\n",
       "      <td>Urban</td>\n",
       "      <td>4</td>\n",
       "      <td>1.0</td>\n",
       "      <td>2</td>\n",
       "      <td>0</td>\n",
       "      <td>0</td>\n",
       "      <td>0</td>\n",
       "      <td>0</td>\n",
       "      <td>0</td>\n",
       "      <td>1</td>\n",
       "    </tr>\n",
       "  </tbody>\n",
       "</table>\n",
       "</div>"
      ],
      "text/plain": [
       "   ID  Age  Experience  Income   Area  Family  CCAvg  Education  Mortgage  \\\n",
       "0   1   25           1      49  Urban       4    1.6          1         0   \n",
       "1   2   45          19      34  Urban       3    1.5          1         0   \n",
       "2   3   39          15      11  Urban       1    1.0          1         0   \n",
       "3   4   35           9     100  Urban       1    2.7          2         0   \n",
       "4   5   35           8      45  Urban       4    1.0          2         0   \n",
       "\n",
       "   PersonalLoan  SecuritiesAccount  CDAccount  Online  CreditCard  \n",
       "0             0                  1          0       0           0  \n",
       "1             0                  1          0       0           0  \n",
       "2             0                  0          0       0           0  \n",
       "3             0                  0          0       0           0  \n",
       "4             0                  0          0       0           1  "
      ]
     },
     "execution_count": 5,
     "metadata": {},
     "output_type": "execute_result"
    }
   ],
   "source": [
    "bankLoan.head(5)"
   ]
  },
  {
   "cell_type": "code",
   "execution_count": 6,
   "metadata": {},
   "outputs": [
    {
     "data": {
      "text/html": [
       "<div>\n",
       "<style scoped>\n",
       "    .dataframe tbody tr th:only-of-type {\n",
       "        vertical-align: middle;\n",
       "    }\n",
       "\n",
       "    .dataframe tbody tr th {\n",
       "        vertical-align: top;\n",
       "    }\n",
       "\n",
       "    .dataframe thead th {\n",
       "        text-align: right;\n",
       "    }\n",
       "</style>\n",
       "<table border=\"1\" class=\"dataframe\">\n",
       "  <thead>\n",
       "    <tr style=\"text-align: right;\">\n",
       "      <th></th>\n",
       "      <th>0</th>\n",
       "    </tr>\n",
       "  </thead>\n",
       "  <tbody>\n",
       "    <tr>\n",
       "      <th>ID</th>\n",
       "      <td>0</td>\n",
       "    </tr>\n",
       "    <tr>\n",
       "      <th>Age</th>\n",
       "      <td>0</td>\n",
       "    </tr>\n",
       "    <tr>\n",
       "      <th>Experience</th>\n",
       "      <td>0</td>\n",
       "    </tr>\n",
       "    <tr>\n",
       "      <th>Income</th>\n",
       "      <td>0</td>\n",
       "    </tr>\n",
       "    <tr>\n",
       "      <th>Area</th>\n",
       "      <td>0</td>\n",
       "    </tr>\n",
       "    <tr>\n",
       "      <th>Family</th>\n",
       "      <td>0</td>\n",
       "    </tr>\n",
       "    <tr>\n",
       "      <th>CCAvg</th>\n",
       "      <td>0</td>\n",
       "    </tr>\n",
       "    <tr>\n",
       "      <th>Education</th>\n",
       "      <td>0</td>\n",
       "    </tr>\n",
       "    <tr>\n",
       "      <th>Mortgage</th>\n",
       "      <td>0</td>\n",
       "    </tr>\n",
       "    <tr>\n",
       "      <th>PersonalLoan</th>\n",
       "      <td>0</td>\n",
       "    </tr>\n",
       "    <tr>\n",
       "      <th>SecuritiesAccount</th>\n",
       "      <td>0</td>\n",
       "    </tr>\n",
       "    <tr>\n",
       "      <th>CDAccount</th>\n",
       "      <td>0</td>\n",
       "    </tr>\n",
       "    <tr>\n",
       "      <th>Online</th>\n",
       "      <td>0</td>\n",
       "    </tr>\n",
       "    <tr>\n",
       "      <th>CreditCard</th>\n",
       "      <td>0</td>\n",
       "    </tr>\n",
       "  </tbody>\n",
       "</table>\n",
       "</div>"
      ],
      "text/plain": [
       "                   0\n",
       "ID                 0\n",
       "Age                0\n",
       "Experience         0\n",
       "Income             0\n",
       "Area               0\n",
       "Family             0\n",
       "CCAvg              0\n",
       "Education          0\n",
       "Mortgage           0\n",
       "PersonalLoan       0\n",
       "SecuritiesAccount  0\n",
       "CDAccount          0\n",
       "Online             0\n",
       "CreditCard         0"
      ]
     },
     "execution_count": 6,
     "metadata": {},
     "output_type": "execute_result"
    }
   ],
   "source": [
    "#Check the missing value \n",
    "missing_value = pd.DataFrame(bankLoan.isnull().sum(0))\n",
    "missing_value"
   ]
  },
  {
   "cell_type": "code",
   "execution_count": 7,
   "metadata": {},
   "outputs": [
    {
     "data": {
      "text/plain": [
       "ID                     int64\n",
       "Age                    int64\n",
       "Experience             int64\n",
       "Income                 int64\n",
       "Area                  object\n",
       "Family                 int64\n",
       "CCAvg                float64\n",
       "Education              int64\n",
       "Mortgage               int64\n",
       "PersonalLoan           int64\n",
       "SecuritiesAccount      int64\n",
       "CDAccount              int64\n",
       "Online                 int64\n",
       "CreditCard             int64\n",
       "dtype: object"
      ]
     },
     "execution_count": 7,
     "metadata": {},
     "output_type": "execute_result"
    }
   ],
   "source": [
    "bankLoan.dtypes"
   ]
  },
  {
   "cell_type": "markdown",
   "metadata": {},
   "source": []
  },
  {
   "cell_type": "markdown",
   "metadata": {},
   "source": [
    "## A.1.1 <font color = blue>Basic Statistics</font>"
   ]
  },
  {
   "cell_type": "code",
   "execution_count": 8,
   "metadata": {},
   "outputs": [
    {
     "data": {
      "text/html": [
       "<div>\n",
       "<style scoped>\n",
       "    .dataframe tbody tr th:only-of-type {\n",
       "        vertical-align: middle;\n",
       "    }\n",
       "\n",
       "    .dataframe tbody tr th {\n",
       "        vertical-align: top;\n",
       "    }\n",
       "\n",
       "    .dataframe thead th {\n",
       "        text-align: right;\n",
       "    }\n",
       "</style>\n",
       "<table border=\"1\" class=\"dataframe\">\n",
       "  <thead>\n",
       "    <tr style=\"text-align: right;\">\n",
       "      <th></th>\n",
       "      <th>ID</th>\n",
       "      <th>Age</th>\n",
       "      <th>Experience</th>\n",
       "      <th>Income</th>\n",
       "      <th>Family</th>\n",
       "      <th>CCAvg</th>\n",
       "      <th>Education</th>\n",
       "      <th>Mortgage</th>\n",
       "      <th>PersonalLoan</th>\n",
       "      <th>SecuritiesAccount</th>\n",
       "      <th>CDAccount</th>\n",
       "      <th>Online</th>\n",
       "      <th>CreditCard</th>\n",
       "    </tr>\n",
       "  </thead>\n",
       "  <tbody>\n",
       "    <tr>\n",
       "      <th>count</th>\n",
       "      <td>5000.000000</td>\n",
       "      <td>5000.000000</td>\n",
       "      <td>5000.000000</td>\n",
       "      <td>5000.000000</td>\n",
       "      <td>5000.000000</td>\n",
       "      <td>5000.000000</td>\n",
       "      <td>5000.000000</td>\n",
       "      <td>5000.000000</td>\n",
       "      <td>5000.000000</td>\n",
       "      <td>5000.000000</td>\n",
       "      <td>5000.00000</td>\n",
       "      <td>5000.000000</td>\n",
       "      <td>5000.000000</td>\n",
       "    </tr>\n",
       "    <tr>\n",
       "      <th>mean</th>\n",
       "      <td>2500.500000</td>\n",
       "      <td>45.338400</td>\n",
       "      <td>20.119600</td>\n",
       "      <td>73.774200</td>\n",
       "      <td>2.396400</td>\n",
       "      <td>1.937938</td>\n",
       "      <td>1.881000</td>\n",
       "      <td>56.498800</td>\n",
       "      <td>0.096000</td>\n",
       "      <td>0.104400</td>\n",
       "      <td>0.06040</td>\n",
       "      <td>0.596800</td>\n",
       "      <td>0.294000</td>\n",
       "    </tr>\n",
       "    <tr>\n",
       "      <th>std</th>\n",
       "      <td>1443.520003</td>\n",
       "      <td>11.463166</td>\n",
       "      <td>11.440484</td>\n",
       "      <td>46.033729</td>\n",
       "      <td>1.147663</td>\n",
       "      <td>1.747659</td>\n",
       "      <td>0.839869</td>\n",
       "      <td>101.713802</td>\n",
       "      <td>0.294621</td>\n",
       "      <td>0.305809</td>\n",
       "      <td>0.23825</td>\n",
       "      <td>0.490589</td>\n",
       "      <td>0.455637</td>\n",
       "    </tr>\n",
       "    <tr>\n",
       "      <th>min</th>\n",
       "      <td>1.000000</td>\n",
       "      <td>23.000000</td>\n",
       "      <td>0.000000</td>\n",
       "      <td>8.000000</td>\n",
       "      <td>1.000000</td>\n",
       "      <td>0.000000</td>\n",
       "      <td>1.000000</td>\n",
       "      <td>0.000000</td>\n",
       "      <td>0.000000</td>\n",
       "      <td>0.000000</td>\n",
       "      <td>0.00000</td>\n",
       "      <td>0.000000</td>\n",
       "      <td>0.000000</td>\n",
       "    </tr>\n",
       "    <tr>\n",
       "      <th>25%</th>\n",
       "      <td>1250.750000</td>\n",
       "      <td>35.000000</td>\n",
       "      <td>10.000000</td>\n",
       "      <td>39.000000</td>\n",
       "      <td>1.000000</td>\n",
       "      <td>0.700000</td>\n",
       "      <td>1.000000</td>\n",
       "      <td>0.000000</td>\n",
       "      <td>0.000000</td>\n",
       "      <td>0.000000</td>\n",
       "      <td>0.00000</td>\n",
       "      <td>0.000000</td>\n",
       "      <td>0.000000</td>\n",
       "    </tr>\n",
       "    <tr>\n",
       "      <th>50%</th>\n",
       "      <td>2500.500000</td>\n",
       "      <td>45.000000</td>\n",
       "      <td>20.000000</td>\n",
       "      <td>64.000000</td>\n",
       "      <td>2.000000</td>\n",
       "      <td>1.500000</td>\n",
       "      <td>2.000000</td>\n",
       "      <td>0.000000</td>\n",
       "      <td>0.000000</td>\n",
       "      <td>0.000000</td>\n",
       "      <td>0.00000</td>\n",
       "      <td>1.000000</td>\n",
       "      <td>0.000000</td>\n",
       "    </tr>\n",
       "    <tr>\n",
       "      <th>75%</th>\n",
       "      <td>3750.250000</td>\n",
       "      <td>55.000000</td>\n",
       "      <td>30.000000</td>\n",
       "      <td>98.000000</td>\n",
       "      <td>3.000000</td>\n",
       "      <td>2.500000</td>\n",
       "      <td>3.000000</td>\n",
       "      <td>101.000000</td>\n",
       "      <td>0.000000</td>\n",
       "      <td>0.000000</td>\n",
       "      <td>0.00000</td>\n",
       "      <td>1.000000</td>\n",
       "      <td>1.000000</td>\n",
       "    </tr>\n",
       "    <tr>\n",
       "      <th>max</th>\n",
       "      <td>5000.000000</td>\n",
       "      <td>67.000000</td>\n",
       "      <td>43.000000</td>\n",
       "      <td>224.000000</td>\n",
       "      <td>4.000000</td>\n",
       "      <td>10.000000</td>\n",
       "      <td>3.000000</td>\n",
       "      <td>635.000000</td>\n",
       "      <td>1.000000</td>\n",
       "      <td>1.000000</td>\n",
       "      <td>1.00000</td>\n",
       "      <td>1.000000</td>\n",
       "      <td>1.000000</td>\n",
       "    </tr>\n",
       "  </tbody>\n",
       "</table>\n",
       "</div>"
      ],
      "text/plain": [
       "                ID          Age   Experience       Income       Family  \\\n",
       "count  5000.000000  5000.000000  5000.000000  5000.000000  5000.000000   \n",
       "mean   2500.500000    45.338400    20.119600    73.774200     2.396400   \n",
       "std    1443.520003    11.463166    11.440484    46.033729     1.147663   \n",
       "min       1.000000    23.000000     0.000000     8.000000     1.000000   \n",
       "25%    1250.750000    35.000000    10.000000    39.000000     1.000000   \n",
       "50%    2500.500000    45.000000    20.000000    64.000000     2.000000   \n",
       "75%    3750.250000    55.000000    30.000000    98.000000     3.000000   \n",
       "max    5000.000000    67.000000    43.000000   224.000000     4.000000   \n",
       "\n",
       "             CCAvg    Education     Mortgage  PersonalLoan  SecuritiesAccount  \\\n",
       "count  5000.000000  5000.000000  5000.000000   5000.000000        5000.000000   \n",
       "mean      1.937938     1.881000    56.498800      0.096000           0.104400   \n",
       "std       1.747659     0.839869   101.713802      0.294621           0.305809   \n",
       "min       0.000000     1.000000     0.000000      0.000000           0.000000   \n",
       "25%       0.700000     1.000000     0.000000      0.000000           0.000000   \n",
       "50%       1.500000     2.000000     0.000000      0.000000           0.000000   \n",
       "75%       2.500000     3.000000   101.000000      0.000000           0.000000   \n",
       "max      10.000000     3.000000   635.000000      1.000000           1.000000   \n",
       "\n",
       "        CDAccount       Online   CreditCard  \n",
       "count  5000.00000  5000.000000  5000.000000  \n",
       "mean      0.06040     0.596800     0.294000  \n",
       "std       0.23825     0.490589     0.455637  \n",
       "min       0.00000     0.000000     0.000000  \n",
       "25%       0.00000     0.000000     0.000000  \n",
       "50%       0.00000     1.000000     0.000000  \n",
       "75%       0.00000     1.000000     1.000000  \n",
       "max       1.00000     1.000000     1.000000  "
      ]
     },
     "execution_count": 8,
     "metadata": {},
     "output_type": "execute_result"
    }
   ],
   "source": [
    "#Basic Statistics\n",
    "bankLoan.describe()"
   ]
  },
  {
   "cell_type": "markdown",
   "metadata": {},
   "source": [
    "#### The dataset has 13 independent attributes including:\n",
    "- 6 numeric attributes such as age, income, and the average monthly spending on credit cards\n",
    "- 7 categorical attributes such as education level and binary attributes such as CreditCard. \n",
    "\n",
    "#### The target attribute is \"Personal Loan\".\n",
    "- A binary variable (yes/no)\n",
    "- Identify whether or not the customers accepted personal loan offered in the last campaign.\n",
    "\n",
    "#### Basic Statistics \n",
    "- The statistics are shown above. The range of ages is 23 - 67 years old with the mean of 45.33 years. The standard deviation of age is 11.46 years.\n",
    "- The range of work experience is 0 to 43 years with the mean of 11.44 years.\n",
    "- The income (in $ thousand) ranges from 8K (min) to 224K (max). The income has the greater mean of 73K than the median of 64K. The distribution may be right-skewed. The standard deviation of income is 11.46K.\n",
    "- The range of family size is 1 to 4 members with the mean of 2.3 and the standard deviation of 1.14\n",
    "- We will further examine the distribution from the histograms in the later part."
   ]
  },
  {
   "cell_type": "markdown",
   "metadata": {},
   "source": []
  },
  {
   "cell_type": "markdown",
   "metadata": {},
   "source": [
    "## A.1.2 <font color = blue>Data Distribution</font>"
   ]
  },
  {
   "cell_type": "markdown",
   "metadata": {},
   "source": [
    "### A.1.2.1 Numeric Variables"
   ]
  },
  {
   "cell_type": "code",
   "execution_count": 9,
   "metadata": {},
   "outputs": [
    {
     "data": {
      "text/plain": [
       "Text(0.5, 0, 'Age')"
      ]
     },
     "execution_count": 9,
     "metadata": {},
     "output_type": "execute_result"
    },
    {
     "data": {
      "image/png": "[encoded data removed]",
      "text/plain": [
       "<Figure size 432x288 with 1 Axes>"
      ]
     },
     "metadata": {
      "needs_background": "light"
     },
     "output_type": "display_data"
    }
   ],
   "source": [
    "#Create Income histogram (using 9 bins)\n",
    "Age_hist = bankLoan[\"Age\"].plot(kind=\"hist\", bins=9,edgecolor='black')\n",
    "plt.title('Age Histogram')\n",
    "plt.xlabel('Age')"
   ]
  },
  {
   "cell_type": "markdown",
   "metadata": {},
   "source": [
    "- The Age distribution is normal. The range of ages is 23 - 67 years old with the mean of 45.33 years."
   ]
  },
  {
   "cell_type": "code",
   "execution_count": 10,
   "metadata": {},
   "outputs": [
    {
     "data": {
      "text/plain": [
       "Text(0.5, 0, 'Experience (in years)')"
      ]
     },
     "execution_count": 10,
     "metadata": {},
     "output_type": "execute_result"
    },
    {
     "data": {
      "image/png": "[encoded data removed]",
      "text/plain": [
       "<Figure size 432x288 with 1 Axes>"
      ]
     },
     "metadata": {
      "needs_background": "light"
     },
     "output_type": "display_data"
    }
   ],
   "source": [
    "Experience_hist = bankLoan[\"Experience\"].plot(kind=\"hist\", bins=9,edgecolor='black')\n",
    "plt.title('Experience Histogram')\n",
    "plt.xlabel('Experience (in years)')"
   ]
  },
  {
   "cell_type": "markdown",
   "metadata": {},
   "source": [
    "- The Education variable has multimodal distribution with several peaks."
   ]
  },
  {
   "cell_type": "code",
   "execution_count": 11,
   "metadata": {},
   "outputs": [
    {
     "data": {
      "text/plain": [
       "Text(0.5, 0, 'Income (in $ thousand)')"
      ]
     },
     "execution_count": 11,
     "metadata": {},
     "output_type": "execute_result"
    },
    {
     "data": {
      "image/png": "[encoded data removed]",
      "text/plain": [
       "<Figure size 432x288 with 1 Axes>"
      ]
     },
     "metadata": {
      "needs_background": "light"
     },
     "output_type": "display_data"
    }
   ],
   "source": [
    "Income_hist = bankLoan[\"Income\"].plot(kind=\"hist\", bins=9,edgecolor='black')\n",
    "plt.title('Income Histogram')\n",
    "plt.xlabel('Income (in $ thousand)')"
   ]
  },
  {
   "cell_type": "markdown",
   "metadata": {},
   "source": [
    "- The income distribution is right-skewed, so most people have income less than the median and the mean or less than the avarage income of $73K."
   ]
  },
  {
   "cell_type": "code",
   "execution_count": 12,
   "metadata": {},
   "outputs": [
    {
     "data": {
      "text/plain": [
       "Text(0.5, 0, 'Avg. spending on credit cards ($K)')"
      ]
     },
     "execution_count": 12,
     "metadata": {},
     "output_type": "execute_result"
    },
    {
     "data": {
      "image/png": "[encoded data removed]",
      "text/plain": [
       "<Figure size 432x288 with 1 Axes>"
      ]
     },
     "metadata": {
      "needs_background": "light"
     },
     "output_type": "display_data"
    }
   ],
   "source": [
    "CC_hist = bankLoan[\"CCAvg\"].plot(kind=\"hist\", bins=9,edgecolor='black')\n",
    "plt.title('CCAvg Histogram')\n",
    "plt.xlabel('Avg. spending on credit cards ($K)')"
   ]
  },
  {
   "cell_type": "markdown",
   "metadata": {},
   "source": [
    "- The CCAvg distribution is right-skewed, so most people spend less than the avaraged spending of $1.93K."
   ]
  },
  {
   "cell_type": "code",
   "execution_count": 13,
   "metadata": {},
   "outputs": [
    {
     "data": {
      "text/plain": [
       "Text(0.5, 0, 'Value of House Mortgage ($K)')"
      ]
     },
     "execution_count": 13,
     "metadata": {},
     "output_type": "execute_result"
    },
    {
     "data": {
      "image/png": "[encoded data removed]",
      "text/plain": [
       "<Figure size 432x288 with 1 Axes>"
      ]
     },
     "metadata": {
      "needs_background": "light"
     },
     "output_type": "display_data"
    }
   ],
   "source": [
    "Mort_hist = bankLoan[\"Mortgage\"].plot(kind=\"hist\", bins=9,edgecolor='black')\n",
    "plt.title('MortgageHistogram')\n",
    "plt.xlabel('Value of House Mortgage ($K)')"
   ]
  },
  {
   "cell_type": "markdown",
   "metadata": {},
   "source": [
    "- The Mortgage distribution is right-skewed, so most people have less than value of morgage than the averaged value of  of $56K."
   ]
  },
  {
   "cell_type": "markdown",
   "metadata": {},
   "source": [
    "\n",
    "\n",
    "\n",
    "\n",
    "\n",
    "\n",
    "\n",
    "\n",
    "\n",
    "\n",
    "\n",
    "\n",
    "\n",
    "\n",
    "\n",
    "\n",
    "\n",
    "\n",
    "\n",
    "\n",
    "\n",
    "\n"
   ]
  },
  {
   "cell_type": "markdown",
   "metadata": {},
   "source": [
    "### A.1.2.2 Categorical Variables"
   ]
  },
  {
   "cell_type": "code",
   "execution_count": 14,
   "metadata": {},
   "outputs": [
    {
     "name": "stdout",
     "output_type": "stream",
     "text": [
      "Urban    0.9786\n",
      "Rural    0.0214\n",
      "Name: Area, dtype: float64 \n",
      "\n",
      "1    0.4192\n",
      "3    0.3002\n",
      "2    0.2806\n",
      "Name: Education, dtype: float64 \n",
      "\n"
     ]
    },
    {
     "data": {
      "text/plain": [
       "<matplotlib.axes._subplots.AxesSubplot at 0x11fe767b8>"
      ]
     },
     "execution_count": 14,
     "metadata": {},
     "output_type": "execute_result"
    },
    {
     "data": {
      "image/png": "[encoded data removed]",
      "text/plain": [
       "<Figure size 720x288 with 2 Axes>"
      ]
     },
     "metadata": {
      "needs_background": "light"
     },
     "output_type": "display_data"
    }
   ],
   "source": [
    "temp1 = bankLoan[\"Area\"].value_counts()\n",
    "temp2 = bankLoan[\"Education\"].value_counts()\n",
    "print (temp1/bankLoan[\"Area\"].count(), \"\\n\")\n",
    "print (temp2/bankLoan[\"Education\"].count(), \"\\n\")\n",
    "fig = plt.figure(figsize=(10,4))\n",
    "ax1 = fig.add_subplot(121)\n",
    "ax1.set_xlabel('Area')\n",
    "ax1.set_title(\"Area Distribution\")\n",
    "temp1.plot(kind='bar', grid = False)\n",
    "\n",
    "ax1 = fig.add_subplot(122)\n",
    "ax1.set_xlabel('Education')\n",
    "ax1.set_title(\"Education Distribution\")\n",
    "temp2.plot(kind='bar', grid = False)"
   ]
  },
  {
   "cell_type": "markdown",
   "metadata": {},
   "source": [
    "- The majority of customers (97%) live in Urban Areas.\n",
    "- The majority of customers have bachelor's degree (Education = 1) and  Advanced/Professional degree (Education = 3)."
   ]
  },
  {
   "cell_type": "code",
   "execution_count": 15,
   "metadata": {},
   "outputs": [
    {
     "name": "stdout",
     "output_type": "stream",
     "text": [
      "0    0.8956\n",
      "1    0.1044\n",
      "Name: SecuritiesAccount, dtype: float64 \n",
      "\n",
      "0    0.9396\n",
      "1    0.0604\n",
      "Name: CDAccount, dtype: float64 \n",
      "\n"
     ]
    },
    {
     "data": {
      "text/plain": [
       "<matplotlib.axes._subplots.AxesSubplot at 0x120001550>"
      ]
     },
     "execution_count": 15,
     "metadata": {},
     "output_type": "execute_result"
    },
    {
     "data": {
      "image/png": "[encoded data removed]",
      "text/plain": [
       "<Figure size 720x288 with 2 Axes>"
      ]
     },
     "metadata": {
      "needs_background": "light"
     },
     "output_type": "display_data"
    }
   ],
   "source": [
    "temp3 = bankLoan[\"SecuritiesAccount\"].value_counts()\n",
    "temp4 = bankLoan[\"CDAccount\"].value_counts()\n",
    "print (temp3/bankLoan[\"SecuritiesAccount\"].count(), \"\\n\")\n",
    "print (temp4/bankLoan[\"CDAccount\"].count(), \"\\n\")\n",
    "fig = plt.figure(figsize=(10,4))\n",
    "ax1 = fig.add_subplot(121)\n",
    "ax1.set_xlabel('SecuritiesAccount')\n",
    "ax1.set_title(\"Securities Account Distribution\")\n",
    "temp3.plot(kind='bar', grid = False)\n",
    "\n",
    "ax1 = fig.add_subplot(122)\n",
    "ax1.set_xlabel('CDAccount')\n",
    "ax1.set_title(\"CD Account Distribution\")\n",
    "temp4.plot(kind='bar', grid = False)"
   ]
  },
  {
   "cell_type": "markdown",
   "metadata": {},
   "source": [
    "- The majority of customers do not have Securites account (89%) and CD account with the bank (93%)."
   ]
  },
  {
   "cell_type": "code",
   "execution_count": 16,
   "metadata": {},
   "outputs": [
    {
     "name": "stdout",
     "output_type": "stream",
     "text": [
      "1    0.5968\n",
      "0    0.4032\n",
      "Name: Online, dtype: float64 \n",
      "\n",
      "0    0.706\n",
      "1    0.294\n",
      "Name: CreditCard, dtype: float64 \n",
      "\n"
     ]
    },
    {
     "data": {
      "text/plain": [
       "<matplotlib.axes._subplots.AxesSubplot at 0x1200a6f60>"
      ]
     },
     "execution_count": 16,
     "metadata": {},
     "output_type": "execute_result"
    },
    {
     "data": {
      "image/png": "[encoded data removed]",
      "text/plain": [
       "<Figure size 720x288 with 2 Axes>"
      ]
     },
     "metadata": {
      "needs_background": "light"
     },
     "output_type": "display_data"
    }
   ],
   "source": [
    "temp5 = bankLoan[\"Online\"].value_counts()\n",
    "temp6 = bankLoan[\"CreditCard\"].value_counts()\n",
    "print (temp5/bankLoan[\"Online\"].count(), \"\\n\")\n",
    "print (temp6/bankLoan[\"CreditCard\"].count(), \"\\n\")\n",
    "fig = plt.figure(figsize=(10,4))\n",
    "ax1 = fig.add_subplot(121)\n",
    "ax1.set_xlabel('Online')\n",
    "ax1.set_title(\"Online Distribution\")\n",
    "temp5.plot(kind='bar', grid = False)\n",
    "\n",
    "ax1 = fig.add_subplot(122)\n",
    "ax1.set_xlabel('Credit Card')\n",
    "ax1.set_title(\"CreditCard Distribution\")\n",
    "temp6.plot(kind='bar', grid = False)"
   ]
  },
  {
   "cell_type": "markdown",
   "metadata": {},
   "source": [
    "- The majority of customers (59%) use internet banking facilities.\n",
    "- The majority of customers (70%) do not use  a credit card issued by Universal Bank."
   ]
  },
  {
   "cell_type": "markdown",
   "metadata": {},
   "source": [
    "### A.1.2.3 <font color = blue>Compare and contrast the subsets of customers with Target Variable</font>"
   ]
  },
  {
   "cell_type": "markdown",
   "metadata": {},
   "source": [
    "### Target Variable ( Personal Loan )"
   ]
  },
  {
   "cell_type": "code",
   "execution_count": 17,
   "metadata": {},
   "outputs": [
    {
     "name": "stdout",
     "output_type": "stream",
     "text": [
      "0    4520\n",
      "1     480\n",
      "Name: PersonalLoan, dtype: int64 \n",
      "\n",
      "0    0.904\n",
      "1    0.096\n",
      "Name: PersonalLoan, dtype: float64 \n",
      "\n"
     ]
    },
    {
     "data": {
      "text/plain": [
       "<matplotlib.axes._subplots.AxesSubplot at 0x1201b1e10>"
      ]
     },
     "execution_count": 17,
     "metadata": {},
     "output_type": "execute_result"
    },
    {
     "data": {
      "image/png": "[encoded data removed]",
      "text/plain": [
       "<Figure size 720x288 with 1 Axes>"
      ]
     },
     "metadata": {
      "needs_background": "light"
     },
     "output_type": "display_data"
    }
   ],
   "source": [
    "temp8 = bankLoan[\"PersonalLoan\"].value_counts()\n",
    "temp8_percent = bankLoan[\"PersonalLoan\"].value_counts()/bankLoan[\"PersonalLoan\"].count()\n",
    "print (temp8, \"\\n\")\n",
    "print (temp8_percent, \"\\n\")\n",
    "\n",
    "fig = plt.figure(figsize=(10,4))\n",
    "ax1 = fig.add_subplot(121)\n",
    "ax1.set_xlabel('Personal Loan')\n",
    "ax1.set_title(\"Personal Loan Distribution\")\n",
    "temp8.plot(kind='bar', grid = False)"
   ]
  },
  {
   "cell_type": "markdown",
   "metadata": {},
   "source": [
    "#### From the output above\n",
    "- There are greater number of customers who didn't accept personal loan or about 90.4% of total bank customers.\n",
    "- Only 9.6% or 480 customers accepted the personal loan offer during the last campaign period.\n",
    "- Thus, we have an imbalanced class, which we will need to consider when measuring accuracy of our models."
   ]
  },
  {
   "cell_type": "code",
   "execution_count": 18,
   "metadata": {},
   "outputs": [
    {
     "data": {
      "text/html": [
       "<div>\n",
       "<style scoped>\n",
       "    .dataframe tbody tr th:only-of-type {\n",
       "        vertical-align: middle;\n",
       "    }\n",
       "\n",
       "    .dataframe tbody tr th {\n",
       "        vertical-align: top;\n",
       "    }\n",
       "\n",
       "    .dataframe thead th {\n",
       "        text-align: right;\n",
       "    }\n",
       "</style>\n",
       "<table border=\"1\" class=\"dataframe\">\n",
       "  <thead>\n",
       "    <tr style=\"text-align: right;\">\n",
       "      <th></th>\n",
       "      <th></th>\n",
       "      <th>Age</th>\n",
       "      <th>Income</th>\n",
       "      <th>Experience</th>\n",
       "      <th>Family</th>\n",
       "      <th>CCAvg</th>\n",
       "      <th>Mortgage</th>\n",
       "    </tr>\n",
       "    <tr>\n",
       "      <th>PersonalLoan</th>\n",
       "      <th></th>\n",
       "      <th></th>\n",
       "      <th></th>\n",
       "      <th></th>\n",
       "      <th></th>\n",
       "      <th></th>\n",
       "      <th></th>\n",
       "    </tr>\n",
       "  </thead>\n",
       "  <tbody>\n",
       "    <tr>\n",
       "      <th rowspan=\"8\" valign=\"top\">0</th>\n",
       "      <th>count</th>\n",
       "      <td>4520.000000</td>\n",
       "      <td>4520.000000</td>\n",
       "      <td>4520.000000</td>\n",
       "      <td>4520.000000</td>\n",
       "      <td>4520.000000</td>\n",
       "      <td>4520.000000</td>\n",
       "    </tr>\n",
       "    <tr>\n",
       "      <th>mean</th>\n",
       "      <td>45.367257</td>\n",
       "      <td>66.237389</td>\n",
       "      <td>20.148894</td>\n",
       "      <td>2.373451</td>\n",
       "      <td>1.729009</td>\n",
       "      <td>51.789381</td>\n",
       "    </tr>\n",
       "    <tr>\n",
       "      <th>std</th>\n",
       "      <td>11.450427</td>\n",
       "      <td>40.578534</td>\n",
       "      <td>11.426210</td>\n",
       "      <td>1.148771</td>\n",
       "      <td>1.567647</td>\n",
       "      <td>92.038931</td>\n",
       "    </tr>\n",
       "    <tr>\n",
       "      <th>min</th>\n",
       "      <td>23.000000</td>\n",
       "      <td>8.000000</td>\n",
       "      <td>0.000000</td>\n",
       "      <td>1.000000</td>\n",
       "      <td>0.000000</td>\n",
       "      <td>0.000000</td>\n",
       "    </tr>\n",
       "    <tr>\n",
       "      <th>25%</th>\n",
       "      <td>35.000000</td>\n",
       "      <td>35.000000</td>\n",
       "      <td>10.000000</td>\n",
       "      <td>1.000000</td>\n",
       "      <td>0.600000</td>\n",
       "      <td>0.000000</td>\n",
       "    </tr>\n",
       "    <tr>\n",
       "      <th>50%</th>\n",
       "      <td>45.000000</td>\n",
       "      <td>59.000000</td>\n",
       "      <td>20.000000</td>\n",
       "      <td>2.000000</td>\n",
       "      <td>1.400000</td>\n",
       "      <td>0.000000</td>\n",
       "    </tr>\n",
       "    <tr>\n",
       "      <th>75%</th>\n",
       "      <td>55.000000</td>\n",
       "      <td>84.000000</td>\n",
       "      <td>30.000000</td>\n",
       "      <td>3.000000</td>\n",
       "      <td>2.300000</td>\n",
       "      <td>98.000000</td>\n",
       "    </tr>\n",
       "    <tr>\n",
       "      <th>max</th>\n",
       "      <td>67.000000</td>\n",
       "      <td>224.000000</td>\n",
       "      <td>43.000000</td>\n",
       "      <td>4.000000</td>\n",
       "      <td>8.800000</td>\n",
       "      <td>635.000000</td>\n",
       "    </tr>\n",
       "    <tr>\n",
       "      <th rowspan=\"8\" valign=\"top\">1</th>\n",
       "      <th>count</th>\n",
       "      <td>480.000000</td>\n",
       "      <td>480.000000</td>\n",
       "      <td>480.000000</td>\n",
       "      <td>480.000000</td>\n",
       "      <td>480.000000</td>\n",
       "      <td>480.000000</td>\n",
       "    </tr>\n",
       "    <tr>\n",
       "      <th>mean</th>\n",
       "      <td>45.066667</td>\n",
       "      <td>144.745833</td>\n",
       "      <td>19.843750</td>\n",
       "      <td>2.612500</td>\n",
       "      <td>3.905354</td>\n",
       "      <td>100.845833</td>\n",
       "    </tr>\n",
       "    <tr>\n",
       "      <th>std</th>\n",
       "      <td>11.590964</td>\n",
       "      <td>31.584429</td>\n",
       "      <td>11.582443</td>\n",
       "      <td>1.115393</td>\n",
       "      <td>2.097681</td>\n",
       "      <td>160.847862</td>\n",
       "    </tr>\n",
       "    <tr>\n",
       "      <th>min</th>\n",
       "      <td>26.000000</td>\n",
       "      <td>60.000000</td>\n",
       "      <td>0.000000</td>\n",
       "      <td>1.000000</td>\n",
       "      <td>0.000000</td>\n",
       "      <td>0.000000</td>\n",
       "    </tr>\n",
       "    <tr>\n",
       "      <th>25%</th>\n",
       "      <td>35.000000</td>\n",
       "      <td>122.000000</td>\n",
       "      <td>9.000000</td>\n",
       "      <td>2.000000</td>\n",
       "      <td>2.600000</td>\n",
       "      <td>0.000000</td>\n",
       "    </tr>\n",
       "    <tr>\n",
       "      <th>50%</th>\n",
       "      <td>45.000000</td>\n",
       "      <td>142.500000</td>\n",
       "      <td>20.000000</td>\n",
       "      <td>3.000000</td>\n",
       "      <td>3.800000</td>\n",
       "      <td>0.000000</td>\n",
       "    </tr>\n",
       "    <tr>\n",
       "      <th>75%</th>\n",
       "      <td>55.000000</td>\n",
       "      <td>172.000000</td>\n",
       "      <td>30.000000</td>\n",
       "      <td>4.000000</td>\n",
       "      <td>5.347500</td>\n",
       "      <td>192.500000</td>\n",
       "    </tr>\n",
       "    <tr>\n",
       "      <th>max</th>\n",
       "      <td>65.000000</td>\n",
       "      <td>203.000000</td>\n",
       "      <td>41.000000</td>\n",
       "      <td>4.000000</td>\n",
       "      <td>10.000000</td>\n",
       "      <td>617.000000</td>\n",
       "    </tr>\n",
       "  </tbody>\n",
       "</table>\n",
       "</div>"
      ],
      "text/plain": [
       "                            Age       Income   Experience       Family  \\\n",
       "PersonalLoan                                                             \n",
       "0            count  4520.000000  4520.000000  4520.000000  4520.000000   \n",
       "             mean     45.367257    66.237389    20.148894     2.373451   \n",
       "             std      11.450427    40.578534    11.426210     1.148771   \n",
       "             min      23.000000     8.000000     0.000000     1.000000   \n",
       "             25%      35.000000    35.000000    10.000000     1.000000   \n",
       "             50%      45.000000    59.000000    20.000000     2.000000   \n",
       "             75%      55.000000    84.000000    30.000000     3.000000   \n",
       "             max      67.000000   224.000000    43.000000     4.000000   \n",
       "1            count   480.000000   480.000000   480.000000   480.000000   \n",
       "             mean     45.066667   144.745833    19.843750     2.612500   \n",
       "             std      11.590964    31.584429    11.582443     1.115393   \n",
       "             min      26.000000    60.000000     0.000000     1.000000   \n",
       "             25%      35.000000   122.000000     9.000000     2.000000   \n",
       "             50%      45.000000   142.500000    20.000000     3.000000   \n",
       "             75%      55.000000   172.000000    30.000000     4.000000   \n",
       "             max      65.000000   203.000000    41.000000     4.000000   \n",
       "\n",
       "                          CCAvg     Mortgage  \n",
       "PersonalLoan                                  \n",
       "0            count  4520.000000  4520.000000  \n",
       "             mean      1.729009    51.789381  \n",
       "             std       1.567647    92.038931  \n",
       "             min       0.000000     0.000000  \n",
       "             25%       0.600000     0.000000  \n",
       "             50%       1.400000     0.000000  \n",
       "             75%       2.300000    98.000000  \n",
       "             max       8.800000   635.000000  \n",
       "1            count   480.000000   480.000000  \n",
       "             mean      3.905354   100.845833  \n",
       "             std       2.097681   160.847862  \n",
       "             min       0.000000     0.000000  \n",
       "             25%       2.600000     0.000000  \n",
       "             50%       3.800000     0.000000  \n",
       "             75%       5.347500   192.500000  \n",
       "             max      10.000000   617.000000  "
      ]
     },
     "execution_count": 18,
     "metadata": {},
     "output_type": "execute_result"
    }
   ],
   "source": [
    "temp7 = bankLoan.groupby([\"PersonalLoan\"])[\"Age\", \"Income\",\"Experience\", \"Family\",\"CCAvg\",\"Mortgage\"].describe()\n",
    "temp7\n",
    "temp7.stack()"
   ]
  },
  {
   "cell_type": "code",
   "execution_count": 19,
   "metadata": {},
   "outputs": [
    {
     "data": {
      "text/html": [
       "<div>\n",
       "<style scoped>\n",
       "    .dataframe tbody tr th:only-of-type {\n",
       "        vertical-align: middle;\n",
       "    }\n",
       "\n",
       "    .dataframe tbody tr th {\n",
       "        vertical-align: top;\n",
       "    }\n",
       "\n",
       "    .dataframe thead th {\n",
       "        text-align: right;\n",
       "    }\n",
       "</style>\n",
       "<table border=\"1\" class=\"dataframe\">\n",
       "  <thead>\n",
       "    <tr style=\"text-align: right;\">\n",
       "      <th></th>\n",
       "      <th>Age</th>\n",
       "      <th>Income</th>\n",
       "      <th>Experience</th>\n",
       "      <th>Family</th>\n",
       "      <th>CCAvg</th>\n",
       "      <th>Mortgage</th>\n",
       "    </tr>\n",
       "    <tr>\n",
       "      <th>PersonalLoan</th>\n",
       "      <th></th>\n",
       "      <th></th>\n",
       "      <th></th>\n",
       "      <th></th>\n",
       "      <th></th>\n",
       "      <th></th>\n",
       "    </tr>\n",
       "  </thead>\n",
       "  <tbody>\n",
       "    <tr>\n",
       "      <th>0</th>\n",
       "      <td>45.367257</td>\n",
       "      <td>66.237389</td>\n",
       "      <td>20.148894</td>\n",
       "      <td>2.373451</td>\n",
       "      <td>1.729009</td>\n",
       "      <td>51.789381</td>\n",
       "    </tr>\n",
       "    <tr>\n",
       "      <th>1</th>\n",
       "      <td>45.066667</td>\n",
       "      <td>144.745833</td>\n",
       "      <td>19.843750</td>\n",
       "      <td>2.612500</td>\n",
       "      <td>3.905354</td>\n",
       "      <td>100.845833</td>\n",
       "    </tr>\n",
       "  </tbody>\n",
       "</table>\n",
       "</div>"
      ],
      "text/plain": [
       "                    Age      Income  Experience    Family     CCAvg  \\\n",
       "PersonalLoan                                                          \n",
       "0             45.367257   66.237389   20.148894  2.373451  1.729009   \n",
       "1             45.066667  144.745833   19.843750  2.612500  3.905354   \n",
       "\n",
       "                Mortgage  \n",
       "PersonalLoan              \n",
       "0              51.789381  \n",
       "1             100.845833  "
      ]
     },
     "execution_count": 19,
     "metadata": {},
     "output_type": "execute_result"
    }
   ],
   "source": [
    "temp7 = bankLoan.groupby([\"PersonalLoan\"])[\"Age\", \"Income\",\"Experience\", \"Family\",\"CCAvg\",\"Mortgage\"].mean()\n",
    "temp7"
   ]
  },
  {
   "cell_type": "markdown",
   "metadata": {},
   "source": [
    "- Comparing to the customers who didn't accept the loan offer, the customers who accept the offer have a higher averaged income, higher credit card spending, higher value of house Morgage, and a greater number of family members,  but a lower number of years in work experience.\n",
    "- The averaged ages in both groups are almost equal."
   ]
  },
  {
   "cell_type": "markdown",
   "metadata": {},
   "source": [
    "### Cross tabulation "
   ]
  },
  {
   "cell_type": "code",
   "execution_count": 20,
   "metadata": {},
   "outputs": [
    {
     "name": "stdout",
     "output_type": "stream",
     "text": [
      "Area          Rural  Urban\n",
      "PersonalLoan              \n",
      "0                92   4428\n",
      "1                15    465\n"
     ]
    },
    {
     "data": {
      "text/plain": [
       "<matplotlib.axes._subplots.AxesSubplot at 0x120308588>"
      ]
     },
     "execution_count": 20,
     "metadata": {},
     "output_type": "execute_result"
    },
    {
     "data": {
      "image/png": "[encoded data removed]",
      "text/plain": [
       "<Figure size 432x288 with 1 Axes>"
      ]
     },
     "metadata": {
      "needs_background": "light"
     },
     "output_type": "display_data"
    }
   ],
   "source": [
    "#Examine customers who accept personal loan with categorical variables\n",
    "gg1 = pd.crosstab(bankLoan[\"PersonalLoan\"], bankLoan[\"Area\"])\n",
    "print (gg1)\n",
    "gg1.plot(kind='bar', title=\"Area\")"
   ]
  },
  {
   "cell_type": "markdown",
   "metadata": {},
   "source": [
    "- The region graph shows similar trend regarding Perosnal Loan. The majority of customers who accepted and did not accept Personal Loan Offer live in the urban areas."
   ]
  },
  {
   "cell_type": "code",
   "execution_count": 21,
   "metadata": {},
   "outputs": [
    {
     "name": "stdout",
     "output_type": "stream",
     "text": [
      "Education        1     2     3\n",
      "PersonalLoan                  \n",
      "0             2003  1221  1296\n",
      "1               93   182   205\n"
     ]
    },
    {
     "data": {
      "text/plain": [
       "<matplotlib.axes._subplots.AxesSubplot at 0x120407320>"
      ]
     },
     "execution_count": 21,
     "metadata": {},
     "output_type": "execute_result"
    },
    {
     "data": {
      "image/png": "[encoded data removed]",
      "text/plain": [
       "<Figure size 432x288 with 1 Axes>"
      ]
     },
     "metadata": {
      "needs_background": "light"
     },
     "output_type": "display_data"
    }
   ],
   "source": [
    "gg2 = pd.crosstab(bankLoan[\"PersonalLoan\"], bankLoan[\"Education\"])\n",
    "print (gg2)\n",
    "gg2.plot(kind='bar', title=\"Education\")"
   ]
  },
  {
   "cell_type": "markdown",
   "metadata": {},
   "source": [
    "- The majority of customers who accepted the personal loan offer have a Master's degree.\n",
    "- The majority of customers who did not accept the offer have a Bachelor's degree."
   ]
  },
  {
   "cell_type": "code",
   "execution_count": 22,
   "metadata": {},
   "outputs": [
    {
     "name": "stdout",
     "output_type": "stream",
     "text": [
      "SecuritiesAccount     0    1\n",
      "PersonalLoan                \n",
      "0                  4058  462\n",
      "1                   420   60\n"
     ]
    },
    {
     "data": {
      "text/plain": [
       "<matplotlib.axes._subplots.AxesSubplot at 0x1204dc0b8>"
      ]
     },
     "execution_count": 22,
     "metadata": {},
     "output_type": "execute_result"
    },
    {
     "data": {
      "image/png": "[encoded data removed]",
      "text/plain": [
       "<Figure size 432x288 with 1 Axes>"
      ]
     },
     "metadata": {
      "needs_background": "light"
     },
     "output_type": "display_data"
    }
   ],
   "source": [
    "gg3 = pd.crosstab(bankLoan[\"PersonalLoan\"], bankLoan[\"SecuritiesAccount\"])\n",
    "print (gg3)\n",
    "gg3.plot(kind='bar', title=\"Securities Account\")"
   ]
  },
  {
   "cell_type": "code",
   "execution_count": 23,
   "metadata": {},
   "outputs": [
    {
     "name": "stdout",
     "output_type": "stream",
     "text": [
      "CDAccount        0    1\n",
      "PersonalLoan           \n",
      "0             4358  162\n",
      "1              340  140\n"
     ]
    },
    {
     "data": {
      "text/plain": [
       "<matplotlib.axes._subplots.AxesSubplot at 0x1205b4780>"
      ]
     },
     "execution_count": 23,
     "metadata": {},
     "output_type": "execute_result"
    },
    {
     "data": {
      "image/png": "[encoded data removed]",
      "text/plain": [
       "<Figure size 432x288 with 1 Axes>"
      ]
     },
     "metadata": {
      "needs_background": "light"
     },
     "output_type": "display_data"
    }
   ],
   "source": [
    "gg4 = pd.crosstab(bankLoan[\"PersonalLoan\"], bankLoan[\"CDAccount\"])\n",
    "print (gg4)\n",
    "gg4.plot(kind='bar', title=\"CD Account\")"
   ]
  },
  {
   "cell_type": "markdown",
   "metadata": {},
   "source": [
    "- The Securities and CD Account graphs show similar trend. The majority of customers who accepted and did not accept personal loan offer do not have Securities and CD Account."
   ]
  },
  {
   "cell_type": "code",
   "execution_count": 24,
   "metadata": {},
   "outputs": [
    {
     "name": "stdout",
     "output_type": "stream",
     "text": [
      "Online           0     1\n",
      "PersonalLoan            \n",
      "0             1827  2693\n",
      "1              189   291\n"
     ]
    },
    {
     "data": {
      "text/plain": [
       "<matplotlib.axes._subplots.AxesSubplot at 0x1206606d8>"
      ]
     },
     "execution_count": 24,
     "metadata": {},
     "output_type": "execute_result"
    },
    {
     "data": {
      "image/png": "[encoded data removed]",
      "text/plain": [
       "<Figure size 432x288 with 1 Axes>"
      ]
     },
     "metadata": {
      "needs_background": "light"
     },
     "output_type": "display_data"
    }
   ],
   "source": [
    "gg5 = pd.crosstab(bankLoan[\"PersonalLoan\"], bankLoan[\"Online\"])\n",
    "print (gg5)\n",
    "gg5.plot(kind='bar', title=\"Online\")"
   ]
  },
  {
   "cell_type": "markdown",
   "metadata": {},
   "source": [
    "- The majority of customers who accepted and did not accept personal loan offer use internet banking facilities."
   ]
  },
  {
   "cell_type": "code",
   "execution_count": 25,
   "metadata": {},
   "outputs": [
    {
     "name": "stdout",
     "output_type": "stream",
     "text": [
      "CreditCard       0     1\n",
      "PersonalLoan            \n",
      "0             3193  1327\n",
      "1              337   143\n"
     ]
    },
    {
     "data": {
      "text/plain": [
       "<matplotlib.axes._subplots.AxesSubplot at 0x12074efd0>"
      ]
     },
     "execution_count": 25,
     "metadata": {},
     "output_type": "execute_result"
    },
    {
     "data": {
      "image/png": "[encoded data removed]",
      "text/plain": [
       "<Figure size 432x288 with 1 Axes>"
      ]
     },
     "metadata": {
      "needs_background": "light"
     },
     "output_type": "display_data"
    }
   ],
   "source": [
    "gg6 = pd.crosstab(bankLoan[\"PersonalLoan\"], bankLoan[\"CreditCard\"])\n",
    "print (gg6)\n",
    "gg6.plot(kind='bar', title=\"CreditCard\")"
   ]
  },
  {
   "cell_type": "markdown",
   "metadata": {},
   "source": [
    "- The majority of customers who accepted and did not accept personal loan offer do not use a credit card issued by UniversalBank."
   ]
  },
  {
   "cell_type": "markdown",
   "metadata": {},
   "source": [
    "## A.2 <font color = blue>Data Preprocessing</font>"
   ]
  },
  {
   "cell_type": "markdown",
   "metadata": {},
   "source": [
    "## A.2.1. <font color = blue>Data Transformation</font>"
   ]
  },
  {
   "cell_type": "code",
   "execution_count": 26,
   "metadata": {},
   "outputs": [
    {
     "data": {
      "text/html": [
       "<div>\n",
       "<style scoped>\n",
       "    .dataframe tbody tr th:only-of-type {\n",
       "        vertical-align: middle;\n",
       "    }\n",
       "\n",
       "    .dataframe tbody tr th {\n",
       "        vertical-align: top;\n",
       "    }\n",
       "\n",
       "    .dataframe thead th {\n",
       "        text-align: right;\n",
       "    }\n",
       "</style>\n",
       "<table border=\"1\" class=\"dataframe\">\n",
       "  <thead>\n",
       "    <tr style=\"text-align: right;\">\n",
       "      <th></th>\n",
       "      <th>ID</th>\n",
       "      <th>Age</th>\n",
       "      <th>Experience</th>\n",
       "      <th>Income</th>\n",
       "      <th>Family</th>\n",
       "      <th>CCAvg</th>\n",
       "      <th>Mortgage</th>\n",
       "      <th>PersonalLoan</th>\n",
       "      <th>SecuritiesAccount</th>\n",
       "      <th>CDAccount</th>\n",
       "      <th>Online</th>\n",
       "      <th>CreditCard</th>\n",
       "      <th>Area_Rural</th>\n",
       "      <th>Area_Urban</th>\n",
       "      <th>Education_1</th>\n",
       "      <th>Education_2</th>\n",
       "      <th>Education_3</th>\n",
       "    </tr>\n",
       "  </thead>\n",
       "  <tbody>\n",
       "    <tr>\n",
       "      <th>0</th>\n",
       "      <td>1</td>\n",
       "      <td>25</td>\n",
       "      <td>1</td>\n",
       "      <td>49</td>\n",
       "      <td>4</td>\n",
       "      <td>1.6</td>\n",
       "      <td>0</td>\n",
       "      <td>0</td>\n",
       "      <td>1</td>\n",
       "      <td>0</td>\n",
       "      <td>0</td>\n",
       "      <td>0</td>\n",
       "      <td>0</td>\n",
       "      <td>1</td>\n",
       "      <td>1</td>\n",
       "      <td>0</td>\n",
       "      <td>0</td>\n",
       "    </tr>\n",
       "    <tr>\n",
       "      <th>1</th>\n",
       "      <td>2</td>\n",
       "      <td>45</td>\n",
       "      <td>19</td>\n",
       "      <td>34</td>\n",
       "      <td>3</td>\n",
       "      <td>1.5</td>\n",
       "      <td>0</td>\n",
       "      <td>0</td>\n",
       "      <td>1</td>\n",
       "      <td>0</td>\n",
       "      <td>0</td>\n",
       "      <td>0</td>\n",
       "      <td>0</td>\n",
       "      <td>1</td>\n",
       "      <td>1</td>\n",
       "      <td>0</td>\n",
       "      <td>0</td>\n",
       "    </tr>\n",
       "    <tr>\n",
       "      <th>2</th>\n",
       "      <td>3</td>\n",
       "      <td>39</td>\n",
       "      <td>15</td>\n",
       "      <td>11</td>\n",
       "      <td>1</td>\n",
       "      <td>1.0</td>\n",
       "      <td>0</td>\n",
       "      <td>0</td>\n",
       "      <td>0</td>\n",
       "      <td>0</td>\n",
       "      <td>0</td>\n",
       "      <td>0</td>\n",
       "      <td>0</td>\n",
       "      <td>1</td>\n",
       "      <td>1</td>\n",
       "      <td>0</td>\n",
       "      <td>0</td>\n",
       "    </tr>\n",
       "    <tr>\n",
       "      <th>3</th>\n",
       "      <td>4</td>\n",
       "      <td>35</td>\n",
       "      <td>9</td>\n",
       "      <td>100</td>\n",
       "      <td>1</td>\n",
       "      <td>2.7</td>\n",
       "      <td>0</td>\n",
       "      <td>0</td>\n",
       "      <td>0</td>\n",
       "      <td>0</td>\n",
       "      <td>0</td>\n",
       "      <td>0</td>\n",
       "      <td>0</td>\n",
       "      <td>1</td>\n",
       "      <td>0</td>\n",
       "      <td>1</td>\n",
       "      <td>0</td>\n",
       "    </tr>\n",
       "    <tr>\n",
       "      <th>4</th>\n",
       "      <td>5</td>\n",
       "      <td>35</td>\n",
       "      <td>8</td>\n",
       "      <td>45</td>\n",
       "      <td>4</td>\n",
       "      <td>1.0</td>\n",
       "      <td>0</td>\n",
       "      <td>0</td>\n",
       "      <td>0</td>\n",
       "      <td>0</td>\n",
       "      <td>0</td>\n",
       "      <td>1</td>\n",
       "      <td>0</td>\n",
       "      <td>1</td>\n",
       "      <td>0</td>\n",
       "      <td>1</td>\n",
       "      <td>0</td>\n",
       "    </tr>\n",
       "  </tbody>\n",
       "</table>\n",
       "</div>"
      ],
      "text/plain": [
       "   ID  Age  Experience  Income  Family  CCAvg  Mortgage  PersonalLoan  \\\n",
       "0   1   25           1      49       4    1.6         0             0   \n",
       "1   2   45          19      34       3    1.5         0             0   \n",
       "2   3   39          15      11       1    1.0         0             0   \n",
       "3   4   35           9     100       1    2.7         0             0   \n",
       "4   5   35           8      45       4    1.0         0             0   \n",
       "\n",
       "   SecuritiesAccount  CDAccount  Online  CreditCard  Area_Rural  Area_Urban  \\\n",
       "0                  1          0       0           0           0           1   \n",
       "1                  1          0       0           0           0           1   \n",
       "2                  0          0       0           0           0           1   \n",
       "3                  0          0       0           0           0           1   \n",
       "4                  0          0       0           1           0           1   \n",
       "\n",
       "   Education_1  Education_2  Education_3  \n",
       "0            1            0            0  \n",
       "1            1            0            0  \n",
       "2            1            0            0  \n",
       "3            0            1            0  \n",
       "4            0            1            0  "
      ]
     },
     "execution_count": 26,
     "metadata": {},
     "output_type": "execute_result"
    }
   ],
   "source": [
    "#Create dummy variables\n",
    "bankLoan_num = pd.get_dummies(bankLoan, columns = [\"Area\",\"Education\"])\n",
    "bankLoan_num.head(5)"
   ]
  },
  {
   "cell_type": "code",
   "execution_count": 27,
   "metadata": {},
   "outputs": [
    {
     "name": "stdout",
     "output_type": "stream",
     "text": [
      "        Age  Experience    Income    Family  CCAvg  Mortgage\n",
      "0  0.045455    0.023256  0.189815  1.000000   0.16  0.000000\n",
      "1  0.500000    0.441860  0.120370  0.666667   0.15  0.000000\n",
      "2  0.363636    0.348837  0.013889  0.000000   0.10  0.000000\n",
      "3  0.272727    0.209302  0.425926  0.000000   0.27  0.000000\n",
      "4  0.272727    0.186047  0.171296  1.000000   0.10  0.000000\n",
      "5  0.318182    0.302326  0.097222  1.000000   0.04  0.244094\n",
      "6  0.681818    0.627907  0.296296  0.333333   0.15  0.000000\n",
      "7  0.613636    0.558140  0.064815  0.000000   0.03  0.000000\n",
      "8  0.272727    0.232558  0.337963  0.666667   0.06  0.163780\n",
      "9  0.250000    0.209302  0.796296  0.000000   0.89  0.000000\n"
     ]
    }
   ],
   "source": [
    "#Min-Max Normalization to transform numeric variables\n",
    "bankLoan_num[[\"Age\",\"Experience\",\"Income\",\"Family\",\"CCAvg\", \"Mortgage\"]] = bankLoan_num[[\"Age\",\"Experience\",\"Income\",\"Family\",\"CCAvg\", \"Mortgage\"]].apply(lambda x: (x - x.min( )) / (x.max() - x.min()))\n",
    "print (bankLoan_num[[\"Age\",\"Experience\",\"Income\",\"Family\",\"CCAvg\", \"Mortgage\"]].head (10))"
   ]
  },
  {
   "cell_type": "code",
   "execution_count": 28,
   "metadata": {},
   "outputs": [
    {
     "name": "stdout",
     "output_type": "stream",
     "text": [
      "Age           0.0\n",
      "Experience    0.0\n",
      "Income        0.0\n",
      "Family        0.0\n",
      "CCAvg         0.0\n",
      "Mortgage      0.0\n",
      "dtype: float64 \n",
      "\n",
      "Age           1.0\n",
      "Experience    1.0\n",
      "Income        1.0\n",
      "Family        1.0\n",
      "CCAvg         1.0\n",
      "Mortgage      1.0\n",
      "dtype: float64 \n",
      "\n"
     ]
    }
   ],
   "source": [
    "#Print min-max value after normalization\n",
    "num_mins = bankLoan_num[[\"Age\",\"Experience\",\"Income\",\"Family\",\"CCAvg\", \"Mortgage\"]].min()\n",
    "num_maxs = bankLoan_num[[\"Age\",\"Experience\",\"Income\",\"Family\",\"CCAvg\", \"Mortgage\"]].max()\n",
    "print (num_mins,\"\\n\")\n",
    "print (num_maxs,\"\\n\")"
   ]
  },
  {
   "cell_type": "markdown",
   "metadata": {},
   "source": [
    "**Min-Max Normalization**\n",
    "- After Normalization, all values of 6 numerics attributes are in a range between 0 and 1.\n",
    "- The max value is 1 and the min value is 0 as shown above."
   ]
  },
  {
   "cell_type": "code",
   "execution_count": 29,
   "metadata": {},
   "outputs": [],
   "source": [
    "#Export transformed Data to CSV\n",
    "bankLoan_num.to_csv(\"Personal_Loan_numeric.csv\")"
   ]
  },
  {
   "cell_type": "code",
   "execution_count": 30,
   "metadata": {},
   "outputs": [
    {
     "data": {
      "text/html": [
       "<div>\n",
       "<style scoped>\n",
       "    .dataframe tbody tr th:only-of-type {\n",
       "        vertical-align: middle;\n",
       "    }\n",
       "\n",
       "    .dataframe tbody tr th {\n",
       "        vertical-align: top;\n",
       "    }\n",
       "\n",
       "    .dataframe thead th {\n",
       "        text-align: right;\n",
       "    }\n",
       "</style>\n",
       "<table border=\"1\" class=\"dataframe\">\n",
       "  <thead>\n",
       "    <tr style=\"text-align: right;\">\n",
       "      <th></th>\n",
       "      <th>Age</th>\n",
       "      <th>Experience</th>\n",
       "      <th>Income</th>\n",
       "      <th>Family</th>\n",
       "      <th>CCAvg</th>\n",
       "      <th>Mortgage</th>\n",
       "      <th>PersonalLoan</th>\n",
       "      <th>SecuritiesAccount</th>\n",
       "      <th>CDAccount</th>\n",
       "      <th>Online</th>\n",
       "      <th>CreditCard</th>\n",
       "      <th>Area_Rural</th>\n",
       "      <th>Area_Urban</th>\n",
       "      <th>Education_1</th>\n",
       "      <th>Education_2</th>\n",
       "      <th>Education_3</th>\n",
       "    </tr>\n",
       "  </thead>\n",
       "  <tbody>\n",
       "    <tr>\n",
       "      <th>0</th>\n",
       "      <td>0.045455</td>\n",
       "      <td>0.023256</td>\n",
       "      <td>0.189815</td>\n",
       "      <td>1.000000</td>\n",
       "      <td>0.16</td>\n",
       "      <td>0.0</td>\n",
       "      <td>0</td>\n",
       "      <td>1</td>\n",
       "      <td>0</td>\n",
       "      <td>0</td>\n",
       "      <td>0</td>\n",
       "      <td>0</td>\n",
       "      <td>1</td>\n",
       "      <td>1</td>\n",
       "      <td>0</td>\n",
       "      <td>0</td>\n",
       "    </tr>\n",
       "    <tr>\n",
       "      <th>1</th>\n",
       "      <td>0.500000</td>\n",
       "      <td>0.441860</td>\n",
       "      <td>0.120370</td>\n",
       "      <td>0.666667</td>\n",
       "      <td>0.15</td>\n",
       "      <td>0.0</td>\n",
       "      <td>0</td>\n",
       "      <td>1</td>\n",
       "      <td>0</td>\n",
       "      <td>0</td>\n",
       "      <td>0</td>\n",
       "      <td>0</td>\n",
       "      <td>1</td>\n",
       "      <td>1</td>\n",
       "      <td>0</td>\n",
       "      <td>0</td>\n",
       "    </tr>\n",
       "    <tr>\n",
       "      <th>2</th>\n",
       "      <td>0.363636</td>\n",
       "      <td>0.348837</td>\n",
       "      <td>0.013889</td>\n",
       "      <td>0.000000</td>\n",
       "      <td>0.10</td>\n",
       "      <td>0.0</td>\n",
       "      <td>0</td>\n",
       "      <td>0</td>\n",
       "      <td>0</td>\n",
       "      <td>0</td>\n",
       "      <td>0</td>\n",
       "      <td>0</td>\n",
       "      <td>1</td>\n",
       "      <td>1</td>\n",
       "      <td>0</td>\n",
       "      <td>0</td>\n",
       "    </tr>\n",
       "    <tr>\n",
       "      <th>3</th>\n",
       "      <td>0.272727</td>\n",
       "      <td>0.209302</td>\n",
       "      <td>0.425926</td>\n",
       "      <td>0.000000</td>\n",
       "      <td>0.27</td>\n",
       "      <td>0.0</td>\n",
       "      <td>0</td>\n",
       "      <td>0</td>\n",
       "      <td>0</td>\n",
       "      <td>0</td>\n",
       "      <td>0</td>\n",
       "      <td>0</td>\n",
       "      <td>1</td>\n",
       "      <td>0</td>\n",
       "      <td>1</td>\n",
       "      <td>0</td>\n",
       "    </tr>\n",
       "    <tr>\n",
       "      <th>4</th>\n",
       "      <td>0.272727</td>\n",
       "      <td>0.186047</td>\n",
       "      <td>0.171296</td>\n",
       "      <td>1.000000</td>\n",
       "      <td>0.10</td>\n",
       "      <td>0.0</td>\n",
       "      <td>0</td>\n",
       "      <td>0</td>\n",
       "      <td>0</td>\n",
       "      <td>0</td>\n",
       "      <td>1</td>\n",
       "      <td>0</td>\n",
       "      <td>1</td>\n",
       "      <td>0</td>\n",
       "      <td>1</td>\n",
       "      <td>0</td>\n",
       "    </tr>\n",
       "  </tbody>\n",
       "</table>\n",
       "</div>"
      ],
      "text/plain": [
       "        Age  Experience    Income    Family  CCAvg  Mortgage  PersonalLoan  \\\n",
       "0  0.045455    0.023256  0.189815  1.000000   0.16       0.0             0   \n",
       "1  0.500000    0.441860  0.120370  0.666667   0.15       0.0             0   \n",
       "2  0.363636    0.348837  0.013889  0.000000   0.10       0.0             0   \n",
       "3  0.272727    0.209302  0.425926  0.000000   0.27       0.0             0   \n",
       "4  0.272727    0.186047  0.171296  1.000000   0.10       0.0             0   \n",
       "\n",
       "   SecuritiesAccount  CDAccount  Online  CreditCard  Area_Rural  Area_Urban  \\\n",
       "0                  1          0       0           0           0           1   \n",
       "1                  1          0       0           0           0           1   \n",
       "2                  0          0       0           0           0           1   \n",
       "3                  0          0       0           0           0           1   \n",
       "4                  0          0       0           1           0           1   \n",
       "\n",
       "   Education_1  Education_2  Education_3  \n",
       "0            1            0            0  \n",
       "1            1            0            0  \n",
       "2            1            0            0  \n",
       "3            0            1            0  \n",
       "4            0            1            0  "
      ]
     },
     "execution_count": 30,
     "metadata": {},
     "output_type": "execute_result"
    }
   ],
   "source": [
    "#Remove id and Education column \n",
    "bankLoan_num = bankLoan_num.drop(\"ID\",axis=1)\n",
    "bankLoan_num.head(5)"
   ]
  },
  {
   "cell_type": "markdown",
   "metadata": {},
   "source": [
    "## A.2.2. <font color = blue>Correlation Analysis</font>"
   ]
  },
  {
   "cell_type": "code",
   "execution_count": 31,
   "metadata": {},
   "outputs": [
    {
     "data": {
      "text/html": [
       "<div>\n",
       "<style scoped>\n",
       "    .dataframe tbody tr th:only-of-type {\n",
       "        vertical-align: middle;\n",
       "    }\n",
       "\n",
       "    .dataframe tbody tr th {\n",
       "        vertical-align: top;\n",
       "    }\n",
       "\n",
       "    .dataframe thead th {\n",
       "        text-align: right;\n",
       "    }\n",
       "</style>\n",
       "<table border=\"1\" class=\"dataframe\">\n",
       "  <thead>\n",
       "    <tr style=\"text-align: right;\">\n",
       "      <th></th>\n",
       "      <th>Age</th>\n",
       "      <th>Experience</th>\n",
       "      <th>Income</th>\n",
       "      <th>Family</th>\n",
       "      <th>CCAvg</th>\n",
       "      <th>Mortgage</th>\n",
       "      <th>PersonalLoan</th>\n",
       "      <th>SecuritiesAccount</th>\n",
       "      <th>CDAccount</th>\n",
       "      <th>Online</th>\n",
       "      <th>CreditCard</th>\n",
       "      <th>Area_Rural</th>\n",
       "      <th>Area_Urban</th>\n",
       "      <th>Education_1</th>\n",
       "      <th>Education_2</th>\n",
       "      <th>Education_3</th>\n",
       "    </tr>\n",
       "  </thead>\n",
       "  <tbody>\n",
       "    <tr>\n",
       "      <th>Age</th>\n",
       "      <td>1.000000</td>\n",
       "      <td>0.994198</td>\n",
       "      <td>-0.055269</td>\n",
       "      <td>-0.046418</td>\n",
       "      <td>-0.052012</td>\n",
       "      <td>-0.012539</td>\n",
       "      <td>-0.007726</td>\n",
       "      <td>-0.000436</td>\n",
       "      <td>0.008043</td>\n",
       "      <td>0.013702</td>\n",
       "      <td>0.007681</td>\n",
       "      <td>-0.005813</td>\n",
       "      <td>0.005813</td>\n",
       "      <td>-0.027770</td>\n",
       "      <td>-0.016264</td>\n",
       "      <td>0.045838</td>\n",
       "    </tr>\n",
       "    <tr>\n",
       "      <th>Experience</th>\n",
       "      <td>0.994198</td>\n",
       "      <td>1.000000</td>\n",
       "      <td>-0.046729</td>\n",
       "      <td>-0.052213</td>\n",
       "      <td>-0.049912</td>\n",
       "      <td>-0.010840</td>\n",
       "      <td>-0.007858</td>\n",
       "      <td>-0.001111</td>\n",
       "      <td>0.010046</td>\n",
       "      <td>0.013975</td>\n",
       "      <td>0.008910</td>\n",
       "      <td>-0.005533</td>\n",
       "      <td>0.005533</td>\n",
       "      <td>-0.003249</td>\n",
       "      <td>-0.018165</td>\n",
       "      <td>0.021303</td>\n",
       "    </tr>\n",
       "    <tr>\n",
       "      <th>Income</th>\n",
       "      <td>-0.055269</td>\n",
       "      <td>-0.046729</td>\n",
       "      <td>1.000000</td>\n",
       "      <td>-0.157501</td>\n",
       "      <td>0.645984</td>\n",
       "      <td>0.206806</td>\n",
       "      <td>0.502462</td>\n",
       "      <td>-0.002616</td>\n",
       "      <td>0.169738</td>\n",
       "      <td>0.014206</td>\n",
       "      <td>-0.002385</td>\n",
       "      <td>0.000425</td>\n",
       "      <td>-0.000425</td>\n",
       "      <td>0.218019</td>\n",
       "      <td>-0.128364</td>\n",
       "      <td>-0.108878</td>\n",
       "    </tr>\n",
       "    <tr>\n",
       "      <th>Family</th>\n",
       "      <td>-0.046418</td>\n",
       "      <td>-0.052213</td>\n",
       "      <td>-0.157501</td>\n",
       "      <td>1.000000</td>\n",
       "      <td>-0.109275</td>\n",
       "      <td>-0.020445</td>\n",
       "      <td>0.061367</td>\n",
       "      <td>0.019994</td>\n",
       "      <td>0.014110</td>\n",
       "      <td>0.010354</td>\n",
       "      <td>0.011588</td>\n",
       "      <td>0.012748</td>\n",
       "      <td>-0.012748</td>\n",
       "      <td>-0.118628</td>\n",
       "      <td>0.139201</td>\n",
       "      <td>-0.008744</td>\n",
       "    </tr>\n",
       "    <tr>\n",
       "      <th>CCAvg</th>\n",
       "      <td>-0.052012</td>\n",
       "      <td>-0.049912</td>\n",
       "      <td>0.645984</td>\n",
       "      <td>-0.109275</td>\n",
       "      <td>1.000000</td>\n",
       "      <td>0.109905</td>\n",
       "      <td>0.366889</td>\n",
       "      <td>0.015086</td>\n",
       "      <td>0.136534</td>\n",
       "      <td>-0.003611</td>\n",
       "      <td>-0.006689</td>\n",
       "      <td>-0.004080</td>\n",
       "      <td>0.004080</td>\n",
       "      <td>0.156979</td>\n",
       "      <td>-0.090366</td>\n",
       "      <td>-0.080413</td>\n",
       "    </tr>\n",
       "    <tr>\n",
       "      <th>Mortgage</th>\n",
       "      <td>-0.012539</td>\n",
       "      <td>-0.010840</td>\n",
       "      <td>0.206806</td>\n",
       "      <td>-0.020445</td>\n",
       "      <td>0.109905</td>\n",
       "      <td>1.000000</td>\n",
       "      <td>0.142095</td>\n",
       "      <td>-0.005411</td>\n",
       "      <td>0.089311</td>\n",
       "      <td>-0.005995</td>\n",
       "      <td>-0.007231</td>\n",
       "      <td>0.001232</td>\n",
       "      <td>-0.001232</td>\n",
       "      <td>0.042841</td>\n",
       "      <td>-0.031806</td>\n",
       "      <td>-0.014942</td>\n",
       "    </tr>\n",
       "    <tr>\n",
       "      <th>PersonalLoan</th>\n",
       "      <td>-0.007726</td>\n",
       "      <td>-0.007858</td>\n",
       "      <td>0.502462</td>\n",
       "      <td>0.061367</td>\n",
       "      <td>0.366889</td>\n",
       "      <td>0.142095</td>\n",
       "      <td>1.000000</td>\n",
       "      <td>0.021954</td>\n",
       "      <td>0.316355</td>\n",
       "      <td>0.006278</td>\n",
       "      <td>0.002802</td>\n",
       "      <td>0.022181</td>\n",
       "      <td>-0.022181</td>\n",
       "      <td>-0.148894</td>\n",
       "      <td>0.071491</td>\n",
       "      <td>0.090212</td>\n",
       "    </tr>\n",
       "    <tr>\n",
       "      <th>SecuritiesAccount</th>\n",
       "      <td>-0.000436</td>\n",
       "      <td>-0.001111</td>\n",
       "      <td>-0.002616</td>\n",
       "      <td>0.019994</td>\n",
       "      <td>0.015086</td>\n",
       "      <td>-0.005411</td>\n",
       "      <td>0.021954</td>\n",
       "      <td>1.000000</td>\n",
       "      <td>0.317034</td>\n",
       "      <td>0.012627</td>\n",
       "      <td>-0.015028</td>\n",
       "      <td>0.012787</td>\n",
       "      <td>-0.012787</td>\n",
       "      <td>0.006863</td>\n",
       "      <td>0.005134</td>\n",
       "      <td>-0.012421</td>\n",
       "    </tr>\n",
       "    <tr>\n",
       "      <th>CDAccount</th>\n",
       "      <td>0.008043</td>\n",
       "      <td>0.010046</td>\n",
       "      <td>0.169738</td>\n",
       "      <td>0.014110</td>\n",
       "      <td>0.136534</td>\n",
       "      <td>0.089311</td>\n",
       "      <td>0.316355</td>\n",
       "      <td>0.317034</td>\n",
       "      <td>1.000000</td>\n",
       "      <td>0.175880</td>\n",
       "      <td>0.278644</td>\n",
       "      <td>0.020521</td>\n",
       "      <td>-0.020521</td>\n",
       "      <td>-0.014630</td>\n",
       "      <td>0.006089</td>\n",
       "      <td>0.009780</td>\n",
       "    </tr>\n",
       "    <tr>\n",
       "      <th>Online</th>\n",
       "      <td>0.013702</td>\n",
       "      <td>0.013975</td>\n",
       "      <td>0.014206</td>\n",
       "      <td>0.010354</td>\n",
       "      <td>-0.003611</td>\n",
       "      <td>-0.005995</td>\n",
       "      <td>0.006278</td>\n",
       "      <td>0.012627</td>\n",
       "      <td>0.175880</td>\n",
       "      <td>1.000000</td>\n",
       "      <td>0.004210</td>\n",
       "      <td>0.011671</td>\n",
       "      <td>-0.011671</td>\n",
       "      <td>0.003394</td>\n",
       "      <td>0.020590</td>\n",
       "      <td>-0.023837</td>\n",
       "    </tr>\n",
       "    <tr>\n",
       "      <th>CreditCard</th>\n",
       "      <td>0.007681</td>\n",
       "      <td>0.008910</td>\n",
       "      <td>-0.002385</td>\n",
       "      <td>0.011588</td>\n",
       "      <td>-0.006689</td>\n",
       "      <td>-0.007231</td>\n",
       "      <td>0.002802</td>\n",
       "      <td>-0.015028</td>\n",
       "      <td>0.278644</td>\n",
       "      <td>0.004210</td>\n",
       "      <td>1.000000</td>\n",
       "      <td>-0.010490</td>\n",
       "      <td>0.010490</td>\n",
       "      <td>0.014925</td>\n",
       "      <td>-0.012196</td>\n",
       "      <td>-0.004113</td>\n",
       "    </tr>\n",
       "    <tr>\n",
       "      <th>Area_Rural</th>\n",
       "      <td>-0.005813</td>\n",
       "      <td>-0.005533</td>\n",
       "      <td>0.000425</td>\n",
       "      <td>0.012748</td>\n",
       "      <td>-0.004080</td>\n",
       "      <td>0.001232</td>\n",
       "      <td>0.022181</td>\n",
       "      <td>0.012787</td>\n",
       "      <td>0.020521</td>\n",
       "      <td>0.011671</td>\n",
       "      <td>-0.010490</td>\n",
       "      <td>1.000000</td>\n",
       "      <td>-1.000000</td>\n",
       "      <td>-0.030402</td>\n",
       "      <td>0.009154</td>\n",
       "      <td>0.023756</td>\n",
       "    </tr>\n",
       "    <tr>\n",
       "      <th>Area_Urban</th>\n",
       "      <td>0.005813</td>\n",
       "      <td>0.005533</td>\n",
       "      <td>-0.000425</td>\n",
       "      <td>-0.012748</td>\n",
       "      <td>0.004080</td>\n",
       "      <td>-0.001232</td>\n",
       "      <td>-0.022181</td>\n",
       "      <td>-0.012787</td>\n",
       "      <td>-0.020521</td>\n",
       "      <td>-0.011671</td>\n",
       "      <td>0.010490</td>\n",
       "      <td>-1.000000</td>\n",
       "      <td>1.000000</td>\n",
       "      <td>0.030402</td>\n",
       "      <td>-0.009154</td>\n",
       "      <td>-0.023756</td>\n",
       "    </tr>\n",
       "    <tr>\n",
       "      <th>Education_1</th>\n",
       "      <td>-0.027770</td>\n",
       "      <td>-0.003249</td>\n",
       "      <td>0.218019</td>\n",
       "      <td>-0.118628</td>\n",
       "      <td>0.156979</td>\n",
       "      <td>0.042841</td>\n",
       "      <td>-0.148894</td>\n",
       "      <td>0.006863</td>\n",
       "      <td>-0.014630</td>\n",
       "      <td>0.003394</td>\n",
       "      <td>0.014925</td>\n",
       "      <td>-0.030402</td>\n",
       "      <td>0.030402</td>\n",
       "      <td>1.000000</td>\n",
       "      <td>-0.530586</td>\n",
       "      <td>-0.556437</td>\n",
       "    </tr>\n",
       "    <tr>\n",
       "      <th>Education_2</th>\n",
       "      <td>-0.016264</td>\n",
       "      <td>-0.018165</td>\n",
       "      <td>-0.128364</td>\n",
       "      <td>0.139201</td>\n",
       "      <td>-0.090366</td>\n",
       "      <td>-0.031806</td>\n",
       "      <td>0.071491</td>\n",
       "      <td>0.005134</td>\n",
       "      <td>0.006089</td>\n",
       "      <td>0.020590</td>\n",
       "      <td>-0.012196</td>\n",
       "      <td>0.009154</td>\n",
       "      <td>-0.009154</td>\n",
       "      <td>-0.530586</td>\n",
       "      <td>1.000000</td>\n",
       "      <td>-0.409051</td>\n",
       "    </tr>\n",
       "    <tr>\n",
       "      <th>Education_3</th>\n",
       "      <td>0.045838</td>\n",
       "      <td>0.021303</td>\n",
       "      <td>-0.108878</td>\n",
       "      <td>-0.008744</td>\n",
       "      <td>-0.080413</td>\n",
       "      <td>-0.014942</td>\n",
       "      <td>0.090212</td>\n",
       "      <td>-0.012421</td>\n",
       "      <td>0.009780</td>\n",
       "      <td>-0.023837</td>\n",
       "      <td>-0.004113</td>\n",
       "      <td>0.023756</td>\n",
       "      <td>-0.023756</td>\n",
       "      <td>-0.556437</td>\n",
       "      <td>-0.409051</td>\n",
       "      <td>1.000000</td>\n",
       "    </tr>\n",
       "  </tbody>\n",
       "</table>\n",
       "</div>"
      ],
      "text/plain": [
       "                        Age  Experience    Income    Family     CCAvg  \\\n",
       "Age                1.000000    0.994198 -0.055269 -0.046418 -0.052012   \n",
       "Experience         0.994198    1.000000 -0.046729 -0.052213 -0.049912   \n",
       "Income            -0.055269   -0.046729  1.000000 -0.157501  0.645984   \n",
       "Family            -0.046418   -0.052213 -0.157501  1.000000 -0.109275   \n",
       "CCAvg             -0.052012   -0.049912  0.645984 -0.109275  1.000000   \n",
       "Mortgage          -0.012539   -0.010840  0.206806 -0.020445  0.109905   \n",
       "PersonalLoan      -0.007726   -0.007858  0.502462  0.061367  0.366889   \n",
       "SecuritiesAccount -0.000436   -0.001111 -0.002616  0.019994  0.015086   \n",
       "CDAccount          0.008043    0.010046  0.169738  0.014110  0.136534   \n",
       "Online             0.013702    0.013975  0.014206  0.010354 -0.003611   \n",
       "CreditCard         0.007681    0.008910 -0.002385  0.011588 -0.006689   \n",
       "Area_Rural        -0.005813   -0.005533  0.000425  0.012748 -0.004080   \n",
       "Area_Urban         0.005813    0.005533 -0.000425 -0.012748  0.004080   \n",
       "Education_1       -0.027770   -0.003249  0.218019 -0.118628  0.156979   \n",
       "Education_2       -0.016264   -0.018165 -0.128364  0.139201 -0.090366   \n",
       "Education_3        0.045838    0.021303 -0.108878 -0.008744 -0.080413   \n",
       "\n",
       "                   Mortgage  PersonalLoan  SecuritiesAccount  CDAccount  \\\n",
       "Age               -0.012539     -0.007726          -0.000436   0.008043   \n",
       "Experience        -0.010840     -0.007858          -0.001111   0.010046   \n",
       "Income             0.206806      0.502462          -0.002616   0.169738   \n",
       "Family            -0.020445      0.061367           0.019994   0.014110   \n",
       "CCAvg              0.109905      0.366889           0.015086   0.136534   \n",
       "Mortgage           1.000000      0.142095          -0.005411   0.089311   \n",
       "PersonalLoan       0.142095      1.000000           0.021954   0.316355   \n",
       "SecuritiesAccount -0.005411      0.021954           1.000000   0.317034   \n",
       "CDAccount          0.089311      0.316355           0.317034   1.000000   \n",
       "Online            -0.005995      0.006278           0.012627   0.175880   \n",
       "CreditCard        -0.007231      0.002802          -0.015028   0.278644   \n",
       "Area_Rural         0.001232      0.022181           0.012787   0.020521   \n",
       "Area_Urban        -0.001232     -0.022181          -0.012787  -0.020521   \n",
       "Education_1        0.042841     -0.148894           0.006863  -0.014630   \n",
       "Education_2       -0.031806      0.071491           0.005134   0.006089   \n",
       "Education_3       -0.014942      0.090212          -0.012421   0.009780   \n",
       "\n",
       "                     Online  CreditCard  Area_Rural  Area_Urban  Education_1  \\\n",
       "Age                0.013702    0.007681   -0.005813    0.005813    -0.027770   \n",
       "Experience         0.013975    0.008910   -0.005533    0.005533    -0.003249   \n",
       "Income             0.014206   -0.002385    0.000425   -0.000425     0.218019   \n",
       "Family             0.010354    0.011588    0.012748   -0.012748    -0.118628   \n",
       "CCAvg             -0.003611   -0.006689   -0.004080    0.004080     0.156979   \n",
       "Mortgage          -0.005995   -0.007231    0.001232   -0.001232     0.042841   \n",
       "PersonalLoan       0.006278    0.002802    0.022181   -0.022181    -0.148894   \n",
       "SecuritiesAccount  0.012627   -0.015028    0.012787   -0.012787     0.006863   \n",
       "CDAccount          0.175880    0.278644    0.020521   -0.020521    -0.014630   \n",
       "Online             1.000000    0.004210    0.011671   -0.011671     0.003394   \n",
       "CreditCard         0.004210    1.000000   -0.010490    0.010490     0.014925   \n",
       "Area_Rural         0.011671   -0.010490    1.000000   -1.000000    -0.030402   \n",
       "Area_Urban        -0.011671    0.010490   -1.000000    1.000000     0.030402   \n",
       "Education_1        0.003394    0.014925   -0.030402    0.030402     1.000000   \n",
       "Education_2        0.020590   -0.012196    0.009154   -0.009154    -0.530586   \n",
       "Education_3       -0.023837   -0.004113    0.023756   -0.023756    -0.556437   \n",
       "\n",
       "                   Education_2  Education_3  \n",
       "Age                  -0.016264     0.045838  \n",
       "Experience           -0.018165     0.021303  \n",
       "Income               -0.128364    -0.108878  \n",
       "Family                0.139201    -0.008744  \n",
       "CCAvg                -0.090366    -0.080413  \n",
       "Mortgage             -0.031806    -0.014942  \n",
       "PersonalLoan          0.071491     0.090212  \n",
       "SecuritiesAccount     0.005134    -0.012421  \n",
       "CDAccount             0.006089     0.009780  \n",
       "Online                0.020590    -0.023837  \n",
       "CreditCard           -0.012196    -0.004113  \n",
       "Area_Rural            0.009154     0.023756  \n",
       "Area_Urban           -0.009154    -0.023756  \n",
       "Education_1          -0.530586    -0.556437  \n",
       "Education_2           1.000000    -0.409051  \n",
       "Education_3          -0.409051     1.000000  "
      ]
     },
     "execution_count": 31,
     "metadata": {},
     "output_type": "execute_result"
    }
   ],
   "source": [
    "bankLoan_num.corr()"
   ]
  },
  {
   "cell_type": "markdown",
   "metadata": {},
   "source": [
    "- As we expect, there is a slightly negative correlation between Age and another numeric variable (Income, Average credit card spending, family size, and value of Morgage). As customers get older, they earn less income, have a smaller family size, and have less credit card spending and value of Morgage.\n",
    "- From correlation matrix above, The correlation value of 0.99 between age and work experience variable indicates that they are positively and strongly correlated. The number of years in work experience increases as age increases. \n",
    "- We will drop Experience variable as it can cause multicolinear problem (with Age) and repeated info. \n"
   ]
  },
  {
   "cell_type": "code",
   "execution_count": 32,
   "metadata": {},
   "outputs": [],
   "source": [
    "#Remove Experience column \n",
    "bankLoan_num = bankLoan_num.drop(\"Experience\",axis=1)"
   ]
  },
  {
   "cell_type": "markdown",
   "metadata": {},
   "source": [
    "## A.2.3. <font color = blue>Separate Y and X attributes from data</font>"
   ]
  },
  {
   "cell_type": "code",
   "execution_count": 33,
   "metadata": {},
   "outputs": [
    {
     "data": {
      "text/plain": [
       "0    0\n",
       "1    0\n",
       "2    0\n",
       "3    0\n",
       "4    0\n",
       "Name: PersonalLoan, dtype: int64"
      ]
     },
     "execution_count": 33,
     "metadata": {},
     "output_type": "execute_result"
    }
   ],
   "source": [
    "#Separate the Y target attribute (\"Personal\") from data\n",
    "LoanTarget = bankLoan_num.PersonalLoan\n",
    "LoanTarget.head(5)"
   ]
  },
  {
   "cell_type": "code",
   "execution_count": 34,
   "metadata": {},
   "outputs": [
    {
     "data": {
      "text/html": [
       "<div>\n",
       "<style scoped>\n",
       "    .dataframe tbody tr th:only-of-type {\n",
       "        vertical-align: middle;\n",
       "    }\n",
       "\n",
       "    .dataframe tbody tr th {\n",
       "        vertical-align: top;\n",
       "    }\n",
       "\n",
       "    .dataframe thead th {\n",
       "        text-align: right;\n",
       "    }\n",
       "</style>\n",
       "<table border=\"1\" class=\"dataframe\">\n",
       "  <thead>\n",
       "    <tr style=\"text-align: right;\">\n",
       "      <th></th>\n",
       "      <th>Age</th>\n",
       "      <th>Income</th>\n",
       "      <th>Family</th>\n",
       "      <th>CCAvg</th>\n",
       "      <th>Mortgage</th>\n",
       "      <th>SecuritiesAccount</th>\n",
       "      <th>CDAccount</th>\n",
       "      <th>Online</th>\n",
       "      <th>CreditCard</th>\n",
       "      <th>Area_Rural</th>\n",
       "      <th>Area_Urban</th>\n",
       "      <th>Education_1</th>\n",
       "      <th>Education_2</th>\n",
       "      <th>Education_3</th>\n",
       "    </tr>\n",
       "  </thead>\n",
       "  <tbody>\n",
       "    <tr>\n",
       "      <th>0</th>\n",
       "      <td>0.045455</td>\n",
       "      <td>0.189815</td>\n",
       "      <td>1.000000</td>\n",
       "      <td>0.16</td>\n",
       "      <td>0.0</td>\n",
       "      <td>1</td>\n",
       "      <td>0</td>\n",
       "      <td>0</td>\n",
       "      <td>0</td>\n",
       "      <td>0</td>\n",
       "      <td>1</td>\n",
       "      <td>1</td>\n",
       "      <td>0</td>\n",
       "      <td>0</td>\n",
       "    </tr>\n",
       "    <tr>\n",
       "      <th>1</th>\n",
       "      <td>0.500000</td>\n",
       "      <td>0.120370</td>\n",
       "      <td>0.666667</td>\n",
       "      <td>0.15</td>\n",
       "      <td>0.0</td>\n",
       "      <td>1</td>\n",
       "      <td>0</td>\n",
       "      <td>0</td>\n",
       "      <td>0</td>\n",
       "      <td>0</td>\n",
       "      <td>1</td>\n",
       "      <td>1</td>\n",
       "      <td>0</td>\n",
       "      <td>0</td>\n",
       "    </tr>\n",
       "    <tr>\n",
       "      <th>2</th>\n",
       "      <td>0.363636</td>\n",
       "      <td>0.013889</td>\n",
       "      <td>0.000000</td>\n",
       "      <td>0.10</td>\n",
       "      <td>0.0</td>\n",
       "      <td>0</td>\n",
       "      <td>0</td>\n",
       "      <td>0</td>\n",
       "      <td>0</td>\n",
       "      <td>0</td>\n",
       "      <td>1</td>\n",
       "      <td>1</td>\n",
       "      <td>0</td>\n",
       "      <td>0</td>\n",
       "    </tr>\n",
       "    <tr>\n",
       "      <th>3</th>\n",
       "      <td>0.272727</td>\n",
       "      <td>0.425926</td>\n",
       "      <td>0.000000</td>\n",
       "      <td>0.27</td>\n",
       "      <td>0.0</td>\n",
       "      <td>0</td>\n",
       "      <td>0</td>\n",
       "      <td>0</td>\n",
       "      <td>0</td>\n",
       "      <td>0</td>\n",
       "      <td>1</td>\n",
       "      <td>0</td>\n",
       "      <td>1</td>\n",
       "      <td>0</td>\n",
       "    </tr>\n",
       "    <tr>\n",
       "      <th>4</th>\n",
       "      <td>0.272727</td>\n",
       "      <td>0.171296</td>\n",
       "      <td>1.000000</td>\n",
       "      <td>0.10</td>\n",
       "      <td>0.0</td>\n",
       "      <td>0</td>\n",
       "      <td>0</td>\n",
       "      <td>0</td>\n",
       "      <td>1</td>\n",
       "      <td>0</td>\n",
       "      <td>1</td>\n",
       "      <td>0</td>\n",
       "      <td>1</td>\n",
       "      <td>0</td>\n",
       "    </tr>\n",
       "  </tbody>\n",
       "</table>\n",
       "</div>"
      ],
      "text/plain": [
       "        Age    Income    Family  CCAvg  Mortgage  SecuritiesAccount  \\\n",
       "0  0.045455  0.189815  1.000000   0.16       0.0                  1   \n",
       "1  0.500000  0.120370  0.666667   0.15       0.0                  1   \n",
       "2  0.363636  0.013889  0.000000   0.10       0.0                  0   \n",
       "3  0.272727  0.425926  0.000000   0.27       0.0                  0   \n",
       "4  0.272727  0.171296  1.000000   0.10       0.0                  0   \n",
       "\n",
       "   CDAccount  Online  CreditCard  Area_Rural  Area_Urban  Education_1  \\\n",
       "0          0       0           0           0           1            1   \n",
       "1          0       0           0           0           1            1   \n",
       "2          0       0           0           0           1            1   \n",
       "3          0       0           0           0           1            0   \n",
       "4          0       0           1           0           1            0   \n",
       "\n",
       "   Education_2  Education_3  \n",
       "0            0            0  \n",
       "1            0            0  \n",
       "2            0            0  \n",
       "3            1            0  \n",
       "4            1            0  "
      ]
     },
     "execution_count": 34,
     "metadata": {},
     "output_type": "execute_result"
    }
   ],
   "source": [
    "LoanFeatures = bankLoan_num.drop(\"PersonalLoan\", axis=1)\n",
    "LoanFeatures.head(5)"
   ]
  },
  {
   "cell_type": "markdown",
   "metadata": {},
   "source": [
    "## A.2.4. <font color = blue>Splitting Data (80% Training set and 20% Test Set)</font>"
   ]
  },
  {
   "cell_type": "code",
   "execution_count": 35,
   "metadata": {},
   "outputs": [],
   "source": [
    "#Spliting data into Train and Test (80%, 20%)\n",
    "from sklearn.model_selection import train_test_split\n",
    "Loan_train, Loan_test, Loan_target_train, Loan_target_test = train_test_split(LoanFeatures, LoanTarget, test_size=0.2, random_state=33)"
   ]
  },
  {
   "cell_type": "code",
   "execution_count": 36,
   "metadata": {},
   "outputs": [
    {
     "name": "stdout",
     "output_type": "stream",
     "text": [
      "(4000, 14)\n",
      "(1000, 14)\n"
     ]
    }
   ],
   "source": [
    "print (Loan_train.shape)\n",
    "print (Loan_test.shape)"
   ]
  },
  {
   "cell_type": "code",
   "execution_count": 37,
   "metadata": {},
   "outputs": [
    {
     "data": {
      "text/html": [
       "<div>\n",
       "<style scoped>\n",
       "    .dataframe tbody tr th:only-of-type {\n",
       "        vertical-align: middle;\n",
       "    }\n",
       "\n",
       "    .dataframe tbody tr th {\n",
       "        vertical-align: top;\n",
       "    }\n",
       "\n",
       "    .dataframe thead th {\n",
       "        text-align: right;\n",
       "    }\n",
       "</style>\n",
       "<table border=\"1\" class=\"dataframe\">\n",
       "  <thead>\n",
       "    <tr style=\"text-align: right;\">\n",
       "      <th></th>\n",
       "      <th>Age</th>\n",
       "      <th>Income</th>\n",
       "      <th>Family</th>\n",
       "      <th>CCAvg</th>\n",
       "      <th>Mortgage</th>\n",
       "      <th>SecuritiesAccount</th>\n",
       "      <th>CDAccount</th>\n",
       "      <th>Online</th>\n",
       "      <th>CreditCard</th>\n",
       "      <th>Area_Rural</th>\n",
       "      <th>Area_Urban</th>\n",
       "      <th>Education_1</th>\n",
       "      <th>Education_2</th>\n",
       "      <th>Education_3</th>\n",
       "    </tr>\n",
       "  </thead>\n",
       "  <tbody>\n",
       "    <tr>\n",
       "      <th>2435</th>\n",
       "      <td>0.250000</td>\n",
       "      <td>0.435185</td>\n",
       "      <td>1.000000</td>\n",
       "      <td>0.220</td>\n",
       "      <td>0.000000</td>\n",
       "      <td>0</td>\n",
       "      <td>0</td>\n",
       "      <td>1</td>\n",
       "      <td>0</td>\n",
       "      <td>0</td>\n",
       "      <td>1</td>\n",
       "      <td>0</td>\n",
       "      <td>1</td>\n",
       "      <td>0</td>\n",
       "    </tr>\n",
       "    <tr>\n",
       "      <th>188</th>\n",
       "      <td>0.931818</td>\n",
       "      <td>0.745370</td>\n",
       "      <td>0.333333</td>\n",
       "      <td>0.210</td>\n",
       "      <td>0.192126</td>\n",
       "      <td>0</td>\n",
       "      <td>0</td>\n",
       "      <td>1</td>\n",
       "      <td>0</td>\n",
       "      <td>0</td>\n",
       "      <td>1</td>\n",
       "      <td>1</td>\n",
       "      <td>0</td>\n",
       "      <td>0</td>\n",
       "    </tr>\n",
       "    <tr>\n",
       "      <th>3507</th>\n",
       "      <td>0.613636</td>\n",
       "      <td>0.347222</td>\n",
       "      <td>0.000000</td>\n",
       "      <td>0.267</td>\n",
       "      <td>0.000000</td>\n",
       "      <td>0</td>\n",
       "      <td>1</td>\n",
       "      <td>1</td>\n",
       "      <td>1</td>\n",
       "      <td>0</td>\n",
       "      <td>1</td>\n",
       "      <td>0</td>\n",
       "      <td>1</td>\n",
       "      <td>0</td>\n",
       "    </tr>\n",
       "    <tr>\n",
       "      <th>124</th>\n",
       "      <td>0.363636</td>\n",
       "      <td>0.324074</td>\n",
       "      <td>1.000000</td>\n",
       "      <td>0.240</td>\n",
       "      <td>0.185827</td>\n",
       "      <td>0</td>\n",
       "      <td>0</td>\n",
       "      <td>1</td>\n",
       "      <td>0</td>\n",
       "      <td>0</td>\n",
       "      <td>1</td>\n",
       "      <td>1</td>\n",
       "      <td>0</td>\n",
       "      <td>0</td>\n",
       "    </tr>\n",
       "    <tr>\n",
       "      <th>4005</th>\n",
       "      <td>0.750000</td>\n",
       "      <td>0.111111</td>\n",
       "      <td>0.333333</td>\n",
       "      <td>0.080</td>\n",
       "      <td>0.124409</td>\n",
       "      <td>1</td>\n",
       "      <td>0</td>\n",
       "      <td>1</td>\n",
       "      <td>0</td>\n",
       "      <td>0</td>\n",
       "      <td>1</td>\n",
       "      <td>1</td>\n",
       "      <td>0</td>\n",
       "      <td>0</td>\n",
       "    </tr>\n",
       "  </tbody>\n",
       "</table>\n",
       "</div>"
      ],
      "text/plain": [
       "           Age    Income    Family  CCAvg  Mortgage  SecuritiesAccount  \\\n",
       "2435  0.250000  0.435185  1.000000  0.220  0.000000                  0   \n",
       "188   0.931818  0.745370  0.333333  0.210  0.192126                  0   \n",
       "3507  0.613636  0.347222  0.000000  0.267  0.000000                  0   \n",
       "124   0.363636  0.324074  1.000000  0.240  0.185827                  0   \n",
       "4005  0.750000  0.111111  0.333333  0.080  0.124409                  1   \n",
       "\n",
       "      CDAccount  Online  CreditCard  Area_Rural  Area_Urban  Education_1  \\\n",
       "2435          0       1           0           0           1            0   \n",
       "188           0       1           0           0           1            1   \n",
       "3507          1       1           1           0           1            0   \n",
       "124           0       1           0           0           1            1   \n",
       "4005          0       1           0           0           1            1   \n",
       "\n",
       "      Education_2  Education_3  \n",
       "2435            1            0  \n",
       "188             0            0  \n",
       "3507            1            0  \n",
       "124             0            0  \n",
       "4005            0            0  "
      ]
     },
     "execution_count": 37,
     "metadata": {},
     "output_type": "execute_result"
    }
   ],
   "source": [
    "Loan_train.head(5)"
   ]
  },
  {
   "cell_type": "code",
   "execution_count": 38,
   "metadata": {},
   "outputs": [
    {
     "data": {
      "text/plain": [
       "2435    0\n",
       "188     0\n",
       "3507    0\n",
       "124     0\n",
       "4005    0\n",
       "Name: PersonalLoan, dtype: int64"
      ]
     },
     "execution_count": 38,
     "metadata": {},
     "output_type": "execute_result"
    }
   ],
   "source": [
    "Loan_target_train.head(5)"
   ]
  },
  {
   "cell_type": "markdown",
   "metadata": {},
   "source": [
    "## A.3 <font color = blue>Model Development</font> "
   ]
  },
  {
   "cell_type": "markdown",
   "metadata": {},
   "source": [
    "### - Decision Tree\n",
    "### - Naive Bayes (Gaussian) classifier\n",
    "### - Linear Discriminant Analysis (LDA)\n",
    "### - K-nearest Neighbors (with and without PCA)"
   ]
  },
  {
   "cell_type": "markdown",
   "metadata": {},
   "source": [
    "## A.3 <font color = blue>Model Evaluation</font> "
   ]
  },
  {
   "cell_type": "markdown",
   "metadata": {},
   "source": [
    "### - Our target class ( Personal Loan ) is imbalanced (90.4% of data is 1 and 9.6% is 0)\n",
    "### - Use \"balanced_accuracy_score\" from sklearn \n",
    "### - Use\"classification_report_imbalanced\" from imblearn library"
   ]
  },
  {
   "cell_type": "markdown",
   "metadata": {},
   "source": [
    "## A.3.1 <font color = blue>Decision Tree</font> "
   ]
  },
  {
   "cell_type": "markdown",
   "metadata": {},
   "source": [
    "### A.3.1.1 <font color = blue>Decision Tree: Model 1 (Default)</font> "
   ]
  },
  {
   "cell_type": "code",
   "execution_count": 39,
   "metadata": {},
   "outputs": [
    {
     "data": {
      "text/plain": [
       "DecisionTreeClassifier(class_weight=None, criterion='gini', max_depth=None,\n",
       "            max_features=None, max_leaf_nodes=None,\n",
       "            min_impurity_decrease=0.0, min_impurity_split=None,\n",
       "            min_samples_leaf=1, min_samples_split=2,\n",
       "            min_weight_fraction_leaf=0.0, presort=False, random_state=9,\n",
       "            splitter='best')"
      ]
     },
     "execution_count": 39,
     "metadata": {},
     "output_type": "execute_result"
    }
   ],
   "source": [
    "from sklearn.tree import DecisionTreeClassifier\n",
    "Tree1 = DecisionTreeClassifier(random_state = 9)\n",
    "Tree1.fit(Loan_train, Loan_target_train)"
   ]
  },
  {
   "cell_type": "code",
   "execution_count": 43,
   "metadata": {},
   "outputs": [
    {
     "name": "stdout",
     "output_type": "stream",
     "text": [
      "{'Age': 0.027784431782551276, 'Income': 0.31586537831375794, 'Family': 0.1555649243135502, 'CCAvg': 0.06189651444770677, 'Mortgage': 0.005971528594532529, 'SecuritiesAccount': 0.0, 'CDAccount': 0.021901924489633955, 'Online': 0.0034286288581048016, 'CreditCard': 0.0020192645919126844, 'Area_Rural': 0.0, 'Area_Urban': 0.0022727653415467435, 'Education_1': 0.3929819665294348, 'Education_2': 0.003750062813552127, 'Education_3': 0.006562609923716222}\n"
     ]
    }
   ],
   "source": [
    "imp1 = Tree1.feature_importances_ \n",
    "print(dict(zip(LoanFeatures.columns, imp1)))"
   ]
  },
  {
   "cell_type": "code",
   "execution_count": 44,
   "metadata": {},
   "outputs": [
    {
     "name": "stdout",
     "output_type": "stream",
     "text": [
      "                   pre       rec       spe        f1       geo       iba       sup\n",
      "\n",
      "          0       0.99      0.99      0.88      0.99      0.94      0.88       887\n",
      "          1       0.91      0.88      0.99      0.90      0.94      0.87       113\n",
      "\n",
      "avg / total       0.98      0.98      0.90      0.98      0.94      0.88      1000\n",
      "\n",
      "Overall Accuracy Rate on Test Set : 0.9368 \n",
      "\n",
      "confusion_matrix \n",
      "\n",
      "[[877  10]\n",
      " [ 13 100]]\n"
     ]
    }
   ],
   "source": [
    "from imblearn.metrics import classification_report_imbalanced\n",
    "from sklearn.metrics import balanced_accuracy_score\n",
    "from sklearn.metrics import confusion_matrix\n",
    "Pred_test = Tree1.predict(Loan_test)\n",
    "Tree1_score_test = balanced_accuracy_score(Loan_target_test, Pred_test)\n",
    "print(classification_report_imbalanced(Loan_target_test, Pred_test))\n",
    "print (\"Overall Accuracy Rate on Test Set : %0.4f \\n\" %(Tree1_score_test))\n",
    "Tree1_confusion_matrix = confusion_matrix(y_true = Loan_target_test, y_pred = Pred_test)\n",
    "print(\"confusion_matrix \\n\")\n",
    "print(Tree1_confusion_matrix)"
   ]
  },
  {
   "cell_type": "markdown",
   "metadata": {},
   "source": [
    "### A.3.1.2 <font color = blue>Decision Tree: Model 2 </font> "
   ]
  },
  {
   "cell_type": "code",
   "execution_count": 76,
   "metadata": {},
   "outputs": [
    {
     "name": "stdout",
     "output_type": "stream",
     "text": [
      "{'Age': 0.0, 'Income': 0.5561694259167698, 'Family': 0.14761351305119902, 'CCAvg': 0.06824051454400194, 'Mortgage': 0.0, 'SecuritiesAccount': 0.0, 'CDAccount': 0.015638554228212573, 'Online': 0.0, 'CreditCard': 0.0, 'Area_Rural': 0.0, 'Area_Urban': 0.0, 'Education_1': 0.21233799225981673, 'Education_2': 0.0, 'Education_3': 0.0}\n"
     ]
    }
   ],
   "source": [
    "Tree2 = DecisionTreeClassifier(criterion='entropy', max_depth= 3, min_samples_split=20, random_state=9,\n",
    "            splitter='best')\n",
    "Tree2.fit(Loan_train, Loan_target_train)\n",
    "imp2 = Tree2.feature_importances_ \n",
    "print(dict(zip(LoanFeatures.columns, imp2)))"
   ]
  },
  {
   "cell_type": "code",
   "execution_count": 77,
   "metadata": {},
   "outputs": [
    {
     "name": "stdout",
     "output_type": "stream",
     "text": [
      "                   pre       rec       spe        f1       geo       iba       sup\n",
      "\n",
      "          0       0.98      0.99      0.81      0.98      0.90      0.82       887\n",
      "          1       0.92      0.81      0.99      0.86      0.90      0.79       113\n",
      "\n",
      "avg / total       0.97      0.97      0.83      0.97      0.90      0.82      1000\n",
      "\n",
      "Overall Accuracy Rate on Test Set : 0.9026 \n",
      "\n",
      "confusion_matrix \n",
      "\n",
      "[[879   8]\n",
      " [ 21  92]]\n"
     ]
    }
   ],
   "source": [
    "Pred_test2 = Tree2.predict(Loan_test)\n",
    "Tree2_score_test = balanced_accuracy_score(Loan_target_test, Pred_test2)\n",
    "print(classification_report_imbalanced(Loan_target_test, Pred_test2))\n",
    "print (\"Overall Accuracy Rate on Test Set : %0.4f \\n\" %(Tree2_score_test))\n",
    "Tree2_confusion_matrix = confusion_matrix(y_true = Loan_target_test, y_pred = Pred_test2)\n",
    "print(\"confusion_matrix \\n\")\n",
    "print(Tree2_confusion_matrix)"
   ]
  },
  {
   "cell_type": "markdown",
   "metadata": {},
   "source": [
    "### A.3.1.3 <font color = blue>Decision Tree: Model 3 </font> "
   ]
  },
  {
   "cell_type": "code",
   "execution_count": 78,
   "metadata": {},
   "outputs": [
    {
     "name": "stdout",
     "output_type": "stream",
     "text": [
      "{'Age': 0.0, 'Income': 0.5556200209932612, 'Family': 0.14015932105487625, 'CCAvg': 0.08775647854360696, 'Mortgage': 0.0, 'SecuritiesAccount': 0.0, 'CDAccount': 0.01484883800676089, 'Online': 0.0, 'CreditCard': 0.0, 'Area_Rural': 0.0, 'Area_Urban': 0.0, 'Education_1': 0.2016153414014947, 'Education_2': 0.0, 'Education_3': 0.0}\n"
     ]
    }
   ],
   "source": [
    "Tree3 = DecisionTreeClassifier(criterion='entropy', max_depth= 4, min_samples_split=20,random_state=9,\n",
    "            splitter='best')\n",
    "Tree3 = Tree3.fit(Loan_train, Loan_target_train)\n",
    "imp3 = Tree3.feature_importances_ \n",
    "print(dict(zip(LoanFeatures.columns, imp3)))"
   ]
  },
  {
   "cell_type": "code",
   "execution_count": 79,
   "metadata": {},
   "outputs": [],
   "source": [
    "import graphviz\n",
    "from sklearn.tree import export_graphviz\n",
    "export_graphviz(Tree3,out_file='tree3.dot', feature_names= LoanFeatures.columns, class_names=[\"No\",\"Yes\"])"
   ]
  },
  {
   "cell_type": "code",
   "execution_count": 80,
   "metadata": {},
   "outputs": [
    {
     "data": {
      "image/svg+xml": [
       "<?xml version=\"1.0\" encoding=\"UTF-8\" standalone=\"no\"?>\n",
       "<!DOCTYPE svg PUBLIC \"-//W3C//DTD SVG 1.1//EN\"\n",
       " \"http://www.w3.org/Graphics/SVG/1.1/DTD/svg11.dtd\">\n",
       "<!-- Generated by graphviz version 2.40.1 (20161225.0304)\n",
       " -->\n",
       "<!-- Title: Tree Pages: 1 -->\n",
       "<svg width=\"987pt\" height=\"552pt\"\n",
       " viewBox=\"0.00 0.00 987.00 552.00\" xmlns=\"http://www.w3.org/2000/svg\" xmlns:xlink=\"http://www.w3.org/1999/xlink\">\n",
       "<g id=\"graph0\" class=\"graph\" transform=\"scale(1 1) rotate(0) translate(4 548)\">\n",
       "<title>Tree</title>\n",
       "<polygon fill=\"#ffffff\" stroke=\"transparent\" points=\"-4,4 -4,-548 983,-548 983,4 -4,4\"/>\n",
       "<!-- 0 -->\n",
       "<g id=\"node1\" class=\"node\">\n",
       "<title>0</title>\n",
       "<polygon fill=\"none\" stroke=\"#000000\" points=\"437,-544 310,-544 310,-461 437,-461 437,-544\"/>\n",
       "<text text-anchor=\"middle\" x=\"373.5\" y=\"-528.8\" font-family=\"Times,serif\" font-size=\"14.00\" fill=\"#000000\">Income &lt;= 0.419</text>\n",
       "<text text-anchor=\"middle\" x=\"373.5\" y=\"-513.8\" font-family=\"Times,serif\" font-size=\"14.00\" fill=\"#000000\">entropy = 0.442</text>\n",
       "<text text-anchor=\"middle\" x=\"373.5\" y=\"-498.8\" font-family=\"Times,serif\" font-size=\"14.00\" fill=\"#000000\">samples = 4000</text>\n",
       "<text text-anchor=\"middle\" x=\"373.5\" y=\"-483.8\" font-family=\"Times,serif\" font-size=\"14.00\" fill=\"#000000\">value = [3633, 367]</text>\n",
       "<text text-anchor=\"middle\" x=\"373.5\" y=\"-468.8\" font-family=\"Times,serif\" font-size=\"14.00\" fill=\"#000000\">class = No</text>\n",
       "</g>\n",
       "<!-- 1 -->\n",
       "<g id=\"node2\" class=\"node\">\n",
       "<title>1</title>\n",
       "<polygon fill=\"none\" stroke=\"#000000\" points=\"362.5,-425 242.5,-425 242.5,-342 362.5,-342 362.5,-425\"/>\n",
       "<text text-anchor=\"middle\" x=\"302.5\" y=\"-409.8\" font-family=\"Times,serif\" font-size=\"14.00\" fill=\"#000000\">CCAvg &lt;= 0.295</text>\n",
       "<text text-anchor=\"middle\" x=\"302.5\" y=\"-394.8\" font-family=\"Times,serif\" font-size=\"14.00\" fill=\"#000000\">entropy = 0.067</text>\n",
       "<text text-anchor=\"middle\" x=\"302.5\" y=\"-379.8\" font-family=\"Times,serif\" font-size=\"14.00\" fill=\"#000000\">samples = 3027</text>\n",
       "<text text-anchor=\"middle\" x=\"302.5\" y=\"-364.8\" font-family=\"Times,serif\" font-size=\"14.00\" fill=\"#000000\">value = [3003, 24]</text>\n",
       "<text text-anchor=\"middle\" x=\"302.5\" y=\"-349.8\" font-family=\"Times,serif\" font-size=\"14.00\" fill=\"#000000\">class = No</text>\n",
       "</g>\n",
       "<!-- 0&#45;&gt;1 -->\n",
       "<g id=\"edge1\" class=\"edge\">\n",
       "<title>0&#45;&gt;1</title>\n",
       "<path fill=\"none\" stroke=\"#000000\" d=\"M348.6676,-460.8796C343.5091,-452.2335 338.0192,-443.0322 332.6924,-434.1042\"/>\n",
       "<polygon fill=\"#000000\" stroke=\"#000000\" points=\"335.5678,-432.0924 327.4383,-425.2981 329.5564,-435.679 335.5678,-432.0924\"/>\n",
       "<text text-anchor=\"middle\" x=\"321.3149\" y=\"-445.8366\" font-family=\"Times,serif\" font-size=\"14.00\" fill=\"#000000\">True</text>\n",
       "</g>\n",
       "<!-- 8 -->\n",
       "<g id=\"node9\" class=\"node\">\n",
       "<title>8</title>\n",
       "<polygon fill=\"none\" stroke=\"#000000\" points=\"562.5,-425 434.5,-425 434.5,-342 562.5,-342 562.5,-425\"/>\n",
       "<text text-anchor=\"middle\" x=\"498.5\" y=\"-409.8\" font-family=\"Times,serif\" font-size=\"14.00\" fill=\"#000000\">Education_1 &lt;= 0.5</text>\n",
       "<text text-anchor=\"middle\" x=\"498.5\" y=\"-394.8\" font-family=\"Times,serif\" font-size=\"14.00\" fill=\"#000000\">entropy = 0.936</text>\n",
       "<text text-anchor=\"middle\" x=\"498.5\" y=\"-379.8\" font-family=\"Times,serif\" font-size=\"14.00\" fill=\"#000000\">samples = 973</text>\n",
       "<text text-anchor=\"middle\" x=\"498.5\" y=\"-364.8\" font-family=\"Times,serif\" font-size=\"14.00\" fill=\"#000000\">value = [630, 343]</text>\n",
       "<text text-anchor=\"middle\" x=\"498.5\" y=\"-349.8\" font-family=\"Times,serif\" font-size=\"14.00\" fill=\"#000000\">class = No</text>\n",
       "</g>\n",
       "<!-- 0&#45;&gt;8 -->\n",
       "<g id=\"edge8\" class=\"edge\">\n",
       "<title>0&#45;&gt;8</title>\n",
       "<path fill=\"none\" stroke=\"#000000\" d=\"M417.2189,-460.8796C426.8686,-451.6931 437.1766,-441.8798 447.0991,-432.4336\"/>\n",
       "<polygon fill=\"#000000\" stroke=\"#000000\" points=\"449.765,-434.7282 454.5945,-425.2981 444.9384,-429.6582 449.765,-434.7282\"/>\n",
       "<text text-anchor=\"middle\" x=\"453.9799\" y=\"-446.5905\" font-family=\"Times,serif\" font-size=\"14.00\" fill=\"#000000\">False</text>\n",
       "</g>\n",
       "<!-- 2 -->\n",
       "<g id=\"node3\" class=\"node\">\n",
       "<title>2</title>\n",
       "<polygon fill=\"none\" stroke=\"#000000\" points=\"222,-298.5 109,-298.5 109,-230.5 222,-230.5 222,-298.5\"/>\n",
       "<text text-anchor=\"middle\" x=\"165.5\" y=\"-283.3\" font-family=\"Times,serif\" font-size=\"14.00\" fill=\"#000000\">entropy = 0.0</text>\n",
       "<text text-anchor=\"middle\" x=\"165.5\" y=\"-268.3\" font-family=\"Times,serif\" font-size=\"14.00\" fill=\"#000000\">samples = 2860</text>\n",
       "<text text-anchor=\"middle\" x=\"165.5\" y=\"-253.3\" font-family=\"Times,serif\" font-size=\"14.00\" fill=\"#000000\">value = [2860, 0]</text>\n",
       "<text text-anchor=\"middle\" x=\"165.5\" y=\"-238.3\" font-family=\"Times,serif\" font-size=\"14.00\" fill=\"#000000\">class = No</text>\n",
       "</g>\n",
       "<!-- 1&#45;&gt;2 -->\n",
       "<g id=\"edge2\" class=\"edge\">\n",
       "<title>1&#45;&gt;2</title>\n",
       "<path fill=\"none\" stroke=\"#000000\" d=\"M254.584,-341.8796C241.0385,-330.1138 226.3092,-317.3197 212.8002,-305.5855\"/>\n",
       "<polygon fill=\"#000000\" stroke=\"#000000\" points=\"214.8503,-302.7303 205.0054,-298.8149 210.2599,-308.015 214.8503,-302.7303\"/>\n",
       "</g>\n",
       "<!-- 3 -->\n",
       "<g id=\"node4\" class=\"node\">\n",
       "<title>3</title>\n",
       "<polygon fill=\"none\" stroke=\"#000000\" points=\"364.5,-306 240.5,-306 240.5,-223 364.5,-223 364.5,-306\"/>\n",
       "<text text-anchor=\"middle\" x=\"302.5\" y=\"-290.8\" font-family=\"Times,serif\" font-size=\"14.00\" fill=\"#000000\">CDAccount &lt;= 0.5</text>\n",
       "<text text-anchor=\"middle\" x=\"302.5\" y=\"-275.8\" font-family=\"Times,serif\" font-size=\"14.00\" fill=\"#000000\">entropy = 0.594</text>\n",
       "<text text-anchor=\"middle\" x=\"302.5\" y=\"-260.8\" font-family=\"Times,serif\" font-size=\"14.00\" fill=\"#000000\">samples = 167</text>\n",
       "<text text-anchor=\"middle\" x=\"302.5\" y=\"-245.8\" font-family=\"Times,serif\" font-size=\"14.00\" fill=\"#000000\">value = [143, 24]</text>\n",
       "<text text-anchor=\"middle\" x=\"302.5\" y=\"-230.8\" font-family=\"Times,serif\" font-size=\"14.00\" fill=\"#000000\">class = No</text>\n",
       "</g>\n",
       "<!-- 1&#45;&gt;3 -->\n",
       "<g id=\"edge3\" class=\"edge\">\n",
       "<title>1&#45;&gt;3</title>\n",
       "<path fill=\"none\" stroke=\"#000000\" d=\"M302.5,-341.8796C302.5,-333.6838 302.5,-324.9891 302.5,-316.5013\"/>\n",
       "<polygon fill=\"#000000\" stroke=\"#000000\" points=\"306.0001,-316.298 302.5,-306.2981 299.0001,-316.2981 306.0001,-316.298\"/>\n",
       "</g>\n",
       "<!-- 4 -->\n",
       "<g id=\"node5\" class=\"node\">\n",
       "<title>4</title>\n",
       "<polygon fill=\"none\" stroke=\"#000000\" points=\"235,-187 122,-187 122,-104 235,-104 235,-187\"/>\n",
       "<text text-anchor=\"middle\" x=\"178.5\" y=\"-171.8\" font-family=\"Times,serif\" font-size=\"14.00\" fill=\"#000000\">CCAvg &lt;= 0.42</text>\n",
       "<text text-anchor=\"middle\" x=\"178.5\" y=\"-156.8\" font-family=\"Times,serif\" font-size=\"14.00\" fill=\"#000000\">entropy = 0.438</text>\n",
       "<text text-anchor=\"middle\" x=\"178.5\" y=\"-141.8\" font-family=\"Times,serif\" font-size=\"14.00\" fill=\"#000000\">samples = 155</text>\n",
       "<text text-anchor=\"middle\" x=\"178.5\" y=\"-126.8\" font-family=\"Times,serif\" font-size=\"14.00\" fill=\"#000000\">value = [141, 14]</text>\n",
       "<text text-anchor=\"middle\" x=\"178.5\" y=\"-111.8\" font-family=\"Times,serif\" font-size=\"14.00\" fill=\"#000000\">class = No</text>\n",
       "</g>\n",
       "<!-- 3&#45;&gt;4 -->\n",
       "<g id=\"edge4\" class=\"edge\">\n",
       "<title>3&#45;&gt;4</title>\n",
       "<path fill=\"none\" stroke=\"#000000\" d=\"M259.1308,-222.8796C249.5584,-213.6931 239.3328,-203.8798 229.4897,-194.4336\"/>\n",
       "<polygon fill=\"#000000\" stroke=\"#000000\" points=\"231.6928,-191.6969 222.0543,-187.2981 226.8459,-196.7475 231.6928,-191.6969\"/>\n",
       "</g>\n",
       "<!-- 7 -->\n",
       "<g id=\"node8\" class=\"node\">\n",
       "<title>7</title>\n",
       "<polygon fill=\"none\" stroke=\"#000000\" points=\"352,-179.5 253,-179.5 253,-111.5 352,-111.5 352,-179.5\"/>\n",
       "<text text-anchor=\"middle\" x=\"302.5\" y=\"-164.3\" font-family=\"Times,serif\" font-size=\"14.00\" fill=\"#000000\">entropy = 0.65</text>\n",
       "<text text-anchor=\"middle\" x=\"302.5\" y=\"-149.3\" font-family=\"Times,serif\" font-size=\"14.00\" fill=\"#000000\">samples = 12</text>\n",
       "<text text-anchor=\"middle\" x=\"302.5\" y=\"-134.3\" font-family=\"Times,serif\" font-size=\"14.00\" fill=\"#000000\">value = [2, 10]</text>\n",
       "<text text-anchor=\"middle\" x=\"302.5\" y=\"-119.3\" font-family=\"Times,serif\" font-size=\"14.00\" fill=\"#000000\">class = Yes</text>\n",
       "</g>\n",
       "<!-- 3&#45;&gt;7 -->\n",
       "<g id=\"edge7\" class=\"edge\">\n",
       "<title>3&#45;&gt;7</title>\n",
       "<path fill=\"none\" stroke=\"#000000\" d=\"M302.5,-222.8796C302.5,-212.2134 302.5,-200.7021 302.5,-189.9015\"/>\n",
       "<polygon fill=\"#000000\" stroke=\"#000000\" points=\"306.0001,-189.8149 302.5,-179.8149 299.0001,-189.815 306.0001,-189.8149\"/>\n",
       "</g>\n",
       "<!-- 5 -->\n",
       "<g id=\"node6\" class=\"node\">\n",
       "<title>5</title>\n",
       "<polygon fill=\"none\" stroke=\"#000000\" points=\"113,-68 0,-68 0,0 113,0 113,-68\"/>\n",
       "<text text-anchor=\"middle\" x=\"56.5\" y=\"-52.8\" font-family=\"Times,serif\" font-size=\"14.00\" fill=\"#000000\">entropy = 0.523</text>\n",
       "<text text-anchor=\"middle\" x=\"56.5\" y=\"-37.8\" font-family=\"Times,serif\" font-size=\"14.00\" fill=\"#000000\">samples = 119</text>\n",
       "<text text-anchor=\"middle\" x=\"56.5\" y=\"-22.8\" font-family=\"Times,serif\" font-size=\"14.00\" fill=\"#000000\">value = [105, 14]</text>\n",
       "<text text-anchor=\"middle\" x=\"56.5\" y=\"-7.8\" font-family=\"Times,serif\" font-size=\"14.00\" fill=\"#000000\">class = No</text>\n",
       "</g>\n",
       "<!-- 4&#45;&gt;5 -->\n",
       "<g id=\"edge5\" class=\"edge\">\n",
       "<title>4&#45;&gt;5</title>\n",
       "<path fill=\"none\" stroke=\"#000000\" d=\"M133.0717,-103.9815C122.7139,-94.5151 111.7141,-84.462 101.3794,-75.0168\"/>\n",
       "<polygon fill=\"#000000\" stroke=\"#000000\" points=\"103.7331,-72.4264 93.9903,-68.2637 99.0107,-77.5935 103.7331,-72.4264\"/>\n",
       "</g>\n",
       "<!-- 6 -->\n",
       "<g id=\"node7\" class=\"node\">\n",
       "<title>6</title>\n",
       "<polygon fill=\"none\" stroke=\"#000000\" points=\"230,-68 131,-68 131,0 230,0 230,-68\"/>\n",
       "<text text-anchor=\"middle\" x=\"180.5\" y=\"-52.8\" font-family=\"Times,serif\" font-size=\"14.00\" fill=\"#000000\">entropy = 0.0</text>\n",
       "<text text-anchor=\"middle\" x=\"180.5\" y=\"-37.8\" font-family=\"Times,serif\" font-size=\"14.00\" fill=\"#000000\">samples = 36</text>\n",
       "<text text-anchor=\"middle\" x=\"180.5\" y=\"-22.8\" font-family=\"Times,serif\" font-size=\"14.00\" fill=\"#000000\">value = [36, 0]</text>\n",
       "<text text-anchor=\"middle\" x=\"180.5\" y=\"-7.8\" font-family=\"Times,serif\" font-size=\"14.00\" fill=\"#000000\">class = No</text>\n",
       "</g>\n",
       "<!-- 4&#45;&gt;6 -->\n",
       "<g id=\"edge6\" class=\"edge\">\n",
       "<title>4&#45;&gt;6</title>\n",
       "<path fill=\"none\" stroke=\"#000000\" d=\"M179.2447,-103.9815C179.3947,-95.618 179.553,-86.7965 179.7046,-78.3409\"/>\n",
       "<polygon fill=\"#000000\" stroke=\"#000000\" points=\"183.2054,-78.3249 179.8854,-68.2637 176.2065,-78.1993 183.2054,-78.3249\"/>\n",
       "</g>\n",
       "<!-- 9 -->\n",
       "<g id=\"node10\" class=\"node\">\n",
       "<title>9</title>\n",
       "<polygon fill=\"none\" stroke=\"#000000\" points=\"555,-306 442,-306 442,-223 555,-223 555,-306\"/>\n",
       "<text text-anchor=\"middle\" x=\"498.5\" y=\"-290.8\" font-family=\"Times,serif\" font-size=\"14.00\" fill=\"#000000\">Income &lt;= 0.502</text>\n",
       "<text text-anchor=\"middle\" x=\"498.5\" y=\"-275.8\" font-family=\"Times,serif\" font-size=\"14.00\" fill=\"#000000\">entropy = 0.807</text>\n",
       "<text text-anchor=\"middle\" x=\"498.5\" y=\"-260.8\" font-family=\"Times,serif\" font-size=\"14.00\" fill=\"#000000\">samples = 372</text>\n",
       "<text text-anchor=\"middle\" x=\"498.5\" y=\"-245.8\" font-family=\"Times,serif\" font-size=\"14.00\" fill=\"#000000\">value = [92, 280]</text>\n",
       "<text text-anchor=\"middle\" x=\"498.5\" y=\"-230.8\" font-family=\"Times,serif\" font-size=\"14.00\" fill=\"#000000\">class = Yes</text>\n",
       "</g>\n",
       "<!-- 8&#45;&gt;9 -->\n",
       "<g id=\"edge9\" class=\"edge\">\n",
       "<title>8&#45;&gt;9</title>\n",
       "<path fill=\"none\" stroke=\"#000000\" d=\"M498.5,-341.8796C498.5,-333.6838 498.5,-324.9891 498.5,-316.5013\"/>\n",
       "<polygon fill=\"#000000\" stroke=\"#000000\" points=\"502.0001,-316.298 498.5,-306.2981 495.0001,-316.2981 502.0001,-316.298\"/>\n",
       "</g>\n",
       "<!-- 14 -->\n",
       "<g id=\"node15\" class=\"node\">\n",
       "<title>14</title>\n",
       "<polygon fill=\"none\" stroke=\"#000000\" points=\"740,-306 627,-306 627,-223 740,-223 740,-306\"/>\n",
       "<text text-anchor=\"middle\" x=\"683.5\" y=\"-290.8\" font-family=\"Times,serif\" font-size=\"14.00\" fill=\"#000000\">Family &lt;= 0.5</text>\n",
       "<text text-anchor=\"middle\" x=\"683.5\" y=\"-275.8\" font-family=\"Times,serif\" font-size=\"14.00\" fill=\"#000000\">entropy = 0.484</text>\n",
       "<text text-anchor=\"middle\" x=\"683.5\" y=\"-260.8\" font-family=\"Times,serif\" font-size=\"14.00\" fill=\"#000000\">samples = 601</text>\n",
       "<text text-anchor=\"middle\" x=\"683.5\" y=\"-245.8\" font-family=\"Times,serif\" font-size=\"14.00\" fill=\"#000000\">value = [538, 63]</text>\n",
       "<text text-anchor=\"middle\" x=\"683.5\" y=\"-230.8\" font-family=\"Times,serif\" font-size=\"14.00\" fill=\"#000000\">class = No</text>\n",
       "</g>\n",
       "<!-- 8&#45;&gt;14 -->\n",
       "<g id=\"edge14\" class=\"edge\">\n",
       "<title>8&#45;&gt;14</title>\n",
       "<path fill=\"none\" stroke=\"#000000\" d=\"M562.6848,-342.2135C580.6217,-330.6757 600.1307,-318.1267 618.135,-306.5456\"/>\n",
       "<polygon fill=\"#000000\" stroke=\"#000000\" points=\"620.3222,-309.3003 626.8391,-300.9468 616.5353,-303.4131 620.3222,-309.3003\"/>\n",
       "</g>\n",
       "<!-- 10 -->\n",
       "<g id=\"node11\" class=\"node\">\n",
       "<title>10</title>\n",
       "<polygon fill=\"none\" stroke=\"#000000\" points=\"484.5,-187 370.5,-187 370.5,-104 484.5,-104 484.5,-187\"/>\n",
       "<text text-anchor=\"middle\" x=\"427.5\" y=\"-171.8\" font-family=\"Times,serif\" font-size=\"14.00\" fill=\"#000000\">CCAvg &lt;= 0.273</text>\n",
       "<text text-anchor=\"middle\" x=\"427.5\" y=\"-156.8\" font-family=\"Times,serif\" font-size=\"14.00\" fill=\"#000000\">entropy = 0.891</text>\n",
       "<text text-anchor=\"middle\" x=\"427.5\" y=\"-141.8\" font-family=\"Times,serif\" font-size=\"14.00\" fill=\"#000000\">samples = 133</text>\n",
       "<text text-anchor=\"middle\" x=\"427.5\" y=\"-126.8\" font-family=\"Times,serif\" font-size=\"14.00\" fill=\"#000000\">value = [92, 41]</text>\n",
       "<text text-anchor=\"middle\" x=\"427.5\" y=\"-111.8\" font-family=\"Times,serif\" font-size=\"14.00\" fill=\"#000000\">class = No</text>\n",
       "</g>\n",
       "<!-- 9&#45;&gt;10 -->\n",
       "<g id=\"edge10\" class=\"edge\">\n",
       "<title>9&#45;&gt;10</title>\n",
       "<path fill=\"none\" stroke=\"#000000\" d=\"M473.6676,-222.8796C468.5091,-214.2335 463.0192,-205.0322 457.6924,-196.1042\"/>\n",
       "<polygon fill=\"#000000\" stroke=\"#000000\" points=\"460.5678,-194.0924 452.4383,-187.2981 454.5564,-197.679 460.5678,-194.0924\"/>\n",
       "</g>\n",
       "<!-- 13 -->\n",
       "<g id=\"node14\" class=\"node\">\n",
       "<title>13</title>\n",
       "<polygon fill=\"none\" stroke=\"#000000\" points=\"608.5,-179.5 502.5,-179.5 502.5,-111.5 608.5,-111.5 608.5,-179.5\"/>\n",
       "<text text-anchor=\"middle\" x=\"555.5\" y=\"-164.3\" font-family=\"Times,serif\" font-size=\"14.00\" fill=\"#000000\">entropy = 0.0</text>\n",
       "<text text-anchor=\"middle\" x=\"555.5\" y=\"-149.3\" font-family=\"Times,serif\" font-size=\"14.00\" fill=\"#000000\">samples = 239</text>\n",
       "<text text-anchor=\"middle\" x=\"555.5\" y=\"-134.3\" font-family=\"Times,serif\" font-size=\"14.00\" fill=\"#000000\">value = [0, 239]</text>\n",
       "<text text-anchor=\"middle\" x=\"555.5\" y=\"-119.3\" font-family=\"Times,serif\" font-size=\"14.00\" fill=\"#000000\">class = Yes</text>\n",
       "</g>\n",
       "<!-- 9&#45;&gt;13 -->\n",
       "<g id=\"edge13\" class=\"edge\">\n",
       "<title>9&#45;&gt;13</title>\n",
       "<path fill=\"none\" stroke=\"#000000\" d=\"M518.4358,-222.8796C523.7029,-211.8835 529.4001,-199.9893 534.711,-188.9015\"/>\n",
       "<polygon fill=\"#000000\" stroke=\"#000000\" points=\"537.9,-190.3457 539.0634,-179.8149 531.5869,-187.3217 537.9,-190.3457\"/>\n",
       "</g>\n",
       "<!-- 11 -->\n",
       "<g id=\"node12\" class=\"node\">\n",
       "<title>11</title>\n",
       "<polygon fill=\"none\" stroke=\"#000000\" points=\"368.5,-68 262.5,-68 262.5,0 368.5,0 368.5,-68\"/>\n",
       "<text text-anchor=\"middle\" x=\"315.5\" y=\"-52.8\" font-family=\"Times,serif\" font-size=\"14.00\" fill=\"#000000\">entropy = 0.54</text>\n",
       "<text text-anchor=\"middle\" x=\"315.5\" y=\"-37.8\" font-family=\"Times,serif\" font-size=\"14.00\" fill=\"#000000\">samples = 89</text>\n",
       "<text text-anchor=\"middle\" x=\"315.5\" y=\"-22.8\" font-family=\"Times,serif\" font-size=\"14.00\" fill=\"#000000\">value = [78, 11]</text>\n",
       "<text text-anchor=\"middle\" x=\"315.5\" y=\"-7.8\" font-family=\"Times,serif\" font-size=\"14.00\" fill=\"#000000\">class = No</text>\n",
       "</g>\n",
       "<!-- 10&#45;&gt;11 -->\n",
       "<g id=\"edge11\" class=\"edge\">\n",
       "<title>10&#45;&gt;11</title>\n",
       "<path fill=\"none\" stroke=\"#000000\" d=\"M385.7953,-103.9815C376.4711,-94.6989 366.5803,-84.8522 357.2541,-75.5677\"/>\n",
       "<polygon fill=\"#000000\" stroke=\"#000000\" points=\"359.4736,-72.8385 349.9173,-68.2637 354.5349,-77.7993 359.4736,-72.8385\"/>\n",
       "</g>\n",
       "<!-- 12 -->\n",
       "<g id=\"node13\" class=\"node\">\n",
       "<title>12</title>\n",
       "<polygon fill=\"none\" stroke=\"#000000\" points=\"492.5,-68 386.5,-68 386.5,0 492.5,0 492.5,-68\"/>\n",
       "<text text-anchor=\"middle\" x=\"439.5\" y=\"-52.8\" font-family=\"Times,serif\" font-size=\"14.00\" fill=\"#000000\">entropy = 0.902</text>\n",
       "<text text-anchor=\"middle\" x=\"439.5\" y=\"-37.8\" font-family=\"Times,serif\" font-size=\"14.00\" fill=\"#000000\">samples = 44</text>\n",
       "<text text-anchor=\"middle\" x=\"439.5\" y=\"-22.8\" font-family=\"Times,serif\" font-size=\"14.00\" fill=\"#000000\">value = [14, 30]</text>\n",
       "<text text-anchor=\"middle\" x=\"439.5\" y=\"-7.8\" font-family=\"Times,serif\" font-size=\"14.00\" fill=\"#000000\">class = Yes</text>\n",
       "</g>\n",
       "<!-- 10&#45;&gt;12 -->\n",
       "<g id=\"edge12\" class=\"edge\">\n",
       "<title>10&#45;&gt;12</title>\n",
       "<path fill=\"none\" stroke=\"#000000\" d=\"M431.9684,-103.9815C432.8685,-95.618 433.8179,-86.7965 434.7279,-78.3409\"/>\n",
       "<polygon fill=\"#000000\" stroke=\"#000000\" points=\"438.2222,-78.5808 435.8124,-68.2637 431.2624,-77.8317 438.2222,-78.5808\"/>\n",
       "</g>\n",
       "<!-- 15 -->\n",
       "<g id=\"node16\" class=\"node\">\n",
       "<title>15</title>\n",
       "<polygon fill=\"none\" stroke=\"#000000\" points=\"740,-187 627,-187 627,-104 740,-104 740,-187\"/>\n",
       "<text text-anchor=\"middle\" x=\"683.5\" y=\"-171.8\" font-family=\"Times,serif\" font-size=\"14.00\" fill=\"#000000\">Income &lt;= 0.433</text>\n",
       "<text text-anchor=\"middle\" x=\"683.5\" y=\"-156.8\" font-family=\"Times,serif\" font-size=\"14.00\" fill=\"#000000\">entropy = 0.036</text>\n",
       "<text text-anchor=\"middle\" x=\"683.5\" y=\"-141.8\" font-family=\"Times,serif\" font-size=\"14.00\" fill=\"#000000\">samples = 527</text>\n",
       "<text text-anchor=\"middle\" x=\"683.5\" y=\"-126.8\" font-family=\"Times,serif\" font-size=\"14.00\" fill=\"#000000\">value = [525, 2]</text>\n",
       "<text text-anchor=\"middle\" x=\"683.5\" y=\"-111.8\" font-family=\"Times,serif\" font-size=\"14.00\" fill=\"#000000\">class = No</text>\n",
       "</g>\n",
       "<!-- 14&#45;&gt;15 -->\n",
       "<g id=\"edge15\" class=\"edge\">\n",
       "<title>14&#45;&gt;15</title>\n",
       "<path fill=\"none\" stroke=\"#000000\" d=\"M683.5,-222.8796C683.5,-214.6838 683.5,-205.9891 683.5,-197.5013\"/>\n",
       "<polygon fill=\"#000000\" stroke=\"#000000\" points=\"687.0001,-197.298 683.5,-187.2981 680.0001,-197.2981 687.0001,-197.298\"/>\n",
       "</g>\n",
       "<!-- 18 -->\n",
       "<g id=\"node19\" class=\"node\">\n",
       "<title>18</title>\n",
       "<polygon fill=\"none\" stroke=\"#000000\" points=\"871,-187 758,-187 758,-104 871,-104 871,-187\"/>\n",
       "<text text-anchor=\"middle\" x=\"814.5\" y=\"-171.8\" font-family=\"Times,serif\" font-size=\"14.00\" fill=\"#000000\">Income &lt;= 0.488</text>\n",
       "<text text-anchor=\"middle\" x=\"814.5\" y=\"-156.8\" font-family=\"Times,serif\" font-size=\"14.00\" fill=\"#000000\">entropy = 0.671</text>\n",
       "<text text-anchor=\"middle\" x=\"814.5\" y=\"-141.8\" font-family=\"Times,serif\" font-size=\"14.00\" fill=\"#000000\">samples = 74</text>\n",
       "<text text-anchor=\"middle\" x=\"814.5\" y=\"-126.8\" font-family=\"Times,serif\" font-size=\"14.00\" fill=\"#000000\">value = [13, 61]</text>\n",
       "<text text-anchor=\"middle\" x=\"814.5\" y=\"-111.8\" font-family=\"Times,serif\" font-size=\"14.00\" fill=\"#000000\">class = Yes</text>\n",
       "</g>\n",
       "<!-- 14&#45;&gt;18 -->\n",
       "<g id=\"edge18\" class=\"edge\">\n",
       "<title>14&#45;&gt;18</title>\n",
       "<path fill=\"none\" stroke=\"#000000\" d=\"M729.3174,-222.8796C739.5294,-213.6031 750.445,-203.6874 760.9376,-194.1559\"/>\n",
       "<polygon fill=\"#000000\" stroke=\"#000000\" points=\"763.4384,-196.6127 768.487,-187.2981 758.7316,-191.4313 763.4384,-196.6127\"/>\n",
       "</g>\n",
       "<!-- 16 -->\n",
       "<g id=\"node17\" class=\"node\">\n",
       "<title>16</title>\n",
       "<polygon fill=\"none\" stroke=\"#000000\" points=\"617,-68 518,-68 518,0 617,0 617,-68\"/>\n",
       "<text text-anchor=\"middle\" x=\"567.5\" y=\"-52.8\" font-family=\"Times,serif\" font-size=\"14.00\" fill=\"#000000\">entropy = 0.65</text>\n",
       "<text text-anchor=\"middle\" x=\"567.5\" y=\"-37.8\" font-family=\"Times,serif\" font-size=\"14.00\" fill=\"#000000\">samples = 12</text>\n",
       "<text text-anchor=\"middle\" x=\"567.5\" y=\"-22.8\" font-family=\"Times,serif\" font-size=\"14.00\" fill=\"#000000\">value = [10, 2]</text>\n",
       "<text text-anchor=\"middle\" x=\"567.5\" y=\"-7.8\" font-family=\"Times,serif\" font-size=\"14.00\" fill=\"#000000\">class = No</text>\n",
       "</g>\n",
       "<!-- 15&#45;&gt;16 -->\n",
       "<g id=\"edge16\" class=\"edge\">\n",
       "<title>15&#45;&gt;16</title>\n",
       "<path fill=\"none\" stroke=\"#000000\" d=\"M640.3059,-103.9815C630.5531,-94.607 620.2017,-84.6572 610.4586,-75.2921\"/>\n",
       "<polygon fill=\"#000000\" stroke=\"#000000\" points=\"612.7815,-72.6702 603.1465,-68.2637 607.9306,-77.7169 612.7815,-72.6702\"/>\n",
       "</g>\n",
       "<!-- 17 -->\n",
       "<g id=\"node18\" class=\"node\">\n",
       "<title>17</title>\n",
       "<polygon fill=\"none\" stroke=\"#000000\" points=\"741.5,-68 635.5,-68 635.5,0 741.5,0 741.5,-68\"/>\n",
       "<text text-anchor=\"middle\" x=\"688.5\" y=\"-52.8\" font-family=\"Times,serif\" font-size=\"14.00\" fill=\"#000000\">entropy = 0.0</text>\n",
       "<text text-anchor=\"middle\" x=\"688.5\" y=\"-37.8\" font-family=\"Times,serif\" font-size=\"14.00\" fill=\"#000000\">samples = 515</text>\n",
       "<text text-anchor=\"middle\" x=\"688.5\" y=\"-22.8\" font-family=\"Times,serif\" font-size=\"14.00\" fill=\"#000000\">value = [515, 0]</text>\n",
       "<text text-anchor=\"middle\" x=\"688.5\" y=\"-7.8\" font-family=\"Times,serif\" font-size=\"14.00\" fill=\"#000000\">class = No</text>\n",
       "</g>\n",
       "<!-- 15&#45;&gt;17 -->\n",
       "<g id=\"edge17\" class=\"edge\">\n",
       "<title>15&#45;&gt;17</title>\n",
       "<path fill=\"none\" stroke=\"#000000\" d=\"M685.3618,-103.9815C685.7369,-95.618 686.1324,-86.7965 686.5116,-78.3409\"/>\n",
       "<polygon fill=\"#000000\" stroke=\"#000000\" points=\"690.0119,-78.4105 686.9635,-68.2637 683.019,-78.0968 690.0119,-78.4105\"/>\n",
       "</g>\n",
       "<!-- 19 -->\n",
       "<g id=\"node20\" class=\"node\">\n",
       "<title>19</title>\n",
       "<polygon fill=\"none\" stroke=\"#000000\" points=\"862,-68 763,-68 763,0 862,0 862,-68\"/>\n",
       "<text text-anchor=\"middle\" x=\"812.5\" y=\"-52.8\" font-family=\"Times,serif\" font-size=\"14.00\" fill=\"#000000\">entropy = 0.9</text>\n",
       "<text text-anchor=\"middle\" x=\"812.5\" y=\"-37.8\" font-family=\"Times,serif\" font-size=\"14.00\" fill=\"#000000\">samples = 19</text>\n",
       "<text text-anchor=\"middle\" x=\"812.5\" y=\"-22.8\" font-family=\"Times,serif\" font-size=\"14.00\" fill=\"#000000\">value = [13, 6]</text>\n",
       "<text text-anchor=\"middle\" x=\"812.5\" y=\"-7.8\" font-family=\"Times,serif\" font-size=\"14.00\" fill=\"#000000\">class = No</text>\n",
       "</g>\n",
       "<!-- 18&#45;&gt;19 -->\n",
       "<g id=\"edge19\" class=\"edge\">\n",
       "<title>18&#45;&gt;19</title>\n",
       "<path fill=\"none\" stroke=\"#000000\" d=\"M813.7553,-103.9815C813.6053,-95.618 813.447,-86.7965 813.2954,-78.3409\"/>\n",
       "<polygon fill=\"#000000\" stroke=\"#000000\" points=\"816.7935,-78.1993 813.1146,-68.2637 809.7946,-78.3249 816.7935,-78.1993\"/>\n",
       "</g>\n",
       "<!-- 20 -->\n",
       "<g id=\"node21\" class=\"node\">\n",
       "<title>20</title>\n",
       "<polygon fill=\"none\" stroke=\"#000000\" points=\"979,-68 880,-68 880,0 979,0 979,-68\"/>\n",
       "<text text-anchor=\"middle\" x=\"929.5\" y=\"-52.8\" font-family=\"Times,serif\" font-size=\"14.00\" fill=\"#000000\">entropy = 0.0</text>\n",
       "<text text-anchor=\"middle\" x=\"929.5\" y=\"-37.8\" font-family=\"Times,serif\" font-size=\"14.00\" fill=\"#000000\">samples = 55</text>\n",
       "<text text-anchor=\"middle\" x=\"929.5\" y=\"-22.8\" font-family=\"Times,serif\" font-size=\"14.00\" fill=\"#000000\">value = [0, 55]</text>\n",
       "<text text-anchor=\"middle\" x=\"929.5\" y=\"-7.8\" font-family=\"Times,serif\" font-size=\"14.00\" fill=\"#000000\">class = Yes</text>\n",
       "</g>\n",
       "<!-- 18&#45;&gt;20 -->\n",
       "<g id=\"edge20\" class=\"edge\">\n",
       "<title>18&#45;&gt;20</title>\n",
       "<path fill=\"none\" stroke=\"#000000\" d=\"M857.3218,-103.9815C866.9905,-94.607 877.2527,-84.6572 886.9118,-75.2921\"/>\n",
       "<polygon fill=\"#000000\" stroke=\"#000000\" points=\"889.4176,-77.7375 894.1608,-68.2637 884.5449,-72.7118 889.4176,-77.7375\"/>\n",
       "</g>\n",
       "</g>\n",
       "</svg>\n"
      ],
      "text/plain": [
       "<graphviz.files.Source at 0x1a23843b38>"
      ]
     },
     "execution_count": 80,
     "metadata": {},
     "output_type": "execute_result"
    }
   ],
   "source": [
    "with open(\"tree3.dot\") as f:\n",
    "    dot_graph = f.read()\n",
    "graphviz.Source(dot_graph)"
   ]
  },
  {
   "cell_type": "code",
   "execution_count": 81,
   "metadata": {},
   "outputs": [
    {
     "name": "stdout",
     "output_type": "stream",
     "text": [
      "                   pre       rec       spe        f1       geo       iba       sup\n",
      "\n",
      "          0       0.98      1.00      0.85      0.99      0.92      0.86       887\n",
      "          1       0.97      0.85      1.00      0.91      0.92      0.83       113\n",
      "\n",
      "avg / total       0.98      0.98      0.87      0.98      0.92      0.86      1000\n",
      "\n",
      "Overall Accuracy Rate on Test Set : 0.9231\n",
      "confusion_matrix \n",
      "\n",
      "[[884   3]\n",
      " [ 17  96]]\n"
     ]
    }
   ],
   "source": [
    "Pred_test3 = Tree3.predict(Loan_test)\n",
    "Tree3_score_test = balanced_accuracy_score(Loan_target_test, Pred_test3)\n",
    "print(classification_report_imbalanced(Loan_target_test, Pred_test3))\n",
    "print (\"Overall Accuracy Rate on Test Set : %0.4f\" %(Tree3_score_test))\n",
    "Tree3_confusion_matrix = confusion_matrix(y_true = Loan_target_test, y_pred = Pred_test3)\n",
    "print(\"confusion_matrix \\n\")\n",
    "print(Tree3_confusion_matrix)"
   ]
  },
  {
   "cell_type": "code",
   "execution_count": 82,
   "metadata": {},
   "outputs": [
    {
     "data": {
      "image/png": "[encoded data removed]",
      "text/plain": [
       "<Figure size 288x288 with 2 Axes>"
      ]
     },
     "metadata": {
      "needs_background": "light"
     },
     "output_type": "display_data"
    }
   ],
   "source": [
    "#Create graph\n",
    "plt.matshow(Tree3_confusion_matrix)\n",
    "plt.title('Decision Tree Model 3 Confusion matrix \\n')\n",
    "plt.colorbar()\n",
    "plt.ylabel('Actual')\n",
    "plt.xlabel('Predicted')\n",
    "plt.xticks([0,1], ['No', 'Yes'])\n",
    "plt.yticks([0,1], ['No', 'Yes'])\n",
    "plt.show()"
   ]
  },
  {
   "cell_type": "markdown",
   "metadata": {},
   "source": [
    "## A.3.2 <font color = blue>Naive Bayes classifier (Gaussian)</font> "
   ]
  },
  {
   "cell_type": "code",
   "execution_count": 83,
   "metadata": {},
   "outputs": [
    {
     "name": "stdout",
     "output_type": "stream",
     "text": [
      "                   pre       rec       spe        f1       geo       iba       sup\n",
      "\n",
      "          0       0.95      0.91      0.60      0.93      0.74      0.56       887\n",
      "          1       0.45      0.60      0.91      0.52      0.74      0.53       113\n",
      "\n",
      "avg / total       0.89      0.87      0.64      0.88      0.74      0.56      1000\n",
      "\n",
      "Overall Accuracy Rate on Test Set : 0.7547\n",
      "confusion_matrix (Naive Bayes) \n",
      "\n",
      "[[805  82]\n",
      " [ 45  68]]\n"
     ]
    }
   ],
   "source": [
    "from sklearn import naive_bayes\n",
    "Loan_NB = naive_bayes.GaussianNB()\n",
    "Loan_NB.fit(Loan_train, Loan_target_train)\n",
    "Pred_NB = Loan_NB.predict(Loan_test)\n",
    "NB_score_test = balanced_accuracy_score(Loan_target_test, Pred_NB)\n",
    "print(classification_report_imbalanced(Loan_target_test, Pred_NB))\n",
    "print (\"Overall Accuracy Rate on Test Set : %0.4f\" %(NB_score_test))\n",
    "NB_confusion_matrix = confusion_matrix(y_true = Loan_target_test, y_pred = Pred_NB)\n",
    "print(\"confusion_matrix (Naive Bayes) \\n\")\n",
    "print(NB_confusion_matrix)"
   ]
  },
  {
   "cell_type": "code",
   "execution_count": 84,
   "metadata": {},
   "outputs": [
    {
     "data": {
      "image/png": "[encoded data removed]",
      "text/plain": [
       "<Figure size 288x288 with 2 Axes>"
      ]
     },
     "metadata": {
      "needs_background": "light"
     },
     "output_type": "display_data"
    }
   ],
   "source": [
    "#Create graph\n",
    "plt.matshow(NB_confusion_matrix)\n",
    "plt.title('Naive Bayes Confusion matrix \\n')\n",
    "plt.colorbar()\n",
    "plt.ylabel('Actual')\n",
    "plt.xlabel('Predicted')\n",
    "plt.xticks([0,1], ['No', 'Yes'])\n",
    "plt.yticks([0,1], ['No', 'Yes'])\n",
    "plt.show()"
   ]
  },
  {
   "cell_type": "markdown",
   "metadata": {},
   "source": [
    "## A.3.3 <font color = blue>Linear Discriminant Analysis</font> "
   ]
  },
  {
   "cell_type": "code",
   "execution_count": 85,
   "metadata": {},
   "outputs": [
    {
     "name": "stdout",
     "output_type": "stream",
     "text": [
      "                   pre       rec       spe        f1       geo       iba       sup\n",
      "\n",
      "          0       0.95      0.98      0.64      0.97      0.79      0.64       887\n",
      "          1       0.79      0.64      0.98      0.71      0.79      0.60       113\n",
      "\n",
      "avg / total       0.94      0.94      0.68      0.94      0.79      0.64      1000\n",
      "\n",
      "Overall Accuracy Rate on Test Set : 0.8079\n",
      "confusion_matrix (LDA) \n",
      "\n",
      "[[868  19]\n",
      " [ 41  72]]\n"
     ]
    }
   ],
   "source": [
    "from sklearn.discriminant_analysis import LinearDiscriminantAnalysis\n",
    "import warnings\n",
    "warnings.filterwarnings('ignore')\n",
    "Loan_LDA = LinearDiscriminantAnalysis()\n",
    "Loan_LDA.fit(Loan_train, Loan_target_train)\n",
    "Pred_LDA = Loan_LDA.predict(Loan_test)\n",
    "LDA_score_test = balanced_accuracy_score(Loan_target_test, Pred_LDA)\n",
    "print(classification_report_imbalanced(Loan_target_test, Pred_LDA))\n",
    "print (\"Overall Accuracy Rate on Test Set : %0.4f\" %(LDA_score_test))\n",
    "LDA_confusion_matrix = confusion_matrix(y_true = Loan_target_test, y_pred = Pred_LDA)\n",
    "print(\"confusion_matrix (LDA) \\n\")\n",
    "print(LDA_confusion_matrix)"
   ]
  },
  {
   "cell_type": "code",
   "execution_count": 86,
   "metadata": {},
   "outputs": [
    {
     "data": {
      "image/png": "[encoded data removed]",
      "text/plain": [
       "<Figure size 288x288 with 2 Axes>"
      ]
     },
     "metadata": {
      "needs_background": "light"
     },
     "output_type": "display_data"
    }
   ],
   "source": [
    "#Create graph\n",
    "plt.matshow(LDA_confusion_matrix)\n",
    "plt.title('LDA Confusion matrix \\n')\n",
    "plt.colorbar()\n",
    "plt.ylabel('Actual')\n",
    "plt.xlabel('Predicted')\n",
    "plt.xticks([0,1], ['No', 'Yes'])\n",
    "plt.yticks([0,1], ['No', 'Yes'])\n",
    "plt.show()"
   ]
  },
  {
   "cell_type": "markdown",
   "metadata": {},
   "source": [
    "##  A.3.4 <font color = blue> K-Nearest-Neighbor (KNN)</font>  "
   ]
  },
  {
   "cell_type": "markdown",
   "metadata": {},
   "source": [
    "#### Find the best \"k\" by measuring the balanced accuracy rates"
   ]
  },
  {
   "cell_type": "code",
   "execution_count": 87,
   "metadata": {},
   "outputs": [],
   "source": [
    "from sklearn.neighbors import KNeighborsClassifier\n",
    "def KNN_Accuracy(x_train, x_test, y_train, y_test, k,metric='euclidean'):\n",
    "    KNN_model = KNeighborsClassifier(n_neighbors=k,  metric= metric)\n",
    "    KNN_model.fit(x_train, y_train)\n",
    "    Pred_KNN =  KNN_model.predict(x_test)\n",
    "    KNN_score_test = balanced_accuracy_score(y_test, Pred_KNN)\n",
    "    return KNN_score_test"
   ]
  },
  {
   "cell_type": "code",
   "execution_count": 88,
   "metadata": {},
   "outputs": [],
   "source": [
    "TotalRate = np.zeros((20,3), dtype=float)\n",
    "for i in range (0,20):\n",
    "    k = i+1    \n",
    "    AccuracyRate_Euc = KNN_Accuracy(Loan_train,Loan_test, Loan_target_train,Loan_target_test,k,metric='euclidean')\n",
    "    AccuracyRate_Man = KNN_Accuracy(Loan_train,Loan_test,Loan_target_train,Loan_target_test,k,metric='manhattan')\n",
    "    TotalRate[i] = [k, AccuracyRate_Euc, AccuracyRate_Man]"
   ]
  },
  {
   "cell_type": "markdown",
   "metadata": {},
   "source": [
    "#### Summary of Accuracy Rates, where k = (1 to 20)"
   ]
  },
  {
   "cell_type": "code",
   "execution_count": 92,
   "metadata": {},
   "outputs": [
    {
     "data": {
      "text/plain": [
       "<matplotlib.axes._subplots.AxesSubplot at 0x11f2c04e0>"
      ]
     },
     "execution_count": 92,
     "metadata": {},
     "output_type": "execute_result"
    },
    {
     "data": {
      "image/png": "[encoded data removed]",
      "text/plain": [
       "<Figure size 432x288 with 1 Axes>"
      ]
     },
     "metadata": {
      "needs_background": "light"
     },
     "output_type": "display_data"
    }
   ],
   "source": [
    "Table = pd.DataFrame(TotalRate)\n",
    "Table.columns = [\"K\", \"Euclidean\", \"Manhattan\"]\n",
    "Table[Table.columns].plot(x=\"K\", kind=\"line\")"
   ]
  },
  {
   "cell_type": "code",
   "execution_count": 93,
   "metadata": {},
   "outputs": [
    {
     "data": {
      "text/html": [
       "<div>\n",
       "<style scoped>\n",
       "    .dataframe tbody tr th:only-of-type {\n",
       "        vertical-align: middle;\n",
       "    }\n",
       "\n",
       "    .dataframe tbody tr th {\n",
       "        vertical-align: top;\n",
       "    }\n",
       "\n",
       "    .dataframe thead th {\n",
       "        text-align: right;\n",
       "    }\n",
       "</style>\n",
       "<table border=\"1\" class=\"dataframe\">\n",
       "  <thead>\n",
       "    <tr style=\"text-align: right;\">\n",
       "      <th></th>\n",
       "      <th>K</th>\n",
       "      <th>Euclidean</th>\n",
       "      <th>Manhattan</th>\n",
       "    </tr>\n",
       "  </thead>\n",
       "  <tbody>\n",
       "    <tr>\n",
       "      <th>0</th>\n",
       "      <td>1.0</td>\n",
       "      <td>0.830083</td>\n",
       "      <td>0.817372</td>\n",
       "    </tr>\n",
       "    <tr>\n",
       "      <th>1</th>\n",
       "      <td>2.0</td>\n",
       "      <td>0.765487</td>\n",
       "      <td>0.743363</td>\n",
       "    </tr>\n",
       "    <tr>\n",
       "      <th>2</th>\n",
       "      <td>3.0</td>\n",
       "      <td>0.811905</td>\n",
       "      <td>0.808607</td>\n",
       "    </tr>\n",
       "    <tr>\n",
       "      <th>3</th>\n",
       "      <td>4.0</td>\n",
       "      <td>0.751649</td>\n",
       "      <td>0.725100</td>\n",
       "    </tr>\n",
       "    <tr>\n",
       "      <th>4</th>\n",
       "      <td>5.0</td>\n",
       "      <td>0.763232</td>\n",
       "      <td>0.764359</td>\n",
       "    </tr>\n",
       "    <tr>\n",
       "      <th>5</th>\n",
       "      <td>6.0</td>\n",
       "      <td>0.742235</td>\n",
       "      <td>0.733950</td>\n",
       "    </tr>\n",
       "    <tr>\n",
       "      <th>6</th>\n",
       "      <td>7.0</td>\n",
       "      <td>0.763796</td>\n",
       "      <td>0.756073</td>\n",
       "    </tr>\n",
       "    <tr>\n",
       "      <th>7</th>\n",
       "      <td>8.0</td>\n",
       "      <td>0.734513</td>\n",
       "      <td>0.725100</td>\n",
       "    </tr>\n",
       "    <tr>\n",
       "      <th>8</th>\n",
       "      <td>9.0</td>\n",
       "      <td>0.746660</td>\n",
       "      <td>0.742799</td>\n",
       "    </tr>\n",
       "    <tr>\n",
       "      <th>9</th>\n",
       "      <td>10.0</td>\n",
       "      <td>0.737811</td>\n",
       "      <td>0.716814</td>\n",
       "    </tr>\n",
       "    <tr>\n",
       "      <th>10</th>\n",
       "      <td>11.0</td>\n",
       "      <td>0.751085</td>\n",
       "      <td>0.729525</td>\n",
       "    </tr>\n",
       "    <tr>\n",
       "      <th>11</th>\n",
       "      <td>12.0</td>\n",
       "      <td>0.715687</td>\n",
       "      <td>0.698551</td>\n",
       "    </tr>\n",
       "    <tr>\n",
       "      <th>12</th>\n",
       "      <td>13.0</td>\n",
       "      <td>0.728397</td>\n",
       "      <td>0.720675</td>\n",
       "    </tr>\n",
       "    <tr>\n",
       "      <th>13</th>\n",
       "      <td>14.0</td>\n",
       "      <td>0.692999</td>\n",
       "      <td>0.698551</td>\n",
       "    </tr>\n",
       "    <tr>\n",
       "      <th>14</th>\n",
       "      <td>15.0</td>\n",
       "      <td>0.696860</td>\n",
       "      <td>0.697988</td>\n",
       "    </tr>\n",
       "    <tr>\n",
       "      <th>15</th>\n",
       "      <td>16.0</td>\n",
       "      <td>0.688574</td>\n",
       "      <td>0.667014</td>\n",
       "    </tr>\n",
       "    <tr>\n",
       "      <th>16</th>\n",
       "      <td>17.0</td>\n",
       "      <td>0.697424</td>\n",
       "      <td>0.680289</td>\n",
       "    </tr>\n",
       "    <tr>\n",
       "      <th>17</th>\n",
       "      <td>18.0</td>\n",
       "      <td>0.684150</td>\n",
       "      <td>0.658165</td>\n",
       "    </tr>\n",
       "    <tr>\n",
       "      <th>18</th>\n",
       "      <td>19.0</td>\n",
       "      <td>0.683586</td>\n",
       "      <td>0.675300</td>\n",
       "    </tr>\n",
       "    <tr>\n",
       "      <th>19</th>\n",
       "      <td>20.0</td>\n",
       "      <td>0.670875</td>\n",
       "      <td>0.658165</td>\n",
       "    </tr>\n",
       "  </tbody>\n",
       "</table>\n",
       "</div>"
      ],
      "text/plain": [
       "       K  Euclidean  Manhattan\n",
       "0    1.0   0.830083   0.817372\n",
       "1    2.0   0.765487   0.743363\n",
       "2    3.0   0.811905   0.808607\n",
       "3    4.0   0.751649   0.725100\n",
       "4    5.0   0.763232   0.764359\n",
       "5    6.0   0.742235   0.733950\n",
       "6    7.0   0.763796   0.756073\n",
       "7    8.0   0.734513   0.725100\n",
       "8    9.0   0.746660   0.742799\n",
       "9   10.0   0.737811   0.716814\n",
       "10  11.0   0.751085   0.729525\n",
       "11  12.0   0.715687   0.698551\n",
       "12  13.0   0.728397   0.720675\n",
       "13  14.0   0.692999   0.698551\n",
       "14  15.0   0.696860   0.697988\n",
       "15  16.0   0.688574   0.667014\n",
       "16  17.0   0.697424   0.680289\n",
       "17  18.0   0.684150   0.658165\n",
       "18  19.0   0.683586   0.675300\n",
       "19  20.0   0.670875   0.658165"
      ]
     },
     "execution_count": 93,
     "metadata": {},
     "output_type": "execute_result"
    }
   ],
   "source": [
    "Table"
   ]
  },
  {
   "cell_type": "markdown",
   "metadata": {},
   "source": [
    "- The accuracy rate decreases as k increases.\n",
    "- The best KNN model is the model with k = 3 and metric = Euclidean. The accuracy rate is 0.811905.\n",
    "- So, we will use this model for confusion matrix"
   ]
  },
  {
   "cell_type": "markdown",
   "metadata": {},
   "source": [
    "### A.3.4.1 <font color = blue>KNN: Model 1 ( k = 3, metric = Euclidean )</font> "
   ]
  },
  {
   "cell_type": "code",
   "execution_count": 94,
   "metadata": {},
   "outputs": [
    {
     "name": "stdout",
     "output_type": "stream",
     "text": [
      "                   pre       rec       spe        f1       geo       iba       sup\n",
      "\n",
      "          0       0.95      1.00      0.63      0.97      0.79      0.65       887\n",
      "          1       0.95      0.63      1.00      0.76      0.79      0.60       113\n",
      "\n",
      "avg / total       0.95      0.95      0.67      0.95      0.79      0.64      1000\n",
      "\n",
      "Overall Accuracy Rate on Test Set : 0.8119\n",
      "confusion_matrix (KNN) \n",
      "\n",
      "[[883   4]\n",
      " [ 42  71]]\n"
     ]
    }
   ],
   "source": [
    "Loan_KNN = KNeighborsClassifier(n_neighbors=3,  metric= 'euclidean')\n",
    "Loan_KNN.fit(Loan_train, Loan_target_train)\n",
    "Pred_KNN = Loan_KNN.predict(Loan_test)\n",
    "KNN_score_test = balanced_accuracy_score(Loan_target_test, Pred_KNN)\n",
    "print(classification_report_imbalanced(Loan_target_test, Pred_KNN))\n",
    "print (\"Overall Accuracy Rate on Test Set : %0.4f\" %(KNN_score_test))\n",
    "KNN_confusion_matrix = confusion_matrix(y_true = Loan_target_test, y_pred = Pred_KNN)\n",
    "print(\"confusion_matrix (KNN) \\n\")\n",
    "print(KNN_confusion_matrix)"
   ]
  },
  {
   "cell_type": "code",
   "execution_count": 95,
   "metadata": {},
   "outputs": [
    {
     "data": {
      "image/png": "[encoded data removed]",
      "text/plain": [
       "<Figure size 288x288 with 2 Axes>"
      ]
     },
     "metadata": {
      "needs_background": "light"
     },
     "output_type": "display_data"
    }
   ],
   "source": [
    "#Create graph\n",
    "plt.matshow(KNN_confusion_matrix)\n",
    "plt.title('KNN Confusion matrix \\n')\n",
    "plt.colorbar()\n",
    "plt.ylabel('Actual')\n",
    "plt.xlabel('Predicted')\n",
    "plt.xticks([0,1], ['No', 'Yes'])\n",
    "plt.yticks([0,1], ['No', 'Yes'])\n",
    "plt.show()"
   ]
  },
  {
   "cell_type": "markdown",
   "metadata": {},
   "source": [
    "### A.3.4.2 <font color = blue>Principal Component Analysis </font> "
   ]
  },
  {
   "cell_type": "code",
   "execution_count": 96,
   "metadata": {},
   "outputs": [
    {
     "name": "stdout",
     "output_type": "stream",
     "text": [
      "[0.23197453 0.18286701 0.15042189 0.13076166 0.08856483]\n",
      "The percent of variance in the data  0.78458992\n"
     ]
    }
   ],
   "source": [
    "from sklearn import decomposition\n",
    "#First try n = 5 (capture only 78%%)\n",
    "pca = decomposition.PCA(n_components=5)\n",
    "Loantrans = pca.fit(Loan_train).transform(Loan_train)\n",
    "print(pca.explained_variance_ratio_)\n",
    "print ('The percent of variance in the data  %.8f' %pca.explained_variance_ratio_.sum(0))"
   ]
  },
  {
   "cell_type": "code",
   "execution_count": 97,
   "metadata": {},
   "outputs": [
    {
     "name": "stdout",
     "output_type": "stream",
     "text": [
      "[0.23197453 0.18286701 0.15042189 0.13076166 0.08856483 0.06458241\n",
      " 0.04293542 0.03735898 0.02611217]\n",
      "The percent of variance in the data  0.95557891\n"
     ]
    }
   ],
   "source": [
    "#Second try n = 9 (capture only 95.5%)\n",
    "pca = decomposition.PCA(n_components=9)\n",
    "Loantrans = pca.fit(Loan_train).transform(Loan_train)\n",
    "print(pca.explained_variance_ratio_)\n",
    "print ('The percent of variance in the data  %.8f' %pca.explained_variance_ratio_.sum(0))"
   ]
  },
  {
   "cell_type": "markdown",
   "metadata": {},
   "source": [
    "#### Transform the data into a reduced dimension space (n = 9), which captures 95.5% of variance in the data"
   ]
  },
  {
   "cell_type": "code",
   "execution_count": 98,
   "metadata": {},
   "outputs": [],
   "source": [
    "pca = decomposition.PCA(n_components=9)\n",
    "Loantrans = pca.fit(Loan_train).transform(Loan_train)\n",
    "Loantrans_Test = pca.fit(Loan_test).transform(Loan_test)"
   ]
  },
  {
   "cell_type": "markdown",
   "metadata": {},
   "source": [
    "#### Find the best \"k\" for a reduced dimension space by measuring the balanced accuracy rates"
   ]
  },
  {
   "cell_type": "code",
   "execution_count": 99,
   "metadata": {},
   "outputs": [],
   "source": [
    "TotalRate2 = np.zeros((20,3), dtype=float)\n",
    "for i in range (0,20):\n",
    "    k = i+1    \n",
    "    AccuracyRate_Euc2 = KNN_Accuracy(Loantrans,Loantrans_Test, Loan_target_train,Loan_target_test,k,metric='euclidean')\n",
    "    AccuracyRate_Man2 = KNN_Accuracy(Loantrans,Loantrans_Test,Loan_target_train,Loan_target_test,k,metric='manhattan')\n",
    "    TotalRate2[i] = [k, AccuracyRate_Euc2, AccuracyRate_Man2]"
   ]
  },
  {
   "cell_type": "markdown",
   "metadata": {},
   "source": [
    "#### Summary of Accuracy Rates, where k = (1 to 20) for a reduced dimension space"
   ]
  },
  {
   "cell_type": "code",
   "execution_count": 100,
   "metadata": {},
   "outputs": [
    {
     "data": {
      "text/plain": [
       "<matplotlib.axes._subplots.AxesSubplot at 0x12100e390>"
      ]
     },
     "execution_count": 100,
     "metadata": {},
     "output_type": "execute_result"
    },
    {
     "data": {
      "image/png": "[encoded data removed]",
      "text/plain": [
       "<Figure size 432x288 with 1 Axes>"
      ]
     },
     "metadata": {
      "needs_background": "light"
     },
     "output_type": "display_data"
    }
   ],
   "source": [
    "Table2 = pd.DataFrame(TotalRate2)\n",
    "Table2.columns = [\"K\", \"Euclidean\", \"Manhattan\"]\n",
    "Table2[Table2.columns].plot(x=\"K\", kind=\"line\")"
   ]
  },
  {
   "cell_type": "code",
   "execution_count": 101,
   "metadata": {},
   "outputs": [
    {
     "data": {
      "text/html": [
       "<div>\n",
       "<style scoped>\n",
       "    .dataframe tbody tr th:only-of-type {\n",
       "        vertical-align: middle;\n",
       "    }\n",
       "\n",
       "    .dataframe tbody tr th {\n",
       "        vertical-align: top;\n",
       "    }\n",
       "\n",
       "    .dataframe thead th {\n",
       "        text-align: right;\n",
       "    }\n",
       "</style>\n",
       "<table border=\"1\" class=\"dataframe\">\n",
       "  <thead>\n",
       "    <tr style=\"text-align: right;\">\n",
       "      <th></th>\n",
       "      <th>K</th>\n",
       "      <th>Euclidean</th>\n",
       "      <th>Manhattan</th>\n",
       "    </tr>\n",
       "  </thead>\n",
       "  <tbody>\n",
       "    <tr>\n",
       "      <th>0</th>\n",
       "      <td>1.0</td>\n",
       "      <td>0.723464</td>\n",
       "      <td>0.743897</td>\n",
       "    </tr>\n",
       "    <tr>\n",
       "      <th>1</th>\n",
       "      <td>2.0</td>\n",
       "      <td>0.688884</td>\n",
       "      <td>0.705455</td>\n",
       "    </tr>\n",
       "    <tr>\n",
       "      <th>2</th>\n",
       "      <td>3.0</td>\n",
       "      <td>0.719772</td>\n",
       "      <td>0.728058</td>\n",
       "    </tr>\n",
       "    <tr>\n",
       "      <th>3</th>\n",
       "      <td>4.0</td>\n",
       "      <td>0.681162</td>\n",
       "      <td>0.716560</td>\n",
       "    </tr>\n",
       "    <tr>\n",
       "      <th>4</th>\n",
       "      <td>5.0</td>\n",
       "      <td>0.702158</td>\n",
       "      <td>0.745842</td>\n",
       "    </tr>\n",
       "    <tr>\n",
       "      <th>5</th>\n",
       "      <td>6.0</td>\n",
       "      <td>0.660729</td>\n",
       "      <td>0.701679</td>\n",
       "    </tr>\n",
       "    <tr>\n",
       "      <th>6</th>\n",
       "      <td>7.0</td>\n",
       "      <td>0.673439</td>\n",
       "      <td>0.713262</td>\n",
       "    </tr>\n",
       "    <tr>\n",
       "      <th>7</th>\n",
       "      <td>8.0</td>\n",
       "      <td>0.665153</td>\n",
       "      <td>0.698382</td>\n",
       "    </tr>\n",
       "    <tr>\n",
       "      <th>8</th>\n",
       "      <td>9.0</td>\n",
       "      <td>0.673439</td>\n",
       "      <td>0.719378</td>\n",
       "    </tr>\n",
       "    <tr>\n",
       "      <th>9</th>\n",
       "      <td>10.0</td>\n",
       "      <td>0.644157</td>\n",
       "      <td>0.693957</td>\n",
       "    </tr>\n",
       "    <tr>\n",
       "      <th>10</th>\n",
       "      <td>11.0</td>\n",
       "      <td>0.674567</td>\n",
       "      <td>0.702243</td>\n",
       "    </tr>\n",
       "    <tr>\n",
       "      <th>11</th>\n",
       "      <td>12.0</td>\n",
       "      <td>0.642551</td>\n",
       "      <td>0.691223</td>\n",
       "    </tr>\n",
       "    <tr>\n",
       "      <th>12</th>\n",
       "      <td>13.0</td>\n",
       "      <td>0.645284</td>\n",
       "      <td>0.700073</td>\n",
       "    </tr>\n",
       "    <tr>\n",
       "      <th>13</th>\n",
       "      <td>14.0</td>\n",
       "      <td>0.624852</td>\n",
       "      <td>0.679640</td>\n",
       "    </tr>\n",
       "    <tr>\n",
       "      <th>14</th>\n",
       "      <td>15.0</td>\n",
       "      <td>0.642551</td>\n",
       "      <td>0.691787</td>\n",
       "    </tr>\n",
       "    <tr>\n",
       "      <th>15</th>\n",
       "      <td>16.0</td>\n",
       "      <td>0.633701</td>\n",
       "      <td>0.649794</td>\n",
       "    </tr>\n",
       "    <tr>\n",
       "      <th>16</th>\n",
       "      <td>17.0</td>\n",
       "      <td>0.642551</td>\n",
       "      <td>0.671918</td>\n",
       "    </tr>\n",
       "    <tr>\n",
       "      <th>17</th>\n",
       "      <td>18.0</td>\n",
       "      <td>0.620991</td>\n",
       "      <td>0.650921</td>\n",
       "    </tr>\n",
       "    <tr>\n",
       "      <th>18</th>\n",
       "      <td>19.0</td>\n",
       "      <td>0.625415</td>\n",
       "      <td>0.654782</td>\n",
       "    </tr>\n",
       "    <tr>\n",
       "      <th>19</th>\n",
       "      <td>20.0</td>\n",
       "      <td>0.612705</td>\n",
       "      <td>0.651485</td>\n",
       "    </tr>\n",
       "  </tbody>\n",
       "</table>\n",
       "</div>"
      ],
      "text/plain": [
       "       K  Euclidean  Manhattan\n",
       "0    1.0   0.723464   0.743897\n",
       "1    2.0   0.688884   0.705455\n",
       "2    3.0   0.719772   0.728058\n",
       "3    4.0   0.681162   0.716560\n",
       "4    5.0   0.702158   0.745842\n",
       "5    6.0   0.660729   0.701679\n",
       "6    7.0   0.673439   0.713262\n",
       "7    8.0   0.665153   0.698382\n",
       "8    9.0   0.673439   0.719378\n",
       "9   10.0   0.644157   0.693957\n",
       "10  11.0   0.674567   0.702243\n",
       "11  12.0   0.642551   0.691223\n",
       "12  13.0   0.645284   0.700073\n",
       "13  14.0   0.624852   0.679640\n",
       "14  15.0   0.642551   0.691787\n",
       "15  16.0   0.633701   0.649794\n",
       "16  17.0   0.642551   0.671918\n",
       "17  18.0   0.620991   0.650921\n",
       "18  19.0   0.625415   0.654782\n",
       "19  20.0   0.612705   0.651485"
      ]
     },
     "execution_count": 101,
     "metadata": {},
     "output_type": "execute_result"
    }
   ],
   "source": [
    "Table2"
   ]
  },
  {
   "cell_type": "markdown",
   "metadata": {},
   "source": [
    "- The accuracy rate decreases as k increases beyond 5.\n",
    "- The best KNN model is the model with k = 5 and metric = Manhattan. The accuracy rate is 0.7458.\n",
    "- So, we will use this model for confusion matrix."
   ]
  },
  {
   "cell_type": "markdown",
   "metadata": {},
   "source": [
    "### A.3.4.2 <font color = blue>KNN: Model 2 ( k = 5, metric = Manhattan, with 9 PCs) </font> "
   ]
  },
  {
   "cell_type": "code",
   "execution_count": 102,
   "metadata": {},
   "outputs": [
    {
     "name": "stdout",
     "output_type": "stream",
     "text": [
      "                   pre       rec       spe        f1       geo       iba       sup\n",
      "\n",
      "          0       0.94      0.97      0.52      0.96      0.71      0.53       887\n",
      "          1       0.69      0.52      0.97      0.59      0.71      0.48       113\n",
      "\n",
      "avg / total       0.91      0.92      0.57      0.91      0.71      0.52      1000\n",
      "\n",
      "Overall Accuracy Rate on Test Set : 0.7458\n",
      "confusion_matrix (KNN 2) \n",
      "\n",
      "[[860  27]\n",
      " [ 54  59]]\n"
     ]
    }
   ],
   "source": [
    "Loan_KNN2 = KNeighborsClassifier(n_neighbors=5,  metric= 'manhattan')\n",
    "Loan_KNN2.fit(Loantrans, Loan_target_train)\n",
    "Pred_KNN2 = Loan_KNN2.predict(Loantrans_Test)\n",
    "KNN2_score_test = balanced_accuracy_score(Loan_target_test, Pred_KNN2)\n",
    "print(classification_report_imbalanced(Loan_target_test, Pred_KNN2))\n",
    "print (\"Overall Accuracy Rate on Test Set : %0.4f\" %(KNN2_score_test))\n",
    "KNN2_confusion_matrix = confusion_matrix(y_true = Loan_target_test, y_pred = Pred_KNN2)\n",
    "print(\"confusion_matrix (KNN 2) \\n\")\n",
    "print(KNN2_confusion_matrix)"
   ]
  },
  {
   "cell_type": "code",
   "execution_count": 103,
   "metadata": {},
   "outputs": [
    {
     "data": {
      "image/png": "[encoded data removed]",
      "text/plain": [
       "<Figure size 288x288 with 2 Axes>"
      ]
     },
     "metadata": {
      "needs_background": "light"
     },
     "output_type": "display_data"
    }
   ],
   "source": [
    "#Create graph\n",
    "plt.matshow(KNN_confusion_matrix)\n",
    "plt.title('KNN Confusion matrix \\n')\n",
    "plt.colorbar()\n",
    "plt.ylabel('Actual')\n",
    "plt.xlabel('Predicted')\n",
    "plt.xticks([0,1], ['No', 'Yes'])\n",
    "plt.yticks([0,1], ['No', 'Yes'])\n",
    "plt.show()"
   ]
  },
  {
   "cell_type": "markdown",
   "metadata": {},
   "source": [
    "### <font color = blue>Summary of Model Evaluation </font> "
   ]
  },
  {
   "cell_type": "markdown",
   "metadata": {},
   "source": [
    "#### Decision Tree:\n",
    "- Model 1: Accuracy Rate on Test Set (geometric mean) is 94% and Index Balanced Accuracy is 88%\n",
    "\n",
    "- Model 2 (with pruning) : Accuracy Rate on Test Set (geometric mean) is 92% and Index Balanced Accuracy is 86%\n",
    "\n",
    "- Model 3 (with pruning) : Accuracy Rate on Test Set (geometric mean) is 93% and Index Balanced Accuracy is 87%"
   ]
  },
  {
   "cell_type": "markdown",
   "metadata": {},
   "source": [
    "#### Naive Bayes classifier (Gaussian):\n",
    "- Model 1: Accuracy Rate on Test Set (geometric mean) is 75% and Index Balanced Accuracy is 56%"
   ]
  },
  {
   "cell_type": "markdown",
   "metadata": {},
   "source": [
    "#### Linear Discriminant Analysis:\n",
    "- Model 1: Accuracy Rate on Test Set (geometric mean) is 80% and Index Balanced Accuracy is 64%"
   ]
  },
  {
   "cell_type": "markdown",
   "metadata": {},
   "source": [
    "#### KNN:\n",
    "- Model 1 (k = 3, metric = Euclidean, 14 features) : Accuracy Rate on Test Set (geometric mean) is 81% and Index Balanced Accuracy is 64%\n",
    "\n",
    "- Model 2 (k = 5, metric = Manhattan, 9 features (PCA)) : Accuracy Rate on Test Set (geometric mean) is 74% and Index Balanced Accuracy is 52%"
   ]
  },
  {
   "cell_type": "markdown",
   "metadata": {},
   "source": [
    "### <font color = blue> Final Model </font> \n"
   ]
  },
  {
   "cell_type": "markdown",
   "metadata": {},
   "source": [
    "- Final Model is from Decision Tree classification (Model 3).\n",
    "- It is developed by using DecisionTreeClassifier function with inputs as criterion='entropy', max_depth= 4, min_samples_split=20**\n",
    "- The final model has the highest overall Accuracy Rate on Test Set of 92% with an Index Balanced Accuracy is 87%. This rate is relatively high as we've already taken out imbalanced target class into account by using \"balanced_accuracy_score\" from sklearn and using \"classification_report_imbalanced\" from imblearn library\n",
    "\n"
   ]
  },
  {
   "cell_type": "markdown",
   "metadata": {},
   "source": [
    "### <font color = blue> Summary </font> "
   ]
  },
  {
   "cell_type": "markdown",
   "metadata": {},
   "source": [
    "- From the Decision Tree, we have 11 decision rules.\n",
    "- For example, Rule 11:  If the customers'Education is higher than Bachelor's degree and the Income is higher than 0.488 or $109K, they will accept the personal loan offered by the Bank. "
   ]
  },
  {
   "cell_type": "code",
   "execution_count": 105,
   "metadata": {},
   "outputs": [
    {
     "data": {
      "image/svg+xml": [
       "<?xml version=\"1.0\" encoding=\"UTF-8\" standalone=\"no\"?>\n",
       "<!DOCTYPE svg PUBLIC \"-//W3C//DTD SVG 1.1//EN\"\n",
       " \"http://www.w3.org/Graphics/SVG/1.1/DTD/svg11.dtd\">\n",
       "<!-- Generated by graphviz version 2.40.1 (20161225.0304)\n",
       " -->\n",
       "<!-- Title: Tree Pages: 1 -->\n",
       "<svg width=\"987pt\" height=\"552pt\"\n",
       " viewBox=\"0.00 0.00 987.00 552.00\" xmlns=\"http://www.w3.org/2000/svg\" xmlns:xlink=\"http://www.w3.org/1999/xlink\">\n",
       "<g id=\"graph0\" class=\"graph\" transform=\"scale(1 1) rotate(0) translate(4 548)\">\n",
       "<title>Tree</title>\n",
       "<polygon fill=\"#ffffff\" stroke=\"transparent\" points=\"-4,4 -4,-548 983,-548 983,4 -4,4\"/>\n",
       "<!-- 0 -->\n",
       "<g id=\"node1\" class=\"node\">\n",
       "<title>0</title>\n",
       "<polygon fill=\"none\" stroke=\"#000000\" points=\"437,-544 310,-544 310,-461 437,-461 437,-544\"/>\n",
       "<text text-anchor=\"middle\" x=\"373.5\" y=\"-528.8\" font-family=\"Times,serif\" font-size=\"14.00\" fill=\"#000000\">Income &lt;= 0.419</text>\n",
       "<text text-anchor=\"middle\" x=\"373.5\" y=\"-513.8\" font-family=\"Times,serif\" font-size=\"14.00\" fill=\"#000000\">entropy = 0.442</text>\n",
       "<text text-anchor=\"middle\" x=\"373.5\" y=\"-498.8\" font-family=\"Times,serif\" font-size=\"14.00\" fill=\"#000000\">samples = 4000</text>\n",
       "<text text-anchor=\"middle\" x=\"373.5\" y=\"-483.8\" font-family=\"Times,serif\" font-size=\"14.00\" fill=\"#000000\">value = [3633, 367]</text>\n",
       "<text text-anchor=\"middle\" x=\"373.5\" y=\"-468.8\" font-family=\"Times,serif\" font-size=\"14.00\" fill=\"#000000\">class = No</text>\n",
       "</g>\n",
       "<!-- 1 -->\n",
       "<g id=\"node2\" class=\"node\">\n",
       "<title>1</title>\n",
       "<polygon fill=\"none\" stroke=\"#000000\" points=\"362.5,-425 242.5,-425 242.5,-342 362.5,-342 362.5,-425\"/>\n",
       "<text text-anchor=\"middle\" x=\"302.5\" y=\"-409.8\" font-family=\"Times,serif\" font-size=\"14.00\" fill=\"#000000\">CCAvg &lt;= 0.295</text>\n",
       "<text text-anchor=\"middle\" x=\"302.5\" y=\"-394.8\" font-family=\"Times,serif\" font-size=\"14.00\" fill=\"#000000\">entropy = 0.067</text>\n",
       "<text text-anchor=\"middle\" x=\"302.5\" y=\"-379.8\" font-family=\"Times,serif\" font-size=\"14.00\" fill=\"#000000\">samples = 3027</text>\n",
       "<text text-anchor=\"middle\" x=\"302.5\" y=\"-364.8\" font-family=\"Times,serif\" font-size=\"14.00\" fill=\"#000000\">value = [3003, 24]</text>\n",
       "<text text-anchor=\"middle\" x=\"302.5\" y=\"-349.8\" font-family=\"Times,serif\" font-size=\"14.00\" fill=\"#000000\">class = No</text>\n",
       "</g>\n",
       "<!-- 0&#45;&gt;1 -->\n",
       "<g id=\"edge1\" class=\"edge\">\n",
       "<title>0&#45;&gt;1</title>\n",
       "<path fill=\"none\" stroke=\"#000000\" d=\"M348.6676,-460.8796C343.5091,-452.2335 338.0192,-443.0322 332.6924,-434.1042\"/>\n",
       "<polygon fill=\"#000000\" stroke=\"#000000\" points=\"335.5678,-432.0924 327.4383,-425.2981 329.5564,-435.679 335.5678,-432.0924\"/>\n",
       "<text text-anchor=\"middle\" x=\"321.3149\" y=\"-445.8366\" font-family=\"Times,serif\" font-size=\"14.00\" fill=\"#000000\">True</text>\n",
       "</g>\n",
       "<!-- 8 -->\n",
       "<g id=\"node9\" class=\"node\">\n",
       "<title>8</title>\n",
       "<polygon fill=\"none\" stroke=\"#000000\" points=\"562.5,-425 434.5,-425 434.5,-342 562.5,-342 562.5,-425\"/>\n",
       "<text text-anchor=\"middle\" x=\"498.5\" y=\"-409.8\" font-family=\"Times,serif\" font-size=\"14.00\" fill=\"#000000\">Education_1 &lt;= 0.5</text>\n",
       "<text text-anchor=\"middle\" x=\"498.5\" y=\"-394.8\" font-family=\"Times,serif\" font-size=\"14.00\" fill=\"#000000\">entropy = 0.936</text>\n",
       "<text text-anchor=\"middle\" x=\"498.5\" y=\"-379.8\" font-family=\"Times,serif\" font-size=\"14.00\" fill=\"#000000\">samples = 973</text>\n",
       "<text text-anchor=\"middle\" x=\"498.5\" y=\"-364.8\" font-family=\"Times,serif\" font-size=\"14.00\" fill=\"#000000\">value = [630, 343]</text>\n",
       "<text text-anchor=\"middle\" x=\"498.5\" y=\"-349.8\" font-family=\"Times,serif\" font-size=\"14.00\" fill=\"#000000\">class = No</text>\n",
       "</g>\n",
       "<!-- 0&#45;&gt;8 -->\n",
       "<g id=\"edge8\" class=\"edge\">\n",
       "<title>0&#45;&gt;8</title>\n",
       "<path fill=\"none\" stroke=\"#000000\" d=\"M417.2189,-460.8796C426.8686,-451.6931 437.1766,-441.8798 447.0991,-432.4336\"/>\n",
       "<polygon fill=\"#000000\" stroke=\"#000000\" points=\"449.765,-434.7282 454.5945,-425.2981 444.9384,-429.6582 449.765,-434.7282\"/>\n",
       "<text text-anchor=\"middle\" x=\"453.9799\" y=\"-446.5905\" font-family=\"Times,serif\" font-size=\"14.00\" fill=\"#000000\">False</text>\n",
       "</g>\n",
       "<!-- 2 -->\n",
       "<g id=\"node3\" class=\"node\">\n",
       "<title>2</title>\n",
       "<polygon fill=\"none\" stroke=\"#000000\" points=\"222,-298.5 109,-298.5 109,-230.5 222,-230.5 222,-298.5\"/>\n",
       "<text text-anchor=\"middle\" x=\"165.5\" y=\"-283.3\" font-family=\"Times,serif\" font-size=\"14.00\" fill=\"#000000\">entropy = 0.0</text>\n",
       "<text text-anchor=\"middle\" x=\"165.5\" y=\"-268.3\" font-family=\"Times,serif\" font-size=\"14.00\" fill=\"#000000\">samples = 2860</text>\n",
       "<text text-anchor=\"middle\" x=\"165.5\" y=\"-253.3\" font-family=\"Times,serif\" font-size=\"14.00\" fill=\"#000000\">value = [2860, 0]</text>\n",
       "<text text-anchor=\"middle\" x=\"165.5\" y=\"-238.3\" font-family=\"Times,serif\" font-size=\"14.00\" fill=\"#000000\">class = No</text>\n",
       "</g>\n",
       "<!-- 1&#45;&gt;2 -->\n",
       "<g id=\"edge2\" class=\"edge\">\n",
       "<title>1&#45;&gt;2</title>\n",
       "<path fill=\"none\" stroke=\"#000000\" d=\"M254.584,-341.8796C241.0385,-330.1138 226.3092,-317.3197 212.8002,-305.5855\"/>\n",
       "<polygon fill=\"#000000\" stroke=\"#000000\" points=\"214.8503,-302.7303 205.0054,-298.8149 210.2599,-308.015 214.8503,-302.7303\"/>\n",
       "</g>\n",
       "<!-- 3 -->\n",
       "<g id=\"node4\" class=\"node\">\n",
       "<title>3</title>\n",
       "<polygon fill=\"none\" stroke=\"#000000\" points=\"364.5,-306 240.5,-306 240.5,-223 364.5,-223 364.5,-306\"/>\n",
       "<text text-anchor=\"middle\" x=\"302.5\" y=\"-290.8\" font-family=\"Times,serif\" font-size=\"14.00\" fill=\"#000000\">CDAccount &lt;= 0.5</text>\n",
       "<text text-anchor=\"middle\" x=\"302.5\" y=\"-275.8\" font-family=\"Times,serif\" font-size=\"14.00\" fill=\"#000000\">entropy = 0.594</text>\n",
       "<text text-anchor=\"middle\" x=\"302.5\" y=\"-260.8\" font-family=\"Times,serif\" font-size=\"14.00\" fill=\"#000000\">samples = 167</text>\n",
       "<text text-anchor=\"middle\" x=\"302.5\" y=\"-245.8\" font-family=\"Times,serif\" font-size=\"14.00\" fill=\"#000000\">value = [143, 24]</text>\n",
       "<text text-anchor=\"middle\" x=\"302.5\" y=\"-230.8\" font-family=\"Times,serif\" font-size=\"14.00\" fill=\"#000000\">class = No</text>\n",
       "</g>\n",
       "<!-- 1&#45;&gt;3 -->\n",
       "<g id=\"edge3\" class=\"edge\">\n",
       "<title>1&#45;&gt;3</title>\n",
       "<path fill=\"none\" stroke=\"#000000\" d=\"M302.5,-341.8796C302.5,-333.6838 302.5,-324.9891 302.5,-316.5013\"/>\n",
       "<polygon fill=\"#000000\" stroke=\"#000000\" points=\"306.0001,-316.298 302.5,-306.2981 299.0001,-316.2981 306.0001,-316.298\"/>\n",
       "</g>\n",
       "<!-- 4 -->\n",
       "<g id=\"node5\" class=\"node\">\n",
       "<title>4</title>\n",
       "<polygon fill=\"none\" stroke=\"#000000\" points=\"235,-187 122,-187 122,-104 235,-104 235,-187\"/>\n",
       "<text text-anchor=\"middle\" x=\"178.5\" y=\"-171.8\" font-family=\"Times,serif\" font-size=\"14.00\" fill=\"#000000\">CCAvg &lt;= 0.42</text>\n",
       "<text text-anchor=\"middle\" x=\"178.5\" y=\"-156.8\" font-family=\"Times,serif\" font-size=\"14.00\" fill=\"#000000\">entropy = 0.438</text>\n",
       "<text text-anchor=\"middle\" x=\"178.5\" y=\"-141.8\" font-family=\"Times,serif\" font-size=\"14.00\" fill=\"#000000\">samples = 155</text>\n",
       "<text text-anchor=\"middle\" x=\"178.5\" y=\"-126.8\" font-family=\"Times,serif\" font-size=\"14.00\" fill=\"#000000\">value = [141, 14]</text>\n",
       "<text text-anchor=\"middle\" x=\"178.5\" y=\"-111.8\" font-family=\"Times,serif\" font-size=\"14.00\" fill=\"#000000\">class = No</text>\n",
       "</g>\n",
       "<!-- 3&#45;&gt;4 -->\n",
       "<g id=\"edge4\" class=\"edge\">\n",
       "<title>3&#45;&gt;4</title>\n",
       "<path fill=\"none\" stroke=\"#000000\" d=\"M259.1308,-222.8796C249.5584,-213.6931 239.3328,-203.8798 229.4897,-194.4336\"/>\n",
       "<polygon fill=\"#000000\" stroke=\"#000000\" points=\"231.6928,-191.6969 222.0543,-187.2981 226.8459,-196.7475 231.6928,-191.6969\"/>\n",
       "</g>\n",
       "<!-- 7 -->\n",
       "<g id=\"node8\" class=\"node\">\n",
       "<title>7</title>\n",
       "<polygon fill=\"none\" stroke=\"#000000\" points=\"352,-179.5 253,-179.5 253,-111.5 352,-111.5 352,-179.5\"/>\n",
       "<text text-anchor=\"middle\" x=\"302.5\" y=\"-164.3\" font-family=\"Times,serif\" font-size=\"14.00\" fill=\"#000000\">entropy = 0.65</text>\n",
       "<text text-anchor=\"middle\" x=\"302.5\" y=\"-149.3\" font-family=\"Times,serif\" font-size=\"14.00\" fill=\"#000000\">samples = 12</text>\n",
       "<text text-anchor=\"middle\" x=\"302.5\" y=\"-134.3\" font-family=\"Times,serif\" font-size=\"14.00\" fill=\"#000000\">value = [2, 10]</text>\n",
       "<text text-anchor=\"middle\" x=\"302.5\" y=\"-119.3\" font-family=\"Times,serif\" font-size=\"14.00\" fill=\"#000000\">class = Yes</text>\n",
       "</g>\n",
       "<!-- 3&#45;&gt;7 -->\n",
       "<g id=\"edge7\" class=\"edge\">\n",
       "<title>3&#45;&gt;7</title>\n",
       "<path fill=\"none\" stroke=\"#000000\" d=\"M302.5,-222.8796C302.5,-212.2134 302.5,-200.7021 302.5,-189.9015\"/>\n",
       "<polygon fill=\"#000000\" stroke=\"#000000\" points=\"306.0001,-189.8149 302.5,-179.8149 299.0001,-189.815 306.0001,-189.8149\"/>\n",
       "</g>\n",
       "<!-- 5 -->\n",
       "<g id=\"node6\" class=\"node\">\n",
       "<title>5</title>\n",
       "<polygon fill=\"none\" stroke=\"#000000\" points=\"113,-68 0,-68 0,0 113,0 113,-68\"/>\n",
       "<text text-anchor=\"middle\" x=\"56.5\" y=\"-52.8\" font-family=\"Times,serif\" font-size=\"14.00\" fill=\"#000000\">entropy = 0.523</text>\n",
       "<text text-anchor=\"middle\" x=\"56.5\" y=\"-37.8\" font-family=\"Times,serif\" font-size=\"14.00\" fill=\"#000000\">samples = 119</text>\n",
       "<text text-anchor=\"middle\" x=\"56.5\" y=\"-22.8\" font-family=\"Times,serif\" font-size=\"14.00\" fill=\"#000000\">value = [105, 14]</text>\n",
       "<text text-anchor=\"middle\" x=\"56.5\" y=\"-7.8\" font-family=\"Times,serif\" font-size=\"14.00\" fill=\"#000000\">class = No</text>\n",
       "</g>\n",
       "<!-- 4&#45;&gt;5 -->\n",
       "<g id=\"edge5\" class=\"edge\">\n",
       "<title>4&#45;&gt;5</title>\n",
       "<path fill=\"none\" stroke=\"#000000\" d=\"M133.0717,-103.9815C122.7139,-94.5151 111.7141,-84.462 101.3794,-75.0168\"/>\n",
       "<polygon fill=\"#000000\" stroke=\"#000000\" points=\"103.7331,-72.4264 93.9903,-68.2637 99.0107,-77.5935 103.7331,-72.4264\"/>\n",
       "</g>\n",
       "<!-- 6 -->\n",
       "<g id=\"node7\" class=\"node\">\n",
       "<title>6</title>\n",
       "<polygon fill=\"none\" stroke=\"#000000\" points=\"230,-68 131,-68 131,0 230,0 230,-68\"/>\n",
       "<text text-anchor=\"middle\" x=\"180.5\" y=\"-52.8\" font-family=\"Times,serif\" font-size=\"14.00\" fill=\"#000000\">entropy = 0.0</text>\n",
       "<text text-anchor=\"middle\" x=\"180.5\" y=\"-37.8\" font-family=\"Times,serif\" font-size=\"14.00\" fill=\"#000000\">samples = 36</text>\n",
       "<text text-anchor=\"middle\" x=\"180.5\" y=\"-22.8\" font-family=\"Times,serif\" font-size=\"14.00\" fill=\"#000000\">value = [36, 0]</text>\n",
       "<text text-anchor=\"middle\" x=\"180.5\" y=\"-7.8\" font-family=\"Times,serif\" font-size=\"14.00\" fill=\"#000000\">class = No</text>\n",
       "</g>\n",
       "<!-- 4&#45;&gt;6 -->\n",
       "<g id=\"edge6\" class=\"edge\">\n",
       "<title>4&#45;&gt;6</title>\n",
       "<path fill=\"none\" stroke=\"#000000\" d=\"M179.2447,-103.9815C179.3947,-95.618 179.553,-86.7965 179.7046,-78.3409\"/>\n",
       "<polygon fill=\"#000000\" stroke=\"#000000\" points=\"183.2054,-78.3249 179.8854,-68.2637 176.2065,-78.1993 183.2054,-78.3249\"/>\n",
       "</g>\n",
       "<!-- 9 -->\n",
       "<g id=\"node10\" class=\"node\">\n",
       "<title>9</title>\n",
       "<polygon fill=\"none\" stroke=\"#000000\" points=\"555,-306 442,-306 442,-223 555,-223 555,-306\"/>\n",
       "<text text-anchor=\"middle\" x=\"498.5\" y=\"-290.8\" font-family=\"Times,serif\" font-size=\"14.00\" fill=\"#000000\">Income &lt;= 0.502</text>\n",
       "<text text-anchor=\"middle\" x=\"498.5\" y=\"-275.8\" font-family=\"Times,serif\" font-size=\"14.00\" fill=\"#000000\">entropy = 0.807</text>\n",
       "<text text-anchor=\"middle\" x=\"498.5\" y=\"-260.8\" font-family=\"Times,serif\" font-size=\"14.00\" fill=\"#000000\">samples = 372</text>\n",
       "<text text-anchor=\"middle\" x=\"498.5\" y=\"-245.8\" font-family=\"Times,serif\" font-size=\"14.00\" fill=\"#000000\">value = [92, 280]</text>\n",
       "<text text-anchor=\"middle\" x=\"498.5\" y=\"-230.8\" font-family=\"Times,serif\" font-size=\"14.00\" fill=\"#000000\">class = Yes</text>\n",
       "</g>\n",
       "<!-- 8&#45;&gt;9 -->\n",
       "<g id=\"edge9\" class=\"edge\">\n",
       "<title>8&#45;&gt;9</title>\n",
       "<path fill=\"none\" stroke=\"#000000\" d=\"M498.5,-341.8796C498.5,-333.6838 498.5,-324.9891 498.5,-316.5013\"/>\n",
       "<polygon fill=\"#000000\" stroke=\"#000000\" points=\"502.0001,-316.298 498.5,-306.2981 495.0001,-316.2981 502.0001,-316.298\"/>\n",
       "</g>\n",
       "<!-- 14 -->\n",
       "<g id=\"node15\" class=\"node\">\n",
       "<title>14</title>\n",
       "<polygon fill=\"none\" stroke=\"#000000\" points=\"740,-306 627,-306 627,-223 740,-223 740,-306\"/>\n",
       "<text text-anchor=\"middle\" x=\"683.5\" y=\"-290.8\" font-family=\"Times,serif\" font-size=\"14.00\" fill=\"#000000\">Family &lt;= 0.5</text>\n",
       "<text text-anchor=\"middle\" x=\"683.5\" y=\"-275.8\" font-family=\"Times,serif\" font-size=\"14.00\" fill=\"#000000\">entropy = 0.484</text>\n",
       "<text text-anchor=\"middle\" x=\"683.5\" y=\"-260.8\" font-family=\"Times,serif\" font-size=\"14.00\" fill=\"#000000\">samples = 601</text>\n",
       "<text text-anchor=\"middle\" x=\"683.5\" y=\"-245.8\" font-family=\"Times,serif\" font-size=\"14.00\" fill=\"#000000\">value = [538, 63]</text>\n",
       "<text text-anchor=\"middle\" x=\"683.5\" y=\"-230.8\" font-family=\"Times,serif\" font-size=\"14.00\" fill=\"#000000\">class = No</text>\n",
       "</g>\n",
       "<!-- 8&#45;&gt;14 -->\n",
       "<g id=\"edge14\" class=\"edge\">\n",
       "<title>8&#45;&gt;14</title>\n",
       "<path fill=\"none\" stroke=\"#000000\" d=\"M562.6848,-342.2135C580.6217,-330.6757 600.1307,-318.1267 618.135,-306.5456\"/>\n",
       "<polygon fill=\"#000000\" stroke=\"#000000\" points=\"620.3222,-309.3003 626.8391,-300.9468 616.5353,-303.4131 620.3222,-309.3003\"/>\n",
       "</g>\n",
       "<!-- 10 -->\n",
       "<g id=\"node11\" class=\"node\">\n",
       "<title>10</title>\n",
       "<polygon fill=\"none\" stroke=\"#000000\" points=\"484.5,-187 370.5,-187 370.5,-104 484.5,-104 484.5,-187\"/>\n",
       "<text text-anchor=\"middle\" x=\"427.5\" y=\"-171.8\" font-family=\"Times,serif\" font-size=\"14.00\" fill=\"#000000\">CCAvg &lt;= 0.273</text>\n",
       "<text text-anchor=\"middle\" x=\"427.5\" y=\"-156.8\" font-family=\"Times,serif\" font-size=\"14.00\" fill=\"#000000\">entropy = 0.891</text>\n",
       "<text text-anchor=\"middle\" x=\"427.5\" y=\"-141.8\" font-family=\"Times,serif\" font-size=\"14.00\" fill=\"#000000\">samples = 133</text>\n",
       "<text text-anchor=\"middle\" x=\"427.5\" y=\"-126.8\" font-family=\"Times,serif\" font-size=\"14.00\" fill=\"#000000\">value = [92, 41]</text>\n",
       "<text text-anchor=\"middle\" x=\"427.5\" y=\"-111.8\" font-family=\"Times,serif\" font-size=\"14.00\" fill=\"#000000\">class = No</text>\n",
       "</g>\n",
       "<!-- 9&#45;&gt;10 -->\n",
       "<g id=\"edge10\" class=\"edge\">\n",
       "<title>9&#45;&gt;10</title>\n",
       "<path fill=\"none\" stroke=\"#000000\" d=\"M473.6676,-222.8796C468.5091,-214.2335 463.0192,-205.0322 457.6924,-196.1042\"/>\n",
       "<polygon fill=\"#000000\" stroke=\"#000000\" points=\"460.5678,-194.0924 452.4383,-187.2981 454.5564,-197.679 460.5678,-194.0924\"/>\n",
       "</g>\n",
       "<!-- 13 -->\n",
       "<g id=\"node14\" class=\"node\">\n",
       "<title>13</title>\n",
       "<polygon fill=\"none\" stroke=\"#000000\" points=\"608.5,-179.5 502.5,-179.5 502.5,-111.5 608.5,-111.5 608.5,-179.5\"/>\n",
       "<text text-anchor=\"middle\" x=\"555.5\" y=\"-164.3\" font-family=\"Times,serif\" font-size=\"14.00\" fill=\"#000000\">entropy = 0.0</text>\n",
       "<text text-anchor=\"middle\" x=\"555.5\" y=\"-149.3\" font-family=\"Times,serif\" font-size=\"14.00\" fill=\"#000000\">samples = 239</text>\n",
       "<text text-anchor=\"middle\" x=\"555.5\" y=\"-134.3\" font-family=\"Times,serif\" font-size=\"14.00\" fill=\"#000000\">value = [0, 239]</text>\n",
       "<text text-anchor=\"middle\" x=\"555.5\" y=\"-119.3\" font-family=\"Times,serif\" font-size=\"14.00\" fill=\"#000000\">class = Yes</text>\n",
       "</g>\n",
       "<!-- 9&#45;&gt;13 -->\n",
       "<g id=\"edge13\" class=\"edge\">\n",
       "<title>9&#45;&gt;13</title>\n",
       "<path fill=\"none\" stroke=\"#000000\" d=\"M518.4358,-222.8796C523.7029,-211.8835 529.4001,-199.9893 534.711,-188.9015\"/>\n",
       "<polygon fill=\"#000000\" stroke=\"#000000\" points=\"537.9,-190.3457 539.0634,-179.8149 531.5869,-187.3217 537.9,-190.3457\"/>\n",
       "</g>\n",
       "<!-- 11 -->\n",
       "<g id=\"node12\" class=\"node\">\n",
       "<title>11</title>\n",
       "<polygon fill=\"none\" stroke=\"#000000\" points=\"368.5,-68 262.5,-68 262.5,0 368.5,0 368.5,-68\"/>\n",
       "<text text-anchor=\"middle\" x=\"315.5\" y=\"-52.8\" font-family=\"Times,serif\" font-size=\"14.00\" fill=\"#000000\">entropy = 0.54</text>\n",
       "<text text-anchor=\"middle\" x=\"315.5\" y=\"-37.8\" font-family=\"Times,serif\" font-size=\"14.00\" fill=\"#000000\">samples = 89</text>\n",
       "<text text-anchor=\"middle\" x=\"315.5\" y=\"-22.8\" font-family=\"Times,serif\" font-size=\"14.00\" fill=\"#000000\">value = [78, 11]</text>\n",
       "<text text-anchor=\"middle\" x=\"315.5\" y=\"-7.8\" font-family=\"Times,serif\" font-size=\"14.00\" fill=\"#000000\">class = No</text>\n",
       "</g>\n",
       "<!-- 10&#45;&gt;11 -->\n",
       "<g id=\"edge11\" class=\"edge\">\n",
       "<title>10&#45;&gt;11</title>\n",
       "<path fill=\"none\" stroke=\"#000000\" d=\"M385.7953,-103.9815C376.4711,-94.6989 366.5803,-84.8522 357.2541,-75.5677\"/>\n",
       "<polygon fill=\"#000000\" stroke=\"#000000\" points=\"359.4736,-72.8385 349.9173,-68.2637 354.5349,-77.7993 359.4736,-72.8385\"/>\n",
       "</g>\n",
       "<!-- 12 -->\n",
       "<g id=\"node13\" class=\"node\">\n",
       "<title>12</title>\n",
       "<polygon fill=\"none\" stroke=\"#000000\" points=\"492.5,-68 386.5,-68 386.5,0 492.5,0 492.5,-68\"/>\n",
       "<text text-anchor=\"middle\" x=\"439.5\" y=\"-52.8\" font-family=\"Times,serif\" font-size=\"14.00\" fill=\"#000000\">entropy = 0.902</text>\n",
       "<text text-anchor=\"middle\" x=\"439.5\" y=\"-37.8\" font-family=\"Times,serif\" font-size=\"14.00\" fill=\"#000000\">samples = 44</text>\n",
       "<text text-anchor=\"middle\" x=\"439.5\" y=\"-22.8\" font-family=\"Times,serif\" font-size=\"14.00\" fill=\"#000000\">value = [14, 30]</text>\n",
       "<text text-anchor=\"middle\" x=\"439.5\" y=\"-7.8\" font-family=\"Times,serif\" font-size=\"14.00\" fill=\"#000000\">class = Yes</text>\n",
       "</g>\n",
       "<!-- 10&#45;&gt;12 -->\n",
       "<g id=\"edge12\" class=\"edge\">\n",
       "<title>10&#45;&gt;12</title>\n",
       "<path fill=\"none\" stroke=\"#000000\" d=\"M431.9684,-103.9815C432.8685,-95.618 433.8179,-86.7965 434.7279,-78.3409\"/>\n",
       "<polygon fill=\"#000000\" stroke=\"#000000\" points=\"438.2222,-78.5808 435.8124,-68.2637 431.2624,-77.8317 438.2222,-78.5808\"/>\n",
       "</g>\n",
       "<!-- 15 -->\n",
       "<g id=\"node16\" class=\"node\">\n",
       "<title>15</title>\n",
       "<polygon fill=\"none\" stroke=\"#000000\" points=\"740,-187 627,-187 627,-104 740,-104 740,-187\"/>\n",
       "<text text-anchor=\"middle\" x=\"683.5\" y=\"-171.8\" font-family=\"Times,serif\" font-size=\"14.00\" fill=\"#000000\">Income &lt;= 0.433</text>\n",
       "<text text-anchor=\"middle\" x=\"683.5\" y=\"-156.8\" font-family=\"Times,serif\" font-size=\"14.00\" fill=\"#000000\">entropy = 0.036</text>\n",
       "<text text-anchor=\"middle\" x=\"683.5\" y=\"-141.8\" font-family=\"Times,serif\" font-size=\"14.00\" fill=\"#000000\">samples = 527</text>\n",
       "<text text-anchor=\"middle\" x=\"683.5\" y=\"-126.8\" font-family=\"Times,serif\" font-size=\"14.00\" fill=\"#000000\">value = [525, 2]</text>\n",
       "<text text-anchor=\"middle\" x=\"683.5\" y=\"-111.8\" font-family=\"Times,serif\" font-size=\"14.00\" fill=\"#000000\">class = No</text>\n",
       "</g>\n",
       "<!-- 14&#45;&gt;15 -->\n",
       "<g id=\"edge15\" class=\"edge\">\n",
       "<title>14&#45;&gt;15</title>\n",
       "<path fill=\"none\" stroke=\"#000000\" d=\"M683.5,-222.8796C683.5,-214.6838 683.5,-205.9891 683.5,-197.5013\"/>\n",
       "<polygon fill=\"#000000\" stroke=\"#000000\" points=\"687.0001,-197.298 683.5,-187.2981 680.0001,-197.2981 687.0001,-197.298\"/>\n",
       "</g>\n",
       "<!-- 18 -->\n",
       "<g id=\"node19\" class=\"node\">\n",
       "<title>18</title>\n",
       "<polygon fill=\"none\" stroke=\"#000000\" points=\"871,-187 758,-187 758,-104 871,-104 871,-187\"/>\n",
       "<text text-anchor=\"middle\" x=\"814.5\" y=\"-171.8\" font-family=\"Times,serif\" font-size=\"14.00\" fill=\"#000000\">Income &lt;= 0.488</text>\n",
       "<text text-anchor=\"middle\" x=\"814.5\" y=\"-156.8\" font-family=\"Times,serif\" font-size=\"14.00\" fill=\"#000000\">entropy = 0.671</text>\n",
       "<text text-anchor=\"middle\" x=\"814.5\" y=\"-141.8\" font-family=\"Times,serif\" font-size=\"14.00\" fill=\"#000000\">samples = 74</text>\n",
       "<text text-anchor=\"middle\" x=\"814.5\" y=\"-126.8\" font-family=\"Times,serif\" font-size=\"14.00\" fill=\"#000000\">value = [13, 61]</text>\n",
       "<text text-anchor=\"middle\" x=\"814.5\" y=\"-111.8\" font-family=\"Times,serif\" font-size=\"14.00\" fill=\"#000000\">class = Yes</text>\n",
       "</g>\n",
       "<!-- 14&#45;&gt;18 -->\n",
       "<g id=\"edge18\" class=\"edge\">\n",
       "<title>14&#45;&gt;18</title>\n",
       "<path fill=\"none\" stroke=\"#000000\" d=\"M729.3174,-222.8796C739.5294,-213.6031 750.445,-203.6874 760.9376,-194.1559\"/>\n",
       "<polygon fill=\"#000000\" stroke=\"#000000\" points=\"763.4384,-196.6127 768.487,-187.2981 758.7316,-191.4313 763.4384,-196.6127\"/>\n",
       "</g>\n",
       "<!-- 16 -->\n",
       "<g id=\"node17\" class=\"node\">\n",
       "<title>16</title>\n",
       "<polygon fill=\"none\" stroke=\"#000000\" points=\"617,-68 518,-68 518,0 617,0 617,-68\"/>\n",
       "<text text-anchor=\"middle\" x=\"567.5\" y=\"-52.8\" font-family=\"Times,serif\" font-size=\"14.00\" fill=\"#000000\">entropy = 0.65</text>\n",
       "<text text-anchor=\"middle\" x=\"567.5\" y=\"-37.8\" font-family=\"Times,serif\" font-size=\"14.00\" fill=\"#000000\">samples = 12</text>\n",
       "<text text-anchor=\"middle\" x=\"567.5\" y=\"-22.8\" font-family=\"Times,serif\" font-size=\"14.00\" fill=\"#000000\">value = [10, 2]</text>\n",
       "<text text-anchor=\"middle\" x=\"567.5\" y=\"-7.8\" font-family=\"Times,serif\" font-size=\"14.00\" fill=\"#000000\">class = No</text>\n",
       "</g>\n",
       "<!-- 15&#45;&gt;16 -->\n",
       "<g id=\"edge16\" class=\"edge\">\n",
       "<title>15&#45;&gt;16</title>\n",
       "<path fill=\"none\" stroke=\"#000000\" d=\"M640.3059,-103.9815C630.5531,-94.607 620.2017,-84.6572 610.4586,-75.2921\"/>\n",
       "<polygon fill=\"#000000\" stroke=\"#000000\" points=\"612.7815,-72.6702 603.1465,-68.2637 607.9306,-77.7169 612.7815,-72.6702\"/>\n",
       "</g>\n",
       "<!-- 17 -->\n",
       "<g id=\"node18\" class=\"node\">\n",
       "<title>17</title>\n",
       "<polygon fill=\"none\" stroke=\"#000000\" points=\"741.5,-68 635.5,-68 635.5,0 741.5,0 741.5,-68\"/>\n",
       "<text text-anchor=\"middle\" x=\"688.5\" y=\"-52.8\" font-family=\"Times,serif\" font-size=\"14.00\" fill=\"#000000\">entropy = 0.0</text>\n",
       "<text text-anchor=\"middle\" x=\"688.5\" y=\"-37.8\" font-family=\"Times,serif\" font-size=\"14.00\" fill=\"#000000\">samples = 515</text>\n",
       "<text text-anchor=\"middle\" x=\"688.5\" y=\"-22.8\" font-family=\"Times,serif\" font-size=\"14.00\" fill=\"#000000\">value = [515, 0]</text>\n",
       "<text text-anchor=\"middle\" x=\"688.5\" y=\"-7.8\" font-family=\"Times,serif\" font-size=\"14.00\" fill=\"#000000\">class = No</text>\n",
       "</g>\n",
       "<!-- 15&#45;&gt;17 -->\n",
       "<g id=\"edge17\" class=\"edge\">\n",
       "<title>15&#45;&gt;17</title>\n",
       "<path fill=\"none\" stroke=\"#000000\" d=\"M685.3618,-103.9815C685.7369,-95.618 686.1324,-86.7965 686.5116,-78.3409\"/>\n",
       "<polygon fill=\"#000000\" stroke=\"#000000\" points=\"690.0119,-78.4105 686.9635,-68.2637 683.019,-78.0968 690.0119,-78.4105\"/>\n",
       "</g>\n",
       "<!-- 19 -->\n",
       "<g id=\"node20\" class=\"node\">\n",
       "<title>19</title>\n",
       "<polygon fill=\"none\" stroke=\"#000000\" points=\"862,-68 763,-68 763,0 862,0 862,-68\"/>\n",
       "<text text-anchor=\"middle\" x=\"812.5\" y=\"-52.8\" font-family=\"Times,serif\" font-size=\"14.00\" fill=\"#000000\">entropy = 0.9</text>\n",
       "<text text-anchor=\"middle\" x=\"812.5\" y=\"-37.8\" font-family=\"Times,serif\" font-size=\"14.00\" fill=\"#000000\">samples = 19</text>\n",
       "<text text-anchor=\"middle\" x=\"812.5\" y=\"-22.8\" font-family=\"Times,serif\" font-size=\"14.00\" fill=\"#000000\">value = [13, 6]</text>\n",
       "<text text-anchor=\"middle\" x=\"812.5\" y=\"-7.8\" font-family=\"Times,serif\" font-size=\"14.00\" fill=\"#000000\">class = No</text>\n",
       "</g>\n",
       "<!-- 18&#45;&gt;19 -->\n",
       "<g id=\"edge19\" class=\"edge\">\n",
       "<title>18&#45;&gt;19</title>\n",
       "<path fill=\"none\" stroke=\"#000000\" d=\"M813.7553,-103.9815C813.6053,-95.618 813.447,-86.7965 813.2954,-78.3409\"/>\n",
       "<polygon fill=\"#000000\" stroke=\"#000000\" points=\"816.7935,-78.1993 813.1146,-68.2637 809.7946,-78.3249 816.7935,-78.1993\"/>\n",
       "</g>\n",
       "<!-- 20 -->\n",
       "<g id=\"node21\" class=\"node\">\n",
       "<title>20</title>\n",
       "<polygon fill=\"none\" stroke=\"#000000\" points=\"979,-68 880,-68 880,0 979,0 979,-68\"/>\n",
       "<text text-anchor=\"middle\" x=\"929.5\" y=\"-52.8\" font-family=\"Times,serif\" font-size=\"14.00\" fill=\"#000000\">entropy = 0.0</text>\n",
       "<text text-anchor=\"middle\" x=\"929.5\" y=\"-37.8\" font-family=\"Times,serif\" font-size=\"14.00\" fill=\"#000000\">samples = 55</text>\n",
       "<text text-anchor=\"middle\" x=\"929.5\" y=\"-22.8\" font-family=\"Times,serif\" font-size=\"14.00\" fill=\"#000000\">value = [0, 55]</text>\n",
       "<text text-anchor=\"middle\" x=\"929.5\" y=\"-7.8\" font-family=\"Times,serif\" font-size=\"14.00\" fill=\"#000000\">class = Yes</text>\n",
       "</g>\n",
       "<!-- 18&#45;&gt;20 -->\n",
       "<g id=\"edge20\" class=\"edge\">\n",
       "<title>18&#45;&gt;20</title>\n",
       "<path fill=\"none\" stroke=\"#000000\" d=\"M857.3218,-103.9815C866.9905,-94.607 877.2527,-84.6572 886.9118,-75.2921\"/>\n",
       "<polygon fill=\"#000000\" stroke=\"#000000\" points=\"889.4176,-77.7375 894.1608,-68.2637 884.5449,-72.7118 889.4176,-77.7375\"/>\n",
       "</g>\n",
       "</g>\n",
       "</svg>\n"
      ],
      "text/plain": [
       "<graphviz.files.Source at 0x120ff3a58>"
      ]
     },
     "execution_count": 105,
     "metadata": {},
     "output_type": "execute_result"
    }
   ],
   "source": [
    "with open(\"tree3.dot\") as f:\n",
    "    dot_graph = f.read()\n",
    "graphviz.Source(dot_graph)"
   ]
  }
 ],
 "metadata": {
  "kernelspec": {
   "display_name": "Python 3",
   "language": "python",
   "name": "python3"
  },
  "language_info": {
   "codemirror_mode": {
    "name": "ipython",
    "version": 3
   },
   "file_extension": ".py",
   "mimetype": "text/x-python",
   "name": "python",
   "nbconvert_exporter": "python",
   "pygments_lexer": "ipython3",
   "version": "3.7.1"
  }
 },
 "nbformat": 4,
 "nbformat_minor": 2
}
